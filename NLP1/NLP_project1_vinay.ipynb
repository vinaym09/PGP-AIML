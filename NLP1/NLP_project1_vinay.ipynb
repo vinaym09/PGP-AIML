{
 "cells": [
  {
   "cell_type": "markdown",
   "metadata": {
    "id": "NrvTrKDb7yMH"
   },
   "source": [
    "#Natural Language Processing Project"
   ]
  },
  {
   "cell_type": "markdown",
   "metadata": {
    "id": "EJBceUYh8CsL"
   },
   "source": [
    "##Part A"
   ]
  },
  {
   "cell_type": "markdown",
   "metadata": {
    "id": "BipYx4Fe8K9_"
   },
   "source": [
    "To build a NLP classifier which can use input text parameters to determine the label/s of the blog. Specific to this case\n",
    "study, you can consider the text of the blog: ‘text’ feature as independent variable and ‘topic’ as dependent variable."
   ]
  },
  {
   "cell_type": "markdown",
   "metadata": {
    "id": "QaVwuTB886l2"
   },
   "source": [
    "**Importing modules for project**"
   ]
  },
  {
   "cell_type": "code",
   "execution_count": 1,
   "metadata": {
    "id": "hruqm-zK6ipZ"
   },
   "outputs": [],
   "source": [
    "# Import Libraries\n",
    "\n",
    "import os\n",
    "import sys\n",
    "import warnings                                 # `dnd` mode\n",
    "warnings.filterwarnings('ignore')\n",
    "\n",
    "import numpy as np\n",
    "import pandas as pd\n",
    "import re\n",
    "from nltk.corpus import stopwords\n",
    "from sklearn.feature_extraction.text import CountVectorizer, TfidfVectorizer\n",
    "from sklearn.preprocessing import MultiLabelBinarizer\n",
    "from sklearn.model_selection import train_test_split\n",
    "\n",
    "from sklearn.linear_model import LogisticRegression\n",
    "from sklearn.pipeline import Pipeline\n",
    "from sklearn.metrics import accuracy_score\n",
    "from sklearn.multiclass import OneVsRestClassifier\n",
    "\n",
    "\n",
    "import seaborn as sns\n",
    "import matplotlib as plt\n",
    "%matplotlib inline"
   ]
  },
  {
   "cell_type": "code",
   "execution_count": 2,
   "metadata": {
    "colab": {
     "base_uri": "https://localhost:8080/"
    },
    "id": "zLRhJH6392Lb",
    "outputId": "b26bad55-864f-41d7-a7e4-e4291590a09d"
   },
   "outputs": [
    {
     "name": "stdout",
     "output_type": "stream",
     "text": [
      "Mounted at /content/drive\n"
     ]
    }
   ],
   "source": [
    "from google.colab import drive #mounting drive\n",
    "drive.mount('/content/drive')"
   ]
  },
  {
   "cell_type": "markdown",
   "metadata": {
    "id": "TYCIdZlh8gwR"
   },
   "source": [
    "**Read and Analyse Dataset**\n",
    "\n",
    "A. Clearly write outcome of data analysis(Minimum 2 points)\n",
    "\n",
    "B. Clean the Structured Data"
   ]
  },
  {
   "cell_type": "code",
   "execution_count": 3,
   "metadata": {
    "id": "N9VUPQKz9DW_"
   },
   "outputs": [],
   "source": [
    "df = pd.read_csv(\"drive/My Drive/Colab Notebooks/nlp1 project/blogtext.csv\")"
   ]
  },
  {
   "cell_type": "code",
   "execution_count": 4,
   "metadata": {
    "colab": {
     "base_uri": "https://localhost:8080/",
     "height": 206
    },
    "id": "b4u39xyYTJOQ",
    "outputId": "14d98924-35e5-420e-a4fc-26063b16fb14"
   },
   "outputs": [
    {
     "data": {
      "text/html": [
       "\n",
       "  <div id=\"df-0ae3ef7a-f9e8-49ec-bcd2-2a7d00945ab8\">\n",
       "    <div class=\"colab-df-container\">\n",
       "      <div>\n",
       "<style scoped>\n",
       "    .dataframe tbody tr th:only-of-type {\n",
       "        vertical-align: middle;\n",
       "    }\n",
       "\n",
       "    .dataframe tbody tr th {\n",
       "        vertical-align: top;\n",
       "    }\n",
       "\n",
       "    .dataframe thead th {\n",
       "        text-align: right;\n",
       "    }\n",
       "</style>\n",
       "<table border=\"1\" class=\"dataframe\">\n",
       "  <thead>\n",
       "    <tr style=\"text-align: right;\">\n",
       "      <th></th>\n",
       "      <th>id</th>\n",
       "      <th>gender</th>\n",
       "      <th>age</th>\n",
       "      <th>topic</th>\n",
       "      <th>sign</th>\n",
       "      <th>date</th>\n",
       "      <th>text</th>\n",
       "    </tr>\n",
       "  </thead>\n",
       "  <tbody>\n",
       "    <tr>\n",
       "      <th>0</th>\n",
       "      <td>2059027</td>\n",
       "      <td>male</td>\n",
       "      <td>15</td>\n",
       "      <td>Student</td>\n",
       "      <td>Leo</td>\n",
       "      <td>14,May,2004</td>\n",
       "      <td>Info has been found (+/- 100 pages,...</td>\n",
       "    </tr>\n",
       "    <tr>\n",
       "      <th>1</th>\n",
       "      <td>2059027</td>\n",
       "      <td>male</td>\n",
       "      <td>15</td>\n",
       "      <td>Student</td>\n",
       "      <td>Leo</td>\n",
       "      <td>13,May,2004</td>\n",
       "      <td>These are the team members:   Drewe...</td>\n",
       "    </tr>\n",
       "    <tr>\n",
       "      <th>2</th>\n",
       "      <td>2059027</td>\n",
       "      <td>male</td>\n",
       "      <td>15</td>\n",
       "      <td>Student</td>\n",
       "      <td>Leo</td>\n",
       "      <td>12,May,2004</td>\n",
       "      <td>In het kader van kernfusie op aarde...</td>\n",
       "    </tr>\n",
       "    <tr>\n",
       "      <th>3</th>\n",
       "      <td>2059027</td>\n",
       "      <td>male</td>\n",
       "      <td>15</td>\n",
       "      <td>Student</td>\n",
       "      <td>Leo</td>\n",
       "      <td>12,May,2004</td>\n",
       "      <td>testing!!!  testing!!!</td>\n",
       "    </tr>\n",
       "    <tr>\n",
       "      <th>4</th>\n",
       "      <td>3581210</td>\n",
       "      <td>male</td>\n",
       "      <td>33</td>\n",
       "      <td>InvestmentBanking</td>\n",
       "      <td>Aquarius</td>\n",
       "      <td>11,June,2004</td>\n",
       "      <td>Thanks to Yahoo!'s Toolbar I can ...</td>\n",
       "    </tr>\n",
       "  </tbody>\n",
       "</table>\n",
       "</div>\n",
       "      <button class=\"colab-df-convert\" onclick=\"convertToInteractive('df-0ae3ef7a-f9e8-49ec-bcd2-2a7d00945ab8')\"\n",
       "              title=\"Convert this dataframe to an interactive table.\"\n",
       "              style=\"display:none;\">\n",
       "        \n",
       "  <svg xmlns=\"http://www.w3.org/2000/svg\" height=\"24px\"viewBox=\"0 0 24 24\"\n",
       "       width=\"24px\">\n",
       "    <path d=\"M0 0h24v24H0V0z\" fill=\"none\"/>\n",
       "    <path d=\"M18.56 5.44l.94 2.06.94-2.06 2.06-.94-2.06-.94-.94-2.06-.94 2.06-2.06.94zm-11 1L8.5 8.5l.94-2.06 2.06-.94-2.06-.94L8.5 2.5l-.94 2.06-2.06.94zm10 10l.94 2.06.94-2.06 2.06-.94-2.06-.94-.94-2.06-.94 2.06-2.06.94z\"/><path d=\"M17.41 7.96l-1.37-1.37c-.4-.4-.92-.59-1.43-.59-.52 0-1.04.2-1.43.59L10.3 9.45l-7.72 7.72c-.78.78-.78 2.05 0 2.83L4 21.41c.39.39.9.59 1.41.59.51 0 1.02-.2 1.41-.59l7.78-7.78 2.81-2.81c.8-.78.8-2.07 0-2.86zM5.41 20L4 18.59l7.72-7.72 1.47 1.35L5.41 20z\"/>\n",
       "  </svg>\n",
       "      </button>\n",
       "      \n",
       "  <style>\n",
       "    .colab-df-container {\n",
       "      display:flex;\n",
       "      flex-wrap:wrap;\n",
       "      gap: 12px;\n",
       "    }\n",
       "\n",
       "    .colab-df-convert {\n",
       "      background-color: #E8F0FE;\n",
       "      border: none;\n",
       "      border-radius: 50%;\n",
       "      cursor: pointer;\n",
       "      display: none;\n",
       "      fill: #1967D2;\n",
       "      height: 32px;\n",
       "      padding: 0 0 0 0;\n",
       "      width: 32px;\n",
       "    }\n",
       "\n",
       "    .colab-df-convert:hover {\n",
       "      background-color: #E2EBFA;\n",
       "      box-shadow: 0px 1px 2px rgba(60, 64, 67, 0.3), 0px 1px 3px 1px rgba(60, 64, 67, 0.15);\n",
       "      fill: #174EA6;\n",
       "    }\n",
       "\n",
       "    [theme=dark] .colab-df-convert {\n",
       "      background-color: #3B4455;\n",
       "      fill: #D2E3FC;\n",
       "    }\n",
       "\n",
       "    [theme=dark] .colab-df-convert:hover {\n",
       "      background-color: #434B5C;\n",
       "      box-shadow: 0px 1px 3px 1px rgba(0, 0, 0, 0.15);\n",
       "      filter: drop-shadow(0px 1px 2px rgba(0, 0, 0, 0.3));\n",
       "      fill: #FFFFFF;\n",
       "    }\n",
       "  </style>\n",
       "\n",
       "      <script>\n",
       "        const buttonEl =\n",
       "          document.querySelector('#df-0ae3ef7a-f9e8-49ec-bcd2-2a7d00945ab8 button.colab-df-convert');\n",
       "        buttonEl.style.display =\n",
       "          google.colab.kernel.accessAllowed ? 'block' : 'none';\n",
       "\n",
       "        async function convertToInteractive(key) {\n",
       "          const element = document.querySelector('#df-0ae3ef7a-f9e8-49ec-bcd2-2a7d00945ab8');\n",
       "          const dataTable =\n",
       "            await google.colab.kernel.invokeFunction('convertToInteractive',\n",
       "                                                     [key], {});\n",
       "          if (!dataTable) return;\n",
       "\n",
       "          const docLinkHtml = 'Like what you see? Visit the ' +\n",
       "            '<a target=\"_blank\" href=https://colab.research.google.com/notebooks/data_table.ipynb>data table notebook</a>'\n",
       "            + ' to learn more about interactive tables.';\n",
       "          element.innerHTML = '';\n",
       "          dataTable['output_type'] = 'display_data';\n",
       "          await google.colab.output.renderOutput(dataTable, element);\n",
       "          const docLink = document.createElement('div');\n",
       "          docLink.innerHTML = docLinkHtml;\n",
       "          element.appendChild(docLink);\n",
       "        }\n",
       "      </script>\n",
       "    </div>\n",
       "  </div>\n",
       "  "
      ],
      "text/plain": [
       "        id gender  age              topic      sign          date  \\\n",
       "0  2059027   male   15            Student       Leo   14,May,2004   \n",
       "1  2059027   male   15            Student       Leo   13,May,2004   \n",
       "2  2059027   male   15            Student       Leo   12,May,2004   \n",
       "3  2059027   male   15            Student       Leo   12,May,2004   \n",
       "4  3581210   male   33  InvestmentBanking  Aquarius  11,June,2004   \n",
       "\n",
       "                                                text  \n",
       "0             Info has been found (+/- 100 pages,...  \n",
       "1             These are the team members:   Drewe...  \n",
       "2             In het kader van kernfusie op aarde...  \n",
       "3                   testing!!!  testing!!!            \n",
       "4               Thanks to Yahoo!'s Toolbar I can ...  "
      ]
     },
     "execution_count": 4,
     "metadata": {},
     "output_type": "execute_result"
    }
   ],
   "source": [
    "df.head()"
   ]
  },
  {
   "cell_type": "code",
   "execution_count": 5,
   "metadata": {
    "colab": {
     "base_uri": "https://localhost:8080/"
    },
    "id": "PXE20rhb9wt8",
    "outputId": "54e04e45-4a63-4b83-d1e3-167b4b40fbef"
   },
   "outputs": [
    {
     "data": {
      "text/plain": [
       "(681284, 7)"
      ]
     },
     "execution_count": 5,
     "metadata": {},
     "output_type": "execute_result"
    }
   ],
   "source": [
    "df.shape"
   ]
  },
  {
   "cell_type": "code",
   "execution_count": 6,
   "metadata": {
    "colab": {
     "base_uri": "https://localhost:8080/",
     "height": 279
    },
    "id": "x5agxslhTGVP",
    "outputId": "e1f2e1c3-3490-4dc2-aa9b-2406b7166a8a"
   },
   "outputs": [
    {
     "data": {
      "image/png": "[encoded data removed]",
      "text/plain": [
       "<Figure size 432x288 with 1 Axes>"
      ]
     },
     "metadata": {
      "needs_background": "light"
     },
     "output_type": "display_data"
    }
   ],
   "source": [
    "#Check gender-wise distribution\n",
    "sns.countplot(x='gender',data=df);"
   ]
  },
  {
   "cell_type": "markdown",
   "metadata": {
    "id": "ePYeIg2PTexK"
   },
   "source": [
    "genderwise distrubution shows there is no bias to any gender"
   ]
  },
  {
   "cell_type": "code",
   "execution_count": 7,
   "metadata": {
    "id": "t714iSsnTdYa"
   },
   "outputs": [],
   "source": [
    "df1 = pd.read_csv(\"drive/My Drive/Colab Notebooks/nlp1 project/blogtext.csv\",nrows=100000)"
   ]
  },
  {
   "cell_type": "markdown",
   "metadata": {
    "id": "xxY-kSxOck9d"
   },
   "source": [
    "missing value imputation"
   ]
  },
  {
   "cell_type": "code",
   "execution_count": 8,
   "metadata": {
    "colab": {
     "base_uri": "https://localhost:8080/"
    },
    "id": "6gh-C1hmTlsK",
    "outputId": "b20b48b1-6eca-4749-b807-341262804d0a"
   },
   "outputs": [
    {
     "data": {
      "text/plain": [
       "id        0\n",
       "gender    0\n",
       "age       0\n",
       "topic     0\n",
       "sign      0\n",
       "date      0\n",
       "text      0\n",
       "dtype: int64"
      ]
     },
     "execution_count": 8,
     "metadata": {},
     "output_type": "execute_result"
    }
   ],
   "source": [
    "df1.isnull().sum() # check for null values"
   ]
  },
  {
   "cell_type": "code",
   "execution_count": 9,
   "metadata": {
    "colab": {
     "base_uri": "https://localhost:8080/"
    },
    "id": "AKwnvvIOZ8FR",
    "outputId": "c8f55a8a-8272-41f0-f7ab-12fa4f5a1a56"
   },
   "outputs": [
    {
     "data": {
      "text/plain": [
       "id         2768\n",
       "gender        2\n",
       "age          26\n",
       "topic        40\n",
       "sign         12\n",
       "date       1564\n",
       "text      97566\n",
       "dtype: int64"
      ]
     },
     "execution_count": 9,
     "metadata": {},
     "output_type": "execute_result"
    }
   ],
   "source": [
    "df1.nunique() # check for unique values"
   ]
  },
  {
   "cell_type": "markdown",
   "metadata": {
    "id": "Q1uyzBPuaNs0"
   },
   "source": [
    "there are duplicate records in text column we will check the same"
   ]
  },
  {
   "cell_type": "code",
   "execution_count": 10,
   "metadata": {
    "colab": {
     "base_uri": "https://localhost:8080/"
    },
    "id": "QD8qDnnLTrSW",
    "outputId": "1fedd1ef-0af7-4789-f1ed-32895712582d"
   },
   "outputs": [
    {
     "data": {
      "text/plain": [
       "2434"
      ]
     },
     "execution_count": 10,
     "metadata": {},
     "output_type": "execute_result"
    }
   ],
   "source": [
    "df1[[\"text\"]].duplicated().sum() # duplicate texts"
   ]
  },
  {
   "cell_type": "code",
   "execution_count": 11,
   "metadata": {
    "colab": {
     "base_uri": "https://localhost:8080/"
    },
    "id": "SZj7ehcCT49t",
    "outputId": "04dc5e94-ef6f-4e64-d569-890185b49662"
   },
   "outputs": [
    {
     "data": {
      "text/plain": [
       "1232"
      ]
     },
     "execution_count": 11,
     "metadata": {},
     "output_type": "execute_result"
    }
   ],
   "source": [
    "df1[[\"id\",\"text\"]].duplicated().sum() # duplicate per blogger"
   ]
  },
  {
   "cell_type": "code",
   "execution_count": 12,
   "metadata": {
    "colab": {
     "base_uri": "https://localhost:8080/"
    },
    "id": "PCQo_cLfT8c9",
    "outputId": "21648f05-3a85-44ac-a95b-0b5f3752ff7e"
   },
   "outputs": [
    {
     "data": {
      "text/plain": [
       "836"
      ]
     },
     "execution_count": 12,
     "metadata": {},
     "output_type": "execute_result"
    }
   ],
   "source": [
    "df1.duplicated().sum() # overall duplicates\n"
   ]
  },
  {
   "cell_type": "code",
   "execution_count": 13,
   "metadata": {
    "colab": {
     "base_uri": "https://localhost:8080/",
     "height": 112
    },
    "id": "6gjdspSpUAdt",
    "outputId": "6d23246a-383b-4e50-986a-8e0c6b52b1fd"
   },
   "outputs": [
    {
     "data": {
      "text/html": [
       "\n",
       "  <div id=\"df-df56528e-6f91-48fd-be4d-3be369efcf24\">\n",
       "    <div class=\"colab-df-container\">\n",
       "      <div>\n",
       "<style scoped>\n",
       "    .dataframe tbody tr th:only-of-type {\n",
       "        vertical-align: middle;\n",
       "    }\n",
       "\n",
       "    .dataframe tbody tr th {\n",
       "        vertical-align: top;\n",
       "    }\n",
       "\n",
       "    .dataframe thead th {\n",
       "        text-align: right;\n",
       "    }\n",
       "</style>\n",
       "<table border=\"1\" class=\"dataframe\">\n",
       "  <thead>\n",
       "    <tr style=\"text-align: right;\">\n",
       "      <th></th>\n",
       "      <th>id</th>\n",
       "      <th>gender</th>\n",
       "      <th>age</th>\n",
       "      <th>topic</th>\n",
       "      <th>sign</th>\n",
       "      <th>date</th>\n",
       "      <th>text</th>\n",
       "    </tr>\n",
       "  </thead>\n",
       "  <tbody>\n",
       "    <tr>\n",
       "      <th>3828</th>\n",
       "      <td>3543234</td>\n",
       "      <td>male</td>\n",
       "      <td>14</td>\n",
       "      <td>indUnk</td>\n",
       "      <td>Scorpio</td>\n",
       "      <td>07,June,2004</td>\n",
       "      <td>ZmX: I hate these geek 20 year olds...</td>\n",
       "    </tr>\n",
       "    <tr>\n",
       "      <th>3829</th>\n",
       "      <td>3543234</td>\n",
       "      <td>male</td>\n",
       "      <td>14</td>\n",
       "      <td>indUnk</td>\n",
       "      <td>Scorpio</td>\n",
       "      <td>07,June,2004</td>\n",
       "      <td>ZmX: I hate these geek 20 year olds...</td>\n",
       "    </tr>\n",
       "  </tbody>\n",
       "</table>\n",
       "</div>\n",
       "      <button class=\"colab-df-convert\" onclick=\"convertToInteractive('df-df56528e-6f91-48fd-be4d-3be369efcf24')\"\n",
       "              title=\"Convert this dataframe to an interactive table.\"\n",
       "              style=\"display:none;\">\n",
       "        \n",
       "  <svg xmlns=\"http://www.w3.org/2000/svg\" height=\"24px\"viewBox=\"0 0 24 24\"\n",
       "       width=\"24px\">\n",
       "    <path d=\"M0 0h24v24H0V0z\" fill=\"none\"/>\n",
       "    <path d=\"M18.56 5.44l.94 2.06.94-2.06 2.06-.94-2.06-.94-.94-2.06-.94 2.06-2.06.94zm-11 1L8.5 8.5l.94-2.06 2.06-.94-2.06-.94L8.5 2.5l-.94 2.06-2.06.94zm10 10l.94 2.06.94-2.06 2.06-.94-2.06-.94-.94-2.06-.94 2.06-2.06.94z\"/><path d=\"M17.41 7.96l-1.37-1.37c-.4-.4-.92-.59-1.43-.59-.52 0-1.04.2-1.43.59L10.3 9.45l-7.72 7.72c-.78.78-.78 2.05 0 2.83L4 21.41c.39.39.9.59 1.41.59.51 0 1.02-.2 1.41-.59l7.78-7.78 2.81-2.81c.8-.78.8-2.07 0-2.86zM5.41 20L4 18.59l7.72-7.72 1.47 1.35L5.41 20z\"/>\n",
       "  </svg>\n",
       "      </button>\n",
       "      \n",
       "  <style>\n",
       "    .colab-df-container {\n",
       "      display:flex;\n",
       "      flex-wrap:wrap;\n",
       "      gap: 12px;\n",
       "    }\n",
       "\n",
       "    .colab-df-convert {\n",
       "      background-color: #E8F0FE;\n",
       "      border: none;\n",
       "      border-radius: 50%;\n",
       "      cursor: pointer;\n",
       "      display: none;\n",
       "      fill: #1967D2;\n",
       "      height: 32px;\n",
       "      padding: 0 0 0 0;\n",
       "      width: 32px;\n",
       "    }\n",
       "\n",
       "    .colab-df-convert:hover {\n",
       "      background-color: #E2EBFA;\n",
       "      box-shadow: 0px 1px 2px rgba(60, 64, 67, 0.3), 0px 1px 3px 1px rgba(60, 64, 67, 0.15);\n",
       "      fill: #174EA6;\n",
       "    }\n",
       "\n",
       "    [theme=dark] .colab-df-convert {\n",
       "      background-color: #3B4455;\n",
       "      fill: #D2E3FC;\n",
       "    }\n",
       "\n",
       "    [theme=dark] .colab-df-convert:hover {\n",
       "      background-color: #434B5C;\n",
       "      box-shadow: 0px 1px 3px 1px rgba(0, 0, 0, 0.15);\n",
       "      filter: drop-shadow(0px 1px 2px rgba(0, 0, 0, 0.3));\n",
       "      fill: #FFFFFF;\n",
       "    }\n",
       "  </style>\n",
       "\n",
       "      <script>\n",
       "        const buttonEl =\n",
       "          document.querySelector('#df-df56528e-6f91-48fd-be4d-3be369efcf24 button.colab-df-convert');\n",
       "        buttonEl.style.display =\n",
       "          google.colab.kernel.accessAllowed ? 'block' : 'none';\n",
       "\n",
       "        async function convertToInteractive(key) {\n",
       "          const element = document.querySelector('#df-df56528e-6f91-48fd-be4d-3be369efcf24');\n",
       "          const dataTable =\n",
       "            await google.colab.kernel.invokeFunction('convertToInteractive',\n",
       "                                                     [key], {});\n",
       "          if (!dataTable) return;\n",
       "\n",
       "          const docLinkHtml = 'Like what you see? Visit the ' +\n",
       "            '<a target=\"_blank\" href=https://colab.research.google.com/notebooks/data_table.ipynb>data table notebook</a>'\n",
       "            + ' to learn more about interactive tables.';\n",
       "          element.innerHTML = '';\n",
       "          dataTable['output_type'] = 'display_data';\n",
       "          await google.colab.output.renderOutput(dataTable, element);\n",
       "          const docLink = document.createElement('div');\n",
       "          docLink.innerHTML = docLinkHtml;\n",
       "          element.appendChild(docLink);\n",
       "        }\n",
       "      </script>\n",
       "    </div>\n",
       "  </div>\n",
       "  "
      ],
      "text/plain": [
       "           id gender  age   topic     sign          date  \\\n",
       "3828  3543234   male   14  indUnk  Scorpio  07,June,2004   \n",
       "3829  3543234   male   14  indUnk  Scorpio  07,June,2004   \n",
       "\n",
       "                                                   text  \n",
       "3828             ZmX: I hate these geek 20 year olds...  \n",
       "3829             ZmX: I hate these geek 20 year olds...  "
      ]
     },
     "execution_count": 13,
     "metadata": {},
     "output_type": "execute_result"
    }
   ],
   "source": [
    "df1.loc[df1[\"text\"]==df1.loc[df1[[\"id\",\"text\"]].duplicated(),\"text\"].values[10]] # random duplicate review"
   ]
  },
  {
   "cell_type": "code",
   "execution_count": 14,
   "metadata": {
    "colab": {
     "base_uri": "https://localhost:8080/"
    },
    "id": "5l3qyn90UF0O",
    "outputId": "127e2038-2378-40db-b611-de7c226abdfb"
   },
   "outputs": [
    {
     "data": {
      "text/plain": [
       "396"
      ]
     },
     "execution_count": 14,
     "metadata": {},
     "output_type": "execute_result"
    }
   ],
   "source": [
    "df1.drop(df1.loc[df1.duplicated()].index)[[\"id\",\"text\"]].duplicated().sum() \n",
    "# overall duplicates dropped, review duplicate per blogger"
   ]
  },
  {
   "cell_type": "code",
   "execution_count": 15,
   "metadata": {
    "colab": {
     "base_uri": "https://localhost:8080/"
    },
    "id": "Ce5U1RlZawsL",
    "outputId": "054018a4-d07a-429a-e551-5f10e21d00e8"
   },
   "outputs": [
    {
     "data": {
      "text/plain": [
       "0"
      ]
     },
     "execution_count": 15,
     "metadata": {},
     "output_type": "execute_result"
    }
   ],
   "source": [
    "df1.drop(df1.loc[df1.duplicated()].index)[[\"id\",\"date\",\"text\"]].duplicated().sum() \n",
    "# overall duplicates dropped, review duplicate per blogger on the same date"
   ]
  },
  {
   "cell_type": "code",
   "execution_count": 16,
   "metadata": {
    "colab": {
     "base_uri": "https://localhost:8080/",
     "height": 238
    },
    "id": "iORPZgJIUOAt",
    "outputId": "a6618529-6e47-443e-d703-9adccb6e3113"
   },
   "outputs": [
    {
     "data": {
      "text/html": [
       "\n",
       "  <div id=\"df-ff75212d-ad40-4f95-9421-2f81f16d79c3\">\n",
       "    <div class=\"colab-df-container\">\n",
       "      <div>\n",
       "<style scoped>\n",
       "    .dataframe tbody tr th:only-of-type {\n",
       "        vertical-align: middle;\n",
       "    }\n",
       "\n",
       "    .dataframe tbody tr th {\n",
       "        vertical-align: top;\n",
       "    }\n",
       "\n",
       "    .dataframe thead th {\n",
       "        text-align: right;\n",
       "    }\n",
       "</style>\n",
       "<table border=\"1\" class=\"dataframe\">\n",
       "  <thead>\n",
       "    <tr style=\"text-align: right;\">\n",
       "      <th></th>\n",
       "      <th>id</th>\n",
       "      <th>gender</th>\n",
       "      <th>age</th>\n",
       "      <th>topic</th>\n",
       "      <th>sign</th>\n",
       "      <th>date</th>\n",
       "      <th>text</th>\n",
       "    </tr>\n",
       "  </thead>\n",
       "  <tbody>\n",
       "    <tr>\n",
       "      <th>80735</th>\n",
       "      <td>3023198</td>\n",
       "      <td>male</td>\n",
       "      <td>26</td>\n",
       "      <td>Banking</td>\n",
       "      <td>Taurus</td>\n",
       "      <td>21,July,2004</td>\n",
       "      <td>Will post more details soon...</td>\n",
       "    </tr>\n",
       "    <tr>\n",
       "      <th>80737</th>\n",
       "      <td>3023198</td>\n",
       "      <td>male</td>\n",
       "      <td>26</td>\n",
       "      <td>Banking</td>\n",
       "      <td>Taurus</td>\n",
       "      <td>19,July,2004</td>\n",
       "      <td>Will post more details soon...</td>\n",
       "    </tr>\n",
       "    <tr>\n",
       "      <th>80738</th>\n",
       "      <td>3023198</td>\n",
       "      <td>male</td>\n",
       "      <td>26</td>\n",
       "      <td>Banking</td>\n",
       "      <td>Taurus</td>\n",
       "      <td>18,July,2004</td>\n",
       "      <td>Will post more details soon...</td>\n",
       "    </tr>\n",
       "    <tr>\n",
       "      <th>80740</th>\n",
       "      <td>3023198</td>\n",
       "      <td>male</td>\n",
       "      <td>26</td>\n",
       "      <td>Banking</td>\n",
       "      <td>Taurus</td>\n",
       "      <td>16,July,2004</td>\n",
       "      <td>Will post more details soon...</td>\n",
       "    </tr>\n",
       "    <tr>\n",
       "      <th>80741</th>\n",
       "      <td>3023198</td>\n",
       "      <td>male</td>\n",
       "      <td>26</td>\n",
       "      <td>Banking</td>\n",
       "      <td>Taurus</td>\n",
       "      <td>15,July,2004</td>\n",
       "      <td>Will post more details soon...</td>\n",
       "    </tr>\n",
       "    <tr>\n",
       "      <th>80742</th>\n",
       "      <td>3023198</td>\n",
       "      <td>male</td>\n",
       "      <td>26</td>\n",
       "      <td>Banking</td>\n",
       "      <td>Taurus</td>\n",
       "      <td>14,July,2004</td>\n",
       "      <td>Will post more details soon...</td>\n",
       "    </tr>\n",
       "  </tbody>\n",
       "</table>\n",
       "</div>\n",
       "      <button class=\"colab-df-convert\" onclick=\"convertToInteractive('df-ff75212d-ad40-4f95-9421-2f81f16d79c3')\"\n",
       "              title=\"Convert this dataframe to an interactive table.\"\n",
       "              style=\"display:none;\">\n",
       "        \n",
       "  <svg xmlns=\"http://www.w3.org/2000/svg\" height=\"24px\"viewBox=\"0 0 24 24\"\n",
       "       width=\"24px\">\n",
       "    <path d=\"M0 0h24v24H0V0z\" fill=\"none\"/>\n",
       "    <path d=\"M18.56 5.44l.94 2.06.94-2.06 2.06-.94-2.06-.94-.94-2.06-.94 2.06-2.06.94zm-11 1L8.5 8.5l.94-2.06 2.06-.94-2.06-.94L8.5 2.5l-.94 2.06-2.06.94zm10 10l.94 2.06.94-2.06 2.06-.94-2.06-.94-.94-2.06-.94 2.06-2.06.94z\"/><path d=\"M17.41 7.96l-1.37-1.37c-.4-.4-.92-.59-1.43-.59-.52 0-1.04.2-1.43.59L10.3 9.45l-7.72 7.72c-.78.78-.78 2.05 0 2.83L4 21.41c.39.39.9.59 1.41.59.51 0 1.02-.2 1.41-.59l7.78-7.78 2.81-2.81c.8-.78.8-2.07 0-2.86zM5.41 20L4 18.59l7.72-7.72 1.47 1.35L5.41 20z\"/>\n",
       "  </svg>\n",
       "      </button>\n",
       "      \n",
       "  <style>\n",
       "    .colab-df-container {\n",
       "      display:flex;\n",
       "      flex-wrap:wrap;\n",
       "      gap: 12px;\n",
       "    }\n",
       "\n",
       "    .colab-df-convert {\n",
       "      background-color: #E8F0FE;\n",
       "      border: none;\n",
       "      border-radius: 50%;\n",
       "      cursor: pointer;\n",
       "      display: none;\n",
       "      fill: #1967D2;\n",
       "      height: 32px;\n",
       "      padding: 0 0 0 0;\n",
       "      width: 32px;\n",
       "    }\n",
       "\n",
       "    .colab-df-convert:hover {\n",
       "      background-color: #E2EBFA;\n",
       "      box-shadow: 0px 1px 2px rgba(60, 64, 67, 0.3), 0px 1px 3px 1px rgba(60, 64, 67, 0.15);\n",
       "      fill: #174EA6;\n",
       "    }\n",
       "\n",
       "    [theme=dark] .colab-df-convert {\n",
       "      background-color: #3B4455;\n",
       "      fill: #D2E3FC;\n",
       "    }\n",
       "\n",
       "    [theme=dark] .colab-df-convert:hover {\n",
       "      background-color: #434B5C;\n",
       "      box-shadow: 0px 1px 3px 1px rgba(0, 0, 0, 0.15);\n",
       "      filter: drop-shadow(0px 1px 2px rgba(0, 0, 0, 0.3));\n",
       "      fill: #FFFFFF;\n",
       "    }\n",
       "  </style>\n",
       "\n",
       "      <script>\n",
       "        const buttonEl =\n",
       "          document.querySelector('#df-ff75212d-ad40-4f95-9421-2f81f16d79c3 button.colab-df-convert');\n",
       "        buttonEl.style.display =\n",
       "          google.colab.kernel.accessAllowed ? 'block' : 'none';\n",
       "\n",
       "        async function convertToInteractive(key) {\n",
       "          const element = document.querySelector('#df-ff75212d-ad40-4f95-9421-2f81f16d79c3');\n",
       "          const dataTable =\n",
       "            await google.colab.kernel.invokeFunction('convertToInteractive',\n",
       "                                                     [key], {});\n",
       "          if (!dataTable) return;\n",
       "\n",
       "          const docLinkHtml = 'Like what you see? Visit the ' +\n",
       "            '<a target=\"_blank\" href=https://colab.research.google.com/notebooks/data_table.ipynb>data table notebook</a>'\n",
       "            + ' to learn more about interactive tables.';\n",
       "          element.innerHTML = '';\n",
       "          dataTable['output_type'] = 'display_data';\n",
       "          await google.colab.output.renderOutput(dataTable, element);\n",
       "          const docLink = document.createElement('div');\n",
       "          docLink.innerHTML = docLinkHtml;\n",
       "          element.appendChild(docLink);\n",
       "        }\n",
       "      </script>\n",
       "    </div>\n",
       "  </div>\n",
       "  "
      ],
      "text/plain": [
       "            id gender  age    topic    sign          date  \\\n",
       "80735  3023198   male   26  Banking  Taurus  21,July,2004   \n",
       "80737  3023198   male   26  Banking  Taurus  19,July,2004   \n",
       "80738  3023198   male   26  Banking  Taurus  18,July,2004   \n",
       "80740  3023198   male   26  Banking  Taurus  16,July,2004   \n",
       "80741  3023198   male   26  Banking  Taurus  15,July,2004   \n",
       "80742  3023198   male   26  Banking  Taurus  14,July,2004   \n",
       "\n",
       "                                         text  \n",
       "80735     Will post more details soon...       \n",
       "80737     Will post more details soon...       \n",
       "80738     Will post more details soon...       \n",
       "80740     Will post more details soon...       \n",
       "80741     Will post more details soon...       \n",
       "80742     Will post more details soon...       "
      ]
     },
     "execution_count": 16,
     "metadata": {},
     "output_type": "execute_result"
    }
   ],
   "source": [
    "df2 = df1.drop(df1.loc[df1.duplicated()].index)\n",
    "df2.loc[df2[\"text\"]==np.sort(df2.loc[df2[[\"id\",\"text\"]].duplicated(),\"text\"].values)[-5]] # random duplicate review"
   ]
  },
  {
   "cell_type": "code",
   "execution_count": 17,
   "metadata": {
    "colab": {
     "base_uri": "https://localhost:8080/"
    },
    "id": "eFeunxTSUSR8",
    "outputId": "1b7a1d7f-49a4-49ab-811f-020604a3af87"
   },
   "outputs": [
    {
     "data": {
      "text/plain": [
       "array(['    ', '    ', '    ', '    ', '       ', '        ',\n",
       "       '           ', '           ', '           ', '           ',\n",
       "       '           ', '            ', '            ', '            ',\n",
       "       '            ', '            ', '            ', '            ',\n",
       "       '            ', '            ', '            ', '            ',\n",
       "       '            ', '            ', '             ', '             ',\n",
       "       '             ', '             ', '              ',\n",
       "       '               ', '                ', '                ',\n",
       "       '                ', '                ', '                 ',\n",
       "       '                 ', '                 ', '                 ',\n",
       "       '                 ', '                 ', '                 ',\n",
       "       '                 ', '                 ', '                 ',\n",
       "       '                 ', '                  ', '                    ',\n",
       "       '                    ', '                    ',\n",
       "       '                    ', '                    ',\n",
       "       '                    ', '                    ',\n",
       "       '                     ', '                     ',\n",
       "       '                     ', '                     ',\n",
       "       '                     ', '                     ',\n",
       "       '                     ', '                     ',\n",
       "       '                     ', '                     ',\n",
       "       '                     ', '                     ',\n",
       "       '                     ', '                     ',\n",
       "       '                      ', '                      ',\n",
       "       '                       ', '                       ',\n",
       "       '                       ', '                       ',\n",
       "       '                       ', '                       ',\n",
       "       '                         ', '                         ',\n",
       "       '                                 ',\n",
       "       '                                 ',\n",
       "       '                                 ',\n",
       "       '                                 ',\n",
       "       '                                 ',\n",
       "       '                                 ',\n",
       "       '                                 ',\n",
       "       '                                 ',\n",
       "       '                                 ',\n",
       "       \"                   Charlie    urlLink   Which 'The Perks of Being a Wallflower' character are you?     brought to you by  urlLink Quizilla                  \",\n",
       "       '                   urlLink   ', '                   urlLink   ',\n",
       "       '                   urlLink   ', '                   urlLink   ',\n",
       "       '                   urlLink   ', '                   urlLink   ',\n",
       "       '                   urlLink   ', '                   urlLink   ',\n",
       "       '                   urlLink   ',\n",
       "       '                   urlLink                 ',\n",
       "       \"                  How brightly shines the moon  I was finally able to show   urlLink The Taming of the Shrew   to DOB last night. And he enjoyed it as much as I hoped he would. It's such a great story about real love: not namby-pamby niceness, but the desire to see someone become the person they were meant to be, whatever it costs to help them get there. On what it means to be a leader. On the difference between a marriage that's a true team and one where each person maintains their own separate objectives and tries to manipulate the other.  And it's hilarious.                \",\n",
       "       '                  urlLink                ',\n",
       "       '                  urlLink                ',\n",
       "       '                  urlLink                ',\n",
       "       '                  urlLink                ',\n",
       "       '                  urlLink                  ',\n",
       "       '                  urlLink                  ',\n",
       "       '                  urlLink                  ',\n",
       "       '                  urlLink       Brought to you by HaKx       ',\n",
       "       '                  urlLink    And another&nbsp; urlLink                  ',\n",
       "       '                  urlLink    And another&nbsp; urlLink                  ',\n",
       "       '                  urlLink    Look Closely  Brought to you by HaKx       ',\n",
       "       '                  urlLink My Yahoo!              ',\n",
       "       '                  urlLink The Globe and Mail       ',\n",
       "       '                  urlLink The Globe and Mail       ',\n",
       "       \"                 'Those who are afraid of the Dark, have never seen what the Light can do'               \",\n",
       "       '                 .      ',\n",
       "       \"                 ....then congratulations - hopefully that means things are improving.  I tried to put up a quote of the day, and was planning on posting a little, but (once again) blogger seems to be having 'issues' (so, from the 'dashboard,' supposedly the quote was double-posted, but in reality, apparently hasn't gone up).  So, if you can read this, I promise more posts tomorrow.&nbsp; Hopefully the powers that be will get this mess sorted out, and fine inanity can come forth once again.&nbsp; Stay tuned.                \",\n",
       "       \"                 Don't have much to talk about today. Just posting to say that I'm sorry my diary is just filled with crappy photos. I'm guess I'm just not in as good a mood as I thought I was. I'm sorry.        \",\n",
       "       \"                 How Did You Know Chiqui Pineda   I remember so well The day that you came into my life You asked for my name You had the most beautiful smile    My life started to change I'd wake up each day feeling alright With you right by my side Makes me feel things will work out just fine   CHORUS How did you know I needed someone like you in my life That there's an empty space in my heart You came at the right time in my life  I'll never forget How you brought the sun to shine in my life And took all the worries and fears that I had I guess what I'm really trying to say It's not everyday that someone like you comes my way No words can express how much I love you                 \",\n",
       "       \"                 IF YOU HAVEN'T NOTICED, THERE'S A WAR ON...   urlLink U.S. Missile May Have Downed  RAF Plane    urlLink Attack at U.S. Camp in Kuwait Kills One   I wish they'd stop shooting own goals.  What's wrong with these people?             \",\n",
       "       \"                 La la la! La la la! La la la! la la la! la la! England!! Wow! What a performance!  I watched it via my Yahoo! Sport online commentary and then listened to it in the car on the way home. I didn't dare watch it live, having turned on the match in the 98th minute on Sunday and given it the kiss of death! And my reticence was rewarded - perhaps tomorrow is a day to braoch the company car issue, given the good mood my Lovely New Boss will be in!  I've had invites to 2 posh parties today as well - one after the other - result! Just got the details for Jack's County Athletics meeting too - if he does well at this, he goes through to the All England Schools' Tournament - he's more interested in going to the Designer Outlet on the way home to buy some new rugby boots and deprive me of more cash - but I've agreed, what price future fame! Move over Jackie Stallone - Cheryl's entered the zone!  I can't get this horny feeling out of my head either - not eased by the fact that my favourite rugby player is back from holiday and emailing me again - and my Mister Sunday is being very attentive - Come on England!!      \",\n",
       "       \"                 LoL. Yes life sucks...actually not very much but when you miss someone so much you feel like your heart is going to rip in two pieces....yes that sucks. When your dreams don't help satisfy that longing but make them worse...and make your fears of certain people worse yes that sucks.  Ryan and I went to see I, Robot. It rocked. I got to see Will Smith's ass. Its nice. lmao. And Ryan and I held hands. I expected warmth but what can you expect it felt like it was 30 degrees in there! I was like holy shit its cold. lol  &nbsp; DREAMS SUCK RIGHT NOW! I HATE MICHAEL MACKENNA WITH A PASSION.&nbsp; hehe. I do I do I do. Rich I hate some of the time because he is so perfect but my friend and i already had this discussion. wow...im a disturbed little child. omg im going crazy..kill me...no dont. I want to live. this exctasy is nice.  &nbsp;       \",\n",
       "       '                 Today was the first day in a while that actually felt like summer. Blue skies and heat. It was also my last piano lesson before summer break. I was assigned a couple new songs to work on.  Sonata in C Major  by Scarlatti and  Sonatina in A Minor  by Kabalevsky. I like both of them very much. The first reminds me of an impeccably trimmed garden. The second of I don’t know what.       ',\n",
       "       \"                 she said 'i'm not trying to be selfish at all' i said ' and i'm not trying to shoot myself'               \",\n",
       "       '               There Are No Accidents: In All Things Trust in God           ',\n",
       "       '               urlLink   ', '               urlLink   ',\n",
       "       \"              I'm bored. Bite me.       ~*~ First, the basics. Of course. ~*~     What's your name?:  Cristie     How old are you?:  17     When's your birthday?:  June 22nd, 1987     Where do you live?:  Nowhere special     Are you a guy or a gal?:  I bet you couldn't tell by the name.      ~::~Your looks~::~     What color is your hair naturally?:  Dark brown with reddish highlights     Is it dyed right now?:  Yes     What color are your eyes?:  brown     Do you where contacts or glasses?:  glasses     If you where contacts, do you where colored ones?:  n/a     How long is your hair?:  at my neck now. i need to get it chopped     How do you usually where it?:  down or messed up     How tall are you?:  5'6 i think     How much do you weigh?:  last time it was checked was 118 lbs     What size shoes do you where?:  8 1/2 - 9 inches     What style clothes do you usually where?:  it's hard to explain. unmatching mostly     What are you wearing right now?:  shirt, shorts, and mandatory underwears     What jewelery do you where regularly?:  my watch     Have any piercings?:  only my ears     Tattoos?:  no     Are your nails painted?:  only my toenails      #~#Would you or have you ever #~#     Dive into a pool of jello?:  i would     Get a tatoo?:  never     Try and get on Fear Factor?:  NOOO     Try and get on some other reality show?:  yeah, but I'd be the first to get booted out     Pierce your tongue?:  sure, but take it out right away     Go bungee jumping?:  no     Parasailing?:  sure     Sky diving?:  yes     Scuba diving?:  no     Ask someone out?:  i would     Fly an airplane?:  i would     Fly in a hot air balloon?:  i would     Try and get in the Olympics?:  i would never     Eat a bug?:  I have      ::!:: About your crush, bf/gf, etc. ::!::     What's their name?:  none ... but I'll make up one just for you     Are they a boy or a girl?:  boy     What's their favorite color?:  black     Favorite animal?:  uuhh... a cheetah??     Favorite pass time?:  playing in his band     How long have you known them?:  for a while     Do you talk alot?:  no, he hates me     What size shoes do they where?:  13?     What color is their hair?:  black     What about their eyes (the more detailed the better)?:  yes, he has eyes     Do you like their style of dress?:  most definitely     Would you change anything about them?:  uuhh... he could probably move out of his mother's house by now     Do they sleep with stuffed animals?:  yes, because he says it resembles me. awww!!     How tall are they?:  taller than me     What's their favorite food?:  aha. i could so easily say something perverted, but I'd say sushi     Favorite song?:  anything by muse, because he's cool like that     Favorite sport to play?:  he's a surfer. heh heh.     To watch?:  anything on adult swim     Favorite band?:  MUSE     How old are they?:  older than me     Do you think you'll marry them someday?:  No. he sucks.     Are you in love?:  he's imaginary, but not Dave, my imaginary friend.      >~<>~     Color?:  black, blue, red, purple, green, yellow, gray     Animal?:  monkey!!!      Pass time?:  sleeping, reading, drawing, listening to music     Sport to watch?:  men's swimming. for good reasons.     Sport to play?:  i don't play sports if possible.     Food?:  cinnamon rolls, chocolate, onion rings, jamba juice, rice     Ice cream?:  chocolate malt crunch, strawberry, or coffee     Time of day?:  five in the morning     Day of the week?:  Thursday     Time of the year?:  autumn     Memory?:  being happy     Place to be?:  in my bed     Person to be with?:  nice people     Room in the house?:  my room, except when my sister is there, then she kicks me out     Article of clothing?:  socks ... nevermind the underwear     Accessory?:  socks     Name?:  jude     State?:  hawaii     Country?:  i want to go to Japan or Australia     Kind of weather?:  very windy      =?= Word Association =?=     Mike::  no comment on that     Mic::  Jason Mraz     Arson::  arse     Cool::  beans     Gift::  present     Lame::  ass     Nose::  de Rose (think 'ender's game')     Time::  and space     Girl::  girls are bad     Money::  buys things     Calendar::  girl     Guy::  friend     Name::  tag     Grape::  juice     Friend::  green     Horse::  ow, my gluteous maximus     Job::  is good     Fun::  nonexistent in my life     Friend::  friend     Icon::  computer     Hunger::  always present     Ring::  the redo of Japan's 'ringu'     Wood::  burn     Flower::  allergies     Trophy::  i won     Bloom::  Orlando     Fan::  sandlewood     Grow::  like weeds     Leaf::  underpants     Pen::  lover     Save::  my files or they will all be lost     Book::  reading     summer::  bad     Nail::  polish     Paint::  smells good.... heh.     Green::  plants     Key::  locked out     Question::  wha?     Annoyance::  must....crush....     Chat::  log     Journal::  fuzzy feelings     Weather::  cold     With::  you     Want::  all the Muse albums     Need::  a backpack     Cody::  Banks     Fence::  running into it     Floor::  slipping in it     Stone::  etching     Swing::  heights     Bench::  homeless people     Human:  are bad      =) Answer in song lyrics (=     Describe yourself::  'she buuuurns like the suuuuunn and I can't look awaaaay'     Describe your friends::  'you're still here.'     Describe your family::  'our house, in the middle of our street.'     Are you a guy or girl?:  'i am woman, hear me roar.' reowr.     Where do you want to be right now?:  'i'm going to disneyland.' (yes, that's a song)     Describe how you feel 'bout your crush, etc.::  'you will be the death of me.'     Describe how you feel right now::  'i'm feeling rational.'     Describe your life::  'you hide from the world like a broken frame.'     Give me a word of advice::  .... i'm drawing a total blank.     Tell me something uplifting::  'a fake jamaican took every last dime with that scam' ... oh you said 'uplifting'...      @',---- Randomness ----,'@     What are you doing right now?:  dl'ing papa roach, listening to Muse, answering this survey, breathing....     I'm hungry. Are you?:  Yeah.     What are you listening too?:  'Fillup' by Muse     How many people are you talking to on IM?:  None. :(     Are you singing or talking or anything like that?:  No     Who do you miss?:  A lot of pepole     Who did you get your last email from?:  Regina     Who do you wish would write?:  Mewor... I don't care. Anyone would be nice.     Learned anything new lately?:  Yeah. West Sacramento is a rat maze for the insane.     What's the last thing you ate?:  a turkey baloney sandwich     Got any hobbies?:  yes     How long has it been since you've done something creative?:  two hours ago     When's the last time you went outside?:  nearly six hours ago     Who's the last person you hit?:  myself     Who's house where you at last?:  my cousin's     Who's house did you last spend the night at?:  uuuhh.... wow. that was a long time ago. does bob's house count?     What's on your mind right now?:  i should probably get a life.     When's the last time you were really angry?:  yesterday.     When's the last time you got royally emberassed?:  i don't usually get embarassed, but the remote feeling of embarassment would be last saturday     Who do you wish you were with right now?:  i'd rather not say     Got any plans for the weekend?:  go to church ... tha'ts pretty much it     Are you getting tired of this yet?:  no     Will you be my friend?:  okay     When life gets you down, you know what you gotta do?:  ghost busters?      /*/ This or That /*/     Green or blue?:  blue     Red or purple?:  red     Hot or cold?:  hot     Pizza or lasgna?:  pizza     Bread or ice cream?:  ice cream     Cake or pie?:  pie     Tofu or chicken?:  chicken     Ugly or fat?:  ugly     Camera or camcorder?:  camcorder     IM or in person?:  depending, but i like in-person for the comfort and IM for thinking straight     Phone or computer?:  either/or. i usually get in less trouble with the computer though.     Movie or TV?:  Movie. at leas tyou know what's on.     Alone or over crowded?:  alone     Music or silence?:  music     Walk or run?:  if i had the ability to run, i would     Bike or rollerblades?:  bike, even though i nearly severely injured my vitals with it     Ring or bracelet?:  ring, it's not as annoying     Taken or single?:  i'm single. is that what you're asking?     Guys or gals?:  depends on the situation     Dark or light?:  dark     Bright or subdued?:  subued     Cheerful or cranky?:  cheerful     Smile or grin?:  grin     Pen or pencil?:  pen     Paper or plastic?:  paper     Tiger or cheetah?:  can you eat either?     Dolphin or shark?:  dolphin     Catsup or Ketchup?:  TANG     Mayonnaise or miracle whip?:  miracle whip     Pirates of the Carribean or Lord ofthe Rings?:  pirates of the carribean     Knife or scizzors?:  knife     Pants or shorts?:  pants     Windy or calm?:  windy     Flower or weed?:  weed     Half empty or half full?:  half empty     Cordless or cell?:  cordless... i hate cell phones.     House or home?:  home     Karate or kick boxing?:  kicking boxes.      ---->About your friends     Who's the nicest?:  the one who is less likely to kill me in my sleep.     The cutest?:  attractive-wise?     The tallest?:  Derek     The shortest?:  i don't want to die     Who's the meanest?:  mmm     Do you have a crush on one of them?:  i could, but i don't     Who's most likely to end up in jail?:  mat?     Who's most likely to become all the want to be?:  any of them     Who's the smartest?:  i don't have many friends to start with     The loudest?:  i dunno     The quietest?:  yuri     The nosiest?:  junior. hah.     The most obnoxious?:  i don't hang around obnoxious people usually.     Who can you relate to best?:  mooshy     Who knows you the best?:  nene-san     Who have you known the longest?:  matthew and nene     How 'bout the shortest?:  mat.. hahaha. daniel and christina as well     Who do you see most often?:  i dunno     Who makes you laugh the most?:  mooshy     Who makes you cry the most?:  none of them make me cry     Who's the strongest?:  sergio     The weakest?:  i'm very weak but i dunno if that counts     The most creative?:  derek     The shyest?:  i can't remember     Most outgoing?:  junior     Most colorful?:  a lot of them are colorful     Most stylish?:  derek. most definitely.     Most likely to become a model?:  i don't know     Most likely to end up pierced many times over?:  NENE     Most likely to hurt themselves accidently?:  me     Most likely to try a citizens arrest?:  me... hahaha     Who sings the most?:  none of them really sing     Who has the best singing voice?:  i dunno     Best talking voice?:  SERGIO.     Who wears the most jewelry?:  i don't know     Who whistles the most?:  i don't know     Who's house do you spend the most time at?:  none... don't really go to people's houses      *#* Thought provokers *#*     Is abortion wrong? Give the reason for your answer.:  yes. you making unborn, innocent chlidren for your stupid, impulsive actions.     What about euthenasia?:  no. let them be taken whenever God decides, basically. let them vegetate for a while before they kick the bucket. it's not like the government is using money for anything bett     What are your thoughts on the war in Iraq?:  none really     I just got a letter from President Bush! ( I know, that didn't fit):  whoo     Is there life on other planets?:  no     How did we get here?:  God put us here     Creation or the Big Bang or something else?:  Creation     Is sex before marraige wrong?:  Yes     Is it wrong to be gay?:  it's not for us humans to discriminate against that... i know what junior's thinking     How old should children be when they start school?:  about five     Is the Bible true?:  yes     Did Jesus really come to earth and die for our sins?:  yes... but didn't mean for us to be stupid about it      If you could do absoulutley anything, what would you do?:  i would change your spelling of 'absolutely'...     If you had a million dollars, what would you do with it?:  not have it     Jesus loves you.:  thank you.     Why are we here?:  to train on the earth to become future kings, priests, and Gods in God's family.      )(More random randimosity)(     What color is the sky?:  without the water, there would be no color     Why?:  the blue color is reflected by the color     Is color real or just an illusion?:  real     Do you think I could have the president for a pen pal?:  lol... sure why not.     What's behind you?:  my chair back.     Who's in the room with you?:  no one     What can you hear right now?:  Uno - by muse     Without turning your head, what can you see?:  objects     What are your emotional fears?:  to be rejected and be left totally alone and confused     What are your physical fears?:  falling and burning. i have no qualms about anything else.     What brings you joy?:  sleeping and being with certain people.     Do you have any addictions?:  is there such thing as a drawing addiction?     Any obsessions?:  no.     What's on your bedroom walls?:  posters, my cousin's drawings, random crap     Do you have any stuffed animals?:  yeah, but they're packed away somewhere     I forgot this one - what's your favorite movie?:  the 1st movie that pops in my brain is 'princess bride'     How many people are in your family?:  four     Got any people you call siblings, but aren't related?:  no     Who's the last person you hugged?:  yuri     I'm still hungry, are you?:  yeah     What's something you're waiting for?:  school... *dies*     Do you like to take pictures?:  yeah     Collect anything?:  i'm sort of having a 'uniquet-shirts' collection     What can you see out the nearest window?:  the car     What's your least favorite chore?:  doing what my mom tells me to do     What do you dread?:  having children. oh the pain. oh the suffering. oh the pain and suffering of having little replicas of me running around the house.     What are you looking forward too?:  eating.     Do you like your handwriting?:  sure why not     How fast do you type?:  about 90 words per minute     What color are your socks?:  i have many socks. my socks rock.     What do your favorite pair of shoes look like?:  black, ugly, and retro.     How long has it been since you've worn real tennis shoes?:  two days ago. i bought those shoes specifically for tennis acutally.     Do you want a pair of converse all stars?:  only if people would buy it for me. i wouldn't spend money on it.     What color?:  black.     What was the last commercial you saw?:  i can't remember.     What was the last movie you watched?:  minority report.     What was the last movie you watched in theaters?:  shrek 2     What was the last movie you saw that you'd never seen?:  i usually don't regret movies.     This is almost over! Happy?:  no     What are you gonna do when you're finally FINISHED?:  start another one, probably     Are you smart?:  i'd like to think so     Is your room a mess or clean or in between?:  mess.      Do you like cheese?:  absolutely.     I like peanut butter on cheese. Am I weird?:  no you're not. i am.     Quick! Start singing!:  well, right now it's a japanese song so i can sing it, but it'll come out in wannabe japanese grunts     What's the weather like?:  pretty crappy     When's the last time you flew?:  last year     Do you LIKE to fly?:  yeah     This is over.:  ok      urlLink long long long survey (over 300)  brought to you by  urlLink BZOINK!   urlLink  EmotionDump   - 100% Anonymous Emotions and Confessions          \",\n",
       "       '              urlLink            ',\n",
       "       '              urlLink            ',\n",
       "       '              urlLink            ',\n",
       "       '              urlLink            ',\n",
       "       '              urlLink            ',\n",
       "       '              urlLink            ',\n",
       "       '              urlLink            ',\n",
       "       '              urlLink     &nbsp; urlLink            ',\n",
       "       '              urlLink    .&nbsp; urlLink            ',\n",
       "       \"              urlLink Apple - iTunes - 100 Million Songs : 'Kevin Britten of Hays, Kansas downloaded “Somersault (Dangermouse remix)” by Zero 7, the 100 millionth song purchased from the iTunes music store. He will receive a 17-inch PowerBook, a 40GB iPod and a gift certificate for 10,000 iTunes songs to create the ultimate music library for his new iPod. In addition we awarded 50 special 20GB iPods — one to the purchaser of each 100,000th song downloaded between 95 million and 100 million songs. '  Luckey them.         \",\n",
       "       '             *sigh*         ', '             *sigh*         ',\n",
       "       '             *sigh*         ', '             *sigh*         ',\n",
       "       '             *sigh*         ', '             *sigh*         ',\n",
       "       \"             Brought to you by   JPServicez.com: Smart bargain shopping  . Please CLICK on the 'TITLE' to take up these promotions...    Site Feed           \",\n",
       "       \"             Brought to you by   JPServicez.com: Smart bargain shopping  . Please CLICK on the 'TITLE' to take up these promotions...    Site Feed           \",\n",
       "       \"             Brought to you by   JPServicez.com: Smart bargain shopping  . Please CLICK on the 'TITLE' to take up these promotions...   urlLink Site Feed          \",\n",
       "       \"             Brought to you by   JPServicez.com: Smart bargain shopping  . Please CLICK on the 'TITLE' to take up these promotions...   urlLink Site Feed          \",\n",
       "       \"             Brought to you by   JPServicez.com: Smart bargain shopping  . Please CLICK on the 'TITLE' to take up these promotions...   urlLink Site Feed          \",\n",
       "       \"             Brought to you by   JPServicez.com: Smart bargain shopping  . Please CLICK on the 'TITLE' to take up these promotions...   urlLink Site Feed          \",\n",
       "       \"             Brought to you by   JPServicez.com: Smart bargain shopping  . Please CLICK on the 'TITLE' to take up these promotions...   urlLink Site Feed          \",\n",
       "       \"             Brought to you by   JPServicez.com: Smart bargain shopping  . Please CLICK on the 'TITLE' to take up these promotions...   urlLink Site Feed          \",\n",
       "       \"             Brought to you by   JPServicez.com: Smart bargain shopping  . Please CLICK on the 'TITLE' to take up these promotions...   urlLink Site Feed          \",\n",
       "       \"             Brought to you by   JPServicez.com: Smart bargain shopping  . Please CLICK on the 'TITLE' to take up these promotions...   urlLink Site Feed          \",\n",
       "       \"             Brought to you by   JPServicez.com: Smart bargain shopping  . Please CLICK on the 'TITLE' to take up these promotions...   urlLink Site Feed          \",\n",
       "       \"             Brought to you by   JPServicez.com: Smart bargain shopping  . Please CLICK on the 'TITLE' to take up these promotions...   urlLink Site Feed          \",\n",
       "       \"             Brought to you by   JPServicez.com: Smart bargain shopping  . Please CLICK on the 'TITLE' to take up these promotions...   urlLink Site Feed          \",\n",
       "       \"             Brought to you by JPServicez.com: Smart bargain shopping. Please CLICK on the 'TITLE' to take up these promotions...   urlLink Site Feed          \",\n",
       "       \"             I'm thinking very strongly about centralizing my headquarters over here at this blog...  I'll have a 'Town Square' type feel.  WallaceHQ would be here, and I would have a link going back over to freewebs/geocities and all my other blogs and they would each link back to this blog.  I would probably rename this blog to 'A Geek's Life HQ' or something like that and give a little intro information about myself, etc. (Yes I would actually include my profile this time)...  Hmmm.... decisions....  Feedback.  Please.         \",\n",
       "       \"             Save 10% on any purchase over $85 Reference Code: MAYGS1085 Limitations: Cannot be used in conjunction with other promotions or sale items. Expires: 73004  Brought to you by   JPServicez.com: Smart bargain shopping  . Please CLICK on the 'TITLE' to take up these promotions...   urlLink Site Feed          \",\n",
       "       \"             Wowsers, I just decided yesterday at 6pm to make a new website, and I did :D  Funnily enough...  It's not so graphically involved like it's predessor, however, I enjoy it's complex simplicity and the fact that it's all on one page now!!!   urlLink Come and look  (unless you've come from there to here, then that's a bit redundant).   I'm anxiously awaiting my grad photos to arrive... June 23rd. Yikes!!  It didn't even take that long two Christmas ago when Marc and I had our portraits taken.  Oh well.   Yesterday was such a terrific day, it was 26 degrees all day, even when there was overcast.  I went for my classic walk to the Marina to enjoy a delicious Ice Cream cone from the homemade ice cream parlour 'The Next Stop Ice Cream Shop' (It is a pun on the fact that the whole building used to be an old passenger train station).  Yesterday I had Peach/Mango and Strawberry Kiwi, they were brilliant!!  Very delicious!!    Well, I must go and enjoy my day, I don't have much of it because I work at 7am tomorrow....  HUGS DAN         \",\n",
       "       '             and the dreams continue...         ',\n",
       "       '             feh         ', '             feh         ',\n",
       "       \"             here's another installment of things of the week  song: heaven - los lonely boys  quote: you have 30 seconds or in other words 30 billion nanoseconds..plenty of time - einstein  site: www.acronymfinder.com - find all those annoying TLA's.  word: supacallyfragalisticexpiallydocious  joke: why did fred fall off his bike? coz his mum threw a fridge at him.  here's another 1 i heard from garry  why did the plane crash? coz the pilot was a loaf of bread...          \",\n",
       "       '             urlLink   ', '             urlLink   ',\n",
       "       '             urlLink   ', '             urlLink   ',\n",
       "       '             urlLink   ', '             urlLink   ',\n",
       "       '             urlLink   ', '             urlLink   ',\n",
       "       '             urlLink   ', '             urlLink   ',\n",
       "       '             urlLink   ', '             urlLink   ',\n",
       "       '             urlLink    ',\n",
       "       \"            Mood:  a little lonely...  ::sigh:: is it bad that i miss gong a lot?  she left for China the other day and i hadn't talked to her in a few days... so i didn't even get to talk to her about it... and since i'e been working, i haven't been available for anything until like 5:00... so i couldn't even make plans... this bites...  i think what started the whole thing was going to the mall today... i was with my mom which didn;t completely suck because i like my mom... but i was like, 'i really wish i could be going to the mall with amanda'... this could have been because my mom was complaining a little about how she 'would rather have [had] bamboo shoots shoved under [her] fingernails than go to the mall'... meh...  but i did get a cool birthday present for  *MeLoN* !! tomorrow is her birthday.. yay!  man do i want to see  Spiderman 2 ...  i am on Tobey Maguire withdrawal ... i just need to be out with friends... i am so sick of being stuck at home... ahh!!!   i gotta go try to make some plans or something...~~         \",\n",
       "       \"            No more leaking for me....   That is right you heard it here first.  I am moving this weekend.  I can start panting my new place Thursday night, any helpers???  Did think so.  Well that is okay.  I have no boxes and nothing packed and the couch is getting old so I hope to move ummm well Now but, I guess I can wait until Monday.  Friday I'm off to the lake for some stress relief, I really need it.  I am tired and getting more tired.. even sleeping is making me tired.  I have reached my limit of all hell breaking loose and the Gods of whatever need to fucking shine down on me!  The plus side is from all the crazy shit and stress I have lost more weight!  I am now under 120 lb!  EAT THAT!  Okay so it's barely under 120 but the point is my size 4 jeans are getting baggy.   I am hoping I don't loose the good stuff but we will see.   Other than my living crap, life isn't to bad.   I have my sisters in town and Cardinal games to look forward too.   God, I just realized how way lame this fucking blog is.  I must come up with better shit to put on here.    If anyone would like to buy me some food, I will be your friend for about 1 hour.  Feel free to e-mail me at milojonheather@hotmail.com and we can discuss where you will be taking me.  I refuse to date you, have sex with you I'm just being up front and asking for free food, please think about it.           \",\n",
       "       \"            blah blah blah   It's odd when things change.  It's odd that I write this and only two people will read it.    My weekend was pretty much drama filled which means it pretty much sucked.  I had some people who where shining spots in the weekend though.  They would know who they are but I have a feeling they will never read this.  I just wanted to say Thank you for making all the drama seem not so bad.    Those drama causers.. um don't be dirty dogs.. hahaha...You know who you are you dirty dog you..  I saw a move today.  The stepford wifes.  It wasn't to bad but it's the first time I laughed out loud in over a week so that was good.  I had the olive garden which was fucking awesome.  I have now revised my who I will marry of famous men to add  urlLink Rocco  to the list.  Things I like in a man...  1. No lies 2. Thoughtfulness 3. Sense of Humor 4. Intelligence 5. Being Laid Back 6. Admitting when you are wrong/Humility 7. Manners 8. Nice Smile 9. Cooking is so sexy or being passionate about something 10. Smells good  I find that Rocco fits all of my requirements.. He is a bit older but damn for the cooking I can over look that.  Well I'm off to dream and search for other men to add to my list.  So far I only have Rocco and  urlLink Rick Ankiel .  If you know of any others I may add please feel free to send them my way.         \",\n",
       "       \"            july 17   this day tunred out so much better than i thought. the leadership training rocked! it wasn't like the leadership trainings in elem, it was realistic, it was useful and, for once, it was actually eye-opening.  &nbsp;  at the start of the day, everybody was, of course, still not vibing it too much since we didn't know each other well yet. there were some people i knew, nicole, amabel and chunky, the badminton varsity cap. i found out that amabel and she are godsiblings. anyway, chunky was really friendly and i really find her cute. our first activity was some kind of amazing race. it was fun! especially in the part where we had to find 4 girls with the same month of birthday. unfortunately, there were only two of us born on january, minnie and i. minnie is the sophomore i see hanging out with the other popular people. she has light complexion, tomboyish air and chinky eyes plus the cutest nose i've seen! she's really nice, a contrary of what i assumed she was. anyway, we had to sing 'nopyi' by bamboo to pass the task. then later, we were asked to do a symbolism of ourselves. we had to draw a shape of a man [like a gingerbread man] and paste 5 symbols of ourselves which we cut out from the newspaper we brought. the activity had a big impact on me. i was confident in sharing about myself and i felt no shame [naks!]. we were grouped into 7. my groupmates were regina, ate marion, ate ira and ate feliz. ate feliz is this sophomore whom i really like. when she was sharing to us her symbol, i found her mature and deep. then, ate marion is the junior who had this smart air around her. ate ira, the senior in our group, was a proof that theresians have poise. she talked with confidence. and regina is batchmate of mine who is the shy quiet type but is the type of person appropriate to be a leader. the activity was one of the things i liked today. it was an eye-opener in a sense that it increased our self-awareness. i think self-awareness is important for a leader to have. because in order to be a good leader, we must know how to deal with people. to deal with people well, we must know them. but how can we know them when we don't even know ourselves? the next activity was a value voting activity. we were asked a couple of questions and we had to choose which answer we wanted. there was a time when we were asked if we had cheated on any exam. my conscience was killing me but i just said to myself, 'i cheated on a quiz, not an exam'. at that time, i really wanted to befriend this senior named, jax. she used to be in basketball varsity. that activity determined our decision-making. i also liked it. in the afternoon, we watched a film called 'dave'. it was about this man named dave who was hired by the government to play as a decoy for the president who had a serious stroke. the chief of staff wanted to hide the truth from the people so he hired dave. things got out of hand for the cheif of staff because dave started to do things which a president should do which the villain doesn't want him to do. it showed real leadership.  &nbsp;  leaders should be responsible and resourceful. they must have a good sense of priority so they can make way for the more important things. leaders must know whom they are working for and must display a good image for everyone to imitate. leaders must pay attention to everything even the little things. because all things, great or small, are significant to all.  &nbsp;  what is a leader?  i have the whole year to find out!   *** &nbsp;  I wasn’t in the greatest mood today. It must have been because I just came back from a fever. It must’ve been because I miss jammi. I dunno, I just didn’t feel too energetic. Plus, I get the strongest feeling that my “friends” are hating me right now. Faith, lara and the others are starting to come snobbish to me. Maybe that’s also one of the reasons I don’t feel so happy. That’s why I’ve decided to keep quiet.  &nbsp;  Today we also changed seats. All of us who always cheat on tests were arranged apart. I guess teachers have that intuition about their students or something. Anyway, it’s cool since I can concentrate better on my studies now and I would be taken from my tempting classmates showing me their answers. It’s cool, at least I can think well from shutting up.   *** &nbsp;  Daryl and I spent lunch together. It was really nice to be able to hang out with her again. She even hugged me a couple of times. I missed those times when we were really close like sisters. Hey, we could always come back to that time…except it wouldn’t be going back, it would be moving on. In a sense that we put the past where it should be and face what’s ahead of us. Of course, it would take time, like everything else.  &nbsp;  Ate alariz has been really nice to me. We hang out every dismissal and I find her really cool, for a senior, she’s really funky. ^_^  &nbsp;  I guess this day is cool….&nbsp; &nbsp;  ***  Check this out….  &nbsp;  What is love?  An irrational feeling  Driving you to the depths of extremity  Pulling the spirit, heart and mind apart  Love is limit-breaking  &nbsp;  It is confusion  Blurring logic  Destructing systems  Breaking routines  Crushing foci  Love is chaos  &nbsp;  It is pain, tears, heartbreak  Love is sacrifice  &nbsp;  It is blindness  Blocking the flaws and imperfections  Displaying mirages of smiles and sunsets  Love is the illusion of perfection  &nbsp;  It is a dream  A basis of paradise  The momentary ecstasy  Love is hope  &nbsp;  It is a feeling  An emotion  A temporary condition  Love is a constant change  &nbsp;  It is an essence of being  A reason for existence  Belief of purpose  Love is life  &nbsp;  What is love?  For me?  &nbsp;  You are&nbsp; &nbsp;          \",\n",
       "       '            urlLink            ',\n",
       "       '            urlLink            ',\n",
       "       '            urlLink            ',\n",
       "       '            urlLink            ',\n",
       "       '            urlLink    urlLink audio post  powered by  urlLink audblog          ',\n",
       "       '            urlLink    urlLink audio post  powered by  urlLink audblog          ',\n",
       "       '            urlLink Design Interact: Insights ',\n",
       "       '            urlLink The FreeBSD Project          ',\n",
       "       '           ...         ', '           Erm... Scream?         ',\n",
       "       \"           Hi everyone. How is everyone doing this fine Tuesday. I am hoping this finds you all doing well and healthy. My day was absolutely the busiest I have seen in weeks. Today we went to kidnap the R.A.'s for breakfast for floor moms/sisters. We had a great time and our R.A. is super nice and very organized. I like her a lot. It looks like it's going to be a fun first year in Floor Moms for me. We have a lot of fun stuff planned and I am looking forward to it. Later in the day I worked and had lunch at Heather's house with the library girls. We had a great time chowing down on salad and pizza and of course chatting about things that aren't appropriate. It was a great time.  Overall I worked all day and took a mid day nap and that's about all that happened. Oh well, I guess it was a boring day for me but either way, a good one!  Love you all and ~Shalom~          \",\n",
       "       '           Honga...         ',\n",
       "       \"           How much music and sound do you guys think we'll use? Do we have an acceptable way to record it? perform it? Do video cameras or cheap computer microphones record well enough to get away with? I would be very interested in playing with sound effects if we have time to cram it in.          \",\n",
       "       '           I had fun. Thank you for organising the party!         ',\n",
       "       \"           My day started off pretty well, but my cough got much worse.  I hate to admit it but it was prolly my early morning run.  You know what I just realized.  Way back in the day, I think that I picked up the phrase 'prolly' from Kent and it just kinda stuck.  And now, I think about it.  Some of the other slang that I use is been rubbed onto me from others, as well.  I wonder if anyone starts saying 'pop' instead of 'soda'?  *^_^*  Heehee..anyway, I'm feeling mixed right now.  I have a bunch of things going through my head and none of them have anything to do with my 20 page paper.  By the way, I reread what I wrote last week and it makes no sense whatsoever, so I decided to give up and rewrite the whole thing.  I trashed the old paper and began anew.  I already have eleven pages which isn't bad for a day and half.  But still..I'm going to be pretty tired.  I think that I need sleep before I work on my paper.  So much is going on.  I want to quit work so I can concentrate on school.  I want to study for my grad school exams right now and take them.  I want to concentrate on one thing at a time.  Don't worry..I'm just whining right now.  Just feeling overwhelmed from work.  And frustrated because of them.  One job ~ I have to come back during my spring break to work for them because they're already not too happy about me taking off a few days to go to Chicago.  Man..they already made me stay here during winter break anyway.  Sheesh..the other job?  They're requesting me to work 30 hours during my finals week.  I miss Carrillo so much.  I felt much more appreciated there and they didn't force us to work more hours.  And THEY called me.  I was in the middle of coughing my heart out when they called me.  They heard me coughing, instead of asking if I was okay or something considerate, their exact wording was 'Hope that you die soon.'  That caught me off guard and made me want to cry.  I know that I've built myself up to be strong against them, but I'm feeling so weak right now and they just have to beat up on me further when I'm weak.  What did I do so wrong that makes them hate me?  I don't know, and their only excuse is that I was born a female.  I was born into my family.  My very existence is their problem.  They have nothing better to do except berate me...they make me feel so bad about myself...=o(         \",\n",
       "       '           Nearly scared me, tot password wrong… but in e end get it right. Noe mi feeling bit down ba, don feel like doin my sch wrk even though now DT is my 1st priority coz of e folio.  Haiz, today as usual got trg, but today one is rehearsal 4 this comin sat. DC visit. Haiz, n y ther r pple who like to the calls e shot, e black chinese guy… haiz. Becoz of his character nowadays mi attitude him liao, wa lau, I his senior n nv show repect one lor, e same way he treat other pple, n also suck up to pple one.. haiz… this type of pple, although he has e leadership I muz say. Still can rem last time, when they were sec 2, abt to take over tt time, waaa, damm guai.. listen to me bla bla bla, show respect to many pple, n when take over liao, hack care us luike shit liddat. Smt feel like punching his dark skin face. Anyway, regarding the unit, I tink I can really step down liao lor, now I pass the admin backto Cis, n how they wanna settle is their prob. Oya, even though today I said many times abt attendance taking, I tink nobody in the end took the trouble to take the attendance of their squad. Coz this batch they hac care admin one I noe., b4 becoming NCOs, all dream of goin to trg dept liao, whu will care admin n log????  Also, aft trg heard frm mr.low, tt npcc may be closed down to form another uniform group, merging the police n civil defence to form a home team uniform group. In some sense aft mi givin much tot to it, I think this oplan would be beta coz CD will not be left out, although npcc has courses wif CD. This merge I tink will increase e variety of activities like first aid n other CD stuffs lor. but is sad to hav npcc close down. But I tink this plan may start aft when I completed my years of CI if can lar..          ',\n",
       "       '           Obligitory  urlLink Hello Kitty Robot  Post.  Just following tradition. ;-).         ',\n",
       "       '           Well its another day in my boring life. what a long day. I just got back from work (i ump for coaches pitch games) and i am soo tired. tomarrow night my girlfriend gets back, and then im might take her out.  We have the church car wash tomarrow (woohoo, i will get a sunburn again)  And now its late so im off to bed..........           ',\n",
       "       \"           Wow, the school year is FINALLY over. Seriously what a year, not much more I can add to that.Congrats seniors, I love you all.   I'm officially a senior.... whoa.          \",\n",
       "       \"           You know, you can't be so particular. Nobody's perfect.         \",\n",
       "       '           fuck you and everyone else out there          ',\n",
       "       '           haiz.. wan a sian v day to spend @ home typing this stupid blog.... bascially morning went sch 4 np trg, uz c c cadets onli...haha. then go heartland wif wilson makan kfc lor... not scared of bird flu ar?? Haha, then go home liao lor.. Well, hope smt special would happen 2nite.. :)         ',\n",
       "       \"           yowers.  much stuff to do today, but its so freakin hot i've decided to stay in today.  i hate the heat!  -return graduation gown -deposit check -passport stuff  ARGh you'd think with being done with school i'd feel a load of stress off my chest. but noooooo..its still there! but just now associated with other stuff- stuff that i neglected because of school.. ARGH!  my throat hurts right now from blowing my nose this morning or else i'd have a smoke. ArGH.  im going to attempt to have a better attitude.         \",\n",
       "       '          Duchy:  {DUH-chee} 1) the territory of a duke or duchess; 2) special domain.    ',\n",
       "       '          Duchy:  {DUH-chee} 1) the territory of a duke or duchess; 2) special domain.    ',\n",
       "       '          Duchy:  {DUH-chee} 1) the territory of a duke or duchess; 2) special domain.    ',\n",
       "       '          Duchy:  {DUH-chee} 1) the territory of a duke or duchess; 2) special domain.    ',\n",
       "       '          Duchy:  {DUH-chee} 1) the territory of a duke or duchess; 2) special domain.    ',\n",
       "       '          Duchy:  {DUH-chee} 1) the territory of a duke or duchess; 2) special domain.    ',\n",
       "       '          Duchy:  {DUH-chee} 1) the territory of a duke or duchess; 2) special domain.    ',\n",
       "       '          Duchy:  {DUH-chee} 1) the territory of a duke or duchess; 2) special domain.    ',\n",
       "       '          Duchy:  {DUH-chee} 1) the territory of a duke or duchess; 2) special domain.    ',\n",
       "       '          Duchy:  {DUH-chee} 1) the territory of a duke or duchess; 2) special domain.    ',\n",
       "       '          Duchy:  {DUH-chee} 1) the territory of a duke or duchess; 2) special domain.    ',\n",
       "       '          Duchy:  {DUH-chee} 1) the territory of a duke or duchess; 2) special domain.    ',\n",
       "       '         urlLink   ', '         urlLink   ',\n",
       "       '         urlLink   ', '         urlLink   ',\n",
       "       '         urlLink   ', '         urlLink   ',\n",
       "       '         urlLink   ', '         urlLink   ',\n",
       "       '         urlLink   ', '         urlLink   ',\n",
       "       '         urlLink   ', '         urlLink   ',\n",
       "       '         urlLink   ', '         urlLink   ',\n",
       "       '         urlLink   ', '         urlLink   ',\n",
       "       '         urlLink   ', '         urlLink   ',\n",
       "       '         urlLink   ', '         urlLink   ',\n",
       "       '         urlLink   ', '         urlLink   ',\n",
       "       '         urlLink   ', '         urlLink   ',\n",
       "       '         urlLink   ', '         urlLink   ',\n",
       "       '         urlLink   ', '         urlLink   ',\n",
       "       '         urlLink   ', '         urlLink   ',\n",
       "       '         urlLink   ', '         urlLink   ',\n",
       "       '         urlLink   ', '         urlLink   ',\n",
       "       '         urlLink   ', '         urlLink   ',\n",
       "       '         urlLink audblog audio post          ',\n",
       "       '         urlLink audblog audio post          ',\n",
       "       '         urlLink audblog audio post          ',\n",
       "       \"        &emailalert=no&email=adgrant@indiana.edu&url=http://closeproximity.blogspot.com&name=Proximity&bgcolor=003399&fcolor=FFFFFF&link=FFFFCC&words=comments&title=Comments &width=350&height=350'>           \",\n",
       "       '        Mood: Fuck Off  NP: Seether - 69 Tea  I FUCKING HATE MY STEPMOTHER... I wanna stab her in the face with a spork!!  --May--          ',\n",
       "       '        urlLink        ', '        urlLink         ',\n",
       "       '        urlLink         ', '        urlLink         ',\n",
       "       '        urlLink         ', '        urlLink         ',\n",
       "       '        urlLink         ', '        urlLink         ',\n",
       "       '        urlLink         ', '        urlLink              ',\n",
       "       '        urlLink     &nbsp; urlLink            ',\n",
       "       \"        urlLink    Noah's Ark&nbsp; urlLink       \",\n",
       "       '        urlLink    Sam  Pictures Baby!          ',\n",
       "       '        urlLink    The gals&nbsp; urlLink            ',\n",
       "       '        urlLink    The view from my window&nbsp; urlLink            ',\n",
       "       '        urlLink    urlLink audblog audio post          ',\n",
       "       '        urlLink    urlLink audblog audio post          ',\n",
       "       '        urlLink    urlLink audblog audio post          ',\n",
       "       '        urlLink    urlLink audblog audio post          ',\n",
       "       '        urlLink    urlLink audblog audio post          ',\n",
       "       '        urlLink    urlLink audio post  powered by  urlLink audblog          ',\n",
       "       '        urlLink    urlLink audio post  powered by  urlLink audblog          ',\n",
       "       \"        urlLink Poetry and Science Education. ERIC Digest.  This ERIC Digest is by Davi Walders.  From the ERIC Digest:  Poetry and science? Does this equation compute? Poets, many of whose works have been inspired by science, would certainly answer in the affirmative, including William Carolow Williams, a doctor who continued to make house calls while becoming one of America's major poets.   On a smaller scale, I am a poet and former teacher who encourages the weaving of poetry into all areas of the curriculum, particularly into the sciences. As a collector of poems for many years, I have seen the power that the right poem read at the right moment can have. Paradox, creative thinking, attention to detail, discovery, humor--a good poem carries many of these elements so critical to scientific inquiry.          \",\n",
       "       '        urlLink RHAPSODY Link          ',\n",
       "       '        urlLink Read .    ', '        urlLink Read .    ',\n",
       "       '        urlLink Weebl and Bob          ',\n",
       "       '        urlLink resume     ', '        urlLink resume help      ',\n",
       "       \"        wellz...it is just like everyday... sian sian by myself. but today kin meng made me alittle happy lah...he called me in the morning...and we chatted for awhile. than a few hours later...i went to do my report that was due SOO many weeks ago. the report still got alot of things haven write down... sIaNzZ. wanna do one report also very hard. strange... today never got a moment to think about fiona...maybe i was too engrossed in my work...to much things to be done. now i doing my history project...feel sleepy.  wellz...can't be bad the whole day right? yeah...my neighbour came and we had a round of monopoly. i got 2000 over dollars and 16 houses. all the rent is like 500-700 over. haha...my neighbour lose money like hell. hehe. wellz...me wanna go and do my project liao....than later go study for my test tmr...buai...            \",\n",
       "       \"       Christina's Party was a lot of fun... i'm gonna miss her. Hopefully I'll c her b4 she leaves, and I'm gonna miss Michelle too, Have fun u guys!!! Well i'm also writing this b/c im leaving for Cali on Tuesday but I'm staying @ my grandma's this weekend and most of monday so this is the last time i'll b online 4 while... good thing this is only 4 a week lol b/c if it was ne longer than that id be like waterworks hehehe. I will miss every1, but i think the ppl's house im gonna go 2 have internet acess so i can email u guys but i dont think i'll go on aim b/c of the time difference when every1 goes on here it'll b like 7:00 or like 8:00 over there and idk if i'll b doin something but we'll c wht happens. So everyone email me ur email address so that while im gone i can have some contact w/ this side of the US b/c chances r i might get bored one day and i'll nuthing to do so just email me @ kiddkickin@yahoo.com ok. Cali is gonna b awsome im really xcited bout going. I hope that i can get a job @ Bay View this summer, i went there yesterday and filled out an aplication and Christina's brother said he would talk to the boss today so yea hopefully i do get a job there b/c i need some $$$ lol and i have waaayyyy too much free time on my hands if i dont. It'll b a really fun summer job, i hope me and Dani get jobs there otherwise we have to look some more, I think next will b like Don's or something. I hope like all the summer jobs aren't filled by the time i get back. oh well i guess thats wht i get for going on vacation @ a really incovinent time, hm wht can u do but have an awsome time which is exactly wht i plan to do. Well i'll c u all wht i get back. Later!!!!         \",\n",
       "       '       Good gaw... i have to have both my history and math dual enrollment books by Thursday.... and I dont have the money right now... omg..... if any of yall have yalls from last year can i buy them from you or borrow them til I can get mine.. or if you know anyone that has them... please tell me.... but other than that I dont really have much to say except that I hate pe... I shouldnt even have it.. I finished my pe credits in 9th grade! NOT FAIR! but I gotta go to work so see yall Love -Jnet    ',\n",
       "       '       I changed colors to Shadow! :o         ',\n",
       "       '       I changed into a girl.         ',\n",
       "       '       I gained 2 defence points.         ',\n",
       "       '       I gained 2 defence points.         ',\n",
       "       '       I gained 2 defence points.         ',\n",
       "       '       I gained 2 defence points.         ',\n",
       "       '       I gained 2 levels.         ',\n",
       "       '       I gained 2 levels.         ',\n",
       "       '       I gained 2 levels. ^_^         ',\n",
       "       '       I gained 2 levels. ^_^         ',\n",
       "       '       I gained 2 levels. ^_^         ',\n",
       "       '       I gained 2 maximum hit points.         ',\n",
       "       '       I gained 2 maximum hit points.         ',\n",
       "       '       I gained 2 maximum hit points.         ',\n",
       "       '       I gained 2 maximum hit points.         ',\n",
       "       '       I gained 2 maximum hit points. ^_^         ',\n",
       "       '       I gained 2 maximum hit points. ^_^         ',\n",
       "       '       I gained 2 movement points.         ',\n",
       "       '       I gained 2 movement points.         ',\n",
       "       '       I gained 2 movement points.         ',\n",
       "       '       I gained 2 movement points.         ',\n",
       "       '       I gained 2 movement points.         ',\n",
       "       '       I gained 2 movement points.         ',\n",
       "       '       I gained 2 movement points.         ',\n",
       "       '       I gained 2 strength points.         ',\n",
       "       '       I gained 2 strength points.         ',\n",
       "       '       I gained 2 strength points. ^_^         ',\n",
       "       '       I gained 3 defence points.         ',\n",
       "       '       I gained 3 defence points.         ',\n",
       "       '       I gained 3 defence points.         ',\n",
       "       '       I gained 3 defence points.         ',\n",
       "       '       I gained 3 defence points.         ',\n",
       "       '       I gained 3 defense points.         ',\n",
       "       '       I gained 3 maximum hit points.         ',\n",
       "       '       I gained 3 maximum hit points.         ',\n",
       "       '       I gained 3 maximum hit points.         ',\n",
       "       '       I gained 3 maximum hit points.         ',\n",
       "       '       I gained 3 maximum hit points. ^_^         ',\n",
       "       '       I gained 3 maximum hit points. ^_^         ',\n",
       "       '       I gained 3 movement points.         ',\n",
       "       '       I gained 3 movement points.         ',\n",
       "       '       I gained 3 movement points.         ',\n",
       "       '       I gained 3 movement points.         ',\n",
       "       '       I gained 3 movement points.         ',\n",
       "       '       I gained 3 movement points.         ',\n",
       "       '       I gained 3 movement points.         ',\n",
       "       '       I gained 3 movement points.         ',\n",
       "       '       I gained 3 movement points.         ',\n",
       "       '       I gained 3 movement points.         ',\n",
       "       '       I gained 3 movement points.         ',\n",
       "       '       I gained 3 strength points.         ',\n",
       "       '       I gained 3 strength points.         ',\n",
       "       '       I gained 3 strength points.         ',\n",
       "       '       I gained 3 strength points.         ',\n",
       "       '       I gained 3 strength points. ^_^         ',\n",
       "       '       I gained 4 maximum hit points.         ',\n",
       "       '       I gained 4 maximum hit points.         ',\n",
       "       '       I gained 4 maximum hit points.         ',\n",
       "       '       I gained 4 maximum hit points.         ',\n",
       "       '       I gained 5 maximum hit points.         ',\n",
       "       \"       I had somewhat of a breakdown this morning.  I saw John today because he finally came to get his car.  And seeing him just put me in a foul mood.  That's not a good sign.  So that was that, we didn't really talk, I just told him to call me when he gets home from work.  But we all know by now that won't happen.  I just want this to be done.  But we won't get into it right now.  I called my mom today and I could barely talk to her.  I was almost in tears, just about everything.  I have my days, but today was bad.  I didn't think I was going to be able to stop crying.  I just wasn't feeling strong today, I told my mom I wanted to come home.  I shouldn't have said that.  She just told me to keep my chin up.  Then she told me a story about my 4 year old niece and I was cracking up.  That's the stuff I miss.    Funny story.  Last night Shelly and I went to get some movies, and I wanted popcorn, but when I got home I realized it was Kettle corn, and I just wasn't in the mood for that.  I wanted something really buttery, so I made her take me back to the store.  We were outside looking at Christmas trees, and I totally tripped over some cement slap and twisted my knee.  How stupid is that?  Yeah I hurt myself looking at trees.    I ate so much sugar last night.  I don't know what it was.  I just wanted sugar.  But anyway, we watched movies last night.  Well I actually watched about 4 movies, because I am an insomniac.  Pirates of the Caribbean.  Good movie.  At first I was a little weirded out about Johnny Depp, but then I was pleasantly surprised.  He was really good in this movie.  Then we watched Old School, and then I watched Serendipity, and then I watched Pulp Fiction, but I fell asleep through that.    So one thing I love about California, is all the bathrooms have toilet seat covers.  I love that.  In Illinois you were lucky to find a bathroom with those things.  Public bathrooms are just so disgusting.  I hate them.  We were in Wal-Mart today and I had to pee, so I went in, and I just cringed.  But I opened one of the stalls and there is the toilet seat cover dispenser!  Thank you soooo much!    Ok, I gotta go, I am rambling on about nothing.           \",\n",
       "       '       I lost 2 levels.      ',\n",
       "       '       I lost 2 movement points.         ',\n",
       "       '       I lost 2 movement points.         ',\n",
       "       '       I lost 2 movement points.         ',\n",
       "       '       I lost 2 strength points.         ',\n",
       "       '       I lost 3 defence points. :(         ',\n",
       "       '       I lost 3 defence points. :(         ',\n",
       "       '       I lost 3 movement points.         ',\n",
       "       '       I lost 3 movement points.         ',\n",
       "       '       I lost 3 movement points.         ',\n",
       "       '       I lost 3 movement points.         ',\n",
       "       '       I lost 3 movement points.         ',\n",
       "       '       I lost two levels.         ',\n",
       "       '       I lost two levels. :(         ',\n",
       "       '       I lost two levels. :(         ',\n",
       "       '       I lost two levels. :(         ',\n",
       "       '       I lost two levels. :(         ',\n",
       "       '       I would Like to Start off with I HAVE TO GET BBBBBBBBBBBRRRRRRRRRAAAAAAAACCCCCCCEEEEEEEEESSSSSSS.  I have to get braces the nurse says Braceeeeesssss O well better now then later I will get them clear but then I cant eat what I want MMMMMMMAAAAAAAAAANNNNNNI have 1 cavity from eatin so much candy I am eatin a  ButterFinger Oh well fillin those only cost 30 dollars  I miss my sister she has been gone for 4 days its so quiet in this huge house I am started to get scared Only 3 people this week next 2  Everyoneone is leaving AAAAAAAAAAAHHHHHHHHHHHH         ',\n",
       "       \"       I'm going through snog withdrawl...It's been almost 7 months since my last snog. My god...  It's pathetic...I need a snogging partner. That's really what I want right now. Hmm...maybe Marcus. I'd feel bad, though. He's not in it for the snogging.          \",\n",
       "       \"       I'm happy right now. I just read Trevor's blog; he's way way too sweet. I really don't deserve like anything that he's telling me and nothing of what anyone says about me. I really have done nothing in my life worth praise. The only thing I've got to show for myself is my Girl Scouting accomplishments. I've been to Rochester, NY, Mexico and I've earned Silvere Award; I'm working on Gold. Not to mention all the various trainings I've taken and given; heck! I was training adults when I was 13 years old. That's pretty impressive, and I'll take praise for that but anything else is pretty much exaggeration. Seriously, I'm not pretty by any strech of the imagination and although I must be fairly nice in personality, I'm none too polite or curtious.          \",\n",
       "       \"       Is it me, or are you acting strange Your thoughts and dreams; re-arranged  You're trying to be someone new It's obvioulsy not the real you  Is it me, or are you ignoring me You're being someone I don't want you to be  It's like your mind isn't really there Like it drifted off somewhere  Is it me or are you not the real you You're someone else, but don't know who  Whoever you are, please come back Cause without you, I'm off track  Is it me or are you running away Was it something I did or didn't say  Your running off with someone else Leaving me with all the pain dealt  Is it me or are you acting strange I'm not sure, but you have changed         Why do people haev to change?  I mean its good to change for the good.. but i hate watching some of my best friends change for the worse!!  I know this guy!  And he was a best friend .. util i relized he was lieing about a lot!  It tore me up inside.. its someone i thought i could talk to when i needed to.. or cry to when i needed to cry!  But lil did i know.. what i knew of him was a lie!!!!  It sucks yall thinking you knew the people you could trust.. but when u find out you couldnt it sucks!!!!!  I knwo he knows i care.... but its just weird.. not knowing whether HE'S there!         \",\n",
       "       \"       June 20,2004 STANDARD LINES Which of the bold faced lies will we use? I hope that you're happy, you really deserve it, this will be best for us both in the end. But your taste still lingers on my lips like I just placed them upon yours and I starve , I starve for you. But this new diet's liquid and dulling to the senses. And it's crude but it will do. Which of the standard lines will we use? I've been meaning to call you. I've just been so busy. We'll catch up soon. Let's make a point to. But your taste still lingers on my lips like I just placed them upon yours and I starve, I starve for you. But this new diet's liquid and dulling to the senses. And it's crude but it will do. I hope it will do. link: iq145.com     \",\n",
       "       '       Labbed a different pet (Trying to get a Coconut Jubjub)         ',\n",
       "       \"       Still studying for the history test on Confederation... and still on the phone with my hubby~ Hee heezZ~! Hmm, asian girls tend to say that a lot... 'hubby'. Blah.    I am complete now that I've found you...   That's from a song I know. [I knew I loved you - Savage Garden] I need a hug right now... dunno why. Blah... oh well. Oh my gosh... I forgot to mention! The other day, a guy gave my sister a flower! It was soo cute! He likes her so yeah. Cuteness~ I was like: 'Oh my gosh! That's sooo freakin cute!' They're not together, but he has a crush on her and yeah... people... whoever's reading this, please do not say anything about it to anyone! You're not supposed to know. This is just in my blog 'cos I felt like putting it in here.   Nima. Perfect guy. Perfect guitarist. Perfect. Period. I'd write a poem about him, but I suck at poems so blah. Same with song. I used to write songs about before... like when I was all depressed and crap... but yeah.   Yeah, and all of a sudden, I thought of Pirates of the Carribeans. Hmm, I personally think that Johnny Depp looked better than Orlando Bloom in that movie. *cough*Julie*cough* Haha! Anyways.... but do you know who looks even better than Johnny Depp (whom everybody knows I think is hot)? That's right! NIMA! :) If I got to choose between going somewhere with Johnny Depp or going somewhere with Nima, I'd stick with going with Nima. 'Cos Johnny Depp's only a celebrity. Nima's a celebrity too... my personal celebrity. He's got his own little place right here. *points at own heart* ^^ Aww, don't you feel spesho? ;)   Do you know who I miss a lot, besides Nima? FELIS! I miss her so much! I wanna meet up with her! I bet she's sooo much taller than me! I'm short. Blah~ She's pretty too! Blah... and she's got better grades... blaahh! Heee hee~ Fav word: BLAH!  Wow... there I go with another blog. I seriously have NO LIFE! Oooh, I'm a NO LIFE-er. Ooh, you know what? I've already thought about what rides to go on... Let's see...  Dragon Fire Canadian Minebuster Psyclone Sledge Hammer Vortex Sky Rider Wild Beast The Fly The Bat Nightmares Jetscream  That's all I remember for now. Oh wait, and also the new Tomb Raider ride! Total coolness! ^^ But it doesn't matter what we go on... as long as I'm with Nima, it's all good! ^^ That's most important! Hee hee~ I wonder if the weather will be okay. Blah~ Gotta pray for it! ^^ I'm thinking about what to wear for Friday! Haha! Hmm it's pretty warm on Friday. Probably will wear my And One hoodie. I don't want to wear a jacket... too annoying. T-Shirt won't be warm enough anyway. Haha~   I love you ;)         \",\n",
       "       '       The day starts with me waking up at about 10:20 in the morning. This is extremely late for me, but reasonable as I was awake until about 2 earlier in the morning. I was not doing anything exciting, except play Sim City 3000. Me, in Melbourne, on a Friday night- indoors playing a computer game- that is rather sad, even by my standards. I do have an excuse (kind of) though. At 23 years of age- I still have not bothered to get my drivers licence. And I cannot be bothered riding on a train or bus for over an hour from the city to get home either. I only ever go out when one of the major city clubs come out to the suburbs to play in one of the local night spots. I recently went out to a night put on by local clubs,  urlLink Bass   urlLink Station , and the following week, Hard Kandy. Both are more hardcore dance clubs- with faster music and yeah… the kind of music you jump up and down to (and for many people- take your drugs to) I must admit- I have never done drugs of any sort out in public, but still act as if I am on them- dancing like a crazed lunatic. I only go out to clubs in Melbourne very rarely- like once or twice a year. I am not sure if this is because I have grown out of them, or because I generally cannot be bothered leaving my house to go out.   When I was living in  urlLink Brisbane , I used to go out every single weekend to this nightclub called the Beat in Fortitude Valley. I used to think it had the best music, and yeah, I would be dancing up on the tables all night long making an idiot of myself- all without alcohol or drugs. I do drink, occasionally at parties and gatherings etc, but very very rarely out at clubs- water is the drink of choice for me there. When I tried to drink alcohol at the dance club- I found I could not dance very well at all, so I decided that I would stick to water…. That and the fact it is so much cheaper as well! I went out every weekend while living in Brisbane, right up until when I moved to Melbourne- and then all of a sudden I stopped going out to clubs all together. Perhaps one day I will get out there and party on again, but I really doubt it. For a start, I would have no idea as to what to wear to a night out in Melbourne. I hate dress codes- too casual, too formal, no black….. May as well just sit at home and download some music and dance away in the lounge room…. Fun fun fun.  Today is another fantastic  urlLink sunny  Melbourne day, again above 30 degrees. It is meant to be about 37 tomorrow, I am not really looking forward to that, however the warmer night tonight should be fun. It will feel like I am back in north Queensland again…. Perhaps.  Then it is back to work on Monday. I really do not feel like going back to work after so long off on long weekends and sick leave (I had a sore throat the other week, was out of action for a whole week just before the xmas break and all).   Today I decided to go to the garage and vacuum the spider webs from the corners and ceiling of the garage. I have sprayed them all before with surface spray and bug killer- but nothing works. In any case, the garage now looks a lot neater and there are a lot less spiders in it. There were quite a few more than I was expecting, and it looked as if it was just breeding season for the spiders, the majority of which were daddy long-legs spiders. I found quite a few egg sacs, as well as lots of baby spiders. Up the vacuum they went. I have ducted vacuum, so they will remain in the bag until it is time to remove them in about a years time.   There really is nothing more to write about today- it is just another lazy Saturday afternoon…. I don’t feel like doing anything at all, so I won’t. Fantastic.  Catchyas            ',\n",
       "       \"       This morning when I got up I had a sore throat. I normally wake up with this sensation, which I normally attribute to my snoring through the night. I actually did not know that I snore through the night, until one of my flatmates in Brisbane told me so. It was then I was able to put two and two together and work out that it was my snoring that made me feel as though I had mild tonsillitis every morning when I woke up. Because of this, I decided I was good enough to go to work. And so I did.  Before I got to work though, I stopped off at Safeway to get a few essential items. Tissues, lemsip max, and Herron paracetamol. I was attracted to the area that was displaying the Lemsip max as these were a relatively new item. I have never before seen throat lozenges with anaesthetic in them before. Apparently they numb your throat and make you feel that little bit better. As it felt like my throat was on fire- I thought it was a good idea to buy some, and but some I did.  I got to work and had a couple of lozenges. They made my lips tingly, cheeks numb... but little for my throat. Though I must admit they allowed me to talk somewhat. I should not have been at work, but it was too late- I was there and really did not want to go home. Home is 2 hours away. Definitely not worth the bother at this stage.  Not too long into the morning, and a few people around me received emails from one of the managers, asking them to go to the office to talk about a chain email that was circulated late last week. A couple of people had asked me to go into the office with them to face the manager and try and help them out. If I haven't already told you yet, I am actually the union delegate for my workplace. I am getting a little conflicted in this role though, because the more I do it, the more I see that unions are actually quite weak. I have seen cases where apparently, the union was unwilling to assist its own workplace delegates when they got into trouble. This did not impress me much, and led me to think- what would they do for me if I ever needed their help? As well as this, my employer is not really that bad. Infact, I would go as far as to say the conditions there (and the salary) are as good as you would find anywhere in the public service, infact almost anywhere. It is very hard to be effective as a union delegate when you find yourself agreeing with most of what your employer is putting forward. On occasion, there have also been times where I am pro employer and anti union in regards to some of its viewpoints... example- my employer wants us to open six to seven days a week, and late night’s weekdays.... I am all for this- as I would love to sleep in everyday and come home late. This would be the perfect lifestyle for me. But the union, and some employees, are dead against it. I have never gone out on strike, and most likely never will. I think it is a waste of time and I would much rather be working than out in some rally somewhere. Strikes do not work either- the employer is better off by us going out on strike. Think of all the costs like electricity, phone calls, etc that the employer saves on by not having to pay for it because everyone is not there. On top of that- they also save on wages. I am a hypocrite, I stand as union delegate, but I am against most of what it stands for. I am contemplating not running in the delegate elections this year. Enterprise bargaining starts in a couple of months and I would rather not be involved in that process at all. Infact, I might just leave the union altogether. I am already paying the minimum rate payable just to remain financial. Come July one, I might just cancel my membership altogether. We'll see. In any case, I went in with the first of many people who were to be 'counselled' over the sending of a chain mail that promised huge amounts of money (paid by none other than Bill Gates) if they forwarded on this Microsoft related email. I got this letter from about six different people. I do not mind the occasional joke etc, but chain mails really set me off. I hate them. I hate them so much, I did the unthinkable (for a union rep!) and sent them all onto my manager. Everyone knows I loathe chain mails. They should have known better. Also, many people have recently been fired over sending naughty emails in my organisation. Mostly it was pornographic in nature, but in the aftermath, it was clearly stated that chain mails were not to be sent on our network. It could not have been more explicit. Anyway here I was going in to represent someone who is in trouble because I sent their email into the manager. So what, I am a dog, get over it. Lol. The end result was just a verbal warning and a record placed on her file for two years. Nothing too serious. After I came out of the managers’ office with this person, three other people came up to me and asked me to represent them later on through the day. I said if I was still here, I would be able to help them out.  As it turns out, by about midday I was too sick to go on. My throat was on fire. The anaesthetic lozenges were not working. I could not speak. I was feeling tired. It was time to go home.   The trip home was seamless. I get to my train station, and the train to the city pulls up immediately. I get on, and before I know it, I am in the city. Change platforms, and my connecting train is waiting to go. I get off out west, and what do you know, my bus is waiting to go as well. I could not have timed my departure from work better. I arrived home, had a wine (which turned out to be great for making my throat feel better!), and rang the tax office.  After that, I had some lunch- a salad roll with salsa chicken slices. Yummo. I think you can only get this salsa chicken from Coles, as I have not found it at Safeway yet. Anyway after that, I went and had a nap. I was very tired and sick by this time, however when I got up, I felt a bit worse than when I had gone to bed. I just love being sick. Not.   Later in the evening, I had some more red wine- which made me feel better again. I went and watched some big brother. I am glad that Merlin is up for nomination this week. He is such a sook. I cannot stand him being so non confrontational. I was upset that Ryan is not up though; I would like to get rid of him as well. As for last night’s eviction, I was surprised, but glad that Terri and Paul got to stay and extra week. They really entertain me.  I ended up staying up a bit late, but I was not too bothered- after all I am in no condition to go to work tomorrow. Mum called me briefly through the evening, and apart from that- that was my day!          \",\n",
       "       '       Today I woke up sounding like Madge from neighbours. I took the initiative to call in sick as soon as I woke up in the morning (about 9am-ish) because this is when a sick voice sounds its worst. And anyway- I really was too sick to go into work today.  I had my morning coffee and read the paper. I then watched a bit of television, sunning myself on the lounge. Before long I was bored of the television so I went outside to check up on the bulbs and just to get outside. It is very warm for this time of year. It got to 21 both yesterday and today. It will not last for long though, I am sure it will get very chilly in the near future as winter draws on. Actually just on the news- today was the warmest June day in 3 years. So there you go! It was very nice to be outside today actually. Nice blue skies, the sun was not harsh at all, and a nice dry northerly wind. Also today for the first time since I can remember, I smelt the smell of cut grass. Someone nearby was mowing their lawn, and it was a very nice smell. One of these days I should get around to mowing my own lawn here. But I really cannot be bothered and I think it will all die off again anyway by the time summer comes around.   After sitting outside for a bit, I had a nice warm bath. I must have been in there for an hour because I had to top up the bath with hot water a couple of times and quite a few songs played on my cd that I had set up in the bathroom as well. I felt refreshed after the bath, but still sick, with a stuffy nose and all that crap.  I was watching some more television, when I remembered that the transit of Venus is actually on today. I went outside to look at it, but as predicted, the glare of the sun was too bright to look at it directly. I tried to be tricky and tried to use a CD to reflect the sunlight onto a window so I can look at the reflection and hopefully see Venus that way. It did not work. I then went onto the internet to check out the live web cams that were being set up by the CSIRO. I looked it up, only to find it was cloudy in Canberra today. How inconvenient. I then went into some overseas sites and checked out the live web cam on those. I then had a thought- that perhaps a channel had been dedicated to this event on sky news. I was right, there was a channel showing the transit of Venus live. Although, in its news active mode- the screen is really really tiny, only a third of the total television screen space. What a waste. I will complain about that one day when I can be bothered to do so. Anyway I watched a bit of that, only to be disappointed that it was just a loop of the same commentary going over and over again. Not very nice, but still interesting all the same.   I got a SMS from Connex later on in the day telling me that my connecting train home was cancelled today. I am very glad that I did not go to work today. This is a bit of a weird co-incidence as well. The two times that one of my trains that I take have been cancelled- have been on days where I was sick and unable to go to work anyway. I suppose that’s kind of a good thing. It is not so good though for those people who catch a bus that connects with that train at Laverton. Buses stop operating very early here (at about 7-ish). I will have to send in a letter and complain about that as well one day.  I do not think I will be going to work tomorrow. My throat is still sore and my nose is just too runny. I will not bother going to the doctors either, as I have not been asked to by work and I think they know anyway that I am rather unwell by my phone call earlier today where I did that Madge impersonation.   I am very annoyed that the bill is not going to be on TV tonight. Instead there will be some silly ballet on the ABC. I suppose one good thing about this is that I will be able to watch the final episode of there’s something about Miriam tonight. Then I will watch her go into the big brother house on Friday. That will be interesting- especially as all the guys in there seem to be somewhat homophobic. I wonder what they will do when they find out she is a man. What if one of them falls for her? All for interesting viewing!  One other thing that I have been doing today is searching for a new ISP. Apparently broadband is now available in this area in a format other than satellite. I was very pleased to discover that prices have plummeted lately. 35 gigabytes for only $120 per month in some cases, and all that at 1500/512 speeds. Very impressive. I will have a bit more of a look around to see what’s available and yeah, hopefully I will be hooked up in less than a couple of months.  Nothing else for today  Catchyas!         ',\n",
       "       \"       Today was a long, boring day.  I think the reason the day felt so long and boring was because Shawn works from early morning till late evening. I have probably said this before, but I strongly dislike being alone for long periods of time. I guess it's something I picked up from being in jail for 3 weeks and a night. The reason I went to jail was because of false charges brought against me by my a**hole ex-boyfriend.  I can't wait till the 14th because thats when Food Stamps come again. I am getting tired of eating creamed corn :O(  I will have to buy a variety of foods next time so that I won't be stuck with just one thing to eat when I have to wait on Food Stamps again. Of Course, I will have to curb my eating habits so that I don't eat so much :O)  My smoking is under control. I am cutting myself down to 3 cigarettes a day. I feel that after a while on this regimen I can then totally cut cigarettes out of my life. I need to quit smoking, but I have such an addictive personality :O(  My teeth are starting to act up again. I plan on maybe stopping in to see a dentist on Monday. I think it is just a cavity. I hope that thats all it is :O( I should mention this to Shawn, but I probably won't because then he will make me go see a dentist.  Well, thats all for today...     \",\n",
       "       '       Well today is the last day I will be at my parents’ house for quite some time. I am undecided as to when I will be coming back here again. I was thinking I should come up for Christmas- as I have been given that week off work as holiday leave. However, I think it would be way too hot for me to come up at that time of year- in the middle of summer. It was even a bit hot for me to come up this time around- and it is the end of Autumn/beginning of winter! Oh well I will decide something sooner or later. The other option is to come up next August. My partner however in the meantime wants us to go to Bali for a week or so, or somewhere else overseas.   The prices for an overseas holiday are comparable to that of a domestic holiday, so going to either destination is not a problem financially. Perhaps I will go to both- that is, go overseas, and then come up to see my parents in August. I was kind of planning on going somewhere during December anyway in Victoria- provided it is nice and warm- or even to Tasmania. I discovered a tourist brochure for the Spirit of Tasmania, and they were offering 7day holidays, including travel (in which you can take your car for free!) for just over $100. That is an absolute bargain! I will definitely have to go there one of these days as well.   Before that as well, I also have the week of the Melbourne Cup and the Spring Racing Carnival off as holiday leave as well. I am not sure if I will go to the races, or go somewhere in Victoria either. We will see how we go with that. Another factor in all of this as well is that I have an outstanding tax office debt of around $7000- so we’ll see how much they demand to take from my salary each fortnight before I make any further plans about holidays and all that.  Anyway, today I got up at 6:30- and it was nice and sunny again. And as my first day up here, the first thing I felt when I got up was a nice warm breeze blowing over me. I will certainly miss that when I get to Victoria. We never get nice, warm moist winds down there…. Only hot and dry.  I got to the bus stop just before 10am. We got there by taxi. There is something to be said for the lack of hygiene amongst taxi drivers in general (well the ones that I have encountered anyway!), but this one- oh my god…. Let’s just say I was glad to get out of the cab! Anyway at the bus stop I thought I saw someone I went to school with. I did not say hello though. I am a bit silly about things like that. If I am not 100% sure that someone is who I think they are- I will not go up to them at all- for fear of getting it wrong and making a complete idiot of myself. Anyway next time I am up there I will go around town and make sure I say hello. By the way, I am still not 100% sure who that girl was that was talking to me in the shops the other day!  The bus came early, and we got on. I do not mind long bus trips like this, but my mother seems to. We pulled into Airlie Beach and picked up some passengers. It was really nice there- and I was looking at the tourists everywhere along the street. I think it would be cool to just get away by myself for a holiday one of these days. I do not think it would happen though. I would not be able to stay away from my partner for too long (missable!) and I could not come up here for a trip by myself anyway- as my family would want me to come up and visit them as well (and I would want to stay there as well- hey free accommodation!) \\uf04a  After that, we continued our journey south. I read a book that mum had given- Crossing Over by John Edward. It was an interesting read- however I found it to be very similar to watching the television show in parts. I actually do believe in the things he writes about. Call me crazy, but sometimes I do feel as though the presence of those departed are around me. Also, at funerals- I never feel upset. I usually (well ALWAYS) get the feeling that the spirit of the deceased is around me, and that they are very much happier where they are. So I am the one trying to hide my smile when everyone else is upset. I do feel it is inappropriate that I feel strangely happy at funerals for those that die- but the way I see it- they are no longer suffering on earth anymore, and they are much happier where they are now. I don’t think many people understand the way I think about these things- and I know I have offended many as well. But hey- each to their own- I respect the thoughts of others on this matter, and thankfully, most respect mine as well.  Back to the bus trip! We stopped for lunch at some place called Koumala. I wondered if this was some sort of Greek name or is this meant something naughty in another language… probably not I imagined… Koumala is really just a roadhouse with really expensive food in it. I ended up just getting some more lollies to eat. I was not going to pay excessive amounts of money for something that was likely to taste crap.  Back on the bus again, and we passed through some more really really small towns. The landscape did not change much once we passed through Sarina and left the sugar cane country. Near sunset I looked out the window and saw a couple of wild kangaroos. Some of the backpackers on the bus were a bit excited about that!  Then finally, at about 6:15, we pulled into Rockhampton. It was still really warm there, probably mid 20’s. I went to get some milk from Doblos- a local independent retailer. I had wanted to go there because during summer, I saw on  a current affairs show (Today Tonight) that they were offering fuel vouchers (save 10c off per litre) to anyone who bought over $30 worth of goods from their stores. It made the news show because the local Safeway (locally known as Woolworths here) was matching it. (Everywhere else in Australia the discount is 4c per litre). Anyway I was disappointed to learn that the discount here was now only 6cper litre, and only able to be used at local petrol stations. Oh well, next time.  From there we went and visited one of my cousins and had dinner. I don’t know what it is about Queenslanders- but they seem to make interesting interpretations of all sorts of food. This time it was Lemon Chicken, but not how I am used to it in Melbourne. The lemon sauce here seemed to be creamy in texture and looks, and taste. This was something a bit unusual for me, as I am used to the lemon sauce being transparent, and a yellow colour. The rice was much starchier than I am used to as well. I should not bitch about this though, as I used to make food like this as well while I was still living up here. Anyway, because I was so hungry, I had 2 servings.   After that, it was off to my grandparents (otherwise known as ‘the farm’.) I suppose I cannot really call it my grandparents, as my grandfather (on mothers side of the family) died over 7 years ago, and my grandmother lives here with 4 of her sons (my uncles)- who have never permanently moved away (that I am aware of at least!). So I think I will just call it the farm from now onwards.   On the way out, I was absolutely amazed by all the stars I could see in the sky. I had thought I could see a lot of stars from the Western suburbs- but it is nothing compared to what you can see from this part of the world. There was no moon in the sky at all, yet the sky seemed to have a whitish tinge to it- not absolutely black. I could clearly see the milky way- beautiful in its appearance. I thought I could even see the comet that is visiting our skies at the moment! By the time we reached the farm though (just after 10:30pm), I did not wish to go sky gazing anymore. I just wanted to go to bed.   I went straight to bed- without even having a shower or washing my hair. I never do this, especially when my hair has freeze gel through it (and has had it in there all day!) But I was just too tired. Just after 11pm- I closed my eyes and went to sleep.          ',\n",
       "       \"       haha... ok... i need to whine a little bit... damn it... school has become such a drag!!! argh! so very tiring, i am just dragging my ass around school the whole day lah! wah lau... crap... and... well... today's chinese oral didn't exactly go my way either lah! GRR!!! reading, had stumbles... conversation had pauses which i knew i could have done without but darn nervousness simply killed me there... damn it... oh well... that's gone anyway...  Another thing that's pissing me off in school? can you guess? it's actually the animosity between Michelle Lim and me lah... i mean... it's not like i offended her or anything loh... but than... i don't like the look she gives me... wah lau... if not for the fact that i treat her as a friend ah, and the fact that she's a girl, not to mention that i am the class rep... i don't know lah... i wouldn't be so composed... or... of course, perhaps i am simply being paranoid... i don't know... but... in reality, i wish that if anyone has a problem with me, just simply bring it up to me... i hate it when people are being hypocrites... damn it! yup... that's what all that i want to whine about right now... except...  MY BACK!!! it's certainly getting better... but... heck, i really wish that it was completely healed already! Anyway, it doesn't matter, i think i am still going to go for basketball training tomorrow. I simply can't afford to miss trainings again. Haha... okok... but... if i really cannot   tahan   tomorrow, i'll just stop and tell the coach. Yup... but... i am of course crossing my fingers and praying that i would be fine lah!  hmm... what else is there to update? i don't think there is much liao. Except that i have not been doing my stupid holiday homework so they have all come back to haunt me! ARGH!!! haha... nevertheless, i must remain upbeat... and... continue... Living Life To The Fullest! :p         \",\n",
       "       '       hmm.  went nowhere saturday. went library sunday. UM was having convo. It was a terharu moment for me to see those kids graduating and soon..HA! they will suffer from the things WE old ppl are suffering NOW... boleh la senyum2 now..dpt bunga..parents dtg with a bus of relatives to see u in that robe and getting that gulung of sijil...see few months down the road how...  forced meself to go library sunday morning to catch up on my studies for upcoming test. it was a definite hard time to read and  remember . hahaha...but i sure hope i manage-lah!  we cooked for the first farking time since we moved to pj.to that house, specifically. the first time a. use minyak masak b. use the kuali for something than cooking maggi c. cook rice hmm. my mother would have been proud of.. ladee. i was there to wash the dishes jerr..  linda is back in. i am dissapointed. thot zarina would. finally, mas is out...but the last concert wasnt as fun. the songs i suppose.. misha omar was..err...obviously flirting with zahid..hehehe... good for her.. bawak cekodok summore.  all in all, i hate to see the weekend go. my week has started. *groans* another five days of torture...     ',\n",
       "       \"       http://www.americanaccent.com/ Examples American Sound                  Regular Spelling  Kwee geddit?                    Can we get it?  Sko!                            Let's go!  Jeet?No, joo?                   Did you eat? No, did you?  Jläik smore?                    Would you like some more?  I shüda tol joo.                I should have told you.  Ledder gedda bedder wädr heedr. Let her get a better water                                        heater.  How to wreck a nice beach.      How to recognize speech.  Hole däna sek'nt!               Hold on a second!  Hæoja ly kuh liddul more?       How would you like a little more?  They doe neev'n lye kit.        They don't even like it      \",\n",
       "       \"       if ur happy and u know it, spank a squirrel, if ur happy and u knw it spank a squirrel, if ur happy and u know and u really wanna show it, spank a squirrel...i have no idea where this squirrel obsession came from, it all started w/the lack of squirrel poop...just one of those thangs i guess...  i am almost decided on sumthin, but will i actually do it?  i think i shall... i'll keep u all posted...bye sexy biatches...         \",\n",
       "       \"       ok so this is when sam is listening in on gandalf and frodo.   As I trimed the grass the conversation became more interesting. Without noticing i quit cutting the grass. Teh conversation stoped 'Yes to Mordor' I heared Gandalf say with a continuce of shadowey words here and there. I could not catch them all. Dark Power, Ring, whispering, adn so forth. Frodo questiong what he was to do, and Deserving it? Ducked below the widowI finally got in something that was what i was looking for. THere was a talk of him not going alone an d Mr Underhill, and a companion.OUt of nowwhere cam an arm, i dashed but it had my ear. Gandalf. Well well bless my beared ,he said, now what may yjou be doing?            \",\n",
       "       \"       okai well today was kinda okai.....i spose.. wel i was in a really good mood and then ian pissed me off. hes really changed lately.. i know he dont like me but oh well ill get over it.And omgggg i handed in my child development course work..... and miss hemmings said.. 'well done natalie it was worth waiting for' YAY! thats the first time iv ever seen that womman say anything posative!!! god dam her lol! At this very moment in time im sitting here in the most oldest mankyest clothes iv got with a hairdryer a towel and all my make up sprawled all around me, obviously im gettin ready to go out! he he ...... just goin to toms which shud be kewl bless! ohh found out sum juicy gossip todai though! bout a grl in my class! she looks reali innocent on the outside but ohhhhh god how rong is that! shes a proper dark horse!!!!!! apparently she almost got pregnant but i wont go in to that hehe ! neways best be off ........ still got and album of slipknot to get to and a hole head of hair to be str8nd! l8rz xxxxxx         \",\n",
       "       \"       so im sitting at carol's house with her and katie and i just made pasta for us all. me and katie are having a garlic salt butter sauce i made.....carol is having out of the can sauce. she just doesnt appreciate my cooking...you think she would. i was the one that cooked while we were going out, lol. we're having oh so much fun, we played girl talk and twister. i won at girl talk...that says a lot. ok, i gotta go, carol and katie are getting restless. hope the rest of the day goes as well as the first part.         \",\n",
       "       \"       so this morning i didn't go to bed 'till 3am. i was up all night talking to katie on the phone. it was fun. we just sat and talked about pretty much EVERYTHING. we played the question game for like an hour and a half. then i slept for 3 hours, and got up for school. i was so freakin tired in 2nd hour (stage lit.) and i had to read. my partner knew right away, he saw me come in and was like 'i saw you come in the room and i knew you were dead.' it was funny. so yea, i read and actually did a good job. but the rest of the day i was like on the verge of passing out in all my classes. oh well, im about to go see dawn of the dead. during and after park singers i just get so freakin annoyed. i hate that class and the rest so much. grrrr! :-p oh well         \",\n",
       "       '       yoyoyo! me nv come online yesterday lor, improvement leh hahaz.. we have been studying very hard for o lvls lor.. but i only plan to study sec 4 and 3a only lor... hahaz.. hope the rest wun come out.. hmmz if i got 10 marks for tian xie han zi and 15 marks for zao jue, i tink i get A1 liao lor.. hahaz! me yesterday go library hahaz.. today me stay back until 5 oclock do my chinese yin yong wen.. actually i wanna stay on de lor, if not for both of my pens running out of ink! sianz! me go home time, wait for traffic light to turn, me look into skool and saw her playing netball.. wow, so cute, simply melts my heart.. i wish the traffic light would not turn green lor, so i can look at her forever.. now me slacking online, feel quite bad lor.. later must compensate by studying doubly hard!but actually it is an improvement lor, me always tml exam, today study one... but today i started 5 days earlier lor hahaz~!         ',\n",
       "       '   Will post more details soon...    ',\n",
       "       '   Will post more details soon...    ',\n",
       "       '   Will post more details soon...     ',\n",
       "       '   Will post more details soon...     ',\n",
       "       '   Will post more details soon...     ',\n",
       "       '   Will post more details soon...     ',\n",
       "       '   Will post more details soon...     ',\n",
       "       '   Will post more details soon...      ',\n",
       "       '   Will post more details soon...      '], dtype=object)"
      ]
     },
     "execution_count": 17,
     "metadata": {},
     "output_type": "execute_result"
    }
   ],
   "source": [
    "np.sort(df2.loc[df2[[\"id\",\"text\"]].duplicated(),\"text\"].values) # duplicate texts review"
   ]
  },
  {
   "cell_type": "markdown",
   "metadata": {
    "id": "9zdHL2kqcFDB"
   },
   "source": [
    "the 2434 duplicate records of the complete dataset needs to be droppped without further considerations\n",
    "the rest of the dupliates needs to be retained as the blogger might have share same expressions in a later date\n",
    "\n",
    "the text needs to be filtered for blank space texts"
   ]
  },
  {
   "cell_type": "code",
   "execution_count": 18,
   "metadata": {
    "id": "__pCz9AAc8TE"
   },
   "outputs": [],
   "source": [
    "# drop all-duplicates\n",
    "df1.drop(df1.loc[df1.duplicated()].index,inplace=True)"
   ]
  },
  {
   "cell_type": "markdown",
   "metadata": {
    "id": "NLLwhYtIdLfY"
   },
   "source": [
    "Eliminate Non-English textual data"
   ]
  },
  {
   "cell_type": "code",
   "execution_count": 19,
   "metadata": {
    "colab": {
     "base_uri": "https://localhost:8080/"
    },
    "id": "waXNmtgud70P",
    "outputId": "eee24119-21be-45be-bdf6-992da2d5662e"
   },
   "outputs": [
    {
     "name": "stdout",
     "output_type": "stream",
     "text": [
      "Looking in indexes: https://pypi.org/simple, https://us-python.pkg.dev/colab-wheels/public/simple/\n",
      "Collecting langdetect\n",
      "  Downloading langdetect-1.0.9.tar.gz (981 kB)\n",
      "\u001b[K     |████████████████████████████████| 981 kB 33.0 MB/s \n",
      "\u001b[?25hRequirement already satisfied: six in /usr/local/lib/python3.7/dist-packages (from langdetect) (1.15.0)\n",
      "Building wheels for collected packages: langdetect\n",
      "  Building wheel for langdetect (setup.py) ... \u001b[?25l\u001b[?25hdone\n",
      "  Created wheel for langdetect: filename=langdetect-1.0.9-py3-none-any.whl size=993241 sha256=c52dde2afd503243e18fa00c533844a141bcad309c1e73da27c4828448b97f7d\n",
      "  Stored in directory: /root/.cache/pip/wheels/c5/96/8a/f90c59ed25d75e50a8c10a1b1c2d4c402e4dacfa87f3aff36a\n",
      "Successfully built langdetect\n",
      "Installing collected packages: langdetect\n",
      "Successfully installed langdetect-1.0.9\n"
     ]
    }
   ],
   "source": [
    "pip install langdetect"
   ]
  },
  {
   "cell_type": "code",
   "execution_count": 20,
   "metadata": {
    "id": "uR1EsNBid_PV"
   },
   "outputs": [],
   "source": [
    "from langdetect import detect\n",
    "\n",
    "def detect_english(text):\n",
    "  try:\n",
    "      return detect(text) == 'en'\n",
    "  except:\n",
    "      return False"
   ]
  },
  {
   "cell_type": "code",
   "execution_count": 21,
   "metadata": {
    "id": "58EODMeXeLoB"
   },
   "outputs": [],
   "source": [
    "df3 =df1.copy()\n",
    "df3 = df3[df3['text'].apply(detect_english)]"
   ]
  },
  {
   "cell_type": "code",
   "execution_count": 22,
   "metadata": {
    "colab": {
     "base_uri": "https://localhost:8080/",
     "height": 206
    },
    "id": "5eCigt35dQpK",
    "outputId": "eed96c25-f3e5-48ee-d27a-133cab919e0d"
   },
   "outputs": [
    {
     "data": {
      "text/html": [
       "\n",
       "  <div id=\"df-ccd963eb-cb46-4e2d-a307-64dbbf0f587f\">\n",
       "    <div class=\"colab-df-container\">\n",
       "      <div>\n",
       "<style scoped>\n",
       "    .dataframe tbody tr th:only-of-type {\n",
       "        vertical-align: middle;\n",
       "    }\n",
       "\n",
       "    .dataframe tbody tr th {\n",
       "        vertical-align: top;\n",
       "    }\n",
       "\n",
       "    .dataframe thead th {\n",
       "        text-align: right;\n",
       "    }\n",
       "</style>\n",
       "<table border=\"1\" class=\"dataframe\">\n",
       "  <thead>\n",
       "    <tr style=\"text-align: right;\">\n",
       "      <th></th>\n",
       "      <th>id</th>\n",
       "      <th>gender</th>\n",
       "      <th>age</th>\n",
       "      <th>topic</th>\n",
       "      <th>sign</th>\n",
       "      <th>date</th>\n",
       "      <th>text</th>\n",
       "    </tr>\n",
       "  </thead>\n",
       "  <tbody>\n",
       "    <tr>\n",
       "      <th>0</th>\n",
       "      <td>2059027</td>\n",
       "      <td>male</td>\n",
       "      <td>15</td>\n",
       "      <td>Student</td>\n",
       "      <td>Leo</td>\n",
       "      <td>14,May,2004</td>\n",
       "      <td>Info has been found (+/- 100 pages,...</td>\n",
       "    </tr>\n",
       "    <tr>\n",
       "      <th>2</th>\n",
       "      <td>2059027</td>\n",
       "      <td>male</td>\n",
       "      <td>15</td>\n",
       "      <td>Student</td>\n",
       "      <td>Leo</td>\n",
       "      <td>12,May,2004</td>\n",
       "      <td>In het kader van kernfusie op aarde...</td>\n",
       "    </tr>\n",
       "    <tr>\n",
       "      <th>3</th>\n",
       "      <td>2059027</td>\n",
       "      <td>male</td>\n",
       "      <td>15</td>\n",
       "      <td>Student</td>\n",
       "      <td>Leo</td>\n",
       "      <td>12,May,2004</td>\n",
       "      <td>testing!!!  testing!!!</td>\n",
       "    </tr>\n",
       "    <tr>\n",
       "      <th>4</th>\n",
       "      <td>3581210</td>\n",
       "      <td>male</td>\n",
       "      <td>33</td>\n",
       "      <td>InvestmentBanking</td>\n",
       "      <td>Aquarius</td>\n",
       "      <td>11,June,2004</td>\n",
       "      <td>Thanks to Yahoo!'s Toolbar I can ...</td>\n",
       "    </tr>\n",
       "    <tr>\n",
       "      <th>5</th>\n",
       "      <td>3581210</td>\n",
       "      <td>male</td>\n",
       "      <td>33</td>\n",
       "      <td>InvestmentBanking</td>\n",
       "      <td>Aquarius</td>\n",
       "      <td>10,June,2004</td>\n",
       "      <td>I had an interesting conversation...</td>\n",
       "    </tr>\n",
       "  </tbody>\n",
       "</table>\n",
       "</div>\n",
       "      <button class=\"colab-df-convert\" onclick=\"convertToInteractive('df-ccd963eb-cb46-4e2d-a307-64dbbf0f587f')\"\n",
       "              title=\"Convert this dataframe to an interactive table.\"\n",
       "              style=\"display:none;\">\n",
       "        \n",
       "  <svg xmlns=\"http://www.w3.org/2000/svg\" height=\"24px\"viewBox=\"0 0 24 24\"\n",
       "       width=\"24px\">\n",
       "    <path d=\"M0 0h24v24H0V0z\" fill=\"none\"/>\n",
       "    <path d=\"M18.56 5.44l.94 2.06.94-2.06 2.06-.94-2.06-.94-.94-2.06-.94 2.06-2.06.94zm-11 1L8.5 8.5l.94-2.06 2.06-.94-2.06-.94L8.5 2.5l-.94 2.06-2.06.94zm10 10l.94 2.06.94-2.06 2.06-.94-2.06-.94-.94-2.06-.94 2.06-2.06.94z\"/><path d=\"M17.41 7.96l-1.37-1.37c-.4-.4-.92-.59-1.43-.59-.52 0-1.04.2-1.43.59L10.3 9.45l-7.72 7.72c-.78.78-.78 2.05 0 2.83L4 21.41c.39.39.9.59 1.41.59.51 0 1.02-.2 1.41-.59l7.78-7.78 2.81-2.81c.8-.78.8-2.07 0-2.86zM5.41 20L4 18.59l7.72-7.72 1.47 1.35L5.41 20z\"/>\n",
       "  </svg>\n",
       "      </button>\n",
       "      \n",
       "  <style>\n",
       "    .colab-df-container {\n",
       "      display:flex;\n",
       "      flex-wrap:wrap;\n",
       "      gap: 12px;\n",
       "    }\n",
       "\n",
       "    .colab-df-convert {\n",
       "      background-color: #E8F0FE;\n",
       "      border: none;\n",
       "      border-radius: 50%;\n",
       "      cursor: pointer;\n",
       "      display: none;\n",
       "      fill: #1967D2;\n",
       "      height: 32px;\n",
       "      padding: 0 0 0 0;\n",
       "      width: 32px;\n",
       "    }\n",
       "\n",
       "    .colab-df-convert:hover {\n",
       "      background-color: #E2EBFA;\n",
       "      box-shadow: 0px 1px 2px rgba(60, 64, 67, 0.3), 0px 1px 3px 1px rgba(60, 64, 67, 0.15);\n",
       "      fill: #174EA6;\n",
       "    }\n",
       "\n",
       "    [theme=dark] .colab-df-convert {\n",
       "      background-color: #3B4455;\n",
       "      fill: #D2E3FC;\n",
       "    }\n",
       "\n",
       "    [theme=dark] .colab-df-convert:hover {\n",
       "      background-color: #434B5C;\n",
       "      box-shadow: 0px 1px 3px 1px rgba(0, 0, 0, 0.15);\n",
       "      filter: drop-shadow(0px 1px 2px rgba(0, 0, 0, 0.3));\n",
       "      fill: #FFFFFF;\n",
       "    }\n",
       "  </style>\n",
       "\n",
       "      <script>\n",
       "        const buttonEl =\n",
       "          document.querySelector('#df-ccd963eb-cb46-4e2d-a307-64dbbf0f587f button.colab-df-convert');\n",
       "        buttonEl.style.display =\n",
       "          google.colab.kernel.accessAllowed ? 'block' : 'none';\n",
       "\n",
       "        async function convertToInteractive(key) {\n",
       "          const element = document.querySelector('#df-ccd963eb-cb46-4e2d-a307-64dbbf0f587f');\n",
       "          const dataTable =\n",
       "            await google.colab.kernel.invokeFunction('convertToInteractive',\n",
       "                                                     [key], {});\n",
       "          if (!dataTable) return;\n",
       "\n",
       "          const docLinkHtml = 'Like what you see? Visit the ' +\n",
       "            '<a target=\"_blank\" href=https://colab.research.google.com/notebooks/data_table.ipynb>data table notebook</a>'\n",
       "            + ' to learn more about interactive tables.';\n",
       "          element.innerHTML = '';\n",
       "          dataTable['output_type'] = 'display_data';\n",
       "          await google.colab.output.renderOutput(dataTable, element);\n",
       "          const docLink = document.createElement('div');\n",
       "          docLink.innerHTML = docLinkHtml;\n",
       "          element.appendChild(docLink);\n",
       "        }\n",
       "      </script>\n",
       "    </div>\n",
       "  </div>\n",
       "  "
      ],
      "text/plain": [
       "        id gender  age              topic      sign          date  \\\n",
       "0  2059027   male   15            Student       Leo   14,May,2004   \n",
       "2  2059027   male   15            Student       Leo   12,May,2004   \n",
       "3  2059027   male   15            Student       Leo   12,May,2004   \n",
       "4  3581210   male   33  InvestmentBanking  Aquarius  11,June,2004   \n",
       "5  3581210   male   33  InvestmentBanking  Aquarius  10,June,2004   \n",
       "\n",
       "                                                text  \n",
       "0             Info has been found (+/- 100 pages,...  \n",
       "2             In het kader van kernfusie op aarde...  \n",
       "3                   testing!!!  testing!!!            \n",
       "4               Thanks to Yahoo!'s Toolbar I can ...  \n",
       "5               I had an interesting conversation...  "
      ]
     },
     "execution_count": 22,
     "metadata": {},
     "output_type": "execute_result"
    }
   ],
   "source": [
    "df3.head()"
   ]
  },
  {
   "cell_type": "code",
   "execution_count": 23,
   "metadata": {
    "colab": {
     "base_uri": "https://localhost:8080/"
    },
    "id": "D0ceJJBXd-Nt",
    "outputId": "623cf90b-f652-4c8f-c9ae-9b3540b72c1d"
   },
   "outputs": [
    {
     "data": {
      "text/plain": [
       "(95013, 7)"
      ]
     },
     "execution_count": 23,
     "metadata": {},
     "output_type": "execute_result"
    }
   ],
   "source": [
    "df3.shape"
   ]
  },
  {
   "cell_type": "markdown",
   "metadata": {
    "id": "8JzXqkmyhuoL"
   },
   "source": [
    "**Preprocess unstructured data to make it consumable for model training.**\n",
    "\n",
    "A. Eliminate All special Characters and Numbers\n",
    "\n",
    "B. Lowercase all textual data\n",
    "\n",
    "C. Remove all Stopwords \n",
    "\n",
    "D. Remove all extra white spaces"
   ]
  },
  {
   "cell_type": "code",
   "execution_count": 24,
   "metadata": {
    "colab": {
     "base_uri": "https://localhost:8080/"
    },
    "id": "MVqvnPNUUY1U",
    "outputId": "7c4877ad-0ab0-4b48-a7b4-4377300d14c8"
   },
   "outputs": [
    {
     "name": "stdout",
     "output_type": "stream",
     "text": [
      "gender : ['female' 'male']\n",
      "age : [13 14 15 16 17 23 24 25 26 27 33 34 35 36 37 38 39 40 41 42 43 44 45 46\n",
      " 47 48]\n",
      "topic : ['Accounting' 'Advertising' 'Agriculture' 'Architecture' 'Arts'\n",
      " 'Automotive' 'Banking' 'Biotech' 'BusinessServices' 'Chemicals'\n",
      " 'Communications-Media' 'Construction' 'Consulting' 'Education'\n",
      " 'Engineering' 'Environment' 'Fashion' 'Government' 'HumanResources'\n",
      " 'Internet' 'InvestmentBanking' 'Law' 'LawEnforcement-Security'\n",
      " 'Manufacturing' 'Maritime' 'Marketing' 'Military' 'Museums-Libraries'\n",
      " 'Non-Profit' 'Publishing' 'RealEstate' 'Religion' 'Science'\n",
      " 'Sports-Recreation' 'Student' 'Technology' 'Telecommunications' 'Tourism'\n",
      " 'Transportation' 'indUnk']\n",
      "sign : ['Aquarius' 'Aries' 'Cancer' 'Capricorn' 'Gemini' 'Leo' 'Libra' 'Pisces'\n",
      " 'Sagittarius' 'Scorpio' 'Taurus' 'Virgo']\n"
     ]
    }
   ],
   "source": [
    "# review all other unique values\n",
    "for col in [\"gender\",\"age\",\"topic\",\"sign\"]:\n",
    "    print(col,\":\",np.sort(df3[col].unique()))"
   ]
  },
  {
   "cell_type": "code",
   "execution_count": 25,
   "metadata": {
    "colab": {
     "base_uri": "https://localhost:8080/"
    },
    "id": "gsrnlPvFUbqU",
    "outputId": "881fce58-d264-4f5d-ffb7-44942c44a0e1"
   },
   "outputs": [
    {
     "data": {
      "text/plain": [
       "31362"
      ]
     },
     "execution_count": 25,
     "metadata": {},
     "output_type": "execute_result"
    }
   ],
   "source": [
    "# number of records with IndustryUnknown\n",
    "len(df3.loc[df3[\"topic\"]==\"indUnk\"])"
   ]
  },
  {
   "cell_type": "code",
   "execution_count": 26,
   "metadata": {
    "id": "RKB3BO5hUfhc"
   },
   "outputs": [],
   "source": [
    "# drop all-duplicates\n",
    "df3.drop(df3.loc[df3.duplicated()].index,inplace=True)\n",
    "# drop indUnk\n",
    "df3.drop(df3.loc[df[\"topic\"]==\"indUnk\"].index,inplace=True)\n",
    "# drop any blank text records\n",
    "df3.drop(df3.loc[df[\"text\"]==''].index,inplace=True)"
   ]
  },
  {
   "cell_type": "code",
   "execution_count": 27,
   "metadata": {
    "colab": {
     "base_uri": "https://localhost:8080/"
    },
    "id": "SD9HKrIkUijz",
    "outputId": "68624358-03c3-47ee-e1d6-904646e301c4"
   },
   "outputs": [
    {
     "data": {
      "text/plain": [
       "(63651, 7)"
      ]
     },
     "execution_count": 27,
     "metadata": {},
     "output_type": "execute_result"
    }
   ],
   "source": [
    "# review output shape\n",
    "df3.shape"
   ]
  },
  {
   "cell_type": "code",
   "execution_count": 28,
   "metadata": {
    "colab": {
     "base_uri": "https://localhost:8080/",
     "height": 206
    },
    "id": "wyncZUfkigyE",
    "outputId": "184411ba-df91-49ac-8813-7db9b3aff887"
   },
   "outputs": [
    {
     "data": {
      "text/html": [
       "\n",
       "  <div id=\"df-6004ed12-2365-4910-a1d1-5b06c5e3f033\">\n",
       "    <div class=\"colab-df-container\">\n",
       "      <div>\n",
       "<style scoped>\n",
       "    .dataframe tbody tr th:only-of-type {\n",
       "        vertical-align: middle;\n",
       "    }\n",
       "\n",
       "    .dataframe tbody tr th {\n",
       "        vertical-align: top;\n",
       "    }\n",
       "\n",
       "    .dataframe thead th {\n",
       "        text-align: right;\n",
       "    }\n",
       "</style>\n",
       "<table border=\"1\" class=\"dataframe\">\n",
       "  <thead>\n",
       "    <tr style=\"text-align: right;\">\n",
       "      <th></th>\n",
       "      <th>id</th>\n",
       "      <th>gender</th>\n",
       "      <th>age</th>\n",
       "      <th>topic</th>\n",
       "      <th>sign</th>\n",
       "      <th>date</th>\n",
       "      <th>text</th>\n",
       "    </tr>\n",
       "  </thead>\n",
       "  <tbody>\n",
       "    <tr>\n",
       "      <th>0</th>\n",
       "      <td>2059027</td>\n",
       "      <td>male</td>\n",
       "      <td>15</td>\n",
       "      <td>Student</td>\n",
       "      <td>Leo</td>\n",
       "      <td>14,May,2004</td>\n",
       "      <td>info has been found (+/- 100 pages, and 4.5 mb...</td>\n",
       "    </tr>\n",
       "    <tr>\n",
       "      <th>2</th>\n",
       "      <td>2059027</td>\n",
       "      <td>male</td>\n",
       "      <td>15</td>\n",
       "      <td>Student</td>\n",
       "      <td>Leo</td>\n",
       "      <td>12,May,2004</td>\n",
       "      <td>in het kader van kernfusie op aarde:  maak je ...</td>\n",
       "    </tr>\n",
       "    <tr>\n",
       "      <th>3</th>\n",
       "      <td>2059027</td>\n",
       "      <td>male</td>\n",
       "      <td>15</td>\n",
       "      <td>Student</td>\n",
       "      <td>Leo</td>\n",
       "      <td>12,May,2004</td>\n",
       "      <td>testing!!!  testing!!!</td>\n",
       "    </tr>\n",
       "    <tr>\n",
       "      <th>4</th>\n",
       "      <td>3581210</td>\n",
       "      <td>male</td>\n",
       "      <td>33</td>\n",
       "      <td>InvestmentBanking</td>\n",
       "      <td>Aquarius</td>\n",
       "      <td>11,June,2004</td>\n",
       "      <td>thanks to yahoo!'s toolbar i can now 'capture'...</td>\n",
       "    </tr>\n",
       "    <tr>\n",
       "      <th>5</th>\n",
       "      <td>3581210</td>\n",
       "      <td>male</td>\n",
       "      <td>33</td>\n",
       "      <td>InvestmentBanking</td>\n",
       "      <td>Aquarius</td>\n",
       "      <td>10,June,2004</td>\n",
       "      <td>i had an interesting conversation with my dad ...</td>\n",
       "    </tr>\n",
       "  </tbody>\n",
       "</table>\n",
       "</div>\n",
       "      <button class=\"colab-df-convert\" onclick=\"convertToInteractive('df-6004ed12-2365-4910-a1d1-5b06c5e3f033')\"\n",
       "              title=\"Convert this dataframe to an interactive table.\"\n",
       "              style=\"display:none;\">\n",
       "        \n",
       "  <svg xmlns=\"http://www.w3.org/2000/svg\" height=\"24px\"viewBox=\"0 0 24 24\"\n",
       "       width=\"24px\">\n",
       "    <path d=\"M0 0h24v24H0V0z\" fill=\"none\"/>\n",
       "    <path d=\"M18.56 5.44l.94 2.06.94-2.06 2.06-.94-2.06-.94-.94-2.06-.94 2.06-2.06.94zm-11 1L8.5 8.5l.94-2.06 2.06-.94-2.06-.94L8.5 2.5l-.94 2.06-2.06.94zm10 10l.94 2.06.94-2.06 2.06-.94-2.06-.94-.94-2.06-.94 2.06-2.06.94z\"/><path d=\"M17.41 7.96l-1.37-1.37c-.4-.4-.92-.59-1.43-.59-.52 0-1.04.2-1.43.59L10.3 9.45l-7.72 7.72c-.78.78-.78 2.05 0 2.83L4 21.41c.39.39.9.59 1.41.59.51 0 1.02-.2 1.41-.59l7.78-7.78 2.81-2.81c.8-.78.8-2.07 0-2.86zM5.41 20L4 18.59l7.72-7.72 1.47 1.35L5.41 20z\"/>\n",
       "  </svg>\n",
       "      </button>\n",
       "      \n",
       "  <style>\n",
       "    .colab-df-container {\n",
       "      display:flex;\n",
       "      flex-wrap:wrap;\n",
       "      gap: 12px;\n",
       "    }\n",
       "\n",
       "    .colab-df-convert {\n",
       "      background-color: #E8F0FE;\n",
       "      border: none;\n",
       "      border-radius: 50%;\n",
       "      cursor: pointer;\n",
       "      display: none;\n",
       "      fill: #1967D2;\n",
       "      height: 32px;\n",
       "      padding: 0 0 0 0;\n",
       "      width: 32px;\n",
       "    }\n",
       "\n",
       "    .colab-df-convert:hover {\n",
       "      background-color: #E2EBFA;\n",
       "      box-shadow: 0px 1px 2px rgba(60, 64, 67, 0.3), 0px 1px 3px 1px rgba(60, 64, 67, 0.15);\n",
       "      fill: #174EA6;\n",
       "    }\n",
       "\n",
       "    [theme=dark] .colab-df-convert {\n",
       "      background-color: #3B4455;\n",
       "      fill: #D2E3FC;\n",
       "    }\n",
       "\n",
       "    [theme=dark] .colab-df-convert:hover {\n",
       "      background-color: #434B5C;\n",
       "      box-shadow: 0px 1px 3px 1px rgba(0, 0, 0, 0.15);\n",
       "      filter: drop-shadow(0px 1px 2px rgba(0, 0, 0, 0.3));\n",
       "      fill: #FFFFFF;\n",
       "    }\n",
       "  </style>\n",
       "\n",
       "      <script>\n",
       "        const buttonEl =\n",
       "          document.querySelector('#df-6004ed12-2365-4910-a1d1-5b06c5e3f033 button.colab-df-convert');\n",
       "        buttonEl.style.display =\n",
       "          google.colab.kernel.accessAllowed ? 'block' : 'none';\n",
       "\n",
       "        async function convertToInteractive(key) {\n",
       "          const element = document.querySelector('#df-6004ed12-2365-4910-a1d1-5b06c5e3f033');\n",
       "          const dataTable =\n",
       "            await google.colab.kernel.invokeFunction('convertToInteractive',\n",
       "                                                     [key], {});\n",
       "          if (!dataTable) return;\n",
       "\n",
       "          const docLinkHtml = 'Like what you see? Visit the ' +\n",
       "            '<a target=\"_blank\" href=https://colab.research.google.com/notebooks/data_table.ipynb>data table notebook</a>'\n",
       "            + ' to learn more about interactive tables.';\n",
       "          element.innerHTML = '';\n",
       "          dataTable['output_type'] = 'display_data';\n",
       "          await google.colab.output.renderOutput(dataTable, element);\n",
       "          const docLink = document.createElement('div');\n",
       "          docLink.innerHTML = docLinkHtml;\n",
       "          element.appendChild(docLink);\n",
       "        }\n",
       "      </script>\n",
       "    </div>\n",
       "  </div>\n",
       "  "
      ],
      "text/plain": [
       "        id gender  age              topic      sign          date  \\\n",
       "0  2059027   male   15            Student       Leo   14,May,2004   \n",
       "2  2059027   male   15            Student       Leo   12,May,2004   \n",
       "3  2059027   male   15            Student       Leo   12,May,2004   \n",
       "4  3581210   male   33  InvestmentBanking  Aquarius  11,June,2004   \n",
       "5  3581210   male   33  InvestmentBanking  Aquarius  10,June,2004   \n",
       "\n",
       "                                                text  \n",
       "0  info has been found (+/- 100 pages, and 4.5 mb...  \n",
       "2  in het kader van kernfusie op aarde:  maak je ...  \n",
       "3                             testing!!!  testing!!!  \n",
       "4  thanks to yahoo!'s toolbar i can now 'capture'...  \n",
       "5  i had an interesting conversation with my dad ...  "
      ]
     },
     "execution_count": 28,
     "metadata": {},
     "output_type": "execute_result"
    }
   ],
   "source": [
    "#Importing re library for Regular Expression Engine\n",
    "import re\n",
    "\n",
    "#Importing stopwords sub-module from module corpus in nltk library\n",
    "from nltk.corpus import stopwords\n",
    "\n",
    "#Lower casing & stripping\n",
    "df3['text'] =df3['text'].apply(lambda s: s.lower().strip())\n",
    "\n",
    "#Printing top 5 records to check if the Dataset is loaded properly\n",
    "df3.head()"
   ]
  },
  {
   "cell_type": "code",
   "execution_count": 29,
   "metadata": {
    "colab": {
     "base_uri": "https://localhost:8080/",
     "height": 206
    },
    "id": "kNun5Fpdiwo1",
    "outputId": "63f9c19f-e9d5-4126-a563-13a2f55801d1"
   },
   "outputs": [
    {
     "data": {
      "text/html": [
       "\n",
       "  <div id=\"df-2f80eb0d-1927-4bb3-b3b5-e871baf68999\">\n",
       "    <div class=\"colab-df-container\">\n",
       "      <div>\n",
       "<style scoped>\n",
       "    .dataframe tbody tr th:only-of-type {\n",
       "        vertical-align: middle;\n",
       "    }\n",
       "\n",
       "    .dataframe tbody tr th {\n",
       "        vertical-align: top;\n",
       "    }\n",
       "\n",
       "    .dataframe thead th {\n",
       "        text-align: right;\n",
       "    }\n",
       "</style>\n",
       "<table border=\"1\" class=\"dataframe\">\n",
       "  <thead>\n",
       "    <tr style=\"text-align: right;\">\n",
       "      <th></th>\n",
       "      <th>id</th>\n",
       "      <th>gender</th>\n",
       "      <th>age</th>\n",
       "      <th>topic</th>\n",
       "      <th>sign</th>\n",
       "      <th>date</th>\n",
       "      <th>text</th>\n",
       "    </tr>\n",
       "  </thead>\n",
       "  <tbody>\n",
       "    <tr>\n",
       "      <th>0</th>\n",
       "      <td>2059027</td>\n",
       "      <td>male</td>\n",
       "      <td>15</td>\n",
       "      <td>Student</td>\n",
       "      <td>Leo</td>\n",
       "      <td>14,May,2004</td>\n",
       "      <td>info has been found     pages  and   mb of  pd...</td>\n",
       "    </tr>\n",
       "    <tr>\n",
       "      <th>2</th>\n",
       "      <td>2059027</td>\n",
       "      <td>male</td>\n",
       "      <td>15</td>\n",
       "      <td>Student</td>\n",
       "      <td>Leo</td>\n",
       "      <td>12,May,2004</td>\n",
       "      <td>in het kader van kernfusie op aarde   maak je ...</td>\n",
       "    </tr>\n",
       "    <tr>\n",
       "      <th>3</th>\n",
       "      <td>2059027</td>\n",
       "      <td>male</td>\n",
       "      <td>15</td>\n",
       "      <td>Student</td>\n",
       "      <td>Leo</td>\n",
       "      <td>12,May,2004</td>\n",
       "      <td>testing   testing</td>\n",
       "    </tr>\n",
       "    <tr>\n",
       "      <th>4</th>\n",
       "      <td>3581210</td>\n",
       "      <td>male</td>\n",
       "      <td>33</td>\n",
       "      <td>InvestmentBanking</td>\n",
       "      <td>Aquarius</td>\n",
       "      <td>11,June,2004</td>\n",
       "      <td>thanks to yahoo s toolbar i can now  capture  ...</td>\n",
       "    </tr>\n",
       "    <tr>\n",
       "      <th>5</th>\n",
       "      <td>3581210</td>\n",
       "      <td>male</td>\n",
       "      <td>33</td>\n",
       "      <td>InvestmentBanking</td>\n",
       "      <td>Aquarius</td>\n",
       "      <td>10,June,2004</td>\n",
       "      <td>i had an interesting conversation with my dad ...</td>\n",
       "    </tr>\n",
       "  </tbody>\n",
       "</table>\n",
       "</div>\n",
       "      <button class=\"colab-df-convert\" onclick=\"convertToInteractive('df-2f80eb0d-1927-4bb3-b3b5-e871baf68999')\"\n",
       "              title=\"Convert this dataframe to an interactive table.\"\n",
       "              style=\"display:none;\">\n",
       "        \n",
       "  <svg xmlns=\"http://www.w3.org/2000/svg\" height=\"24px\"viewBox=\"0 0 24 24\"\n",
       "       width=\"24px\">\n",
       "    <path d=\"M0 0h24v24H0V0z\" fill=\"none\"/>\n",
       "    <path d=\"M18.56 5.44l.94 2.06.94-2.06 2.06-.94-2.06-.94-.94-2.06-.94 2.06-2.06.94zm-11 1L8.5 8.5l.94-2.06 2.06-.94-2.06-.94L8.5 2.5l-.94 2.06-2.06.94zm10 10l.94 2.06.94-2.06 2.06-.94-2.06-.94-.94-2.06-.94 2.06-2.06.94z\"/><path d=\"M17.41 7.96l-1.37-1.37c-.4-.4-.92-.59-1.43-.59-.52 0-1.04.2-1.43.59L10.3 9.45l-7.72 7.72c-.78.78-.78 2.05 0 2.83L4 21.41c.39.39.9.59 1.41.59.51 0 1.02-.2 1.41-.59l7.78-7.78 2.81-2.81c.8-.78.8-2.07 0-2.86zM5.41 20L4 18.59l7.72-7.72 1.47 1.35L5.41 20z\"/>\n",
       "  </svg>\n",
       "      </button>\n",
       "      \n",
       "  <style>\n",
       "    .colab-df-container {\n",
       "      display:flex;\n",
       "      flex-wrap:wrap;\n",
       "      gap: 12px;\n",
       "    }\n",
       "\n",
       "    .colab-df-convert {\n",
       "      background-color: #E8F0FE;\n",
       "      border: none;\n",
       "      border-radius: 50%;\n",
       "      cursor: pointer;\n",
       "      display: none;\n",
       "      fill: #1967D2;\n",
       "      height: 32px;\n",
       "      padding: 0 0 0 0;\n",
       "      width: 32px;\n",
       "    }\n",
       "\n",
       "    .colab-df-convert:hover {\n",
       "      background-color: #E2EBFA;\n",
       "      box-shadow: 0px 1px 2px rgba(60, 64, 67, 0.3), 0px 1px 3px 1px rgba(60, 64, 67, 0.15);\n",
       "      fill: #174EA6;\n",
       "    }\n",
       "\n",
       "    [theme=dark] .colab-df-convert {\n",
       "      background-color: #3B4455;\n",
       "      fill: #D2E3FC;\n",
       "    }\n",
       "\n",
       "    [theme=dark] .colab-df-convert:hover {\n",
       "      background-color: #434B5C;\n",
       "      box-shadow: 0px 1px 3px 1px rgba(0, 0, 0, 0.15);\n",
       "      filter: drop-shadow(0px 1px 2px rgba(0, 0, 0, 0.3));\n",
       "      fill: #FFFFFF;\n",
       "    }\n",
       "  </style>\n",
       "\n",
       "      <script>\n",
       "        const buttonEl =\n",
       "          document.querySelector('#df-2f80eb0d-1927-4bb3-b3b5-e871baf68999 button.colab-df-convert');\n",
       "        buttonEl.style.display =\n",
       "          google.colab.kernel.accessAllowed ? 'block' : 'none';\n",
       "\n",
       "        async function convertToInteractive(key) {\n",
       "          const element = document.querySelector('#df-2f80eb0d-1927-4bb3-b3b5-e871baf68999');\n",
       "          const dataTable =\n",
       "            await google.colab.kernel.invokeFunction('convertToInteractive',\n",
       "                                                     [key], {});\n",
       "          if (!dataTable) return;\n",
       "\n",
       "          const docLinkHtml = 'Like what you see? Visit the ' +\n",
       "            '<a target=\"_blank\" href=https://colab.research.google.com/notebooks/data_table.ipynb>data table notebook</a>'\n",
       "            + ' to learn more about interactive tables.';\n",
       "          element.innerHTML = '';\n",
       "          dataTable['output_type'] = 'display_data';\n",
       "          await google.colab.output.renderOutput(dataTable, element);\n",
       "          const docLink = document.createElement('div');\n",
       "          docLink.innerHTML = docLinkHtml;\n",
       "          element.appendChild(docLink);\n",
       "        }\n",
       "      </script>\n",
       "    </div>\n",
       "  </div>\n",
       "  "
      ],
      "text/plain": [
       "        id gender  age              topic      sign          date  \\\n",
       "0  2059027   male   15            Student       Leo   14,May,2004   \n",
       "2  2059027   male   15            Student       Leo   12,May,2004   \n",
       "3  2059027   male   15            Student       Leo   12,May,2004   \n",
       "4  3581210   male   33  InvestmentBanking  Aquarius  11,June,2004   \n",
       "5  3581210   male   33  InvestmentBanking  Aquarius  10,June,2004   \n",
       "\n",
       "                                                text  \n",
       "0  info has been found     pages  and   mb of  pd...  \n",
       "2  in het kader van kernfusie op aarde   maak je ...  \n",
       "3                                 testing   testing   \n",
       "4  thanks to yahoo s toolbar i can now  capture  ...  \n",
       "5  i had an interesting conversation with my dad ...  "
      ]
     },
     "execution_count": 29,
     "metadata": {},
     "output_type": "execute_result"
    }
   ],
   "source": [
    "#Keeping only Alphanumeric values & spaces\n",
    "df3['text'] = df3['text'].apply(lambda s: re.sub('[^a-z ]+',' ',s))\n",
    "\n",
    "#Printing top 5 records to check if the Dataset is loaded properly\n",
    "df3.head()"
   ]
  },
  {
   "cell_type": "code",
   "execution_count": 30,
   "metadata": {
    "colab": {
     "base_uri": "https://localhost:8080/",
     "height": 241
    },
    "id": "XonV2Z3ti-pY",
    "outputId": "429dfe32-2d2e-4941-c2f6-d40e5890d1d4"
   },
   "outputs": [
    {
     "name": "stderr",
     "output_type": "stream",
     "text": [
      "[nltk_data] Downloading package stopwords to /root/nltk_data...\n",
      "[nltk_data]   Unzipping corpora/stopwords.zip.\n"
     ]
    },
    {
     "data": {
      "text/html": [
       "\n",
       "  <div id=\"df-074506f3-2872-4771-86c3-55253dabfaa3\">\n",
       "    <div class=\"colab-df-container\">\n",
       "      <div>\n",
       "<style scoped>\n",
       "    .dataframe tbody tr th:only-of-type {\n",
       "        vertical-align: middle;\n",
       "    }\n",
       "\n",
       "    .dataframe tbody tr th {\n",
       "        vertical-align: top;\n",
       "    }\n",
       "\n",
       "    .dataframe thead th {\n",
       "        text-align: right;\n",
       "    }\n",
       "</style>\n",
       "<table border=\"1\" class=\"dataframe\">\n",
       "  <thead>\n",
       "    <tr style=\"text-align: right;\">\n",
       "      <th></th>\n",
       "      <th>id</th>\n",
       "      <th>gender</th>\n",
       "      <th>age</th>\n",
       "      <th>topic</th>\n",
       "      <th>sign</th>\n",
       "      <th>date</th>\n",
       "      <th>text</th>\n",
       "    </tr>\n",
       "  </thead>\n",
       "  <tbody>\n",
       "    <tr>\n",
       "      <th>0</th>\n",
       "      <td>2059027</td>\n",
       "      <td>male</td>\n",
       "      <td>15</td>\n",
       "      <td>Student</td>\n",
       "      <td>Leo</td>\n",
       "      <td>14,May,2004</td>\n",
       "      <td>info found     pages mb pdf files wait untill ...</td>\n",
       "    </tr>\n",
       "    <tr>\n",
       "      <th>2</th>\n",
       "      <td>2059027</td>\n",
       "      <td>male</td>\n",
       "      <td>15</td>\n",
       "      <td>Student</td>\n",
       "      <td>Leo</td>\n",
       "      <td>12,May,2004</td>\n",
       "      <td>het kader van kernfusie op aarde   maak je ei...</td>\n",
       "    </tr>\n",
       "    <tr>\n",
       "      <th>3</th>\n",
       "      <td>2059027</td>\n",
       "      <td>male</td>\n",
       "      <td>15</td>\n",
       "      <td>Student</td>\n",
       "      <td>Leo</td>\n",
       "      <td>12,May,2004</td>\n",
       "      <td>testing   testing</td>\n",
       "    </tr>\n",
       "    <tr>\n",
       "      <th>4</th>\n",
       "      <td>3581210</td>\n",
       "      <td>male</td>\n",
       "      <td>33</td>\n",
       "      <td>InvestmentBanking</td>\n",
       "      <td>Aquarius</td>\n",
       "      <td>11,June,2004</td>\n",
       "      <td>thanks yahoo toolbar capture urls popups means...</td>\n",
       "    </tr>\n",
       "    <tr>\n",
       "      <th>5</th>\n",
       "      <td>3581210</td>\n",
       "      <td>male</td>\n",
       "      <td>33</td>\n",
       "      <td>InvestmentBanking</td>\n",
       "      <td>Aquarius</td>\n",
       "      <td>10,June,2004</td>\n",
       "      <td>interesting conversation dad morning talking ...</td>\n",
       "    </tr>\n",
       "  </tbody>\n",
       "</table>\n",
       "</div>\n",
       "      <button class=\"colab-df-convert\" onclick=\"convertToInteractive('df-074506f3-2872-4771-86c3-55253dabfaa3')\"\n",
       "              title=\"Convert this dataframe to an interactive table.\"\n",
       "              style=\"display:none;\">\n",
       "        \n",
       "  <svg xmlns=\"http://www.w3.org/2000/svg\" height=\"24px\"viewBox=\"0 0 24 24\"\n",
       "       width=\"24px\">\n",
       "    <path d=\"M0 0h24v24H0V0z\" fill=\"none\"/>\n",
       "    <path d=\"M18.56 5.44l.94 2.06.94-2.06 2.06-.94-2.06-.94-.94-2.06-.94 2.06-2.06.94zm-11 1L8.5 8.5l.94-2.06 2.06-.94-2.06-.94L8.5 2.5l-.94 2.06-2.06.94zm10 10l.94 2.06.94-2.06 2.06-.94-2.06-.94-.94-2.06-.94 2.06-2.06.94z\"/><path d=\"M17.41 7.96l-1.37-1.37c-.4-.4-.92-.59-1.43-.59-.52 0-1.04.2-1.43.59L10.3 9.45l-7.72 7.72c-.78.78-.78 2.05 0 2.83L4 21.41c.39.39.9.59 1.41.59.51 0 1.02-.2 1.41-.59l7.78-7.78 2.81-2.81c.8-.78.8-2.07 0-2.86zM5.41 20L4 18.59l7.72-7.72 1.47 1.35L5.41 20z\"/>\n",
       "  </svg>\n",
       "      </button>\n",
       "      \n",
       "  <style>\n",
       "    .colab-df-container {\n",
       "      display:flex;\n",
       "      flex-wrap:wrap;\n",
       "      gap: 12px;\n",
       "    }\n",
       "\n",
       "    .colab-df-convert {\n",
       "      background-color: #E8F0FE;\n",
       "      border: none;\n",
       "      border-radius: 50%;\n",
       "      cursor: pointer;\n",
       "      display: none;\n",
       "      fill: #1967D2;\n",
       "      height: 32px;\n",
       "      padding: 0 0 0 0;\n",
       "      width: 32px;\n",
       "    }\n",
       "\n",
       "    .colab-df-convert:hover {\n",
       "      background-color: #E2EBFA;\n",
       "      box-shadow: 0px 1px 2px rgba(60, 64, 67, 0.3), 0px 1px 3px 1px rgba(60, 64, 67, 0.15);\n",
       "      fill: #174EA6;\n",
       "    }\n",
       "\n",
       "    [theme=dark] .colab-df-convert {\n",
       "      background-color: #3B4455;\n",
       "      fill: #D2E3FC;\n",
       "    }\n",
       "\n",
       "    [theme=dark] .colab-df-convert:hover {\n",
       "      background-color: #434B5C;\n",
       "      box-shadow: 0px 1px 3px 1px rgba(0, 0, 0, 0.15);\n",
       "      filter: drop-shadow(0px 1px 2px rgba(0, 0, 0, 0.3));\n",
       "      fill: #FFFFFF;\n",
       "    }\n",
       "  </style>\n",
       "\n",
       "      <script>\n",
       "        const buttonEl =\n",
       "          document.querySelector('#df-074506f3-2872-4771-86c3-55253dabfaa3 button.colab-df-convert');\n",
       "        buttonEl.style.display =\n",
       "          google.colab.kernel.accessAllowed ? 'block' : 'none';\n",
       "\n",
       "        async function convertToInteractive(key) {\n",
       "          const element = document.querySelector('#df-074506f3-2872-4771-86c3-55253dabfaa3');\n",
       "          const dataTable =\n",
       "            await google.colab.kernel.invokeFunction('convertToInteractive',\n",
       "                                                     [key], {});\n",
       "          if (!dataTable) return;\n",
       "\n",
       "          const docLinkHtml = 'Like what you see? Visit the ' +\n",
       "            '<a target=\"_blank\" href=https://colab.research.google.com/notebooks/data_table.ipynb>data table notebook</a>'\n",
       "            + ' to learn more about interactive tables.';\n",
       "          element.innerHTML = '';\n",
       "          dataTable['output_type'] = 'display_data';\n",
       "          await google.colab.output.renderOutput(dataTable, element);\n",
       "          const docLink = document.createElement('div');\n",
       "          docLink.innerHTML = docLinkHtml;\n",
       "          element.appendChild(docLink);\n",
       "        }\n",
       "      </script>\n",
       "    </div>\n",
       "  </div>\n",
       "  "
      ],
      "text/plain": [
       "        id gender  age              topic      sign          date  \\\n",
       "0  2059027   male   15            Student       Leo   14,May,2004   \n",
       "2  2059027   male   15            Student       Leo   12,May,2004   \n",
       "3  2059027   male   15            Student       Leo   12,May,2004   \n",
       "4  3581210   male   33  InvestmentBanking  Aquarius  11,June,2004   \n",
       "5  3581210   male   33  InvestmentBanking  Aquarius  10,June,2004   \n",
       "\n",
       "                                                text  \n",
       "0  info found     pages mb pdf files wait untill ...  \n",
       "2   het kader van kernfusie op aarde   maak je ei...  \n",
       "3                                 testing   testing   \n",
       "4  thanks yahoo toolbar capture urls popups means...  \n",
       "5   interesting conversation dad morning talking ...  "
      ]
     },
     "execution_count": 30,
     "metadata": {},
     "output_type": "execute_result"
    }
   ],
   "source": [
    "import nltk\n",
    "nltk.download('stopwords')\n",
    "#set of stop words\n",
    "stop_words = set(stopwords.words('english'))\n",
    "\n",
    "#For each stop-words, replace them by spaces in the text column of he Dataset\n",
    "for w in stop_words:\n",
    "   df3['text'] =df3['text'].apply(lambda s: re.sub('(^|[ ]+)' + w + '([ ]+|$)',' ',s))\n",
    "\n",
    "#Printing top 5 records to check if the Dataset is loaded properly\n",
    "df3.head()"
   ]
  },
  {
   "cell_type": "code",
   "execution_count": 31,
   "metadata": {
    "colab": {
     "base_uri": "https://localhost:8080/",
     "height": 206
    },
    "id": "p6zw-C4SkpJW",
    "outputId": "b0caeced-e615-4935-8ba8-aa5ba4808068"
   },
   "outputs": [
    {
     "data": {
      "text/html": [
       "\n",
       "  <div id=\"df-7e84b0b8-67f2-4e2f-93b0-c2707b3d7d9e\">\n",
       "    <div class=\"colab-df-container\">\n",
       "      <div>\n",
       "<style scoped>\n",
       "    .dataframe tbody tr th:only-of-type {\n",
       "        vertical-align: middle;\n",
       "    }\n",
       "\n",
       "    .dataframe tbody tr th {\n",
       "        vertical-align: top;\n",
       "    }\n",
       "\n",
       "    .dataframe thead th {\n",
       "        text-align: right;\n",
       "    }\n",
       "</style>\n",
       "<table border=\"1\" class=\"dataframe\">\n",
       "  <thead>\n",
       "    <tr style=\"text-align: right;\">\n",
       "      <th></th>\n",
       "      <th>id</th>\n",
       "      <th>gender</th>\n",
       "      <th>age</th>\n",
       "      <th>topic</th>\n",
       "      <th>sign</th>\n",
       "      <th>date</th>\n",
       "      <th>text</th>\n",
       "    </tr>\n",
       "  </thead>\n",
       "  <tbody>\n",
       "    <tr>\n",
       "      <th>0</th>\n",
       "      <td>2059027</td>\n",
       "      <td>male</td>\n",
       "      <td>15</td>\n",
       "      <td>Student</td>\n",
       "      <td>Leo</td>\n",
       "      <td>14,May,2004</td>\n",
       "      <td>info found pages mb pdf files wait untill team...</td>\n",
       "    </tr>\n",
       "    <tr>\n",
       "      <th>2</th>\n",
       "      <td>2059027</td>\n",
       "      <td>male</td>\n",
       "      <td>15</td>\n",
       "      <td>Student</td>\n",
       "      <td>Leo</td>\n",
       "      <td>12,May,2004</td>\n",
       "      <td>het kader van kernfusie op aarde maak je eigen...</td>\n",
       "    </tr>\n",
       "    <tr>\n",
       "      <th>3</th>\n",
       "      <td>2059027</td>\n",
       "      <td>male</td>\n",
       "      <td>15</td>\n",
       "      <td>Student</td>\n",
       "      <td>Leo</td>\n",
       "      <td>12,May,2004</td>\n",
       "      <td>testing testing</td>\n",
       "    </tr>\n",
       "    <tr>\n",
       "      <th>4</th>\n",
       "      <td>3581210</td>\n",
       "      <td>male</td>\n",
       "      <td>33</td>\n",
       "      <td>InvestmentBanking</td>\n",
       "      <td>Aquarius</td>\n",
       "      <td>11,June,2004</td>\n",
       "      <td>thanks yahoo toolbar capture urls popups means...</td>\n",
       "    </tr>\n",
       "    <tr>\n",
       "      <th>5</th>\n",
       "      <td>3581210</td>\n",
       "      <td>male</td>\n",
       "      <td>33</td>\n",
       "      <td>InvestmentBanking</td>\n",
       "      <td>Aquarius</td>\n",
       "      <td>10,June,2004</td>\n",
       "      <td>interesting conversation dad morning talking k...</td>\n",
       "    </tr>\n",
       "  </tbody>\n",
       "</table>\n",
       "</div>\n",
       "      <button class=\"colab-df-convert\" onclick=\"convertToInteractive('df-7e84b0b8-67f2-4e2f-93b0-c2707b3d7d9e')\"\n",
       "              title=\"Convert this dataframe to an interactive table.\"\n",
       "              style=\"display:none;\">\n",
       "        \n",
       "  <svg xmlns=\"http://www.w3.org/2000/svg\" height=\"24px\"viewBox=\"0 0 24 24\"\n",
       "       width=\"24px\">\n",
       "    <path d=\"M0 0h24v24H0V0z\" fill=\"none\"/>\n",
       "    <path d=\"M18.56 5.44l.94 2.06.94-2.06 2.06-.94-2.06-.94-.94-2.06-.94 2.06-2.06.94zm-11 1L8.5 8.5l.94-2.06 2.06-.94-2.06-.94L8.5 2.5l-.94 2.06-2.06.94zm10 10l.94 2.06.94-2.06 2.06-.94-2.06-.94-.94-2.06-.94 2.06-2.06.94z\"/><path d=\"M17.41 7.96l-1.37-1.37c-.4-.4-.92-.59-1.43-.59-.52 0-1.04.2-1.43.59L10.3 9.45l-7.72 7.72c-.78.78-.78 2.05 0 2.83L4 21.41c.39.39.9.59 1.41.59.51 0 1.02-.2 1.41-.59l7.78-7.78 2.81-2.81c.8-.78.8-2.07 0-2.86zM5.41 20L4 18.59l7.72-7.72 1.47 1.35L5.41 20z\"/>\n",
       "  </svg>\n",
       "      </button>\n",
       "      \n",
       "  <style>\n",
       "    .colab-df-container {\n",
       "      display:flex;\n",
       "      flex-wrap:wrap;\n",
       "      gap: 12px;\n",
       "    }\n",
       "\n",
       "    .colab-df-convert {\n",
       "      background-color: #E8F0FE;\n",
       "      border: none;\n",
       "      border-radius: 50%;\n",
       "      cursor: pointer;\n",
       "      display: none;\n",
       "      fill: #1967D2;\n",
       "      height: 32px;\n",
       "      padding: 0 0 0 0;\n",
       "      width: 32px;\n",
       "    }\n",
       "\n",
       "    .colab-df-convert:hover {\n",
       "      background-color: #E2EBFA;\n",
       "      box-shadow: 0px 1px 2px rgba(60, 64, 67, 0.3), 0px 1px 3px 1px rgba(60, 64, 67, 0.15);\n",
       "      fill: #174EA6;\n",
       "    }\n",
       "\n",
       "    [theme=dark] .colab-df-convert {\n",
       "      background-color: #3B4455;\n",
       "      fill: #D2E3FC;\n",
       "    }\n",
       "\n",
       "    [theme=dark] .colab-df-convert:hover {\n",
       "      background-color: #434B5C;\n",
       "      box-shadow: 0px 1px 3px 1px rgba(0, 0, 0, 0.15);\n",
       "      filter: drop-shadow(0px 1px 2px rgba(0, 0, 0, 0.3));\n",
       "      fill: #FFFFFF;\n",
       "    }\n",
       "  </style>\n",
       "\n",
       "      <script>\n",
       "        const buttonEl =\n",
       "          document.querySelector('#df-7e84b0b8-67f2-4e2f-93b0-c2707b3d7d9e button.colab-df-convert');\n",
       "        buttonEl.style.display =\n",
       "          google.colab.kernel.accessAllowed ? 'block' : 'none';\n",
       "\n",
       "        async function convertToInteractive(key) {\n",
       "          const element = document.querySelector('#df-7e84b0b8-67f2-4e2f-93b0-c2707b3d7d9e');\n",
       "          const dataTable =\n",
       "            await google.colab.kernel.invokeFunction('convertToInteractive',\n",
       "                                                     [key], {});\n",
       "          if (!dataTable) return;\n",
       "\n",
       "          const docLinkHtml = 'Like what you see? Visit the ' +\n",
       "            '<a target=\"_blank\" href=https://colab.research.google.com/notebooks/data_table.ipynb>data table notebook</a>'\n",
       "            + ' to learn more about interactive tables.';\n",
       "          element.innerHTML = '';\n",
       "          dataTable['output_type'] = 'display_data';\n",
       "          await google.colab.output.renderOutput(dataTable, element);\n",
       "          const docLink = document.createElement('div');\n",
       "          docLink.innerHTML = docLinkHtml;\n",
       "          element.appendChild(docLink);\n",
       "        }\n",
       "      </script>\n",
       "    </div>\n",
       "  </div>\n",
       "  "
      ],
      "text/plain": [
       "        id gender  age              topic      sign          date  \\\n",
       "0  2059027   male   15            Student       Leo   14,May,2004   \n",
       "2  2059027   male   15            Student       Leo   12,May,2004   \n",
       "3  2059027   male   15            Student       Leo   12,May,2004   \n",
       "4  3581210   male   33  InvestmentBanking  Aquarius  11,June,2004   \n",
       "5  3581210   male   33  InvestmentBanking  Aquarius  10,June,2004   \n",
       "\n",
       "                                                text  \n",
       "0  info found pages mb pdf files wait untill team...  \n",
       "2  het kader van kernfusie op aarde maak je eigen...  \n",
       "3                                    testing testing  \n",
       "4  thanks yahoo toolbar capture urls popups means...  \n",
       "5  interesting conversation dad morning talking k...  "
      ]
     },
     "execution_count": 31,
     "metadata": {},
     "output_type": "execute_result"
    }
   ],
   "source": [
    "#Removing unwanted spaces\n",
    "df3['text'] = df3['text'].apply(lambda s: re.sub('[ ]{2,}',' ',s))\n",
    "df3['text'] = df3['text'].apply(lambda s: re.sub('(^[ ]+|[ ]+$)','',s))\n",
    "\n",
    "#Printing top 5 records to check if the Dataset is loaded properly\n",
    "df3.head()"
   ]
  },
  {
   "cell_type": "markdown",
   "metadata": {
    "id": "XWCH2TTLluJi"
   },
   "source": [
    "**Build a base Classification model**\n",
    "\n",
    "A. Create dependent and independent variables \n",
    "\n",
    "B. Split data into train and test.\n",
    "\n",
    "C. Vectorize data using any one vectorizer. \n",
    "\n",
    "D. Build a base model for Supervised Learning - Classification. \n",
    "\n",
    "E. Clearly print Performance Metrics. "
   ]
  },
  {
   "cell_type": "code",
   "execution_count": 42,
   "metadata": {
    "colab": {
     "base_uri": "https://localhost:8080/",
     "height": 206
    },
    "id": "DFNm75HzoUFN",
    "outputId": "caa437ac-8bb8-4588-b4f3-306c6f200814"
   },
   "outputs": [
    {
     "data": {
      "text/html": [
       "\n",
       "  <div id=\"df-0dd5d3a1-e2eb-48ca-a5c0-2ee7514830be\">\n",
       "    <div class=\"colab-df-container\">\n",
       "      <div>\n",
       "<style scoped>\n",
       "    .dataframe tbody tr th:only-of-type {\n",
       "        vertical-align: middle;\n",
       "    }\n",
       "\n",
       "    .dataframe tbody tr th {\n",
       "        vertical-align: top;\n",
       "    }\n",
       "\n",
       "    .dataframe thead th {\n",
       "        text-align: right;\n",
       "    }\n",
       "</style>\n",
       "<table border=\"1\" class=\"dataframe\">\n",
       "  <thead>\n",
       "    <tr style=\"text-align: right;\">\n",
       "      <th></th>\n",
       "      <th>id</th>\n",
       "      <th>gender</th>\n",
       "      <th>age</th>\n",
       "      <th>topic</th>\n",
       "      <th>sign</th>\n",
       "      <th>date</th>\n",
       "      <th>text</th>\n",
       "      <th>labels</th>\n",
       "    </tr>\n",
       "  </thead>\n",
       "  <tbody>\n",
       "    <tr>\n",
       "      <th>0</th>\n",
       "      <td>2059027</td>\n",
       "      <td>male</td>\n",
       "      <td>15</td>\n",
       "      <td>Student</td>\n",
       "      <td>Leo</td>\n",
       "      <td>14,May,2004</td>\n",
       "      <td>info found pages mb pdf files wait untill team...</td>\n",
       "      <td>[male, 15, Student, Leo]</td>\n",
       "    </tr>\n",
       "    <tr>\n",
       "      <th>2</th>\n",
       "      <td>2059027</td>\n",
       "      <td>male</td>\n",
       "      <td>15</td>\n",
       "      <td>Student</td>\n",
       "      <td>Leo</td>\n",
       "      <td>12,May,2004</td>\n",
       "      <td>het kader van kernfusie op aarde maak je eigen...</td>\n",
       "      <td>[male, 15, Student, Leo]</td>\n",
       "    </tr>\n",
       "    <tr>\n",
       "      <th>3</th>\n",
       "      <td>2059027</td>\n",
       "      <td>male</td>\n",
       "      <td>15</td>\n",
       "      <td>Student</td>\n",
       "      <td>Leo</td>\n",
       "      <td>12,May,2004</td>\n",
       "      <td>testing testing</td>\n",
       "      <td>[male, 15, Student, Leo]</td>\n",
       "    </tr>\n",
       "    <tr>\n",
       "      <th>4</th>\n",
       "      <td>3581210</td>\n",
       "      <td>male</td>\n",
       "      <td>33</td>\n",
       "      <td>InvestmentBanking</td>\n",
       "      <td>Aquarius</td>\n",
       "      <td>11,June,2004</td>\n",
       "      <td>thanks yahoo toolbar capture urls popups means...</td>\n",
       "      <td>[male, 33, InvestmentBanking, Aquarius]</td>\n",
       "    </tr>\n",
       "    <tr>\n",
       "      <th>5</th>\n",
       "      <td>3581210</td>\n",
       "      <td>male</td>\n",
       "      <td>33</td>\n",
       "      <td>InvestmentBanking</td>\n",
       "      <td>Aquarius</td>\n",
       "      <td>10,June,2004</td>\n",
       "      <td>interesting conversation dad morning talking k...</td>\n",
       "      <td>[male, 33, InvestmentBanking, Aquarius]</td>\n",
       "    </tr>\n",
       "  </tbody>\n",
       "</table>\n",
       "</div>\n",
       "      <button class=\"colab-df-convert\" onclick=\"convertToInteractive('df-0dd5d3a1-e2eb-48ca-a5c0-2ee7514830be')\"\n",
       "              title=\"Convert this dataframe to an interactive table.\"\n",
       "              style=\"display:none;\">\n",
       "        \n",
       "  <svg xmlns=\"http://www.w3.org/2000/svg\" height=\"24px\"viewBox=\"0 0 24 24\"\n",
       "       width=\"24px\">\n",
       "    <path d=\"M0 0h24v24H0V0z\" fill=\"none\"/>\n",
       "    <path d=\"M18.56 5.44l.94 2.06.94-2.06 2.06-.94-2.06-.94-.94-2.06-.94 2.06-2.06.94zm-11 1L8.5 8.5l.94-2.06 2.06-.94-2.06-.94L8.5 2.5l-.94 2.06-2.06.94zm10 10l.94 2.06.94-2.06 2.06-.94-2.06-.94-.94-2.06-.94 2.06-2.06.94z\"/><path d=\"M17.41 7.96l-1.37-1.37c-.4-.4-.92-.59-1.43-.59-.52 0-1.04.2-1.43.59L10.3 9.45l-7.72 7.72c-.78.78-.78 2.05 0 2.83L4 21.41c.39.39.9.59 1.41.59.51 0 1.02-.2 1.41-.59l7.78-7.78 2.81-2.81c.8-.78.8-2.07 0-2.86zM5.41 20L4 18.59l7.72-7.72 1.47 1.35L5.41 20z\"/>\n",
       "  </svg>\n",
       "      </button>\n",
       "      \n",
       "  <style>\n",
       "    .colab-df-container {\n",
       "      display:flex;\n",
       "      flex-wrap:wrap;\n",
       "      gap: 12px;\n",
       "    }\n",
       "\n",
       "    .colab-df-convert {\n",
       "      background-color: #E8F0FE;\n",
       "      border: none;\n",
       "      border-radius: 50%;\n",
       "      cursor: pointer;\n",
       "      display: none;\n",
       "      fill: #1967D2;\n",
       "      height: 32px;\n",
       "      padding: 0 0 0 0;\n",
       "      width: 32px;\n",
       "    }\n",
       "\n",
       "    .colab-df-convert:hover {\n",
       "      background-color: #E2EBFA;\n",
       "      box-shadow: 0px 1px 2px rgba(60, 64, 67, 0.3), 0px 1px 3px 1px rgba(60, 64, 67, 0.15);\n",
       "      fill: #174EA6;\n",
       "    }\n",
       "\n",
       "    [theme=dark] .colab-df-convert {\n",
       "      background-color: #3B4455;\n",
       "      fill: #D2E3FC;\n",
       "    }\n",
       "\n",
       "    [theme=dark] .colab-df-convert:hover {\n",
       "      background-color: #434B5C;\n",
       "      box-shadow: 0px 1px 3px 1px rgba(0, 0, 0, 0.15);\n",
       "      filter: drop-shadow(0px 1px 2px rgba(0, 0, 0, 0.3));\n",
       "      fill: #FFFFFF;\n",
       "    }\n",
       "  </style>\n",
       "\n",
       "      <script>\n",
       "        const buttonEl =\n",
       "          document.querySelector('#df-0dd5d3a1-e2eb-48ca-a5c0-2ee7514830be button.colab-df-convert');\n",
       "        buttonEl.style.display =\n",
       "          google.colab.kernel.accessAllowed ? 'block' : 'none';\n",
       "\n",
       "        async function convertToInteractive(key) {\n",
       "          const element = document.querySelector('#df-0dd5d3a1-e2eb-48ca-a5c0-2ee7514830be');\n",
       "          const dataTable =\n",
       "            await google.colab.kernel.invokeFunction('convertToInteractive',\n",
       "                                                     [key], {});\n",
       "          if (!dataTable) return;\n",
       "\n",
       "          const docLinkHtml = 'Like what you see? Visit the ' +\n",
       "            '<a target=\"_blank\" href=https://colab.research.google.com/notebooks/data_table.ipynb>data table notebook</a>'\n",
       "            + ' to learn more about interactive tables.';\n",
       "          element.innerHTML = '';\n",
       "          dataTable['output_type'] = 'display_data';\n",
       "          await google.colab.output.renderOutput(dataTable, element);\n",
       "          const docLink = document.createElement('div');\n",
       "          docLink.innerHTML = docLinkHtml;\n",
       "          element.appendChild(docLink);\n",
       "        }\n",
       "      </script>\n",
       "    </div>\n",
       "  </div>\n",
       "  "
      ],
      "text/plain": [
       "        id gender  age              topic      sign          date  \\\n",
       "0  2059027   male   15            Student       Leo   14,May,2004   \n",
       "2  2059027   male   15            Student       Leo   12,May,2004   \n",
       "3  2059027   male   15            Student       Leo   12,May,2004   \n",
       "4  3581210   male   33  InvestmentBanking  Aquarius  11,June,2004   \n",
       "5  3581210   male   33  InvestmentBanking  Aquarius  10,June,2004   \n",
       "\n",
       "                                                text  \\\n",
       "0  info found pages mb pdf files wait untill team...   \n",
       "2  het kader van kernfusie op aarde maak je eigen...   \n",
       "3                                    testing testing   \n",
       "4  thanks yahoo toolbar capture urls popups means...   \n",
       "5  interesting conversation dad morning talking k...   \n",
       "\n",
       "                                    labels  \n",
       "0                 [male, 15, Student, Leo]  \n",
       "2                 [male, 15, Student, Leo]  \n",
       "3                 [male, 15, Student, Leo]  \n",
       "4  [male, 33, InvestmentBanking, Aquarius]  \n",
       "5  [male, 33, InvestmentBanking, Aquarius]  "
      ]
     },
     "execution_count": 42,
     "metadata": {},
     "output_type": "execute_result"
    }
   ],
   "source": [
    "#Merging all the Label columns together\n",
    "df3['labels'] = df3[['gender','age','topic','sign']].values.tolist()\n",
    "\n",
    "#Printing top 5 records to check if the Dataset is loaded properly\n",
    "df3.head()"
   ]
  },
  {
   "cell_type": "code",
   "execution_count": 43,
   "metadata": {
    "colab": {
     "base_uri": "https://localhost:8080/",
     "height": 206
    },
    "id": "al0Az9BRoG23",
    "outputId": "3cac0b80-a5ce-4f1b-f782-c57d1f4db347"
   },
   "outputs": [
    {
     "data": {
      "text/html": [
       "\n",
       "  <div id=\"df-90d4b9ec-e594-4145-b592-fb3f3563416a\">\n",
       "    <div class=\"colab-df-container\">\n",
       "      <div>\n",
       "<style scoped>\n",
       "    .dataframe tbody tr th:only-of-type {\n",
       "        vertical-align: middle;\n",
       "    }\n",
       "\n",
       "    .dataframe tbody tr th {\n",
       "        vertical-align: top;\n",
       "    }\n",
       "\n",
       "    .dataframe thead th {\n",
       "        text-align: right;\n",
       "    }\n",
       "</style>\n",
       "<table border=\"1\" class=\"dataframe\">\n",
       "  <thead>\n",
       "    <tr style=\"text-align: right;\">\n",
       "      <th></th>\n",
       "      <th>text</th>\n",
       "      <th>labels</th>\n",
       "    </tr>\n",
       "  </thead>\n",
       "  <tbody>\n",
       "    <tr>\n",
       "      <th>0</th>\n",
       "      <td>info found pages mb pdf files wait untill team...</td>\n",
       "      <td>[male, 15, Student, Leo]</td>\n",
       "    </tr>\n",
       "    <tr>\n",
       "      <th>2</th>\n",
       "      <td>het kader van kernfusie op aarde maak je eigen...</td>\n",
       "      <td>[male, 15, Student, Leo]</td>\n",
       "    </tr>\n",
       "    <tr>\n",
       "      <th>3</th>\n",
       "      <td>testing testing</td>\n",
       "      <td>[male, 15, Student, Leo]</td>\n",
       "    </tr>\n",
       "    <tr>\n",
       "      <th>4</th>\n",
       "      <td>thanks yahoo toolbar capture urls popups means...</td>\n",
       "      <td>[male, 33, InvestmentBanking, Aquarius]</td>\n",
       "    </tr>\n",
       "    <tr>\n",
       "      <th>5</th>\n",
       "      <td>interesting conversation dad morning talking k...</td>\n",
       "      <td>[male, 33, InvestmentBanking, Aquarius]</td>\n",
       "    </tr>\n",
       "  </tbody>\n",
       "</table>\n",
       "</div>\n",
       "      <button class=\"colab-df-convert\" onclick=\"convertToInteractive('df-90d4b9ec-e594-4145-b592-fb3f3563416a')\"\n",
       "              title=\"Convert this dataframe to an interactive table.\"\n",
       "              style=\"display:none;\">\n",
       "        \n",
       "  <svg xmlns=\"http://www.w3.org/2000/svg\" height=\"24px\"viewBox=\"0 0 24 24\"\n",
       "       width=\"24px\">\n",
       "    <path d=\"M0 0h24v24H0V0z\" fill=\"none\"/>\n",
       "    <path d=\"M18.56 5.44l.94 2.06.94-2.06 2.06-.94-2.06-.94-.94-2.06-.94 2.06-2.06.94zm-11 1L8.5 8.5l.94-2.06 2.06-.94-2.06-.94L8.5 2.5l-.94 2.06-2.06.94zm10 10l.94 2.06.94-2.06 2.06-.94-2.06-.94-.94-2.06-.94 2.06-2.06.94z\"/><path d=\"M17.41 7.96l-1.37-1.37c-.4-.4-.92-.59-1.43-.59-.52 0-1.04.2-1.43.59L10.3 9.45l-7.72 7.72c-.78.78-.78 2.05 0 2.83L4 21.41c.39.39.9.59 1.41.59.51 0 1.02-.2 1.41-.59l7.78-7.78 2.81-2.81c.8-.78.8-2.07 0-2.86zM5.41 20L4 18.59l7.72-7.72 1.47 1.35L5.41 20z\"/>\n",
       "  </svg>\n",
       "      </button>\n",
       "      \n",
       "  <style>\n",
       "    .colab-df-container {\n",
       "      display:flex;\n",
       "      flex-wrap:wrap;\n",
       "      gap: 12px;\n",
       "    }\n",
       "\n",
       "    .colab-df-convert {\n",
       "      background-color: #E8F0FE;\n",
       "      border: none;\n",
       "      border-radius: 50%;\n",
       "      cursor: pointer;\n",
       "      display: none;\n",
       "      fill: #1967D2;\n",
       "      height: 32px;\n",
       "      padding: 0 0 0 0;\n",
       "      width: 32px;\n",
       "    }\n",
       "\n",
       "    .colab-df-convert:hover {\n",
       "      background-color: #E2EBFA;\n",
       "      box-shadow: 0px 1px 2px rgba(60, 64, 67, 0.3), 0px 1px 3px 1px rgba(60, 64, 67, 0.15);\n",
       "      fill: #174EA6;\n",
       "    }\n",
       "\n",
       "    [theme=dark] .colab-df-convert {\n",
       "      background-color: #3B4455;\n",
       "      fill: #D2E3FC;\n",
       "    }\n",
       "\n",
       "    [theme=dark] .colab-df-convert:hover {\n",
       "      background-color: #434B5C;\n",
       "      box-shadow: 0px 1px 3px 1px rgba(0, 0, 0, 0.15);\n",
       "      filter: drop-shadow(0px 1px 2px rgba(0, 0, 0, 0.3));\n",
       "      fill: #FFFFFF;\n",
       "    }\n",
       "  </style>\n",
       "\n",
       "      <script>\n",
       "        const buttonEl =\n",
       "          document.querySelector('#df-90d4b9ec-e594-4145-b592-fb3f3563416a button.colab-df-convert');\n",
       "        buttonEl.style.display =\n",
       "          google.colab.kernel.accessAllowed ? 'block' : 'none';\n",
       "\n",
       "        async function convertToInteractive(key) {\n",
       "          const element = document.querySelector('#df-90d4b9ec-e594-4145-b592-fb3f3563416a');\n",
       "          const dataTable =\n",
       "            await google.colab.kernel.invokeFunction('convertToInteractive',\n",
       "                                                     [key], {});\n",
       "          if (!dataTable) return;\n",
       "\n",
       "          const docLinkHtml = 'Like what you see? Visit the ' +\n",
       "            '<a target=\"_blank\" href=https://colab.research.google.com/notebooks/data_table.ipynb>data table notebook</a>'\n",
       "            + ' to learn more about interactive tables.';\n",
       "          element.innerHTML = '';\n",
       "          dataTable['output_type'] = 'display_data';\n",
       "          await google.colab.output.renderOutput(dataTable, element);\n",
       "          const docLink = document.createElement('div');\n",
       "          docLink.innerHTML = docLinkHtml;\n",
       "          element.appendChild(docLink);\n",
       "        }\n",
       "      </script>\n",
       "    </div>\n",
       "  </div>\n",
       "  "
      ],
      "text/plain": [
       "                                                text  \\\n",
       "0  info found pages mb pdf files wait untill team...   \n",
       "2  het kader van kernfusie op aarde maak je eigen...   \n",
       "3                                    testing testing   \n",
       "4  thanks yahoo toolbar capture urls popups means...   \n",
       "5  interesting conversation dad morning talking k...   \n",
       "\n",
       "                                    labels  \n",
       "0                 [male, 15, Student, Leo]  \n",
       "2                 [male, 15, Student, Leo]  \n",
       "3                 [male, 15, Student, Leo]  \n",
       "4  [male, 33, InvestmentBanking, Aquarius]  \n",
       "5  [male, 33, InvestmentBanking, Aquarius]  "
      ]
     },
     "execution_count": 43,
     "metadata": {},
     "output_type": "execute_result"
    }
   ],
   "source": [
    "#Dropping unwanted columns from Dataset\n",
    "df3.drop(columns = ['id','gender','age','topic','sign','date'], inplace=True)\n",
    "\n",
    "#Printing top 5 records to check if the Dataset is loaded properly\n",
    "df3.head()\n"
   ]
  },
  {
   "cell_type": "code",
   "execution_count": 44,
   "metadata": {
    "id": "B0pW5zk6UJS1"
   },
   "outputs": [],
   "source": [
    "X=df3['text']\n",
    "y=df3['labels']"
   ]
  },
  {
   "cell_type": "code",
   "execution_count": 45,
   "metadata": {
    "id": "XViE13u_sseE"
   },
   "outputs": [],
   "source": [
    "#Importing train_test_split function from module model_selection in library sklearn\n",
    "from sklearn.model_selection import train_test_split\n",
    "\n",
    "#Doing a train test split with test_size of 0.20\n",
    "X_train, X_test, y_train, y_test = train_test_split(X,y, test_size=0.20)"
   ]
  },
  {
   "cell_type": "code",
   "execution_count": null,
   "metadata": {
    "colab": {
     "base_uri": "https://localhost:8080/"
    },
    "id": "8C5KAbp6tuqs",
    "outputId": "45712559-6d36-4ca2-8c16-c924fe785aad"
   },
   "outputs": [
    {
     "data": {
      "text/plain": [
       "41420    today marks third day work tomorrow marks last...\n",
       "95978    ok day new job company little behind times sin...\n",
       "87561    man last night sleep knew wake early morning r...\n",
       "35213    elizabeth grudge sparrow gets uptite someone t...\n",
       "62639    wasting time money great summer oh yah yesterd...\n",
       "                               ...                        \n",
       "39534    believe destiny see movie got tickets matrix r...\n",
       "77888    sure belong nowhere home wrong sympathy goo go...\n",
       "38346    graduation growing closer closer exciting nerv...\n",
       "84737    coolest song urllink josh groban josh groban d...\n",
       "24105    watch stupid get scared stinky poop currently ...\n",
       "Name: text, Length: 50936, dtype: object"
      ]
     },
     "execution_count": 59,
     "metadata": {},
     "output_type": "execute_result"
    }
   ],
   "source": [
    "X_train"
   ]
  },
  {
   "cell_type": "markdown",
   "metadata": {
    "id": "wOvqYkmythtq"
   },
   "source": [
    "we will create bag of words using countvectorizer"
   ]
  },
  {
   "cell_type": "code",
   "execution_count": null,
   "metadata": {
    "id": "6oHcuBhDtXJd"
   },
   "outputs": [],
   "source": [
    "#Importing CountVectorizer function from feature_extraction.text submodule in sklearn library\n",
    "from sklearn.feature_extraction.text import CountVectorizer\n",
    "\n",
    "#define vectorizer parameters\n",
    "vectorizer = CountVectorizer(ngram_range=(1,2))\n",
    "\n",
    "#Creating document-term matrix\n",
    "X_train_vect = vectorizer.fit_transform(X_train)"
   ]
  },
  {
   "cell_type": "code",
   "execution_count": null,
   "metadata": {
    "id": "wYTX8apMtmbb"
   },
   "outputs": [],
   "source": [
    "#Doing transform on X_test\n",
    "X_test_vect = vectorizer.transform(X_test)"
   ]
  },
  {
   "cell_type": "code",
   "execution_count": null,
   "metadata": {
    "colab": {
     "base_uri": "https://localhost:8080/"
    },
    "id": "4W-d8DdGwmn-",
    "outputId": "f19ea5e6-1250-4ec5-bc75-63252d698173"
   },
   "outputs": [
    {
     "name": "stdout",
     "output_type": "stream",
     "text": [
      "{'female': 21428, '17': 1, 'Fashion': 1476, 'Taurus': 4053, '25': 1, 'Student': 17062, '23': 1, 'Education': 4286, 'Leo': 4290, '15': 1, 'Cancer': 4571, '42': 1, 'Consulting': 668, 'male': 29508, 'Gemini': 4839, '34': 1, 'Aquarius': 4530, '24': 1, 'Technology': 6437, 'Libra': 3278, 'Capricorn': 5042, '26': 1, 'Government': 1552, 'Communications-Media': 2100, '37': 1, 'Manufacturing': 412, 'Virgo': 3990, 'Arts': 3859, '27': 1, 'Sagittarius': 2724, '16': 1, '33': 1, 'Internet': 1647, 'Publishing': 831, 'Religion': 857, '35': 1, 'Aries': 5387, '14': 1, '39': 1, 'Scorpio': 3729, '36': 1, 'Maritime': 49, 'Engineering': 1787, 'Architecture': 57, 'Agriculture': 132, 'Marketing': 540, 'Pisces': 4503, 'Military': 605, 'BusinessServices': 493, '40': 1, 'Science': 786, '45': 1, '13': 1, '41': 1, 'Sports-Recreation': 324, '46': 1, 'Non-Profit': 1036, 'LawEnforcement-Security': 290, '48': 1, 'Advertising': 530, 'Law': 278, 'Biotech': 262, 'Chemicals': 199, 'Transportation': 468, 'Automotive': 102, 'Accounting': 316, 'Construction': 185, 'Museums-Libraries': 240, '38': 1, '43': 1, 'HumanResources': 159, 'InvestmentBanking': 211, 'RealEstate': 128, 'Banking': 260, 'Telecommunications': 107, 'Tourism': 200, '47': 1, '44': 1, 'Environment': 5}\n"
     ]
    }
   ],
   "source": [
    "#Creating blank dictionary for Training Labels\n",
    "label_count_train = dict()\n",
    "\n",
    "#For each record in training labels\n",
    "for record in y_train:\n",
    "    #For each listitem in the record\n",
    "    for label in record:\n",
    "        #Checking if label is new one\n",
    "        if label not in label_count_train.keys():\n",
    "            #Storing new labels in dictionary and registering a count of 1\n",
    "            label_count_train[str(label)] = 1\n",
    "        #Else\n",
    "        else:\n",
    "            #Increment the count for label in dictionary\n",
    "            label_count_train[str(label)] += 1\n",
    "#Printing the dictionary for training set labels\n",
    "print(label_count_train)"
   ]
  },
  {
   "cell_type": "code",
   "execution_count": null,
   "metadata": {
    "colab": {
     "base_uri": "https://localhost:8080/"
    },
    "id": "ATGtDZsgwwJJ",
    "outputId": "e908ff35-36a4-46d8-ab62-8d7c193f5f00"
   },
   "outputs": [
    {
     "name": "stdout",
     "output_type": "stream",
     "text": [
      "{'male': 7417, '15': 1, 'Student': 4226, 'Sagittarius': 700, 'female': 5318, '14': 1, 'Arts': 1007, 'Taurus': 981, '17': 1, 'Pisces': 1112, '16': 1, 'Leo': 1033, '40': 1, 'Communications-Media': 500, '26': 1, 'Technology': 1611, 'Scorpio': 922, 'Government': 414, '34': 1, 'Biotech': 58, 'Aries': 1382, 'Virgo': 1074, 'Capricorn': 1241, '23': 1, 'Aquarius': 1156, '35': 1, '27': 1, 'Manufacturing': 125, 'Cancer': 1132, 'Education': 1063, 'Gemini': 1208, '36': 1, 'Fashion': 358, 'Engineering': 432, 'Museums-Libraries': 60, 'Marketing': 148, 'Accounting': 82, '24': 1, 'Transportation': 129, '33': 1, 'Internet': 399, '37': 1, 'Religion': 199, 'HumanResources': 43, '25': 1, 'Banking': 67, '45': 1, 'Science': 220, '46': 1, 'Consulting': 178, '39': 1, 'BusinessServices': 109, 'Sports-Recreation': 78, 'Non-Profit': 253, '43': 1, 'Libra': 794, 'Law': 63, 'InvestmentBanking': 29, 'Advertising': 149, 'Military': 158, '41': 1, '13': 1, '47': 1, 'Architecture': 17, 'Publishing': 217, 'Construction': 56, '48': 1, 'Telecommunications': 38, 'Agriculture': 22, '44': 1, 'Chemicals': 60, '38': 1, 'LawEnforcement-Security': 67, 'Tourism': 47, '42': 1, 'RealEstate': 21, 'Maritime': 10, 'Automotive': 22}\n"
     ]
    }
   ],
   "source": [
    "#Creating blank dictionary for Testing Labels\n",
    "label_count_test = dict()\n",
    "\n",
    "#For each record in testing labels\n",
    "for record in y_test:\n",
    "    #For each listitem in the record\n",
    "    for label in record:\n",
    "        #Checking if label is new one\n",
    "        if label not in label_count_test.keys():\n",
    "            #Storing new labels in dictionary and registering a count of 1\n",
    "            label_count_test[str(label)] = 1\n",
    "        #Else\n",
    "        else:\n",
    "            #Increment the count for label in dictionary\n",
    "            label_count_test[str(label)] += 1\n",
    "#Printing the dictionary for testing set labels\n",
    "print(label_count_test)"
   ]
  },
  {
   "cell_type": "code",
   "execution_count": null,
   "metadata": {
    "id": "ZXTu1L_qw-15"
   },
   "outputs": [],
   "source": [
    "#Importing MultiLabelBinarizer sub-module from preprocessing module in sklearn library\n",
    "from sklearn.preprocessing import MultiLabelBinarizer\n",
    "\n",
    "#To get rid of numbers from y_train\n",
    "x = []\n",
    "for i in y_train:\n",
    "    l = list()\n",
    "    for j in i:\n",
    "        l.append(str(j))\n",
    "    x.append(l)\n",
    "y_train = x\n",
    "\n",
    "#To get rid of numbers from y_test\n",
    "x = []\n",
    "for i in y_test:\n",
    "    l = list()\n",
    "    for j in i:\n",
    "        l.append(str(j))\n",
    "    x.append(l)\n",
    "y_test = x\n",
    "\n",
    "#Deleting temporary variable x\n",
    "del x\n",
    "\n",
    "#Initialize MultiLabelBinarizer\n",
    "mlb = MultiLabelBinarizer()\n",
    "\n",
    "#Fitting MultiLabelBinarizer with training Labels & transforming it to get them in One-hot encoded form\n",
    "label_train = mlb.fit_transform(y_train)\n",
    "\n",
    "#Transforming testing Labels to get them in One-hot encoded form\n",
    "label_test = mlb.transform(y_test)"
   ]
  },
  {
   "cell_type": "code",
   "execution_count": null,
   "metadata": {
    "colab": {
     "base_uri": "https://localhost:8080/"
    },
    "id": "Y8BWG_5E8YjH",
    "outputId": "e9c0d4a4-cc87-4fc9-a52e-826ded139dcb"
   },
   "outputs": [
    {
     "data": {
      "text/plain": [
       "array([[0, 0, 0, ..., 0, 1, 0],\n",
       "       [0, 0, 0, ..., 0, 1, 0],\n",
       "       [0, 0, 0, ..., 0, 1, 0],\n",
       "       ...,\n",
       "       [0, 0, 0, ..., 0, 0, 1],\n",
       "       [0, 0, 0, ..., 1, 0, 1],\n",
       "       [0, 0, 0, ..., 0, 1, 0]])"
      ]
     },
     "execution_count": 75,
     "metadata": {},
     "output_type": "execute_result"
    }
   ],
   "source": [
    "label_train"
   ]
  },
  {
   "cell_type": "markdown",
   "metadata": {
    "id": "4iI2qgyGxHeE"
   },
   "source": [
    "n this task, we suggest using the One-vs-Rest approach, which is implemented in OneVsRestClassifier class. In this approach k classifiers (= number of tags) are trained. As a basic classifier, use LogisticRegression. It is one of the simplest methods, but often it performs good enough in text classification tasks. It might take some time because the number of classifiers to train is large."
   ]
  },
  {
   "cell_type": "code",
   "execution_count": null,
   "metadata": {
    "id": "oqHP0KouxJzB"
   },
   "outputs": [],
   "source": [
    "#Importing OneVsRestClassfier sub-module from multiclass module in sklearn library\n",
    "from sklearn.multiclass import OneVsRestClassifier\n",
    "\n",
    "#Importing LogisticRegression sub-module from linear_model module in sklearn library\n",
    "from sklearn.linear_model import LogisticRegression\n",
    "\n",
    "#Initializing LogisticRegression model with lbfgs solver\n",
    "clf = LogisticRegression(solver='lbfgs',max_iter=100)\n",
    "\n",
    "#Wrapping it up in OneVsRestClassifier\n",
    "clf = OneVsRestClassifier(clf)"
   ]
  },
  {
   "cell_type": "code",
   "execution_count": null,
   "metadata": {
    "colab": {
     "base_uri": "https://localhost:8080/"
    },
    "id": "ckiLnO27xO9N",
    "outputId": "789f1df2-bb82-4bed-92c3-aeb47d1e6e5a"
   },
   "outputs": [
    {
     "data": {
      "text/plain": [
       "OneVsRestClassifier(estimator=LogisticRegression())"
      ]
     },
     "execution_count": 77,
     "metadata": {},
     "output_type": "execute_result"
    }
   ],
   "source": [
    "#Fitting the OVR model on training dataset\n",
    "clf.fit(X_train_vect, label_train)"
   ]
  },
  {
   "cell_type": "code",
   "execution_count": null,
   "metadata": {
    "id": "KaXAROAsxlq1"
   },
   "outputs": [],
   "source": [
    "#Predicting labels for training features\n",
    "label_pred = clf.predict(X_test_vect)"
   ]
  },
  {
   "cell_type": "code",
   "execution_count": null,
   "metadata": {
    "colab": {
     "base_uri": "https://localhost:8080/"
    },
    "id": "sswUaGYMxrkA",
    "outputId": "a1e969b3-e004-4638-ed6f-0b0a757bbc24"
   },
   "outputs": [
    {
     "name": "stdout",
     "output_type": "stream",
     "text": [
      "Accuracy: 0.12359638790734197\n",
      "F1: 0.5070374987015686\n",
      "Average Precision: 0.7487728179168585\n",
      "Average Recall: 0.38329407145661565\n"
     ]
    }
   ],
   "source": [
    "#Importing accuracy_score, f1_score, precision_score, recall_score sub-modules from metrics module in sklearn library\n",
    "from sklearn.metrics import accuracy_score, f1_score, precision_score, recall_score\n",
    "\n",
    "#Printing Accuracy, F1, Average Precision & Average Recall using micro averaging\n",
    "print('Accuracy:', accuracy_score(label_test, label_pred))\n",
    "print('F1:', f1_score(label_test, label_pred, average='micro'))\n",
    "print('Average Precision:', precision_score(label_test, label_pred, average='micro'))\n",
    "print('Average Recall:', recall_score(label_test, label_pred, average='micro'))"
   ]
  },
  {
   "cell_type": "markdown",
   "metadata": {
    "id": "quH_6LBoOuoL"
   },
   "source": [
    "Accuracy of logistic regression is too low "
   ]
  },
  {
   "cell_type": "markdown",
   "metadata": {
    "id": "rGuzy_aiPW10"
   },
   "source": [
    "**Improve Performance of model.**\n",
    "\n",
    "A. Experiment with other vectorisers.\n",
    "\n",
    "B. Build classifier Models using other algorithms than base model.\n",
    "\n",
    "C. Tune Parameters/Hyperparameters of the model/s.\n",
    "\n",
    "D. Clearly print Performance Metrics."
   ]
  },
  {
   "cell_type": "code",
   "execution_count": 32,
   "metadata": {
    "id": "8VZO_lvW4pay"
   },
   "outputs": [],
   "source": [
    "df4= df3.copy()"
   ]
  },
  {
   "cell_type": "code",
   "execution_count": 46,
   "metadata": {
    "colab": {
     "base_uri": "https://localhost:8080/",
     "height": 424
    },
    "id": "Xjs51UM_6kAX",
    "outputId": "698b9d92-bb17-46db-9a0e-a34438439e36"
   },
   "outputs": [
    {
     "data": {
      "text/html": [
       "\n",
       "  <div id=\"df-5278c45d-ffb8-49c0-a0f8-324086926c1a\">\n",
       "    <div class=\"colab-df-container\">\n",
       "      <div>\n",
       "<style scoped>\n",
       "    .dataframe tbody tr th:only-of-type {\n",
       "        vertical-align: middle;\n",
       "    }\n",
       "\n",
       "    .dataframe tbody tr th {\n",
       "        vertical-align: top;\n",
       "    }\n",
       "\n",
       "    .dataframe thead th {\n",
       "        text-align: right;\n",
       "    }\n",
       "</style>\n",
       "<table border=\"1\" class=\"dataframe\">\n",
       "  <thead>\n",
       "    <tr style=\"text-align: right;\">\n",
       "      <th></th>\n",
       "      <th>id</th>\n",
       "      <th>gender</th>\n",
       "      <th>age</th>\n",
       "      <th>topic</th>\n",
       "      <th>sign</th>\n",
       "      <th>date</th>\n",
       "      <th>text</th>\n",
       "    </tr>\n",
       "  </thead>\n",
       "  <tbody>\n",
       "    <tr>\n",
       "      <th>0</th>\n",
       "      <td>2059027</td>\n",
       "      <td>male</td>\n",
       "      <td>15</td>\n",
       "      <td>34</td>\n",
       "      <td>Leo</td>\n",
       "      <td>14,May,2004</td>\n",
       "      <td>info found pages mb pdf files wait untill team...</td>\n",
       "    </tr>\n",
       "    <tr>\n",
       "      <th>2</th>\n",
       "      <td>2059027</td>\n",
       "      <td>male</td>\n",
       "      <td>15</td>\n",
       "      <td>34</td>\n",
       "      <td>Leo</td>\n",
       "      <td>12,May,2004</td>\n",
       "      <td>het kader van kernfusie op aarde maak je eigen...</td>\n",
       "    </tr>\n",
       "    <tr>\n",
       "      <th>3</th>\n",
       "      <td>2059027</td>\n",
       "      <td>male</td>\n",
       "      <td>15</td>\n",
       "      <td>34</td>\n",
       "      <td>Leo</td>\n",
       "      <td>12,May,2004</td>\n",
       "      <td>testing testing</td>\n",
       "    </tr>\n",
       "    <tr>\n",
       "      <th>4</th>\n",
       "      <td>3581210</td>\n",
       "      <td>male</td>\n",
       "      <td>33</td>\n",
       "      <td>20</td>\n",
       "      <td>Aquarius</td>\n",
       "      <td>11,June,2004</td>\n",
       "      <td>thanks yahoo toolbar capture urls popups means...</td>\n",
       "    </tr>\n",
       "    <tr>\n",
       "      <th>5</th>\n",
       "      <td>3581210</td>\n",
       "      <td>male</td>\n",
       "      <td>33</td>\n",
       "      <td>20</td>\n",
       "      <td>Aquarius</td>\n",
       "      <td>10,June,2004</td>\n",
       "      <td>interesting conversation dad morning talking k...</td>\n",
       "    </tr>\n",
       "    <tr>\n",
       "      <th>...</th>\n",
       "      <td>...</td>\n",
       "      <td>...</td>\n",
       "      <td>...</td>\n",
       "      <td>...</td>\n",
       "      <td>...</td>\n",
       "      <td>...</td>\n",
       "      <td>...</td>\n",
       "    </tr>\n",
       "    <tr>\n",
       "      <th>99995</th>\n",
       "      <td>1709399</td>\n",
       "      <td>male</td>\n",
       "      <td>27</td>\n",
       "      <td>34</td>\n",
       "      <td>Virgo</td>\n",
       "      <td>18,September,2003</td>\n",
       "      <td>hindu years great see special edition hindu co...</td>\n",
       "    </tr>\n",
       "    <tr>\n",
       "      <th>99996</th>\n",
       "      <td>1709399</td>\n",
       "      <td>male</td>\n",
       "      <td>27</td>\n",
       "      <td>34</td>\n",
       "      <td>Virgo</td>\n",
       "      <td>16,September,2003</td>\n",
       "      <td>dilbert iit ans global iit brand finds space u...</td>\n",
       "    </tr>\n",
       "    <tr>\n",
       "      <th>99997</th>\n",
       "      <td>1709399</td>\n",
       "      <td>male</td>\n",
       "      <td>27</td>\n",
       "      <td>34</td>\n",
       "      <td>Virgo</td>\n",
       "      <td>12,September,2003</td>\n",
       "      <td>case study hp billion p g outsourcing deal bea...</td>\n",
       "    </tr>\n",
       "    <tr>\n",
       "      <th>99998</th>\n",
       "      <td>1709399</td>\n",
       "      <td>male</td>\n",
       "      <td>27</td>\n",
       "      <td>34</td>\n",
       "      <td>Virgo</td>\n",
       "      <td>09,September,2003</td>\n",
       "      <td>championing chennai bangalore iim hyderabad ho...</td>\n",
       "    </tr>\n",
       "    <tr>\n",
       "      <th>99999</th>\n",
       "      <td>1709399</td>\n",
       "      <td>male</td>\n",
       "      <td>27</td>\n",
       "      <td>34</td>\n",
       "      <td>Virgo</td>\n",
       "      <td>05,September,2003</td>\n",
       "      <td>weekend turned rather interesting different we...</td>\n",
       "    </tr>\n",
       "  </tbody>\n",
       "</table>\n",
       "<p>63651 rows × 7 columns</p>\n",
       "</div>\n",
       "      <button class=\"colab-df-convert\" onclick=\"convertToInteractive('df-5278c45d-ffb8-49c0-a0f8-324086926c1a')\"\n",
       "              title=\"Convert this dataframe to an interactive table.\"\n",
       "              style=\"display:none;\">\n",
       "        \n",
       "  <svg xmlns=\"http://www.w3.org/2000/svg\" height=\"24px\"viewBox=\"0 0 24 24\"\n",
       "       width=\"24px\">\n",
       "    <path d=\"M0 0h24v24H0V0z\" fill=\"none\"/>\n",
       "    <path d=\"M18.56 5.44l.94 2.06.94-2.06 2.06-.94-2.06-.94-.94-2.06-.94 2.06-2.06.94zm-11 1L8.5 8.5l.94-2.06 2.06-.94-2.06-.94L8.5 2.5l-.94 2.06-2.06.94zm10 10l.94 2.06.94-2.06 2.06-.94-2.06-.94-.94-2.06-.94 2.06-2.06.94z\"/><path d=\"M17.41 7.96l-1.37-1.37c-.4-.4-.92-.59-1.43-.59-.52 0-1.04.2-1.43.59L10.3 9.45l-7.72 7.72c-.78.78-.78 2.05 0 2.83L4 21.41c.39.39.9.59 1.41.59.51 0 1.02-.2 1.41-.59l7.78-7.78 2.81-2.81c.8-.78.8-2.07 0-2.86zM5.41 20L4 18.59l7.72-7.72 1.47 1.35L5.41 20z\"/>\n",
       "  </svg>\n",
       "      </button>\n",
       "      \n",
       "  <style>\n",
       "    .colab-df-container {\n",
       "      display:flex;\n",
       "      flex-wrap:wrap;\n",
       "      gap: 12px;\n",
       "    }\n",
       "\n",
       "    .colab-df-convert {\n",
       "      background-color: #E8F0FE;\n",
       "      border: none;\n",
       "      border-radius: 50%;\n",
       "      cursor: pointer;\n",
       "      display: none;\n",
       "      fill: #1967D2;\n",
       "      height: 32px;\n",
       "      padding: 0 0 0 0;\n",
       "      width: 32px;\n",
       "    }\n",
       "\n",
       "    .colab-df-convert:hover {\n",
       "      background-color: #E2EBFA;\n",
       "      box-shadow: 0px 1px 2px rgba(60, 64, 67, 0.3), 0px 1px 3px 1px rgba(60, 64, 67, 0.15);\n",
       "      fill: #174EA6;\n",
       "    }\n",
       "\n",
       "    [theme=dark] .colab-df-convert {\n",
       "      background-color: #3B4455;\n",
       "      fill: #D2E3FC;\n",
       "    }\n",
       "\n",
       "    [theme=dark] .colab-df-convert:hover {\n",
       "      background-color: #434B5C;\n",
       "      box-shadow: 0px 1px 3px 1px rgba(0, 0, 0, 0.15);\n",
       "      filter: drop-shadow(0px 1px 2px rgba(0, 0, 0, 0.3));\n",
       "      fill: #FFFFFF;\n",
       "    }\n",
       "  </style>\n",
       "\n",
       "      <script>\n",
       "        const buttonEl =\n",
       "          document.querySelector('#df-5278c45d-ffb8-49c0-a0f8-324086926c1a button.colab-df-convert');\n",
       "        buttonEl.style.display =\n",
       "          google.colab.kernel.accessAllowed ? 'block' : 'none';\n",
       "\n",
       "        async function convertToInteractive(key) {\n",
       "          const element = document.querySelector('#df-5278c45d-ffb8-49c0-a0f8-324086926c1a');\n",
       "          const dataTable =\n",
       "            await google.colab.kernel.invokeFunction('convertToInteractive',\n",
       "                                                     [key], {});\n",
       "          if (!dataTable) return;\n",
       "\n",
       "          const docLinkHtml = 'Like what you see? Visit the ' +\n",
       "            '<a target=\"_blank\" href=https://colab.research.google.com/notebooks/data_table.ipynb>data table notebook</a>'\n",
       "            + ' to learn more about interactive tables.';\n",
       "          element.innerHTML = '';\n",
       "          dataTable['output_type'] = 'display_data';\n",
       "          await google.colab.output.renderOutput(dataTable, element);\n",
       "          const docLink = document.createElement('div');\n",
       "          docLink.innerHTML = docLinkHtml;\n",
       "          element.appendChild(docLink);\n",
       "        }\n",
       "      </script>\n",
       "    </div>\n",
       "  </div>\n",
       "  "
      ],
      "text/plain": [
       "            id gender  age  topic      sign               date  \\\n",
       "0      2059027   male   15     34       Leo        14,May,2004   \n",
       "2      2059027   male   15     34       Leo        12,May,2004   \n",
       "3      2059027   male   15     34       Leo        12,May,2004   \n",
       "4      3581210   male   33     20  Aquarius       11,June,2004   \n",
       "5      3581210   male   33     20  Aquarius       10,June,2004   \n",
       "...        ...    ...  ...    ...       ...                ...   \n",
       "99995  1709399   male   27     34     Virgo  18,September,2003   \n",
       "99996  1709399   male   27     34     Virgo  16,September,2003   \n",
       "99997  1709399   male   27     34     Virgo  12,September,2003   \n",
       "99998  1709399   male   27     34     Virgo  09,September,2003   \n",
       "99999  1709399   male   27     34     Virgo  05,September,2003   \n",
       "\n",
       "                                                    text  \n",
       "0      info found pages mb pdf files wait untill team...  \n",
       "2      het kader van kernfusie op aarde maak je eigen...  \n",
       "3                                        testing testing  \n",
       "4      thanks yahoo toolbar capture urls popups means...  \n",
       "5      interesting conversation dad morning talking k...  \n",
       "...                                                  ...  \n",
       "99995  hindu years great see special edition hindu co...  \n",
       "99996  dilbert iit ans global iit brand finds space u...  \n",
       "99997  case study hp billion p g outsourcing deal bea...  \n",
       "99998  championing chennai bangalore iim hyderabad ho...  \n",
       "99999  weekend turned rather interesting different we...  \n",
       "\n",
       "[63651 rows x 7 columns]"
      ]
     },
     "execution_count": 46,
     "metadata": {},
     "output_type": "execute_result"
    }
   ],
   "source": [
    "df4"
   ]
  },
  {
   "cell_type": "code",
   "execution_count": 47,
   "metadata": {
    "id": "6JYSIfYY3YJL"
   },
   "outputs": [],
   "source": [
    "from sklearn.preprocessing import LabelEncoder\n",
    "le=LabelEncoder()\n",
    "df4['topic']=le.fit_transform(df4['topic'])"
   ]
  },
  {
   "cell_type": "code",
   "execution_count": 48,
   "metadata": {
    "colab": {
     "base_uri": "https://localhost:8080/"
    },
    "id": "D0O-ltxh31m4",
    "outputId": "44b33f04-d33c-4a6f-87a4-981a5f062e86"
   },
   "outputs": [
    {
     "data": {
      "text/plain": [
       "0        34\n",
       "2        34\n",
       "3        34\n",
       "4        20\n",
       "5        20\n",
       "         ..\n",
       "99995    34\n",
       "99996    34\n",
       "99997    34\n",
       "99998    34\n",
       "99999    34\n",
       "Name: topic, Length: 63651, dtype: int64"
      ]
     },
     "execution_count": 48,
     "metadata": {},
     "output_type": "execute_result"
    }
   ],
   "source": [
    "df4['topic']"
   ]
  },
  {
   "cell_type": "code",
   "execution_count": 49,
   "metadata": {
    "id": "rKf-bzzmxrqr"
   },
   "outputs": [],
   "source": [
    "X_train, X_test, y_train, y_test = train_test_split(df4['text'], df4['topic'], test_size=0.20)"
   ]
  },
  {
   "cell_type": "code",
   "execution_count": 50,
   "metadata": {
    "id": "rzFpIINCSibU"
   },
   "outputs": [],
   "source": [
    "from sklearn.feature_extraction.text import TfidfVectorizer"
   ]
  },
  {
   "cell_type": "code",
   "execution_count": 51,
   "metadata": {
    "id": "tabRwZykSVZk"
   },
   "outputs": [],
   "source": [
    "tfidf = TfidfVectorizer(stop_words='english')\n",
    "tfidf.fit(X_train)\n",
    "X_train_tfidf = tfidf.transform(X_train)\n",
    "X_test_tfidf = tfidf.transform(X_test)\n",
    "test_tfidf = tfidf.transform(df4['text'])"
   ]
  },
  {
   "cell_type": "code",
   "execution_count": null,
   "metadata": {
    "id": "nOwS8td7Cnar"
   },
   "outputs": [],
   "source": [
    "from sklearn.tree import DecisionTreeClassifier"
   ]
  },
  {
   "cell_type": "code",
   "execution_count": null,
   "metadata": {
    "colab": {
     "background_save": true
    },
    "id": "QrF6W53fChV5",
    "outputId": "3146738f-87c6-4374-9b12-ee88a32233a4"
   },
   "outputs": [
    {
     "name": "stdout",
     "output_type": "stream",
     "text": [
      "Accuracy of DT 33.938108702481934\n"
     ]
    }
   ],
   "source": [
    "DT = DecisionTreeClassifier()\n",
    "DT.fit(X_train_tfidf, y_train)\n",
    "pldt = DT.predict(X_test_tfidf)\n",
    "#pldtt = DT.predict(x)\n",
    "srdt=DT.score(X_test_tfidf, y_test)\n",
    "print(\"Accuracy of DT\",srdt*100)"
   ]
  },
  {
   "cell_type": "code",
   "execution_count": null,
   "metadata": {
    "colab": {
     "background_save": true
    },
    "id": "cfPSMt9645TJ",
    "outputId": "12fad054-685a-4a53-9cb9-fb20eac6b54f"
   },
   "outputs": [
    {
     "name": "stdout",
     "output_type": "stream",
     "text": [
      "0.4116722959704658\n"
     ]
    }
   ],
   "source": [
    "from sklearn.ensemble import RandomForestClassifier\n",
    "from sklearn.metrics import confusion_matrix, classification_report\n",
    "rf = RandomForestClassifier()\n",
    "rf.fit(X_train_tfidf, y_train)\n",
    "print(rf.score(X_test_tfidf, y_test))\n",
    "predictions = rf.predict(X_test_tfidf)\n"
   ]
  },
  {
   "cell_type": "code",
   "execution_count": null,
   "metadata": {
    "colab": {
     "base_uri": "https://localhost:8080/"
    },
    "id": "VrGLb9YU9aU_",
    "outputId": "e6d64d0b-0063-414b-a957-ea496e5a6775"
   },
   "outputs": [
    {
     "name": "stdout",
     "output_type": "stream",
     "text": [
      "              precision    recall  f1-score   support\n",
      "\n",
      "           0       0.00      0.00      0.00        79\n",
      "           1       0.57      0.06      0.10       139\n",
      "           2       1.00      0.07      0.13        28\n",
      "           3       0.00      0.00      0.00        17\n",
      "           4       0.73      0.05      0.10       943\n",
      "           5       0.00      0.00      0.00        18\n",
      "           6       1.00      0.02      0.04        52\n",
      "           7       0.50      0.02      0.04        55\n",
      "           8       0.00      0.00      0.00       114\n",
      "           9       1.00      0.06      0.12        47\n",
      "          10       0.54      0.06      0.10       508\n",
      "          11       0.00      0.00      0.00        63\n",
      "          12       0.43      0.02      0.03       171\n",
      "          13       0.79      0.21      0.33      1082\n",
      "          14       0.47      0.03      0.06       428\n",
      "          16       0.95      0.37      0.53       396\n",
      "          17       0.90      0.24      0.38       392\n",
      "          18       0.50      0.03      0.05        37\n",
      "          19       0.42      0.03      0.06       422\n",
      "          20       1.00      0.03      0.05        39\n",
      "          21       1.00      0.02      0.04        53\n",
      "          22       0.83      0.07      0.12        75\n",
      "          23       0.80      0.04      0.07       111\n",
      "          24       0.00      0.00      0.00        16\n",
      "          25       0.50      0.04      0.07       126\n",
      "          26       0.44      0.03      0.05       157\n",
      "          27       0.91      0.34      0.49        62\n",
      "          28       0.25      0.00      0.01       269\n",
      "          29       1.00      0.12      0.21       216\n",
      "          30       1.00      0.03      0.05        36\n",
      "          31       0.55      0.03      0.05       222\n",
      "          32       0.85      0.09      0.16       197\n",
      "          33       1.00      0.06      0.12        79\n",
      "          34       0.38      0.95      0.54      4221\n",
      "          35       0.46      0.32      0.38      1651\n",
      "          36       0.44      0.13      0.20        31\n",
      "          37       0.00      0.00      0.00        57\n",
      "          38       1.00      0.43      0.60       125\n",
      "\n",
      "    accuracy                           0.42     12734\n",
      "   macro avg       0.58      0.10      0.14     12734\n",
      "weighted avg       0.54      0.42      0.32     12734\n",
      "\n"
     ]
    }
   ],
   "source": [
    "print(classification_report(y_test, predictions))"
   ]
  },
  {
   "cell_type": "code",
   "execution_count": 52,
   "metadata": {
    "id": "Pqzm8ML8c8UG"
   },
   "outputs": [],
   "source": [
    "from sklearn.ensemble import RandomForestClassifier\n",
    "from sklearn.metrics import confusion_matrix, classification_report"
   ]
  },
  {
   "cell_type": "code",
   "execution_count": 40,
   "metadata": {
    "id": "uo8heUess7Nx"
   },
   "outputs": [],
   "source": [
    "n_estimators = [int(x) for x in np.linspace(start = 1, stop = 20, num = 20)] # number of trees in the random forest\n",
    "max_features = ['auto', 'sqrt'] # number of features in consideration at every split\n",
    "max_depth = [int(x) for x in np.linspace(120, 200, num = 20)] # maximum number of levels allowed in each decision tree\n",
    "min_samples_split = [2, 6, 10] # minimum sample number to split a node\n",
    "min_samples_leaf = [1, 3, 4] # minimum sample number that can be stored in a leaf node\n",
    "\n",
    "\n",
    "random_grid = {'n_estimators': n_estimators,\n",
    "\n",
    "'max_depth': max_depth,\n",
    "\n",
    "'min_samples_split': min_samples_split,\n",
    "\n",
    "'min_samples_leaf': min_samples_leaf,\n",
    "\n",
    "}\n",
    "rf1 = RandomForestClassifier()"
   ]
  },
  {
   "cell_type": "code",
   "execution_count": 53,
   "metadata": {
    "colab": {
     "base_uri": "https://localhost:8080/"
    },
    "id": "QtpKn_Et2RUF",
    "outputId": "1a7ec363-b23c-41e1-cb10-7d96b81c5d45"
   },
   "outputs": [
    {
     "name": "stdout",
     "output_type": "stream",
     "text": [
      "Fitting 3 folds for each of 100 candidates, totalling 300 fits\n"
     ]
    },
    {
     "data": {
      "text/plain": [
       "RandomizedSearchCV(cv=3, estimator=RandomForestClassifier(), n_iter=100,\n",
       "                   n_jobs=-1,\n",
       "                   param_distributions={'max_depth': [120, 124, 128, 132, 136,\n",
       "                                                      141, 145, 149, 153, 157,\n",
       "                                                      162, 166, 170, 174, 178,\n",
       "                                                      183, 187, 191, 195, 200],\n",
       "                                        'min_samples_leaf': [1, 3, 4],\n",
       "                                        'min_samples_split': [2, 6, 10],\n",
       "                                        'n_estimators': [1, 2, 3, 4, 5, 6, 7, 8,\n",
       "                                                         9, 10, 11, 12, 13, 14,\n",
       "                                                         15, 16, 17, 18, 19,\n",
       "                                                         20]},\n",
       "                   random_state=35, verbose=2)"
      ]
     },
     "execution_count": 53,
     "metadata": {},
     "output_type": "execute_result"
    }
   ],
   "source": [
    "from sklearn.model_selection import RandomizedSearchCV\n",
    "rf_random = RandomizedSearchCV(estimator = rf1,\n",
    "\n",
    "param_distributions = random_grid,\n",
    "               n_iter = 100, cv = 3, verbose=2, random_state=35, n_jobs = -1)\n",
    "rf_random.fit(X_train_tfidf, y_train)"
   ]
  },
  {
   "cell_type": "code",
   "execution_count": 54,
   "metadata": {
    "colab": {
     "base_uri": "https://localhost:8080/"
    },
    "id": "dNyczGYW4ti7",
    "outputId": "35b657a5-f6c5-41ba-d7cc-12a01128de31"
   },
   "outputs": [
    {
     "name": "stdout",
     "output_type": "stream",
     "text": [
      "Best Parameters:  {'n_estimators': 14, 'min_samples_split': 6, 'min_samples_leaf': 1, 'max_depth': 195}  \n",
      "\n",
      "\n",
      " Best estimator:\n",
      "RandomForestClassifier(max_depth=195, min_samples_split=6, n_estimators=14)\n"
     ]
    }
   ],
   "source": [
    "# print the best parameters\n",
    "print ('Best Parameters: ', rf_random.best_params_, ' \\n')\n",
    "print('\\n Best estimator:')\n",
    "print(rf_random.best_estimator_)\n"
   ]
  },
  {
   "cell_type": "code",
   "execution_count": 55,
   "metadata": {
    "colab": {
     "base_uri": "https://localhost:8080/"
    },
    "id": "_Rt_SORfrM-U",
    "outputId": "17d5be20-cd92-4b12-926a-9745ecf6c81a"
   },
   "outputs": [
    {
     "name": "stdout",
     "output_type": "stream",
     "text": [
      "0.4028748723588092\n"
     ]
    }
   ],
   "source": [
    "rf2 = RandomForestClassifier(n_estimators=14, min_samples_split= 6,min_samples_leaf=1, max_depth= 195)\n",
    "rf2.fit(X_train_tfidf, y_train)\n",
    "print(rf2.score(X_test_tfidf, y_test))\n",
    "predictions = rf2.predict(X_test_tfidf)"
   ]
  },
  {
   "cell_type": "code",
   "execution_count": 56,
   "metadata": {
    "colab": {
     "base_uri": "https://localhost:8080/"
    },
    "id": "w1ZuYKtcfUGv",
    "outputId": "44b36c2b-ab3c-4d59-b859-c83239034dc1"
   },
   "outputs": [
    {
     "name": "stdout",
     "output_type": "stream",
     "text": [
      "              precision    recall  f1-score   support\n",
      "\n",
      "           0       0.00      0.00      0.00        93\n",
      "           1       0.83      0.10      0.18       148\n",
      "           2       0.00      0.00      0.00        34\n",
      "           3       0.00      0.00      0.00        14\n",
      "           4       0.47      0.06      0.10       973\n",
      "           5       0.00      0.00      0.00        25\n",
      "           6       0.00      0.00      0.00        58\n",
      "           7       1.00      0.02      0.03        61\n",
      "           8       1.00      0.02      0.04       111\n",
      "           9       1.00      0.05      0.09        43\n",
      "          10       0.59      0.04      0.08       472\n",
      "          11       0.00      0.00      0.00        49\n",
      "          12       1.00      0.01      0.02       165\n",
      "          13       0.62      0.19      0.29      1062\n",
      "          14       0.68      0.06      0.10       460\n",
      "          15       0.00      0.00      0.00         1\n",
      "          16       0.91      0.29      0.44       336\n",
      "          17       0.93      0.16      0.27       400\n",
      "          18       0.00      0.00      0.00        39\n",
      "          19       0.50      0.01      0.02       408\n",
      "          20       0.00      0.00      0.00        45\n",
      "          21       0.00      0.00      0.00        82\n",
      "          22       1.00      0.06      0.11        67\n",
      "          23       0.80      0.04      0.07       108\n",
      "          24       0.00      0.00      0.00        16\n",
      "          25       0.00      0.00      0.00       131\n",
      "          26       0.75      0.02      0.04       146\n",
      "          27       0.76      0.27      0.40        60\n",
      "          28       0.00      0.00      0.00       263\n",
      "          29       0.95      0.11      0.20       191\n",
      "          30       0.00      0.00      0.00        23\n",
      "          31       0.86      0.03      0.05       227\n",
      "          32       0.89      0.08      0.15       214\n",
      "          33       0.60      0.04      0.07        82\n",
      "          34       0.38      0.97      0.54      4265\n",
      "          35       0.45      0.24      0.31      1674\n",
      "          36       0.00      0.00      0.00        22\n",
      "          37       0.00      0.00      0.00        51\n",
      "          38       1.00      0.34      0.51       112\n",
      "\n",
      "    accuracy                           0.40     12731\n",
      "   macro avg       0.46      0.08      0.11     12731\n",
      "weighted avg       0.51      0.40      0.30     12731\n",
      "\n"
     ]
    }
   ],
   "source": [
    "print(classification_report(y_test, predictions))"
   ]
  },
  {
   "cell_type": "markdown",
   "metadata": {
    "id": "hlc0PCCl8x4w"
   },
   "source": [
    "**Share insights on relative performance comparison**\n"
   ]
  },
  {
   "cell_type": "markdown",
   "metadata": {
    "id": "kjQ6OFswPgXz"
   },
   "source": [
    "**Which vectorizer performed better? Probable reason?.**\n",
    "\n",
    "Tfidf vectorizer outperformed count vectorizer. because it not only focuses on frequency of words present in corpus but also the importance of the words in the corpus. "
   ]
  },
  {
   "cell_type": "markdown",
   "metadata": {
    "id": "vFcgEUPQQlkC"
   },
   "source": [
    "**Which model outperformed? Probable reason?**\n",
    "\n",
    "Randomforest outperformed both logestic regression and Decision tree, this can be due to the fact that radom forest samples radomly from the data and creates decision trees based on them and add them to make a better classifier that helps to make better models for complex problems."
   ]
  },
  {
   "cell_type": "markdown",
   "metadata": {
    "id": "pMar3vxefeFp"
   },
   "source": [
    "**Which parameter/hyperparameter significantly helped to improve performance?Probable reason?**\n",
    "\n",
    "n estimators and height of the tree i.e. max depth has the most effect on the model. nestimetors decides how many tress will be created and max depth decides the depth of tree because of prunin of trees and selcetion of no of trees accuracy of model can be improved."
   ]
  },
  {
   "cell_type": "markdown",
   "metadata": {
    "id": "APY_pCW6gsps"
   },
   "source": [
    "**According to you, which performance metric should be given most importance, why?.**\n",
    "\n",
    "In calssifciation problem accueracy can be a good parameter, accuarcy gives how many true or false values are predicted correctly.f1 score is a great perfomance matric because its a mean of persion and recall so it gives a good idea of how good a model is turned out to be."
   ]
  },
  {
   "cell_type": "markdown",
   "metadata": {
    "id": "mfwNXt5tAsAl"
   },
   "source": [
    "## Part B"
   ]
  },
  {
   "cell_type": "markdown",
   "metadata": {
    "id": "ECeBIc0vA__4"
   },
   "source": [
    " Design a python based interactive semi - rule based chatbot which can do the following:\n",
    "1. Start chat session with greetings and ask what the user is looking for.\n",
    "2. Accept dynamic text based questions from the user. Reply back with relevant answer from the designed corpus.\n",
    "3. End the chat session only if the user requests to end else ask what the user is looking for. Loop continues till the user asks to end it."
   ]
  },
  {
   "cell_type": "code",
   "execution_count": null,
   "metadata": {
    "colab": {
     "base_uri": "https://localhost:8080/"
    },
    "id": "KRv96uWoYcpb",
    "outputId": "578f3f99-0d7a-4e7f-d79d-7ce100cdd997"
   },
   "outputs": [
    {
     "name": "stderr",
     "output_type": "stream",
     "text": [
      "[nltk_data] Downloading package wordnet to /root/nltk_data...\n",
      "[nltk_data] Downloading package punkt to /root/nltk_data...\n",
      "[nltk_data]   Unzipping tokenizers/punkt.zip.\n",
      "[nltk_data] Downloading package omw-1.4 to /root/nltk_data...\n"
     ]
    }
   ],
   "source": [
    "import nltk\n",
    "nltk.download('wordnet')\n",
    "nltk.download('punkt')\n",
    "nltk.download('omw-1.4')\n",
    "from nltk.stem import WordNetLemmatizer\n",
    "lemmatizer = WordNetLemmatizer()\n",
    "import json\n",
    "import pickle\n",
    "import numpy as np\n",
    "from keras.models import Sequential\n",
    "from keras.layers import Dense, Activation, Dropout\n",
    "from keras.optimizers import SGD\n",
    "import random"
   ]
  },
  {
   "cell_type": "code",
   "execution_count": null,
   "metadata": {
    "id": "FSA28BXzCpPx"
   },
   "outputs": [],
   "source": [
    "words=[]\n",
    "classes = []\n",
    "documents = []\n",
    "ignore_words = ['?', '!']\n",
    "data_file = open('drive/My Drive/Colab Notebooks/nlp1 project/GL Bot.json').read()\n",
    "intents = json.loads(data_file)"
   ]
  },
  {
   "cell_type": "code",
   "execution_count": null,
   "metadata": {
    "colab": {
     "base_uri": "https://localhost:8080/"
    },
    "id": "JhVcK5ViDFj_",
    "outputId": "e7723054-61df-4961-a0aa-a11f6ab70c9e"
   },
   "outputs": [
    {
     "data": {
      "text/plain": [
       "{'intents': [{'tag': 'Intro',\n",
       "   'patterns': ['hi',\n",
       "    'how are you',\n",
       "    'is anyone there',\n",
       "    'hello',\n",
       "    'whats up',\n",
       "    'hey',\n",
       "    'yo',\n",
       "    'listen',\n",
       "    'please help me',\n",
       "    'i am learner from',\n",
       "    'i belong to',\n",
       "    'aiml batch',\n",
       "    'aifl batch',\n",
       "    'i am from',\n",
       "    'my pm is',\n",
       "    'blended',\n",
       "    'online',\n",
       "    'i am from',\n",
       "    'hey ya',\n",
       "    'talking to you for first time'],\n",
       "   'responses': ['Hello! how can i help you ?'],\n",
       "   'context_set': ''},\n",
       "  {'tag': 'Exit',\n",
       "   'patterns': ['thank you',\n",
       "    'thanks',\n",
       "    'cya',\n",
       "    'see you',\n",
       "    'later',\n",
       "    'see you later',\n",
       "    'goodbye',\n",
       "    'i am leaving',\n",
       "    'have a Good day',\n",
       "    'you helped me',\n",
       "    'thanks a lot',\n",
       "    'thanks a ton',\n",
       "    'you are the best',\n",
       "    'great help',\n",
       "    'too good',\n",
       "    'you are a good learning buddy'],\n",
       "   'responses': ['I hope I was able to assist you, Good Bye'],\n",
       "   'context_set': ''},\n",
       "  {'tag': 'Olympus',\n",
       "   'patterns': ['olympus',\n",
       "    'explain me how olympus works',\n",
       "    'I am not able to understand olympus',\n",
       "    'olympus window not working',\n",
       "    'no access to olympus',\n",
       "    'unable to see link in olympus',\n",
       "    'no link visible on olympus',\n",
       "    'whom to contact for olympus',\n",
       "    'lot of problem with olympus',\n",
       "    'olypus is not a good tool',\n",
       "    'lot of problems with olympus',\n",
       "    'how to use olympus',\n",
       "    'teach me olympus'],\n",
       "   'responses': ['Link: Olympus wiki'],\n",
       "   'context_set': ''},\n",
       "  {'tag': 'SL',\n",
       "   'patterns': ['i am not able to understand svm',\n",
       "    'explain me how machine learning works',\n",
       "    'i am not able to understand naive bayes',\n",
       "    'i am not able to understand logistic regression',\n",
       "    'i am not able to understand ensemble techb=niques',\n",
       "    'i am not able to understand knn',\n",
       "    'i am not able to understand knn imputer',\n",
       "    'i am not able to understand cross validation',\n",
       "    'i am not able to understand boosting',\n",
       "    'i am not able to understand random forest',\n",
       "    'i am not able to understand ada boosting',\n",
       "    'i am not able to understand gradient boosting',\n",
       "    'machine learning',\n",
       "    'ML',\n",
       "    'SL',\n",
       "    'supervised learning',\n",
       "    'knn',\n",
       "    'logistic regression',\n",
       "    'regression',\n",
       "    'classification',\n",
       "    'naive bayes',\n",
       "    'nb',\n",
       "    'ensemble techniques',\n",
       "    'bagging',\n",
       "    'boosting',\n",
       "    'ada boosting',\n",
       "    'ada',\n",
       "    'gradient boosting',\n",
       "    'hyper parameters'],\n",
       "   'responses': ['Link: Machine Learning wiki '],\n",
       "   'context_set': ''},\n",
       "  {'tag': 'NN',\n",
       "   'patterns': ['what is deep learning',\n",
       "    'unable to understand deep learning',\n",
       "    'explain me how deep learning works',\n",
       "    'i am not able to understand deep learning',\n",
       "    'not able to understand neural nets',\n",
       "    'very diffult to understand neural nets',\n",
       "    'unable to understand neural nets',\n",
       "    'ann',\n",
       "    'artificial intelligence',\n",
       "    'artificial neural networks',\n",
       "    'weights',\n",
       "    'activation function',\n",
       "    'hidden layers',\n",
       "    'softmax',\n",
       "    'sigmoid',\n",
       "    'relu',\n",
       "    'otimizer',\n",
       "    'forward propagation',\n",
       "    'backward propagation',\n",
       "    'epochs',\n",
       "    'epoch',\n",
       "    'what is an epoch',\n",
       "    'adam',\n",
       "    'sgd'],\n",
       "   'responses': ['Link: Neural Nets wiki'],\n",
       "   'context_set': ''},\n",
       "  {'tag': 'Bot',\n",
       "   'patterns': ['what is your name',\n",
       "    'who are you',\n",
       "    'name please',\n",
       "    'when are your hours of opertions',\n",
       "    'what are your working hours',\n",
       "    'hours of operation',\n",
       "    'working hours',\n",
       "    'hours'],\n",
       "   'responses': ['I am your virtual learning assistant'],\n",
       "   'context_set': ''},\n",
       "  {'tag': 'Profane',\n",
       "   'patterns': ['what the hell',\n",
       "    'bloody stupid bot',\n",
       "    'do you think you are very smart',\n",
       "    'screw you',\n",
       "    'i hate you',\n",
       "    'you are stupid',\n",
       "    'jerk',\n",
       "    'you are a joke',\n",
       "    'useless piece of shit'],\n",
       "   'responses': ['Please use respectful words'],\n",
       "   'context_set': ''},\n",
       "  {'tag': 'Ticket',\n",
       "   'patterns': ['my problem is not solved',\n",
       "    'you did not help me',\n",
       "    'not a good solution',\n",
       "    'bad solution',\n",
       "    'not good solution',\n",
       "    'no help',\n",
       "    'wasted my time',\n",
       "    'useless bot',\n",
       "    'create a ticket'],\n",
       "   'responses': ['Tarnsferring the request to your PM'],\n",
       "   'context_set': ''}]}"
      ]
     },
     "execution_count": 5,
     "metadata": {},
     "output_type": "execute_result"
    }
   ],
   "source": [
    "intents"
   ]
  },
  {
   "cell_type": "code",
   "execution_count": null,
   "metadata": {
    "colab": {
     "base_uri": "https://localhost:8080/"
    },
    "id": "JTuJfBv2DKsj",
    "outputId": "1f865dc7-3a50-43ca-f6c3-6675eaa70010"
   },
   "outputs": [
    {
     "data": {
      "text/plain": [
       "{'tag': 'Intro',\n",
       " 'patterns': ['hi',\n",
       "  'how are you',\n",
       "  'is anyone there',\n",
       "  'hello',\n",
       "  'whats up',\n",
       "  'hey',\n",
       "  'yo',\n",
       "  'listen',\n",
       "  'please help me',\n",
       "  'i am learner from',\n",
       "  'i belong to',\n",
       "  'aiml batch',\n",
       "  'aifl batch',\n",
       "  'i am from',\n",
       "  'my pm is',\n",
       "  'blended',\n",
       "  'online',\n",
       "  'i am from',\n",
       "  'hey ya',\n",
       "  'talking to you for first time'],\n",
       " 'responses': ['Hello! how can i help you ?'],\n",
       " 'context_set': ''}"
      ]
     },
     "execution_count": 6,
     "metadata": {},
     "output_type": "execute_result"
    }
   ],
   "source": [
    "intents['intents'][0]"
   ]
  },
  {
   "cell_type": "code",
   "execution_count": null,
   "metadata": {
    "colab": {
     "base_uri": "https://localhost:8080/"
    },
    "id": "_7uwgy9DDQHv",
    "outputId": "85735e3c-bea4-4034-bdd0-79152aa382d8"
   },
   "outputs": [
    {
     "data": {
      "text/plain": [
       "8"
      ]
     },
     "execution_count": 7,
     "metadata": {},
     "output_type": "execute_result"
    }
   ],
   "source": [
    "len(intents['intents'])"
   ]
  },
  {
   "cell_type": "code",
   "execution_count": null,
   "metadata": {
    "colab": {
     "base_uri": "https://localhost:8080/"
    },
    "id": "WCuczCgxDTUR",
    "outputId": "fe0d06eb-e0d0-4951-a5e4-02c932b5282b"
   },
   "outputs": [
    {
     "data": {
      "text/plain": [
       "{'tag': 'NN',\n",
       " 'patterns': ['what is deep learning',\n",
       "  'unable to understand deep learning',\n",
       "  'explain me how deep learning works',\n",
       "  'i am not able to understand deep learning',\n",
       "  'not able to understand neural nets',\n",
       "  'very diffult to understand neural nets',\n",
       "  'unable to understand neural nets',\n",
       "  'ann',\n",
       "  'artificial intelligence',\n",
       "  'artificial neural networks',\n",
       "  'weights',\n",
       "  'activation function',\n",
       "  'hidden layers',\n",
       "  'softmax',\n",
       "  'sigmoid',\n",
       "  'relu',\n",
       "  'otimizer',\n",
       "  'forward propagation',\n",
       "  'backward propagation',\n",
       "  'epochs',\n",
       "  'epoch',\n",
       "  'what is an epoch',\n",
       "  'adam',\n",
       "  'sgd'],\n",
       " 'responses': ['Link: Neural Nets wiki'],\n",
       " 'context_set': ''}"
      ]
     },
     "execution_count": 8,
     "metadata": {},
     "output_type": "execute_result"
    }
   ],
   "source": [
    "intents['intents'][4] #printing the core support dictionary"
   ]
  },
  {
   "cell_type": "code",
   "execution_count": null,
   "metadata": {
    "id": "SX5HDUvXDYEe"
   },
   "outputs": [],
   "source": [
    "intents['intents'][4]['patterns'].append('nlp is very difficult')"
   ]
  },
  {
   "cell_type": "code",
   "execution_count": null,
   "metadata": {
    "id": "A5UQGUXRDc7a"
   },
   "outputs": [],
   "source": [
    "for intent in intents['intents']:\n",
    "    for pattern in intent['patterns']:\n",
    "        #tokenize each word\n",
    "        w = nltk.word_tokenize(pattern)\n",
    "        words.extend(w)\n",
    "        #add documents in the corpus\n",
    "        documents.append((w, intent['tag']))\n",
    "        # add to our classes list\n",
    "        if intent['tag'] not in classes:\n",
    "            classes.append(intent['tag'])"
   ]
  },
  {
   "cell_type": "code",
   "execution_count": null,
   "metadata": {
    "colab": {
     "base_uri": "https://localhost:8080/"
    },
    "id": "kQzxu3xUDfl9",
    "outputId": "5da314a6-bf07-4f0b-973b-10b39b0ddcdc"
   },
   "outputs": [
    {
     "name": "stdout",
     "output_type": "stream",
     "text": [
      "129 documents\n",
      "8 classes ['Bot', 'Exit', 'Intro', 'NN', 'Olympus', 'Profane', 'SL', 'Ticket']\n",
      "160 unique lemmatized words ['a', 'able', 'access', 'activation', 'ada', 'adam', 'aifl', 'aiml', 'am', 'an', 'ann', 'anyone', 'are', 'artificial', 'backward', 'bad', 'bagging', 'batch', 'bayes', 'belong', 'best', 'blended', 'bloody', 'boosting', 'bot', 'buddy', 'classification', 'contact', 'create', 'cross', 'cya', 'day', 'deep', 'did', 'difficult', 'diffult', 'do', 'ensemble', 'epoch', 'explain', 'first', 'for', 'forest', 'forward', 'from', 'function', 'good', 'goodbye', 'gradient', 'great', 'hate', 'have', 'hell', 'hello', 'help', 'helped', 'hey', 'hi', 'hidden', 'hour', 'how', 'hyper', 'i', 'imputer', 'in', 'intelligence', 'is', 'jerk', 'joke', 'knn', 'later', 'layer', 'learner', 'learning', 'leaving', 'link', 'listen', 'logistic', 'lot', 'machine', 'me', 'ml', 'my', 'naive', 'name', 'nb', 'net', 'network', 'neural', 'nlp', 'no', 'not', 'of', 'olympus', 'olypus', 'on', 'online', 'operation', 'opertions', 'otimizer', 'parameter', 'piece', 'please', 'pm', 'problem', 'propagation', 'random', 'regression', 'relu', 'screw', 'see', 'sgd', 'shit', 'sigmoid', 'sl', 'smart', 'softmax', 'solution', 'solved', 'stupid', 'supervised', 'svm', 'talking', 'teach', 'techb=niques', 'technique', 'thank', 'thanks', 'the', 'there', 'think', 'ticket', 'time', 'to', 'ton', 'too', 'tool', 'unable', 'understand', 'up', 'use', 'useless', 'validation', 'very', 'visible', 'wasted', 'weight', 'what', 'whats', 'when', 'who', 'whom', 'window', 'with', 'work', 'working', 'ya', 'yo', 'you', 'your']\n"
     ]
    }
   ],
   "source": [
    "\n",
    "# lemmatize, lower each word and remove duplicates\n",
    "words = [lemmatizer.lemmatize(w.lower()) for w in words if w not in ignore_words]\n",
    "words = sorted(list(set(words)))\n",
    "# sort classes\n",
    "classes = sorted(list(set(classes)))\n",
    "# documents = combination between patterns and intents\n",
    "print (len(documents), \"documents\")\n",
    "# classes = intents\n",
    "print (len(classes), \"classes\", classes)\n",
    "# words = all words, vocabulary\n",
    "print (len(words), \"unique lemmatized words\", words)"
   ]
  },
  {
   "cell_type": "code",
   "execution_count": null,
   "metadata": {
    "colab": {
     "base_uri": "https://localhost:8080/"
    },
    "id": "dXUyTuOcDile",
    "outputId": "806a8112-355b-4249-a0b5-143b192e81a3"
   },
   "outputs": [
    {
     "name": "stdout",
     "output_type": "stream",
     "text": [
      "Training data created\n"
     ]
    }
   ],
   "source": [
    "# create our training data\n",
    "training = []\n",
    "# create an empty array for our output\n",
    "output_empty = [0] * len(classes)\n",
    "# training set, bag of words for each sentence\n",
    "for doc in documents:\n",
    "    # initialize our bag of words\n",
    "    bag = []\n",
    "    # list of tokenized words for the pattern\n",
    "    pattern_words = doc[0]\n",
    "    # lemmatize each word - create base word, in attempt to represent related words\n",
    "    pattern_words = [lemmatizer.lemmatize(word.lower()) for word in pattern_words]\n",
    "    # create our bag of words array with 1, if word match found in current pattern\n",
    "    for w in words:\n",
    "        bag.append(1) if w in pattern_words else bag.append(0)\n",
    "    # output is a '0' for each tag and '1' for current tag (for each pattern)\n",
    "    output_row = list(output_empty)\n",
    "    output_row[classes.index(doc[1])] = 1\n",
    "    training.append([bag, output_row])\n",
    "# shuffle our features and turn into np.array\n",
    "random.shuffle(training)\n",
    "training = np.array(training)\n",
    "# create train and test lists. X - patterns, Y - intents\n",
    "train_x = list(training[:,0])\n",
    "train_y = list(training[:,1])\n",
    "print(\"Training data created\")"
   ]
  },
  {
   "cell_type": "code",
   "execution_count": null,
   "metadata": {
    "colab": {
     "base_uri": "https://localhost:8080/"
    },
    "id": "7OVq3NaHDvhi",
    "outputId": "d601e853-f3e4-4222-9f2a-e6f3fff18b35"
   },
   "outputs": [
    {
     "name": "stdout",
     "output_type": "stream",
     "text": [
      "Epoch 1/200\n",
      "26/26 [==============================] - 3s 3ms/step - loss: 2.0624 - accuracy: 0.1938\n",
      "Epoch 2/200\n",
      "26/26 [==============================] - 0s 3ms/step - loss: 1.9623 - accuracy: 0.2403\n",
      "Epoch 3/200\n",
      "26/26 [==============================] - 0s 3ms/step - loss: 1.8636 - accuracy: 0.2791\n",
      "Epoch 4/200\n",
      "26/26 [==============================] - 0s 3ms/step - loss: 1.7721 - accuracy: 0.3333\n",
      "Epoch 5/200\n",
      "26/26 [==============================] - 0s 3ms/step - loss: 1.7030 - accuracy: 0.4341\n",
      "Epoch 6/200\n",
      "26/26 [==============================] - 0s 3ms/step - loss: 1.6023 - accuracy: 0.3876\n",
      "Epoch 7/200\n",
      "26/26 [==============================] - 0s 3ms/step - loss: 1.4917 - accuracy: 0.4806\n",
      "Epoch 8/200\n",
      "26/26 [==============================] - 0s 3ms/step - loss: 1.4972 - accuracy: 0.4109\n",
      "Epoch 9/200\n",
      "26/26 [==============================] - 0s 3ms/step - loss: 1.2593 - accuracy: 0.6124\n",
      "Epoch 10/200\n",
      "26/26 [==============================] - 0s 3ms/step - loss: 1.1236 - accuracy: 0.6512\n",
      "Epoch 11/200\n",
      "26/26 [==============================] - 0s 3ms/step - loss: 1.0414 - accuracy: 0.6899\n",
      "Epoch 12/200\n",
      "26/26 [==============================] - 0s 3ms/step - loss: 0.9471 - accuracy: 0.7054\n",
      "Epoch 13/200\n",
      "26/26 [==============================] - 0s 3ms/step - loss: 0.8346 - accuracy: 0.7597\n",
      "Epoch 14/200\n",
      "26/26 [==============================] - 0s 3ms/step - loss: 0.7628 - accuracy: 0.7287\n",
      "Epoch 15/200\n",
      "26/26 [==============================] - 0s 3ms/step - loss: 0.6532 - accuracy: 0.8217\n",
      "Epoch 16/200\n",
      "26/26 [==============================] - 0s 3ms/step - loss: 0.6409 - accuracy: 0.8295\n",
      "Epoch 17/200\n",
      "26/26 [==============================] - 0s 3ms/step - loss: 0.5581 - accuracy: 0.8217\n",
      "Epoch 18/200\n",
      "26/26 [==============================] - 0s 3ms/step - loss: 0.4831 - accuracy: 0.8527\n",
      "Epoch 19/200\n",
      "26/26 [==============================] - 0s 3ms/step - loss: 0.4061 - accuracy: 0.8605\n",
      "Epoch 20/200\n",
      "26/26 [==============================] - 0s 3ms/step - loss: 0.4151 - accuracy: 0.8760\n",
      "Epoch 21/200\n",
      "26/26 [==============================] - 0s 3ms/step - loss: 0.3564 - accuracy: 0.9147\n",
      "Epoch 22/200\n",
      "26/26 [==============================] - 0s 3ms/step - loss: 0.2973 - accuracy: 0.9302\n",
      "Epoch 23/200\n",
      "26/26 [==============================] - 0s 3ms/step - loss: 0.3191 - accuracy: 0.9147\n",
      "Epoch 24/200\n",
      "26/26 [==============================] - 0s 3ms/step - loss: 0.2264 - accuracy: 0.9612\n",
      "Epoch 25/200\n",
      "26/26 [==============================] - 0s 3ms/step - loss: 0.2919 - accuracy: 0.9070\n",
      "Epoch 26/200\n",
      "26/26 [==============================] - 0s 3ms/step - loss: 0.2569 - accuracy: 0.9380\n",
      "Epoch 27/200\n",
      "26/26 [==============================] - 0s 3ms/step - loss: 0.2461 - accuracy: 0.9147\n",
      "Epoch 28/200\n",
      "26/26 [==============================] - 0s 3ms/step - loss: 0.1501 - accuracy: 0.9767\n",
      "Epoch 29/200\n",
      "26/26 [==============================] - 0s 3ms/step - loss: 0.1987 - accuracy: 0.9690\n",
      "Epoch 30/200\n",
      "26/26 [==============================] - 0s 3ms/step - loss: 0.1630 - accuracy: 0.9612\n",
      "Epoch 31/200\n",
      "26/26 [==============================] - 0s 3ms/step - loss: 0.2241 - accuracy: 0.9302\n",
      "Epoch 32/200\n",
      "26/26 [==============================] - 0s 3ms/step - loss: 0.0951 - accuracy: 0.9922\n",
      "Epoch 33/200\n",
      "26/26 [==============================] - 0s 3ms/step - loss: 0.1838 - accuracy: 0.9690\n",
      "Epoch 34/200\n",
      "26/26 [==============================] - 0s 3ms/step - loss: 0.1705 - accuracy: 0.9302\n",
      "Epoch 35/200\n",
      "26/26 [==============================] - 0s 3ms/step - loss: 0.1229 - accuracy: 0.9612\n",
      "Epoch 36/200\n",
      "26/26 [==============================] - 0s 3ms/step - loss: 0.1294 - accuracy: 0.9690\n",
      "Epoch 37/200\n",
      "26/26 [==============================] - 0s 3ms/step - loss: 0.0921 - accuracy: 0.9690\n",
      "Epoch 38/200\n",
      "26/26 [==============================] - 0s 3ms/step - loss: 0.1373 - accuracy: 0.9612\n",
      "Epoch 39/200\n",
      "26/26 [==============================] - 0s 3ms/step - loss: 0.0797 - accuracy: 0.9767\n",
      "Epoch 40/200\n",
      "26/26 [==============================] - 0s 3ms/step - loss: 0.0978 - accuracy: 0.9845\n",
      "Epoch 41/200\n",
      "26/26 [==============================] - 0s 3ms/step - loss: 0.1175 - accuracy: 0.9767\n",
      "Epoch 42/200\n",
      "26/26 [==============================] - 0s 3ms/step - loss: 0.0621 - accuracy: 1.0000\n",
      "Epoch 43/200\n",
      "26/26 [==============================] - 0s 3ms/step - loss: 0.0989 - accuracy: 0.9767\n",
      "Epoch 44/200\n",
      "26/26 [==============================] - 0s 3ms/step - loss: 0.1526 - accuracy: 0.9457\n",
      "Epoch 45/200\n",
      "26/26 [==============================] - 0s 3ms/step - loss: 0.0721 - accuracy: 0.9767\n",
      "Epoch 46/200\n",
      "26/26 [==============================] - 0s 3ms/step - loss: 0.0500 - accuracy: 0.9922\n",
      "Epoch 47/200\n",
      "26/26 [==============================] - 0s 3ms/step - loss: 0.0893 - accuracy: 0.9767\n",
      "Epoch 48/200\n",
      "26/26 [==============================] - 0s 3ms/step - loss: 0.0481 - accuracy: 0.9922\n",
      "Epoch 49/200\n",
      "26/26 [==============================] - 0s 3ms/step - loss: 0.1061 - accuracy: 0.9535\n",
      "Epoch 50/200\n",
      "26/26 [==============================] - 0s 3ms/step - loss: 0.0477 - accuracy: 0.9922\n",
      "Epoch 51/200\n",
      "26/26 [==============================] - 0s 3ms/step - loss: 0.0577 - accuracy: 0.9922\n",
      "Epoch 52/200\n",
      "26/26 [==============================] - 0s 3ms/step - loss: 0.0957 - accuracy: 0.9612\n",
      "Epoch 53/200\n",
      "26/26 [==============================] - 0s 3ms/step - loss: 0.0831 - accuracy: 0.9690\n",
      "Epoch 54/200\n",
      "26/26 [==============================] - 0s 3ms/step - loss: 0.0519 - accuracy: 0.9845\n",
      "Epoch 55/200\n",
      "26/26 [==============================] - 0s 3ms/step - loss: 0.0757 - accuracy: 0.9767\n",
      "Epoch 56/200\n",
      "26/26 [==============================] - 0s 3ms/step - loss: 0.0472 - accuracy: 0.9922\n",
      "Epoch 57/200\n",
      "26/26 [==============================] - 0s 3ms/step - loss: 0.0484 - accuracy: 0.9922\n",
      "Epoch 58/200\n",
      "26/26 [==============================] - 0s 3ms/step - loss: 0.0647 - accuracy: 0.9845\n",
      "Epoch 59/200\n",
      "26/26 [==============================] - 0s 3ms/step - loss: 0.0512 - accuracy: 0.9845\n",
      "Epoch 60/200\n",
      "26/26 [==============================] - 0s 3ms/step - loss: 0.0431 - accuracy: 0.9922\n",
      "Epoch 61/200\n",
      "26/26 [==============================] - 0s 3ms/step - loss: 0.0849 - accuracy: 0.9845\n",
      "Epoch 62/200\n",
      "26/26 [==============================] - 0s 3ms/step - loss: 0.0281 - accuracy: 1.0000\n",
      "Epoch 63/200\n",
      "26/26 [==============================] - 0s 3ms/step - loss: 0.0693 - accuracy: 0.9845\n",
      "Epoch 64/200\n",
      "26/26 [==============================] - 0s 3ms/step - loss: 0.0199 - accuracy: 1.0000\n",
      "Epoch 65/200\n",
      "26/26 [==============================] - 0s 3ms/step - loss: 0.0344 - accuracy: 1.0000\n",
      "Epoch 66/200\n",
      "26/26 [==============================] - 0s 3ms/step - loss: 0.0277 - accuracy: 0.9922\n",
      "Epoch 67/200\n",
      "26/26 [==============================] - 0s 3ms/step - loss: 0.0370 - accuracy: 1.0000\n",
      "Epoch 68/200\n",
      "26/26 [==============================] - 0s 3ms/step - loss: 0.0228 - accuracy: 1.0000\n",
      "Epoch 69/200\n",
      "26/26 [==============================] - 0s 3ms/step - loss: 0.0352 - accuracy: 0.9922\n",
      "Epoch 70/200\n",
      "26/26 [==============================] - 0s 3ms/step - loss: 0.0264 - accuracy: 1.0000\n",
      "Epoch 71/200\n",
      "26/26 [==============================] - 0s 3ms/step - loss: 0.0357 - accuracy: 1.0000\n",
      "Epoch 72/200\n",
      "26/26 [==============================] - 0s 3ms/step - loss: 0.0319 - accuracy: 0.9922\n",
      "Epoch 73/200\n",
      "26/26 [==============================] - 0s 3ms/step - loss: 0.0310 - accuracy: 1.0000\n",
      "Epoch 74/200\n",
      "26/26 [==============================] - 0s 3ms/step - loss: 0.0427 - accuracy: 0.9845\n",
      "Epoch 75/200\n",
      "26/26 [==============================] - 0s 3ms/step - loss: 0.0488 - accuracy: 0.9845\n",
      "Epoch 76/200\n",
      "26/26 [==============================] - 0s 3ms/step - loss: 0.0445 - accuracy: 0.9922\n",
      "Epoch 77/200\n",
      "26/26 [==============================] - 0s 3ms/step - loss: 0.0543 - accuracy: 0.9767\n",
      "Epoch 78/200\n",
      "26/26 [==============================] - 0s 3ms/step - loss: 0.0222 - accuracy: 1.0000\n",
      "Epoch 79/200\n",
      "26/26 [==============================] - 0s 3ms/step - loss: 0.0241 - accuracy: 1.0000\n",
      "Epoch 80/200\n",
      "26/26 [==============================] - 0s 3ms/step - loss: 0.0867 - accuracy: 0.9845\n",
      "Epoch 81/200\n",
      "26/26 [==============================] - 0s 3ms/step - loss: 0.0296 - accuracy: 0.9922\n",
      "Epoch 82/200\n",
      "26/26 [==============================] - 0s 3ms/step - loss: 0.0237 - accuracy: 1.0000\n",
      "Epoch 83/200\n",
      "26/26 [==============================] - 0s 3ms/step - loss: 0.0335 - accuracy: 1.0000\n",
      "Epoch 84/200\n",
      "26/26 [==============================] - 0s 3ms/step - loss: 0.0389 - accuracy: 0.9845\n",
      "Epoch 85/200\n",
      "26/26 [==============================] - 0s 3ms/step - loss: 0.0264 - accuracy: 0.9922\n",
      "Epoch 86/200\n",
      "26/26 [==============================] - 0s 3ms/step - loss: 0.0146 - accuracy: 1.0000\n",
      "Epoch 87/200\n",
      "26/26 [==============================] - 0s 3ms/step - loss: 0.0499 - accuracy: 0.9767\n",
      "Epoch 88/200\n",
      "26/26 [==============================] - 0s 3ms/step - loss: 0.0352 - accuracy: 1.0000\n",
      "Epoch 89/200\n",
      "26/26 [==============================] - 0s 3ms/step - loss: 0.0335 - accuracy: 1.0000\n",
      "Epoch 90/200\n",
      "26/26 [==============================] - 0s 3ms/step - loss: 0.0273 - accuracy: 1.0000\n",
      "Epoch 91/200\n",
      "26/26 [==============================] - 0s 3ms/step - loss: 0.0391 - accuracy: 0.9922\n",
      "Epoch 92/200\n",
      "26/26 [==============================] - 0s 3ms/step - loss: 0.0133 - accuracy: 1.0000\n",
      "Epoch 93/200\n",
      "26/26 [==============================] - 0s 3ms/step - loss: 0.0552 - accuracy: 0.9845\n",
      "Epoch 94/200\n",
      "26/26 [==============================] - 0s 3ms/step - loss: 0.0328 - accuracy: 0.9845\n",
      "Epoch 95/200\n",
      "26/26 [==============================] - 0s 3ms/step - loss: 0.0126 - accuracy: 1.0000\n",
      "Epoch 96/200\n",
      "26/26 [==============================] - 0s 3ms/step - loss: 0.0438 - accuracy: 0.9922\n",
      "Epoch 97/200\n",
      "26/26 [==============================] - 0s 3ms/step - loss: 0.0133 - accuracy: 1.0000\n",
      "Epoch 98/200\n",
      "26/26 [==============================] - 0s 3ms/step - loss: 0.0214 - accuracy: 1.0000\n",
      "Epoch 99/200\n",
      "26/26 [==============================] - 0s 3ms/step - loss: 0.0339 - accuracy: 0.9845\n",
      "Epoch 100/200\n",
      "26/26 [==============================] - 0s 3ms/step - loss: 0.0294 - accuracy: 0.9922\n",
      "Epoch 101/200\n",
      "26/26 [==============================] - 0s 3ms/step - loss: 0.0080 - accuracy: 1.0000\n",
      "Epoch 102/200\n",
      "26/26 [==============================] - 0s 3ms/step - loss: 0.0148 - accuracy: 1.0000\n",
      "Epoch 103/200\n",
      "26/26 [==============================] - 0s 3ms/step - loss: 0.0295 - accuracy: 0.9922\n",
      "Epoch 104/200\n",
      "26/26 [==============================] - 0s 3ms/step - loss: 0.0464 - accuracy: 0.9845\n",
      "Epoch 105/200\n",
      "26/26 [==============================] - 0s 3ms/step - loss: 0.0132 - accuracy: 1.0000\n",
      "Epoch 106/200\n",
      "26/26 [==============================] - 0s 3ms/step - loss: 0.0251 - accuracy: 0.9922\n",
      "Epoch 107/200\n",
      "26/26 [==============================] - 0s 3ms/step - loss: 0.0186 - accuracy: 1.0000\n",
      "Epoch 108/200\n",
      "26/26 [==============================] - 0s 3ms/step - loss: 0.0270 - accuracy: 0.9922\n",
      "Epoch 109/200\n",
      "26/26 [==============================] - 0s 3ms/step - loss: 0.0158 - accuracy: 1.0000\n",
      "Epoch 110/200\n",
      "26/26 [==============================] - 0s 3ms/step - loss: 0.0245 - accuracy: 1.0000\n",
      "Epoch 111/200\n",
      "26/26 [==============================] - 0s 3ms/step - loss: 0.0162 - accuracy: 1.0000\n",
      "Epoch 112/200\n",
      "26/26 [==============================] - 0s 3ms/step - loss: 0.0121 - accuracy: 1.0000\n",
      "Epoch 113/200\n",
      "26/26 [==============================] - 0s 3ms/step - loss: 0.0137 - accuracy: 1.0000\n",
      "Epoch 114/200\n",
      "26/26 [==============================] - 0s 3ms/step - loss: 0.0187 - accuracy: 0.9845\n",
      "Epoch 115/200\n",
      "26/26 [==============================] - 0s 3ms/step - loss: 0.0179 - accuracy: 1.0000\n",
      "Epoch 116/200\n",
      "26/26 [==============================] - 0s 3ms/step - loss: 0.0446 - accuracy: 0.9922\n",
      "Epoch 117/200\n",
      "26/26 [==============================] - 0s 3ms/step - loss: 0.0057 - accuracy: 1.0000\n",
      "Epoch 118/200\n",
      "26/26 [==============================] - 0s 3ms/step - loss: 0.0222 - accuracy: 0.9922\n",
      "Epoch 119/200\n",
      "26/26 [==============================] - 0s 3ms/step - loss: 0.0105 - accuracy: 1.0000\n",
      "Epoch 120/200\n",
      "26/26 [==============================] - 0s 3ms/step - loss: 0.0286 - accuracy: 0.9922\n",
      "Epoch 121/200\n",
      "26/26 [==============================] - 0s 3ms/step - loss: 0.0208 - accuracy: 1.0000\n",
      "Epoch 122/200\n",
      "26/26 [==============================] - 0s 3ms/step - loss: 0.0210 - accuracy: 1.0000\n",
      "Epoch 123/200\n",
      "26/26 [==============================] - 0s 3ms/step - loss: 0.0205 - accuracy: 0.9922\n",
      "Epoch 124/200\n",
      "26/26 [==============================] - 0s 3ms/step - loss: 0.0085 - accuracy: 1.0000\n",
      "Epoch 125/200\n",
      "26/26 [==============================] - 0s 3ms/step - loss: 0.0082 - accuracy: 1.0000\n",
      "Epoch 126/200\n",
      "26/26 [==============================] - 0s 3ms/step - loss: 0.0212 - accuracy: 1.0000\n",
      "Epoch 127/200\n",
      "26/26 [==============================] - 0s 3ms/step - loss: 0.0036 - accuracy: 1.0000\n",
      "Epoch 128/200\n",
      "26/26 [==============================] - 0s 3ms/step - loss: 0.0078 - accuracy: 1.0000\n",
      "Epoch 129/200\n",
      "26/26 [==============================] - 0s 3ms/step - loss: 0.0085 - accuracy: 1.0000\n",
      "Epoch 130/200\n",
      "26/26 [==============================] - 0s 3ms/step - loss: 0.0077 - accuracy: 1.0000\n",
      "Epoch 131/200\n",
      "26/26 [==============================] - 0s 3ms/step - loss: 0.0298 - accuracy: 0.9922\n",
      "Epoch 132/200\n",
      "26/26 [==============================] - 0s 3ms/step - loss: 0.0173 - accuracy: 1.0000\n",
      "Epoch 133/200\n",
      "26/26 [==============================] - 0s 3ms/step - loss: 0.0154 - accuracy: 1.0000\n",
      "Epoch 134/200\n",
      "26/26 [==============================] - 0s 3ms/step - loss: 0.0103 - accuracy: 1.0000\n",
      "Epoch 135/200\n",
      "26/26 [==============================] - 0s 3ms/step - loss: 0.0185 - accuracy: 0.9922\n",
      "Epoch 136/200\n",
      "26/26 [==============================] - 0s 3ms/step - loss: 0.0260 - accuracy: 0.9922\n",
      "Epoch 137/200\n",
      "26/26 [==============================] - 0s 3ms/step - loss: 0.0143 - accuracy: 1.0000\n",
      "Epoch 138/200\n",
      "26/26 [==============================] - 0s 3ms/step - loss: 0.0073 - accuracy: 1.0000\n",
      "Epoch 139/200\n",
      "26/26 [==============================] - 0s 3ms/step - loss: 0.0189 - accuracy: 1.0000\n",
      "Epoch 140/200\n",
      "26/26 [==============================] - 0s 3ms/step - loss: 0.0042 - accuracy: 1.0000\n",
      "Epoch 141/200\n",
      "26/26 [==============================] - 0s 3ms/step - loss: 0.0093 - accuracy: 1.0000\n",
      "Epoch 142/200\n",
      "26/26 [==============================] - 0s 3ms/step - loss: 0.0442 - accuracy: 0.9767\n",
      "Epoch 143/200\n",
      "26/26 [==============================] - 0s 3ms/step - loss: 0.0119 - accuracy: 1.0000\n",
      "Epoch 144/200\n",
      "26/26 [==============================] - 0s 4ms/step - loss: 0.0330 - accuracy: 0.9845\n",
      "Epoch 145/200\n",
      "26/26 [==============================] - 0s 5ms/step - loss: 0.0227 - accuracy: 1.0000\n",
      "Epoch 146/200\n",
      "26/26 [==============================] - 0s 4ms/step - loss: 0.0189 - accuracy: 0.9922\n",
      "Epoch 147/200\n",
      "26/26 [==============================] - 0s 4ms/step - loss: 0.0139 - accuracy: 1.0000\n",
      "Epoch 148/200\n",
      "26/26 [==============================] - 0s 4ms/step - loss: 0.0212 - accuracy: 1.0000\n",
      "Epoch 149/200\n",
      "26/26 [==============================] - 0s 4ms/step - loss: 0.0117 - accuracy: 1.0000\n",
      "Epoch 150/200\n",
      "26/26 [==============================] - 0s 4ms/step - loss: 0.0172 - accuracy: 1.0000\n",
      "Epoch 151/200\n",
      "26/26 [==============================] - 0s 4ms/step - loss: 0.0166 - accuracy: 1.0000\n",
      "Epoch 152/200\n",
      "26/26 [==============================] - 0s 4ms/step - loss: 0.0106 - accuracy: 1.0000\n",
      "Epoch 153/200\n",
      "26/26 [==============================] - 0s 4ms/step - loss: 0.0238 - accuracy: 0.9845\n",
      "Epoch 154/200\n",
      "26/26 [==============================] - 0s 4ms/step - loss: 0.0342 - accuracy: 0.9845\n",
      "Epoch 155/200\n",
      "26/26 [==============================] - 0s 4ms/step - loss: 0.0168 - accuracy: 1.0000\n",
      "Epoch 156/200\n",
      "26/26 [==============================] - 0s 4ms/step - loss: 0.0129 - accuracy: 1.0000\n",
      "Epoch 157/200\n",
      "26/26 [==============================] - 0s 4ms/step - loss: 0.0218 - accuracy: 0.9922\n",
      "Epoch 158/200\n",
      "26/26 [==============================] - 0s 4ms/step - loss: 0.0138 - accuracy: 1.0000\n",
      "Epoch 159/200\n",
      "26/26 [==============================] - 0s 4ms/step - loss: 0.0093 - accuracy: 1.0000\n",
      "Epoch 160/200\n",
      "26/26 [==============================] - 0s 4ms/step - loss: 0.0056 - accuracy: 1.0000\n",
      "Epoch 161/200\n",
      "26/26 [==============================] - 0s 5ms/step - loss: 0.0099 - accuracy: 1.0000\n",
      "Epoch 162/200\n",
      "26/26 [==============================] - 0s 4ms/step - loss: 0.0176 - accuracy: 0.9922\n",
      "Epoch 163/200\n",
      "26/26 [==============================] - 0s 4ms/step - loss: 0.0043 - accuracy: 1.0000\n",
      "Epoch 164/200\n",
      "26/26 [==============================] - 0s 4ms/step - loss: 0.0259 - accuracy: 0.9922\n",
      "Epoch 165/200\n",
      "26/26 [==============================] - 0s 4ms/step - loss: 0.0038 - accuracy: 1.0000\n",
      "Epoch 166/200\n",
      "26/26 [==============================] - 0s 4ms/step - loss: 0.0162 - accuracy: 0.9922\n",
      "Epoch 167/200\n",
      "26/26 [==============================] - 0s 4ms/step - loss: 0.0149 - accuracy: 1.0000\n",
      "Epoch 168/200\n",
      "26/26 [==============================] - 0s 4ms/step - loss: 0.0167 - accuracy: 0.9922\n",
      "Epoch 169/200\n",
      "26/26 [==============================] - 0s 4ms/step - loss: 0.0366 - accuracy: 0.9845\n",
      "Epoch 170/200\n",
      "26/26 [==============================] - 0s 3ms/step - loss: 0.0066 - accuracy: 1.0000\n",
      "Epoch 171/200\n",
      "26/26 [==============================] - 0s 4ms/step - loss: 0.0060 - accuracy: 1.0000\n",
      "Epoch 172/200\n",
      "26/26 [==============================] - 0s 4ms/step - loss: 0.0420 - accuracy: 0.9767\n",
      "Epoch 173/200\n",
      "26/26 [==============================] - 0s 4ms/step - loss: 0.0345 - accuracy: 0.9845\n",
      "Epoch 174/200\n",
      "26/26 [==============================] - 0s 4ms/step - loss: 0.1466 - accuracy: 0.9690\n",
      "Epoch 175/200\n",
      "26/26 [==============================] - 0s 4ms/step - loss: 0.0929 - accuracy: 0.9922\n",
      "Epoch 176/200\n",
      "26/26 [==============================] - 0s 4ms/step - loss: 0.0637 - accuracy: 0.9690\n",
      "Epoch 177/200\n",
      "26/26 [==============================] - 0s 4ms/step - loss: 0.0303 - accuracy: 0.9922\n",
      "Epoch 178/200\n",
      "26/26 [==============================] - 0s 4ms/step - loss: 0.0384 - accuracy: 0.9845\n",
      "Epoch 179/200\n",
      "26/26 [==============================] - 0s 4ms/step - loss: 0.0146 - accuracy: 1.0000\n",
      "Epoch 180/200\n",
      "26/26 [==============================] - 0s 5ms/step - loss: 0.0238 - accuracy: 0.9922\n",
      "Epoch 181/200\n",
      "26/26 [==============================] - 0s 4ms/step - loss: 0.0356 - accuracy: 0.9922\n",
      "Epoch 182/200\n",
      "26/26 [==============================] - 0s 3ms/step - loss: 0.0113 - accuracy: 1.0000\n",
      "Epoch 183/200\n",
      "26/26 [==============================] - 0s 3ms/step - loss: 0.0196 - accuracy: 0.9922\n",
      "Epoch 184/200\n",
      "26/26 [==============================] - 0s 3ms/step - loss: 0.0169 - accuracy: 0.9922\n",
      "Epoch 185/200\n",
      "26/26 [==============================] - 0s 3ms/step - loss: 0.0146 - accuracy: 0.9922\n",
      "Epoch 186/200\n",
      "26/26 [==============================] - 0s 3ms/step - loss: 0.0255 - accuracy: 0.9922\n",
      "Epoch 187/200\n",
      "26/26 [==============================] - 0s 3ms/step - loss: 0.0113 - accuracy: 1.0000\n",
      "Epoch 188/200\n",
      "26/26 [==============================] - 0s 3ms/step - loss: 0.0097 - accuracy: 1.0000\n",
      "Epoch 189/200\n",
      "26/26 [==============================] - 0s 3ms/step - loss: 0.0052 - accuracy: 1.0000\n",
      "Epoch 190/200\n",
      "26/26 [==============================] - 0s 3ms/step - loss: 0.0096 - accuracy: 1.0000\n",
      "Epoch 191/200\n",
      "26/26 [==============================] - 0s 3ms/step - loss: 0.0160 - accuracy: 0.9922\n",
      "Epoch 192/200\n",
      "26/26 [==============================] - 0s 4ms/step - loss: 0.0146 - accuracy: 1.0000\n",
      "Epoch 193/200\n",
      "26/26 [==============================] - 0s 3ms/step - loss: 0.0183 - accuracy: 0.9922\n",
      "Epoch 194/200\n",
      "26/26 [==============================] - 0s 3ms/step - loss: 0.0125 - accuracy: 1.0000\n",
      "Epoch 195/200\n",
      "26/26 [==============================] - 0s 3ms/step - loss: 0.0145 - accuracy: 1.0000\n",
      "Epoch 196/200\n",
      "26/26 [==============================] - 0s 3ms/step - loss: 0.0283 - accuracy: 1.0000\n",
      "Epoch 197/200\n",
      "26/26 [==============================] - 0s 3ms/step - loss: 0.1065 - accuracy: 0.9845\n",
      "Epoch 198/200\n",
      "26/26 [==============================] - 0s 3ms/step - loss: 0.0331 - accuracy: 0.9922\n",
      "Epoch 199/200\n",
      "26/26 [==============================] - 0s 3ms/step - loss: 0.0213 - accuracy: 0.9922\n",
      "Epoch 200/200\n",
      "26/26 [==============================] - 0s 3ms/step - loss: 0.0112 - accuracy: 1.0000\n",
      "model created\n"
     ]
    }
   ],
   "source": [
    "# Create model - 3 layers. First layer 128 neurons, second layer 64 neurons and 3rd output layer contains number of neurons\n",
    "# equal to number of intents to predict output intent with softmax\n",
    "model = Sequential()\n",
    "model.add(Dense(128, input_shape=(len(train_x[0]),), activation='relu'))\n",
    "model.add(Dropout(0.5))\n",
    "model.add(Dense(64, activation='relu'))\n",
    "model.add(Dropout(0.5))\n",
    "model.add(Dense(len(train_y[0]), activation='softmax'))\n",
    "# Compile model. Stochastic gradient descent with Nesterov accelerated gradient gives good results for this model\n",
    "sgd = SGD(lr=0.01, decay=1e-6, momentum=0.9, nesterov=True)\n",
    "model.compile(loss='categorical_crossentropy', optimizer=sgd, metrics=['accuracy'])\n",
    "#fitting and saving the model \n",
    "hist = model.fit(np.array(train_x), np.array(train_y), epochs=200, batch_size=5, verbose=1)\n",
    "model.save('chatbot_model.h5', hist)\n",
    "print(\"model created\")"
   ]
  },
  {
   "cell_type": "code",
   "execution_count": null,
   "metadata": {
    "id": "HuxV0T4LDzGP"
   },
   "outputs": [],
   "source": [
    "pickle.dump(words,open('words.pkl','wb'))\n",
    "pickle.dump(classes,open('classes.pkl','wb'))"
   ]
  },
  {
   "cell_type": "code",
   "execution_count": null,
   "metadata": {
    "id": "K01DsaFzIYMB"
   },
   "outputs": [],
   "source": [
    "\n",
    "import nltk\n",
    "from nltk.stem import WordNetLemmatizer\n",
    "lemmatizer = WordNetLemmatizer()\n",
    "import pickle\n",
    "import numpy as np\n",
    "import json\n",
    "import random\n",
    "from keras.models import load_model\n",
    "model = load_model('chatbot_model.h5')\n",
    "intents = json.loads(open('drive/My Drive/Colab Notebooks/nlp1 project/GL Bot.json').read())\n",
    "words = pickle.load(open('words.pkl','rb'))\n",
    "classes = pickle.load(open('classes.pkl','rb'))"
   ]
  },
  {
   "cell_type": "code",
   "execution_count": null,
   "metadata": {
    "id": "waSuTWGjEPXH"
   },
   "outputs": [],
   "source": [
    "def clean_up_sentence(sentence):\n",
    "    # tokenize the pattern - split words into array\n",
    "    sentence_words = nltk.word_tokenize(sentence)\n",
    "    # stem each word - create short form for word\n",
    "    sentence_words = [lemmatizer.lemmatize(word.lower()) for word in sentence_words]\n",
    "    return sentence_words\n",
    "# return bag of words array: 0 or 1 for each word in the bag that exists in the sentence\n",
    "def bow(sentence, words, show_details=True):\n",
    "    # tokenize the pattern\n",
    "    sentence_words = clean_up_sentence(sentence)\n",
    "    # bag of words - matrix of N words, vocabulary matrix\n",
    "    bag = [0]*len(words) \n",
    "    for s in sentence_words:\n",
    "        for i,w in enumerate(words):\n",
    "            if w == s: \n",
    "                # assign 1 if current word is in the vocabulary position\n",
    "                bag[i] = 1\n",
    "                if show_details:\n",
    "                    print (\"found in bag: %s\" % w)\n",
    "    return(np.array(bag))\n",
    "def predict_class(sentence, model):\n",
    "    # filter out predictions below a threshold\n",
    "    p = bow(sentence, words,show_details=False)\n",
    "    res = model.predict(np.array([p]))[0]\n",
    "    ERROR_THRESHOLD = 0.25\n",
    "    results = [[i,r] for i,r in enumerate(res) if r>ERROR_THRESHOLD]\n",
    "    # sort by strength of probability\n",
    "    results.sort(key=lambda x: x[1], reverse=True)\n",
    "    return_list = []\n",
    "    for r in results:\n",
    "        return_list.append({\"intent\": classes[r[0]], \"probability\": str(r[1])})\n",
    "    return return_list\n",
    "def getResponse(ints, intents_json):\n",
    "    tag = ints[0]['intent']\n",
    "    list_of_intents = intents_json['intents']\n",
    "    for i in list_of_intents:\n",
    "        if(i['tag']== tag):\n",
    "            result = random.choice(i['responses'])\n",
    "            break\n",
    "    return result\n",
    "def chatbot_response(text):\n",
    "    ints = predict_class(text, model)\n",
    "    res = getResponse(ints, intents)\n",
    "    return res"
   ]
  },
  {
   "cell_type": "code",
   "execution_count": null,
   "metadata": {
    "colab": {
     "base_uri": "https://localhost:8080/",
     "height": 53
    },
    "id": "Ft8ouVB8EX0J",
    "outputId": "c5f26135-8cf4-450b-a083-a0d532e9376d"
   },
   "outputs": [
    {
     "name": "stdout",
     "output_type": "stream",
     "text": [
      "1/1 [==============================] - 0s 72ms/step\n"
     ]
    },
    {
     "data": {
      "application/vnd.google.colaboratory.intrinsic+json": {
       "type": "string"
      },
      "text/plain": [
       "'Link: Neural Nets wiki'"
      ]
     },
     "execution_count": 17,
     "metadata": {},
     "output_type": "execute_result"
    }
   ],
   "source": [
    "chatbot_response(\"where is nlp\")"
   ]
  },
  {
   "cell_type": "code",
   "execution_count": null,
   "metadata": {
    "id": "eGdkENiwEap-"
   },
   "outputs": [],
   "source": [
    "#text chat utility function\n",
    "\n",
    "def chat():\n",
    "  print(\"Chat with bot (type: stop to quit)\")\n",
    "  print(\"if answer is not right (type: *)\")\n",
    "  while True:\n",
    "    inp = input(\"\\n\\nYou:\")\n",
    "    if inp.lower() == \"*\":\n",
    "      print(\"BOT: Please rephrase your question and try again\")\n",
    "    if inp.lower() == \"quit\":\n",
    "      break\n",
    "\n",
    "    results = chatbot_response(inp)\n",
    "    print(results)"
   ]
  },
  {
   "cell_type": "code",
   "execution_count": null,
   "metadata": {
    "colab": {
     "base_uri": "https://localhost:8080/"
    },
    "id": "Jvj3pEg-EiS-",
    "outputId": "18ddcbb5-bd25-43bb-cee9-75f397e3ab30"
   },
   "outputs": [
    {
     "name": "stdout",
     "output_type": "stream",
     "text": [
      "Chat with bot (type: stop to quit)\n",
      "if answer is not right (type: *)\n",
      "\n",
      "\n",
      "You:hi\n",
      "1/1 [==============================] - 0s 18ms/step\n",
      "Hello! how can i help you ?\n",
      "\n",
      "\n",
      "You:what is ml?\n",
      "1/1 [==============================] - 0s 17ms/step\n",
      "Link: Machine Learning wiki \n",
      "\n",
      "\n",
      "You:what is activation function?\n",
      "1/1 [==============================] - 0s 16ms/step\n",
      "Link: Neural Nets wiki\n",
      "\n",
      "\n",
      "You:what is olympus?\n",
      "1/1 [==============================] - 0s 17ms/step\n",
      "Link: Olympus wiki\n",
      "\n",
      "\n",
      "You:this is waste\n",
      "1/1 [==============================] - 0s 18ms/step\n",
      "Hello! how can i help you ?\n",
      "\n",
      "\n",
      "You:quit\n"
     ]
    }
   ],
   "source": [
    "chat()\n"
   ]
  },
  {
   "cell_type": "markdown",
   "metadata": {
    "id": "ouo9hqMlPKYX"
   },
   "source": [
    "What is needed here is further fine tuning the neural network for a better prediction. In addition, I only added one text for demonstration into the json intents. It can be enriched, which would eventually enrich the training data and theirfore prediction accuracy.\n"
   ]
  },
  {
   "cell_type": "code",
   "execution_count": null,
   "metadata": {
    "id": "UCqF1CM1888c"
   },
   "outputs": [],
   "source": []
  }
 ],
 "metadata": {
  "accelerator": "GPU",
  "colab": {
   "provenance": []
  },
  "gpuClass": "standard",
  "kernelspec": {
   "display_name": "Python 3 (ipykernel)",
   "language": "python",
   "name": "python3"
  },
  "language_info": {
   "codemirror_mode": {
    "name": "ipython",
    "version": 3
   },
   "file_extension": ".py",
   "mimetype": "text/x-python",
   "name": "python",
   "nbconvert_exporter": "python",
   "pygments_lexer": "ipython3",
   "version": "3.9.13"
  }
 },
 "nbformat": 4,
 "nbformat_minor": 1
}
