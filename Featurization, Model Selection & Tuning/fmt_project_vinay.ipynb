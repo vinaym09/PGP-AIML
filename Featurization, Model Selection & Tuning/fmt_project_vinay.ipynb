{
 "cells": [
  {
   "cell_type": "markdown",
   "id": "28a68083",
   "metadata": {},
   "source": [
    "# FMT Project"
   ]
  },
  {
   "cell_type": "markdown",
   "id": "a555ff5f",
   "metadata": {},
   "source": [
    "We will build a classifier to predict the Pass/Fail yield of a particular process entity and analyse whether all the\n",
    "features are required to build the model or not."
   ]
  },
  {
   "cell_type": "markdown",
   "id": "278da601",
   "metadata": {},
   "source": [
    "**Importing modules for project**"
   ]
  },
  {
   "cell_type": "code",
   "execution_count": 102,
   "id": "f2d83ab7",
   "metadata": {},
   "outputs": [],
   "source": [
    "import numpy as np\n",
    "import pandas as pd\n",
    "import seaborn as sns\n",
    "import matplotlib.pyplot as plt\n",
    "from sklearn.preprocessing import LabelEncoder\n",
    "from sklearn.model_selection import train_test_split\n",
    "from sklearn.preprocessing import StandardScaler\n",
    "from scipy.stats import zscore\n",
    "from sklearn.neighbors import KNeighborsClassifier\n",
    "from sklearn.linear_model import LogisticRegression\n",
    "from sklearn.naive_bayes import GaussianNB\n",
    "from sklearn.svm import SVC\n",
    "from sklearn.tree import DecisionTreeClassifier\n",
    "from sklearn.ensemble import RandomForestClassifier\n",
    "from sklearn.metrics import accuracy_score, confusion_matrix\n",
    "from sklearn.metrics import classification_report\n",
    "from sklearn import model_selection\n",
    "from sklearn.metrics import accuracy_score, confusion_matrix\n",
    "from sklearn.metrics import classification_report\n",
    "from sklearn.model_selection import RandomizedSearchCV, GridSearchCV\n",
    "from sklearn.decomposition import PCA, IncrementalPCA\n",
    "from sklearn.metrics import roc_auc_score\n",
    "from sklearn.model_selection import StratifiedKFold  \n",
    "from sklearn.model_selection import cross_val_score  \n",
    "import warnings\n",
    "warnings.filterwarnings(\"ignore\")"
   ]
  },
  {
   "cell_type": "markdown",
   "id": "c4d3a6aa",
   "metadata": {},
   "source": [
    "**Import ‘signal-data.csv’ as DataFrame.**"
   ]
  },
  {
   "cell_type": "code",
   "execution_count": 103,
   "id": "771626ce",
   "metadata": {},
   "outputs": [],
   "source": [
    "df=pd.read_csv('signal-data1.csv')"
   ]
  },
  {
   "cell_type": "code",
   "execution_count": 104,
   "id": "2d2c0fdd",
   "metadata": {
    "scrolled": true
   },
   "outputs": [
    {
     "data": {
      "text/html": [
       "<div>\n",
       "<style scoped>\n",
       "    .dataframe tbody tr th:only-of-type {\n",
       "        vertical-align: middle;\n",
       "    }\n",
       "\n",
       "    .dataframe tbody tr th {\n",
       "        vertical-align: top;\n",
       "    }\n",
       "\n",
       "    .dataframe thead th {\n",
       "        text-align: right;\n",
       "    }\n",
       "</style>\n",
       "<table border=\"1\" class=\"dataframe\">\n",
       "  <thead>\n",
       "    <tr style=\"text-align: right;\">\n",
       "      <th></th>\n",
       "      <th>Time</th>\n",
       "      <th>0</th>\n",
       "      <th>1</th>\n",
       "      <th>2</th>\n",
       "      <th>3</th>\n",
       "      <th>4</th>\n",
       "      <th>5</th>\n",
       "      <th>6</th>\n",
       "      <th>7</th>\n",
       "      <th>8</th>\n",
       "      <th>...</th>\n",
       "      <th>581</th>\n",
       "      <th>582</th>\n",
       "      <th>583</th>\n",
       "      <th>584</th>\n",
       "      <th>585</th>\n",
       "      <th>586</th>\n",
       "      <th>587</th>\n",
       "      <th>588</th>\n",
       "      <th>589</th>\n",
       "      <th>Pass/Fail</th>\n",
       "    </tr>\n",
       "  </thead>\n",
       "  <tbody>\n",
       "    <tr>\n",
       "      <th>0</th>\n",
       "      <td>2008-07-19 11:55:00</td>\n",
       "      <td>3030.93</td>\n",
       "      <td>2564.00</td>\n",
       "      <td>2187.7333</td>\n",
       "      <td>1411.1265</td>\n",
       "      <td>1.3602</td>\n",
       "      <td>100.0</td>\n",
       "      <td>97.6133</td>\n",
       "      <td>0.1242</td>\n",
       "      <td>1.5005</td>\n",
       "      <td>...</td>\n",
       "      <td>NaN</td>\n",
       "      <td>0.5005</td>\n",
       "      <td>0.0118</td>\n",
       "      <td>0.0035</td>\n",
       "      <td>2.3630</td>\n",
       "      <td>NaN</td>\n",
       "      <td>NaN</td>\n",
       "      <td>NaN</td>\n",
       "      <td>NaN</td>\n",
       "      <td>-1</td>\n",
       "    </tr>\n",
       "    <tr>\n",
       "      <th>1</th>\n",
       "      <td>2008-07-19 12:32:00</td>\n",
       "      <td>3095.78</td>\n",
       "      <td>2465.14</td>\n",
       "      <td>2230.4222</td>\n",
       "      <td>1463.6606</td>\n",
       "      <td>0.8294</td>\n",
       "      <td>100.0</td>\n",
       "      <td>102.3433</td>\n",
       "      <td>0.1247</td>\n",
       "      <td>1.4966</td>\n",
       "      <td>...</td>\n",
       "      <td>208.2045</td>\n",
       "      <td>0.5019</td>\n",
       "      <td>0.0223</td>\n",
       "      <td>0.0055</td>\n",
       "      <td>4.4447</td>\n",
       "      <td>0.0096</td>\n",
       "      <td>0.0201</td>\n",
       "      <td>0.0060</td>\n",
       "      <td>208.2045</td>\n",
       "      <td>-1</td>\n",
       "    </tr>\n",
       "    <tr>\n",
       "      <th>2</th>\n",
       "      <td>2008-07-19 13:17:00</td>\n",
       "      <td>2932.61</td>\n",
       "      <td>2559.94</td>\n",
       "      <td>2186.4111</td>\n",
       "      <td>1698.0172</td>\n",
       "      <td>1.5102</td>\n",
       "      <td>100.0</td>\n",
       "      <td>95.4878</td>\n",
       "      <td>0.1241</td>\n",
       "      <td>1.4436</td>\n",
       "      <td>...</td>\n",
       "      <td>82.8602</td>\n",
       "      <td>0.4958</td>\n",
       "      <td>0.0157</td>\n",
       "      <td>0.0039</td>\n",
       "      <td>3.1745</td>\n",
       "      <td>0.0584</td>\n",
       "      <td>0.0484</td>\n",
       "      <td>0.0148</td>\n",
       "      <td>82.8602</td>\n",
       "      <td>1</td>\n",
       "    </tr>\n",
       "    <tr>\n",
       "      <th>3</th>\n",
       "      <td>2008-07-19 14:43:00</td>\n",
       "      <td>2988.72</td>\n",
       "      <td>2479.90</td>\n",
       "      <td>2199.0333</td>\n",
       "      <td>909.7926</td>\n",
       "      <td>1.3204</td>\n",
       "      <td>100.0</td>\n",
       "      <td>104.2367</td>\n",
       "      <td>0.1217</td>\n",
       "      <td>1.4882</td>\n",
       "      <td>...</td>\n",
       "      <td>73.8432</td>\n",
       "      <td>0.4990</td>\n",
       "      <td>0.0103</td>\n",
       "      <td>0.0025</td>\n",
       "      <td>2.0544</td>\n",
       "      <td>0.0202</td>\n",
       "      <td>0.0149</td>\n",
       "      <td>0.0044</td>\n",
       "      <td>73.8432</td>\n",
       "      <td>-1</td>\n",
       "    </tr>\n",
       "    <tr>\n",
       "      <th>4</th>\n",
       "      <td>2008-07-19 15:22:00</td>\n",
       "      <td>3032.24</td>\n",
       "      <td>2502.87</td>\n",
       "      <td>2233.3667</td>\n",
       "      <td>1326.5200</td>\n",
       "      <td>1.5334</td>\n",
       "      <td>100.0</td>\n",
       "      <td>100.3967</td>\n",
       "      <td>0.1235</td>\n",
       "      <td>1.5031</td>\n",
       "      <td>...</td>\n",
       "      <td>NaN</td>\n",
       "      <td>0.4800</td>\n",
       "      <td>0.4766</td>\n",
       "      <td>0.1045</td>\n",
       "      <td>99.3032</td>\n",
       "      <td>0.0202</td>\n",
       "      <td>0.0149</td>\n",
       "      <td>0.0044</td>\n",
       "      <td>73.8432</td>\n",
       "      <td>-1</td>\n",
       "    </tr>\n",
       "  </tbody>\n",
       "</table>\n",
       "<p>5 rows × 592 columns</p>\n",
       "</div>"
      ],
      "text/plain": [
       "                  Time        0        1          2          3       4      5  \\\n",
       "0  2008-07-19 11:55:00  3030.93  2564.00  2187.7333  1411.1265  1.3602  100.0   \n",
       "1  2008-07-19 12:32:00  3095.78  2465.14  2230.4222  1463.6606  0.8294  100.0   \n",
       "2  2008-07-19 13:17:00  2932.61  2559.94  2186.4111  1698.0172  1.5102  100.0   \n",
       "3  2008-07-19 14:43:00  2988.72  2479.90  2199.0333   909.7926  1.3204  100.0   \n",
       "4  2008-07-19 15:22:00  3032.24  2502.87  2233.3667  1326.5200  1.5334  100.0   \n",
       "\n",
       "          6       7       8  ...       581     582     583     584      585  \\\n",
       "0   97.6133  0.1242  1.5005  ...       NaN  0.5005  0.0118  0.0035   2.3630   \n",
       "1  102.3433  0.1247  1.4966  ...  208.2045  0.5019  0.0223  0.0055   4.4447   \n",
       "2   95.4878  0.1241  1.4436  ...   82.8602  0.4958  0.0157  0.0039   3.1745   \n",
       "3  104.2367  0.1217  1.4882  ...   73.8432  0.4990  0.0103  0.0025   2.0544   \n",
       "4  100.3967  0.1235  1.5031  ...       NaN  0.4800  0.4766  0.1045  99.3032   \n",
       "\n",
       "      586     587     588       589  Pass/Fail  \n",
       "0     NaN     NaN     NaN       NaN         -1  \n",
       "1  0.0096  0.0201  0.0060  208.2045         -1  \n",
       "2  0.0584  0.0484  0.0148   82.8602          1  \n",
       "3  0.0202  0.0149  0.0044   73.8432         -1  \n",
       "4  0.0202  0.0149  0.0044   73.8432         -1  \n",
       "\n",
       "[5 rows x 592 columns]"
      ]
     },
     "execution_count": 104,
     "metadata": {},
     "output_type": "execute_result"
    }
   ],
   "source": [
    "df.head(5)"
   ]
  },
  {
   "cell_type": "markdown",
   "id": "255f99a2",
   "metadata": {},
   "source": [
    "**Print 5 point summary and share at least 2 observations.**"
   ]
  },
  {
   "cell_type": "code",
   "execution_count": 105,
   "id": "6ace3dcc",
   "metadata": {},
   "outputs": [
    {
     "data": {
      "text/html": [
       "<div>\n",
       "<style scoped>\n",
       "    .dataframe tbody tr th:only-of-type {\n",
       "        vertical-align: middle;\n",
       "    }\n",
       "\n",
       "    .dataframe tbody tr th {\n",
       "        vertical-align: top;\n",
       "    }\n",
       "\n",
       "    .dataframe thead th {\n",
       "        text-align: right;\n",
       "    }\n",
       "</style>\n",
       "<table border=\"1\" class=\"dataframe\">\n",
       "  <thead>\n",
       "    <tr style=\"text-align: right;\">\n",
       "      <th></th>\n",
       "      <th>0</th>\n",
       "      <th>1</th>\n",
       "      <th>2</th>\n",
       "      <th>3</th>\n",
       "      <th>4</th>\n",
       "      <th>5</th>\n",
       "      <th>6</th>\n",
       "      <th>7</th>\n",
       "      <th>8</th>\n",
       "      <th>9</th>\n",
       "      <th>...</th>\n",
       "      <th>581</th>\n",
       "      <th>582</th>\n",
       "      <th>583</th>\n",
       "      <th>584</th>\n",
       "      <th>585</th>\n",
       "      <th>586</th>\n",
       "      <th>587</th>\n",
       "      <th>588</th>\n",
       "      <th>589</th>\n",
       "      <th>Pass/Fail</th>\n",
       "    </tr>\n",
       "  </thead>\n",
       "  <tbody>\n",
       "    <tr>\n",
       "      <th>count</th>\n",
       "      <td>1561.000000</td>\n",
       "      <td>1560.000000</td>\n",
       "      <td>1553.000000</td>\n",
       "      <td>1553.000000</td>\n",
       "      <td>1553.000000</td>\n",
       "      <td>1553.0</td>\n",
       "      <td>1553.000000</td>\n",
       "      <td>1558.000000</td>\n",
       "      <td>1565.000000</td>\n",
       "      <td>1565.000000</td>\n",
       "      <td>...</td>\n",
       "      <td>618.000000</td>\n",
       "      <td>1566.000000</td>\n",
       "      <td>1566.000000</td>\n",
       "      <td>1566.000000</td>\n",
       "      <td>1566.000000</td>\n",
       "      <td>1566.000000</td>\n",
       "      <td>1566.000000</td>\n",
       "      <td>1566.000000</td>\n",
       "      <td>1566.000000</td>\n",
       "      <td>1567.000000</td>\n",
       "    </tr>\n",
       "    <tr>\n",
       "      <th>mean</th>\n",
       "      <td>3014.452896</td>\n",
       "      <td>2495.850231</td>\n",
       "      <td>2200.547318</td>\n",
       "      <td>1396.376627</td>\n",
       "      <td>4.197013</td>\n",
       "      <td>100.0</td>\n",
       "      <td>101.112908</td>\n",
       "      <td>0.121822</td>\n",
       "      <td>1.462862</td>\n",
       "      <td>-0.000841</td>\n",
       "      <td>...</td>\n",
       "      <td>97.934373</td>\n",
       "      <td>0.500096</td>\n",
       "      <td>0.015318</td>\n",
       "      <td>0.003847</td>\n",
       "      <td>3.067826</td>\n",
       "      <td>0.021458</td>\n",
       "      <td>0.016475</td>\n",
       "      <td>0.005283</td>\n",
       "      <td>99.670066</td>\n",
       "      <td>-0.867262</td>\n",
       "    </tr>\n",
       "    <tr>\n",
       "      <th>std</th>\n",
       "      <td>73.621787</td>\n",
       "      <td>80.407705</td>\n",
       "      <td>29.513152</td>\n",
       "      <td>441.691640</td>\n",
       "      <td>56.355540</td>\n",
       "      <td>0.0</td>\n",
       "      <td>6.237214</td>\n",
       "      <td>0.008961</td>\n",
       "      <td>0.073897</td>\n",
       "      <td>0.015116</td>\n",
       "      <td>...</td>\n",
       "      <td>87.520966</td>\n",
       "      <td>0.003404</td>\n",
       "      <td>0.017180</td>\n",
       "      <td>0.003720</td>\n",
       "      <td>3.578033</td>\n",
       "      <td>0.012358</td>\n",
       "      <td>0.008808</td>\n",
       "      <td>0.002867</td>\n",
       "      <td>93.891919</td>\n",
       "      <td>0.498010</td>\n",
       "    </tr>\n",
       "    <tr>\n",
       "      <th>min</th>\n",
       "      <td>2743.240000</td>\n",
       "      <td>2158.750000</td>\n",
       "      <td>2060.660000</td>\n",
       "      <td>0.000000</td>\n",
       "      <td>0.681500</td>\n",
       "      <td>100.0</td>\n",
       "      <td>82.131100</td>\n",
       "      <td>0.000000</td>\n",
       "      <td>1.191000</td>\n",
       "      <td>-0.053400</td>\n",
       "      <td>...</td>\n",
       "      <td>0.000000</td>\n",
       "      <td>0.477800</td>\n",
       "      <td>0.006000</td>\n",
       "      <td>0.001700</td>\n",
       "      <td>1.197500</td>\n",
       "      <td>-0.016900</td>\n",
       "      <td>0.003200</td>\n",
       "      <td>0.001000</td>\n",
       "      <td>0.000000</td>\n",
       "      <td>-1.000000</td>\n",
       "    </tr>\n",
       "    <tr>\n",
       "      <th>25%</th>\n",
       "      <td>2966.260000</td>\n",
       "      <td>2452.247500</td>\n",
       "      <td>2181.044400</td>\n",
       "      <td>1081.875800</td>\n",
       "      <td>1.017700</td>\n",
       "      <td>100.0</td>\n",
       "      <td>97.920000</td>\n",
       "      <td>0.121100</td>\n",
       "      <td>1.411200</td>\n",
       "      <td>-0.010800</td>\n",
       "      <td>...</td>\n",
       "      <td>46.184900</td>\n",
       "      <td>0.497900</td>\n",
       "      <td>0.011600</td>\n",
       "      <td>0.003100</td>\n",
       "      <td>2.306500</td>\n",
       "      <td>0.013425</td>\n",
       "      <td>0.010600</td>\n",
       "      <td>0.003300</td>\n",
       "      <td>44.368600</td>\n",
       "      <td>-1.000000</td>\n",
       "    </tr>\n",
       "    <tr>\n",
       "      <th>50%</th>\n",
       "      <td>3011.490000</td>\n",
       "      <td>2499.405000</td>\n",
       "      <td>2201.066700</td>\n",
       "      <td>1285.214400</td>\n",
       "      <td>1.316800</td>\n",
       "      <td>100.0</td>\n",
       "      <td>101.512200</td>\n",
       "      <td>0.122400</td>\n",
       "      <td>1.461600</td>\n",
       "      <td>-0.001300</td>\n",
       "      <td>...</td>\n",
       "      <td>72.288900</td>\n",
       "      <td>0.500200</td>\n",
       "      <td>0.013800</td>\n",
       "      <td>0.003600</td>\n",
       "      <td>2.757650</td>\n",
       "      <td>0.020500</td>\n",
       "      <td>0.014800</td>\n",
       "      <td>0.004600</td>\n",
       "      <td>71.900500</td>\n",
       "      <td>-1.000000</td>\n",
       "    </tr>\n",
       "    <tr>\n",
       "      <th>75%</th>\n",
       "      <td>3056.650000</td>\n",
       "      <td>2538.822500</td>\n",
       "      <td>2218.055500</td>\n",
       "      <td>1591.223500</td>\n",
       "      <td>1.525700</td>\n",
       "      <td>100.0</td>\n",
       "      <td>104.586700</td>\n",
       "      <td>0.123800</td>\n",
       "      <td>1.516900</td>\n",
       "      <td>0.008400</td>\n",
       "      <td>...</td>\n",
       "      <td>116.539150</td>\n",
       "      <td>0.502375</td>\n",
       "      <td>0.016500</td>\n",
       "      <td>0.004100</td>\n",
       "      <td>3.295175</td>\n",
       "      <td>0.027600</td>\n",
       "      <td>0.020300</td>\n",
       "      <td>0.006400</td>\n",
       "      <td>114.749700</td>\n",
       "      <td>-1.000000</td>\n",
       "    </tr>\n",
       "    <tr>\n",
       "      <th>max</th>\n",
       "      <td>3356.350000</td>\n",
       "      <td>2846.440000</td>\n",
       "      <td>2315.266700</td>\n",
       "      <td>3715.041700</td>\n",
       "      <td>1114.536600</td>\n",
       "      <td>100.0</td>\n",
       "      <td>129.252200</td>\n",
       "      <td>0.128600</td>\n",
       "      <td>1.656400</td>\n",
       "      <td>0.074900</td>\n",
       "      <td>...</td>\n",
       "      <td>737.304800</td>\n",
       "      <td>0.509800</td>\n",
       "      <td>0.476600</td>\n",
       "      <td>0.104500</td>\n",
       "      <td>99.303200</td>\n",
       "      <td>0.102800</td>\n",
       "      <td>0.079900</td>\n",
       "      <td>0.028600</td>\n",
       "      <td>737.304800</td>\n",
       "      <td>1.000000</td>\n",
       "    </tr>\n",
       "  </tbody>\n",
       "</table>\n",
       "<p>8 rows × 591 columns</p>\n",
       "</div>"
      ],
      "text/plain": [
       "                 0            1            2            3            4  \\\n",
       "count  1561.000000  1560.000000  1553.000000  1553.000000  1553.000000   \n",
       "mean   3014.452896  2495.850231  2200.547318  1396.376627     4.197013   \n",
       "std      73.621787    80.407705    29.513152   441.691640    56.355540   \n",
       "min    2743.240000  2158.750000  2060.660000     0.000000     0.681500   \n",
       "25%    2966.260000  2452.247500  2181.044400  1081.875800     1.017700   \n",
       "50%    3011.490000  2499.405000  2201.066700  1285.214400     1.316800   \n",
       "75%    3056.650000  2538.822500  2218.055500  1591.223500     1.525700   \n",
       "max    3356.350000  2846.440000  2315.266700  3715.041700  1114.536600   \n",
       "\n",
       "            5            6            7            8            9  ...  \\\n",
       "count  1553.0  1553.000000  1558.000000  1565.000000  1565.000000  ...   \n",
       "mean    100.0   101.112908     0.121822     1.462862    -0.000841  ...   \n",
       "std       0.0     6.237214     0.008961     0.073897     0.015116  ...   \n",
       "min     100.0    82.131100     0.000000     1.191000    -0.053400  ...   \n",
       "25%     100.0    97.920000     0.121100     1.411200    -0.010800  ...   \n",
       "50%     100.0   101.512200     0.122400     1.461600    -0.001300  ...   \n",
       "75%     100.0   104.586700     0.123800     1.516900     0.008400  ...   \n",
       "max     100.0   129.252200     0.128600     1.656400     0.074900  ...   \n",
       "\n",
       "              581          582          583          584          585  \\\n",
       "count  618.000000  1566.000000  1566.000000  1566.000000  1566.000000   \n",
       "mean    97.934373     0.500096     0.015318     0.003847     3.067826   \n",
       "std     87.520966     0.003404     0.017180     0.003720     3.578033   \n",
       "min      0.000000     0.477800     0.006000     0.001700     1.197500   \n",
       "25%     46.184900     0.497900     0.011600     0.003100     2.306500   \n",
       "50%     72.288900     0.500200     0.013800     0.003600     2.757650   \n",
       "75%    116.539150     0.502375     0.016500     0.004100     3.295175   \n",
       "max    737.304800     0.509800     0.476600     0.104500    99.303200   \n",
       "\n",
       "               586          587          588          589    Pass/Fail  \n",
       "count  1566.000000  1566.000000  1566.000000  1566.000000  1567.000000  \n",
       "mean      0.021458     0.016475     0.005283    99.670066    -0.867262  \n",
       "std       0.012358     0.008808     0.002867    93.891919     0.498010  \n",
       "min      -0.016900     0.003200     0.001000     0.000000    -1.000000  \n",
       "25%       0.013425     0.010600     0.003300    44.368600    -1.000000  \n",
       "50%       0.020500     0.014800     0.004600    71.900500    -1.000000  \n",
       "75%       0.027600     0.020300     0.006400   114.749700    -1.000000  \n",
       "max       0.102800     0.079900     0.028600   737.304800     1.000000  \n",
       "\n",
       "[8 rows x 591 columns]"
      ]
     },
     "execution_count": 105,
     "metadata": {},
     "output_type": "execute_result"
    }
   ],
   "source": [
    "df.describe()"
   ]
  },
  {
   "cell_type": "markdown",
   "id": "cb78d208",
   "metadata": {},
   "source": [
    "there are null values in data.\n",
    "\n",
    "there are outliers present in the data.\n",
    "\n",
    "there are negitive values present in the data."
   ]
  },
  {
   "cell_type": "markdown",
   "id": "d10c0bf0",
   "metadata": {},
   "source": [
    "**Write a for loop which will remove all the features with 20%+ Null values and impute rest with mean of the feature.**"
   ]
  },
  {
   "cell_type": "code",
   "execution_count": 106,
   "id": "77b02a84",
   "metadata": {
    "scrolled": true
   },
   "outputs": [
    {
     "data": {
      "text/plain": [
       "Time         0.000000\n",
       "0            0.382897\n",
       "1            0.446713\n",
       "2            0.893427\n",
       "3            0.893427\n",
       "               ...   \n",
       "586          0.063816\n",
       "587          0.063816\n",
       "588          0.063816\n",
       "589          0.063816\n",
       "Pass/Fail    0.000000\n",
       "Length: 592, dtype: float64"
      ]
     },
     "execution_count": 106,
     "metadata": {},
     "output_type": "execute_result"
    }
   ],
   "source": [
    "df.isnull().sum()*100/len(df)"
   ]
  },
  {
   "cell_type": "code",
   "execution_count": 107,
   "id": "137e420a",
   "metadata": {},
   "outputs": [
    {
     "data": {
      "text/plain": [
       "0.4467134652201659"
      ]
     },
     "execution_count": 107,
     "metadata": {},
     "output_type": "execute_result"
    }
   ],
   "source": [
    "df['59'].isnull().sum()*100/len(df)"
   ]
  },
  {
   "cell_type": "code",
   "execution_count": 108,
   "id": "4f9442f9",
   "metadata": {},
   "outputs": [],
   "source": [
    "for i in df:\n",
    "    if (df[i].isnull().sum()*100/len(df[i])) > 0.20:\n",
    "        df.drop([i], axis = 1,inplace = True)\n",
    "df=df.fillna(df.mean())"
   ]
  },
  {
   "cell_type": "code",
   "execution_count": 109,
   "id": "8f195f91",
   "metadata": {},
   "outputs": [
    {
     "data": {
      "text/plain": [
       "526    0\n",
       "249    0\n",
       "239    0\n",
       "22     0\n",
       "558    0\n",
       "559    0\n",
       "11     0\n",
       "588    0\n",
       "439    0\n",
       "182    0\n",
       "32     0\n",
       "527    0\n",
       "589    0\n",
       "222    0\n",
       "307    0\n",
       "447    0\n",
       "586    0\n",
       "388    0\n",
       "361    0\n",
       "144    0\n",
       "dtype: int64"
      ]
     },
     "execution_count": 109,
     "metadata": {},
     "output_type": "execute_result"
    }
   ],
   "source": [
    "df.isna().sum().sample(20)"
   ]
  },
  {
   "cell_type": "code",
   "execution_count": 110,
   "id": "61aaa863",
   "metadata": {},
   "outputs": [
    {
     "data": {
      "text/plain": [
       "(1567, 254)"
      ]
     },
     "execution_count": 110,
     "metadata": {},
     "output_type": "execute_result"
    }
   ],
   "source": [
    "df.shape"
   ]
  },
  {
   "cell_type": "markdown",
   "id": "67bdcfb9",
   "metadata": {},
   "source": [
    "null values are imputed."
   ]
  },
  {
   "cell_type": "markdown",
   "id": "528ff20c",
   "metadata": {},
   "source": [
    "**Identify and drop the features which are having same value for all the rows.**"
   ]
  },
  {
   "cell_type": "code",
   "execution_count": 111,
   "id": "c20aef70",
   "metadata": {},
   "outputs": [
    {
     "data": {
      "text/plain": [
       "Time         1534\n",
       "8            1209\n",
       "9             569\n",
       "10            393\n",
       "11            379\n",
       "             ... \n",
       "586           323\n",
       "587           261\n",
       "588           121\n",
       "589           612\n",
       "Pass/Fail       2\n",
       "Length: 254, dtype: int64"
      ]
     },
     "execution_count": 111,
     "metadata": {},
     "output_type": "execute_result"
    }
   ],
   "source": [
    "df.nunique()"
   ]
  },
  {
   "cell_type": "code",
   "execution_count": 112,
   "id": "b52281db",
   "metadata": {},
   "outputs": [],
   "source": [
    "nunique = df.nunique()\n",
    "cols_to_drop = nunique[nunique == 1].index\n",
    "df.drop(cols_to_drop, axis=1,inplace = True)"
   ]
  },
  {
   "cell_type": "code",
   "execution_count": 113,
   "id": "281c41d2",
   "metadata": {},
   "outputs": [
    {
     "data": {
      "text/plain": [
       "(1567, 238)"
      ]
     },
     "execution_count": 113,
     "metadata": {},
     "output_type": "execute_result"
    }
   ],
   "source": [
    "df.shape"
   ]
  },
  {
   "cell_type": "markdown",
   "id": "48fe6aec",
   "metadata": {},
   "source": [
    "columns having same values for all rows are deleted."
   ]
  },
  {
   "cell_type": "markdown",
   "id": "f43105f9",
   "metadata": {},
   "source": [
    "**Drop other features if required using relevant functional knowledge. Clearly justify the same**\n",
    "\n",
    "There are hundreds of columns and only few have influence over the target variable. Rather than using all the attributes, choosing the ones that have high correlation with the target variable is better because using all attributes can increase the algorithm complexity"
   ]
  },
  {
   "cell_type": "code",
   "execution_count": 114,
   "id": "0a82acab",
   "metadata": {},
   "outputs": [
    {
     "data": {
      "text/plain": [
       "Pass/Fail    1.000000\n",
       "103          0.151196\n",
       "510          0.131587\n",
       "431          0.120304\n",
       "434          0.111609\n",
       "430          0.109569\n",
       "435          0.108573\n",
       "21           0.107997\n",
       "28           0.106767\n",
       "436          0.106426\n",
       "298          0.102055\n",
       "163          0.099876\n",
       "295          0.091831\n",
       "160          0.089689\n",
       "316          0.089410\n",
       "164          0.087648\n",
       "299          0.087634\n",
       "300          0.084438\n",
       "165          0.083866\n",
       "294          0.081761\n",
       "Name: Pass/Fail, dtype: float64"
      ]
     },
     "execution_count": 114,
     "metadata": {},
     "output_type": "execute_result"
    }
   ],
   "source": [
    "correlation_values=df.corr()['Pass/Fail']\n",
    "correlation_values.abs().sort_values(ascending=False).head(20)"
   ]
  },
  {
   "cell_type": "markdown",
   "id": "85d7de4b",
   "metadata": {},
   "source": [
    "Choosing the attributes that have a correlation value of greater than 0.095"
   ]
  },
  {
   "cell_type": "code",
   "execution_count": 115,
   "id": "a1cdfab6",
   "metadata": {},
   "outputs": [],
   "source": [
    "df2=df.copy(deep=True)\n",
    "df2=df2[['Time','103','510','431','434','430','21','435','28','436','298','163','Pass/Fail']]"
   ]
  },
  {
   "cell_type": "code",
   "execution_count": 116,
   "id": "ff5b3a05",
   "metadata": {},
   "outputs": [
    {
     "data": {
      "text/html": [
       "<div>\n",
       "<style scoped>\n",
       "    .dataframe tbody tr th:only-of-type {\n",
       "        vertical-align: middle;\n",
       "    }\n",
       "\n",
       "    .dataframe tbody tr th {\n",
       "        vertical-align: top;\n",
       "    }\n",
       "\n",
       "    .dataframe thead th {\n",
       "        text-align: right;\n",
       "    }\n",
       "</style>\n",
       "<table border=\"1\" class=\"dataframe\">\n",
       "  <thead>\n",
       "    <tr style=\"text-align: right;\">\n",
       "      <th></th>\n",
       "      <th>Time</th>\n",
       "      <th>103</th>\n",
       "      <th>510</th>\n",
       "      <th>431</th>\n",
       "      <th>434</th>\n",
       "      <th>430</th>\n",
       "      <th>21</th>\n",
       "      <th>435</th>\n",
       "      <th>28</th>\n",
       "      <th>436</th>\n",
       "      <th>298</th>\n",
       "      <th>163</th>\n",
       "      <th>Pass/Fail</th>\n",
       "    </tr>\n",
       "  </thead>\n",
       "  <tbody>\n",
       "    <tr>\n",
       "      <th>0</th>\n",
       "      <td>2008-07-19 11:55:00</td>\n",
       "      <td>-0.0042</td>\n",
       "      <td>64.6707</td>\n",
       "      <td>33.1562</td>\n",
       "      <td>10.0503</td>\n",
       "      <td>18.7673</td>\n",
       "      <td>-5419.00</td>\n",
       "      <td>2.7073</td>\n",
       "      <td>64.2333</td>\n",
       "      <td>3.1158</td>\n",
       "      <td>0.0373</td>\n",
       "      <td>0.090</td>\n",
       "      <td>-1</td>\n",
       "    </tr>\n",
       "    <tr>\n",
       "      <th>1</th>\n",
       "      <td>2008-07-19 12:32:00</td>\n",
       "      <td>-0.0045</td>\n",
       "      <td>141.4365</td>\n",
       "      <td>2.2655</td>\n",
       "      <td>8.6336</td>\n",
       "      <td>10.4383</td>\n",
       "      <td>-5441.50</td>\n",
       "      <td>5.7093</td>\n",
       "      <td>68.4222</td>\n",
       "      <td>1.6779</td>\n",
       "      <td>0.0502</td>\n",
       "      <td>0.112</td>\n",
       "      <td>-1</td>\n",
       "    </tr>\n",
       "    <tr>\n",
       "      <th>2</th>\n",
       "      <td>2008-07-19 13:17:00</td>\n",
       "      <td>-0.0026</td>\n",
       "      <td>240.7767</td>\n",
       "      <td>29.1663</td>\n",
       "      <td>14.2503</td>\n",
       "      <td>10.3162</td>\n",
       "      <td>-5447.75</td>\n",
       "      <td>5.7650</td>\n",
       "      <td>67.1333</td>\n",
       "      <td>0.8972</td>\n",
       "      <td>0.0800</td>\n",
       "      <td>0.187</td>\n",
       "      <td>1</td>\n",
       "    </tr>\n",
       "    <tr>\n",
       "      <th>3</th>\n",
       "      <td>2008-07-19 14:43:00</td>\n",
       "      <td>-0.0059</td>\n",
       "      <td>113.5593</td>\n",
       "      <td>13.4051</td>\n",
       "      <td>5.1760</td>\n",
       "      <td>15.7089</td>\n",
       "      <td>-5468.25</td>\n",
       "      <td>5.3899</td>\n",
       "      <td>62.9333</td>\n",
       "      <td>1.3671</td>\n",
       "      <td>0.0285</td>\n",
       "      <td>0.068</td>\n",
       "      <td>-1</td>\n",
       "    </tr>\n",
       "    <tr>\n",
       "      <th>4</th>\n",
       "      <td>2008-07-19 15:22:00</td>\n",
       "      <td>-0.0045</td>\n",
       "      <td>148.0663</td>\n",
       "      <td>10.7390</td>\n",
       "      <td>11.4064</td>\n",
       "      <td>12.7642</td>\n",
       "      <td>-5476.25</td>\n",
       "      <td>2.0088</td>\n",
       "      <td>62.8333</td>\n",
       "      <td>1.5533</td>\n",
       "      <td>0.0755</td>\n",
       "      <td>0.147</td>\n",
       "      <td>-1</td>\n",
       "    </tr>\n",
       "  </tbody>\n",
       "</table>\n",
       "</div>"
      ],
      "text/plain": [
       "                  Time     103       510      431      434      430       21  \\\n",
       "0  2008-07-19 11:55:00 -0.0042   64.6707  33.1562  10.0503  18.7673 -5419.00   \n",
       "1  2008-07-19 12:32:00 -0.0045  141.4365   2.2655   8.6336  10.4383 -5441.50   \n",
       "2  2008-07-19 13:17:00 -0.0026  240.7767  29.1663  14.2503  10.3162 -5447.75   \n",
       "3  2008-07-19 14:43:00 -0.0059  113.5593  13.4051   5.1760  15.7089 -5468.25   \n",
       "4  2008-07-19 15:22:00 -0.0045  148.0663  10.7390  11.4064  12.7642 -5476.25   \n",
       "\n",
       "      435       28     436     298    163  Pass/Fail  \n",
       "0  2.7073  64.2333  3.1158  0.0373  0.090         -1  \n",
       "1  5.7093  68.4222  1.6779  0.0502  0.112         -1  \n",
       "2  5.7650  67.1333  0.8972  0.0800  0.187          1  \n",
       "3  5.3899  62.9333  1.3671  0.0285  0.068         -1  \n",
       "4  2.0088  62.8333  1.5533  0.0755  0.147         -1  "
      ]
     },
     "execution_count": 116,
     "metadata": {},
     "output_type": "execute_result"
    }
   ],
   "source": [
    "df2.head()"
   ]
  },
  {
   "cell_type": "markdown",
   "id": "f746e8e7",
   "metadata": {},
   "source": [
    "**Check for multi-collinearity in the data and take necessary action**"
   ]
  },
  {
   "cell_type": "code",
   "execution_count": 117,
   "id": "e929b70e",
   "metadata": {},
   "outputs": [
    {
     "name": "stdout",
     "output_type": "stream",
     "text": [
      "   feature         VIF\n",
      "0      103   19.176438\n",
      "1      510    4.938043\n",
      "2      431   11.161202\n",
      "3      434  238.566414\n",
      "4      430   15.256461\n",
      "5       21  104.467516\n",
      "6      435  206.857376\n",
      "7       28  142.721944\n",
      "8      436  192.070647\n",
      "9      298  234.779917\n",
      "10     163  295.614034\n"
     ]
    }
   ],
   "source": [
    "from statsmodels.stats.outliers_influence import variance_inflation_factor\n",
    "X = df2[['103','510','431','434','430','21','435','28','436','298','163']]\n",
    "vif_data = pd.DataFrame()\n",
    "vif_data[\"feature\"] = X.columns\n",
    "  \n",
    "# calculating VIF for each feature\n",
    "vif_data[\"VIF\"] = [variance_inflation_factor(X.values, i)\n",
    "                          for i in range(len(X.columns))]\n",
    "  \n",
    "print(vif_data)"
   ]
  },
  {
   "cell_type": "code",
   "execution_count": 118,
   "id": "725bccdd",
   "metadata": {},
   "outputs": [
    {
     "data": {
      "image/png": "[encoded data removed]",
      "text/plain": [
       "<Figure size 1152x432 with 2 Axes>"
      ]
     },
     "metadata": {
      "needs_background": "light"
     },
     "output_type": "display_data"
    }
   ],
   "source": [
    "plt.figure(figsize=(16, 6))\n",
    "sns.heatmap(df2.corr(), cmap=\"Blues\", annot=True)\n",
    "plt.show()"
   ]
  },
  {
   "cell_type": "markdown",
   "id": "eb2a6be5",
   "metadata": {},
   "source": [
    "with VIF we found out that there is multicolinarity present in data.\n",
    "\n",
    "we will take 10 as threshold value as we now 10 indicates clear multicolinarity.\n"
   ]
  },
  {
   "cell_type": "code",
   "execution_count": 119,
   "id": "f403134a",
   "metadata": {},
   "outputs": [
    {
     "data": {
      "text/plain": [
       "Pass/Fail    1.000000\n",
       "103          0.151196\n",
       "510          0.131587\n",
       "431          0.120304\n",
       "434          0.111609\n",
       "430          0.109569\n",
       "435          0.108573\n",
       "21           0.107997\n",
       "28           0.106767\n",
       "436          0.106426\n",
       "298          0.102055\n",
       "163          0.099876\n",
       "Name: Pass/Fail, dtype: float64"
      ]
     },
     "execution_count": 119,
     "metadata": {},
     "output_type": "execute_result"
    }
   ],
   "source": [
    "correlation_values=df2.corr()['Pass/Fail']\n",
    "correlation_values.abs().sort_values(ascending=False)"
   ]
  },
  {
   "cell_type": "markdown",
   "id": "f5319306",
   "metadata": {},
   "source": [
    "droping columns 163,298,436,28,435,21 as VIF is very high and they dont have that much influance on target varibale.\n"
   ]
  },
  {
   "cell_type": "code",
   "execution_count": 120,
   "id": "68fae9b7",
   "metadata": {},
   "outputs": [],
   "source": [
    "li=['163','436','298','28','434','21','435','430']\n",
    "for i in li:\n",
    "    df2.drop([i], axis = 1,inplace = True)"
   ]
  },
  {
   "cell_type": "code",
   "execution_count": 121,
   "id": "aaab51e3",
   "metadata": {},
   "outputs": [
    {
     "data": {
      "text/html": [
       "<div>\n",
       "<style scoped>\n",
       "    .dataframe tbody tr th:only-of-type {\n",
       "        vertical-align: middle;\n",
       "    }\n",
       "\n",
       "    .dataframe tbody tr th {\n",
       "        vertical-align: top;\n",
       "    }\n",
       "\n",
       "    .dataframe thead th {\n",
       "        text-align: right;\n",
       "    }\n",
       "</style>\n",
       "<table border=\"1\" class=\"dataframe\">\n",
       "  <thead>\n",
       "    <tr style=\"text-align: right;\">\n",
       "      <th></th>\n",
       "      <th>Time</th>\n",
       "      <th>103</th>\n",
       "      <th>510</th>\n",
       "      <th>431</th>\n",
       "      <th>Pass/Fail</th>\n",
       "    </tr>\n",
       "  </thead>\n",
       "  <tbody>\n",
       "    <tr>\n",
       "      <th>0</th>\n",
       "      <td>2008-07-19 11:55:00</td>\n",
       "      <td>-0.0042</td>\n",
       "      <td>64.6707</td>\n",
       "      <td>33.1562</td>\n",
       "      <td>-1</td>\n",
       "    </tr>\n",
       "    <tr>\n",
       "      <th>1</th>\n",
       "      <td>2008-07-19 12:32:00</td>\n",
       "      <td>-0.0045</td>\n",
       "      <td>141.4365</td>\n",
       "      <td>2.2655</td>\n",
       "      <td>-1</td>\n",
       "    </tr>\n",
       "    <tr>\n",
       "      <th>2</th>\n",
       "      <td>2008-07-19 13:17:00</td>\n",
       "      <td>-0.0026</td>\n",
       "      <td>240.7767</td>\n",
       "      <td>29.1663</td>\n",
       "      <td>1</td>\n",
       "    </tr>\n",
       "    <tr>\n",
       "      <th>3</th>\n",
       "      <td>2008-07-19 14:43:00</td>\n",
       "      <td>-0.0059</td>\n",
       "      <td>113.5593</td>\n",
       "      <td>13.4051</td>\n",
       "      <td>-1</td>\n",
       "    </tr>\n",
       "    <tr>\n",
       "      <th>4</th>\n",
       "      <td>2008-07-19 15:22:00</td>\n",
       "      <td>-0.0045</td>\n",
       "      <td>148.0663</td>\n",
       "      <td>10.7390</td>\n",
       "      <td>-1</td>\n",
       "    </tr>\n",
       "  </tbody>\n",
       "</table>\n",
       "</div>"
      ],
      "text/plain": [
       "                  Time     103       510      431  Pass/Fail\n",
       "0  2008-07-19 11:55:00 -0.0042   64.6707  33.1562         -1\n",
       "1  2008-07-19 12:32:00 -0.0045  141.4365   2.2655         -1\n",
       "2  2008-07-19 13:17:00 -0.0026  240.7767  29.1663          1\n",
       "3  2008-07-19 14:43:00 -0.0059  113.5593  13.4051         -1\n",
       "4  2008-07-19 15:22:00 -0.0045  148.0663  10.7390         -1"
      ]
     },
     "execution_count": 121,
     "metadata": {},
     "output_type": "execute_result"
    }
   ],
   "source": [
    "df2.head()"
   ]
  },
  {
   "cell_type": "code",
   "execution_count": 122,
   "id": "82c8e687",
   "metadata": {},
   "outputs": [
    {
     "name": "stdout",
     "output_type": "stream",
     "text": [
      "  feature       VIF\n",
      "0     103  1.967049\n",
      "1     510  2.076426\n",
      "2     431  1.378084\n"
     ]
    }
   ],
   "source": [
    "X = df2[['103','510','431']]\n",
    "vif_data = pd.DataFrame()\n",
    "vif_data[\"feature\"] = X.columns\n",
    "  \n",
    "# calculating VIF for each feature\n",
    "vif_data[\"VIF\"] = [variance_inflation_factor(X.values, i)\n",
    "                          for i in range(len(X.columns))]\n",
    "  \n",
    "print(vif_data)"
   ]
  },
  {
   "cell_type": "markdown",
   "id": "df96cda1",
   "metadata": {},
   "source": [
    "multicolinarity looks under control."
   ]
  },
  {
   "cell_type": "markdown",
   "id": "60992bf8",
   "metadata": {},
   "source": [
    "**Make all relevant modifications on the data using both functional/logical reasoning/assumptions.**"
   ]
  },
  {
   "cell_type": "markdown",
   "id": "4e2ee19c",
   "metadata": {},
   "source": [
    "removing time column as it does not priovide any useful feature in prediction."
   ]
  },
  {
   "cell_type": "code",
   "execution_count": 123,
   "id": "fa590f35",
   "metadata": {},
   "outputs": [],
   "source": [
    "df2.drop('Time',axis=1,inplace= True)"
   ]
  },
  {
   "cell_type": "code",
   "execution_count": 124,
   "id": "890d1b2d",
   "metadata": {},
   "outputs": [
    {
     "data": {
      "text/html": [
       "<div>\n",
       "<style scoped>\n",
       "    .dataframe tbody tr th:only-of-type {\n",
       "        vertical-align: middle;\n",
       "    }\n",
       "\n",
       "    .dataframe tbody tr th {\n",
       "        vertical-align: top;\n",
       "    }\n",
       "\n",
       "    .dataframe thead th {\n",
       "        text-align: right;\n",
       "    }\n",
       "</style>\n",
       "<table border=\"1\" class=\"dataframe\">\n",
       "  <thead>\n",
       "    <tr style=\"text-align: right;\">\n",
       "      <th></th>\n",
       "      <th>103</th>\n",
       "      <th>510</th>\n",
       "      <th>431</th>\n",
       "      <th>Pass/Fail</th>\n",
       "    </tr>\n",
       "  </thead>\n",
       "  <tbody>\n",
       "    <tr>\n",
       "      <th>0</th>\n",
       "      <td>-0.0042</td>\n",
       "      <td>64.6707</td>\n",
       "      <td>33.1562</td>\n",
       "      <td>-1</td>\n",
       "    </tr>\n",
       "    <tr>\n",
       "      <th>1</th>\n",
       "      <td>-0.0045</td>\n",
       "      <td>141.4365</td>\n",
       "      <td>2.2655</td>\n",
       "      <td>-1</td>\n",
       "    </tr>\n",
       "    <tr>\n",
       "      <th>2</th>\n",
       "      <td>-0.0026</td>\n",
       "      <td>240.7767</td>\n",
       "      <td>29.1663</td>\n",
       "      <td>1</td>\n",
       "    </tr>\n",
       "    <tr>\n",
       "      <th>3</th>\n",
       "      <td>-0.0059</td>\n",
       "      <td>113.5593</td>\n",
       "      <td>13.4051</td>\n",
       "      <td>-1</td>\n",
       "    </tr>\n",
       "    <tr>\n",
       "      <th>4</th>\n",
       "      <td>-0.0045</td>\n",
       "      <td>148.0663</td>\n",
       "      <td>10.7390</td>\n",
       "      <td>-1</td>\n",
       "    </tr>\n",
       "  </tbody>\n",
       "</table>\n",
       "</div>"
      ],
      "text/plain": [
       "      103       510      431  Pass/Fail\n",
       "0 -0.0042   64.6707  33.1562         -1\n",
       "1 -0.0045  141.4365   2.2655         -1\n",
       "2 -0.0026  240.7767  29.1663          1\n",
       "3 -0.0059  113.5593  13.4051         -1\n",
       "4 -0.0045  148.0663  10.7390         -1"
      ]
     },
     "execution_count": 124,
     "metadata": {},
     "output_type": "execute_result"
    }
   ],
   "source": [
    "df2.head()"
   ]
  },
  {
   "cell_type": "code",
   "execution_count": 125,
   "id": "6ad7a88b",
   "metadata": {},
   "outputs": [
    {
     "name": "stdout",
     "output_type": "stream",
     "text": [
      "<class 'pandas.core.frame.DataFrame'>\n",
      "RangeIndex: 1567 entries, 0 to 1566\n",
      "Data columns (total 4 columns):\n",
      " #   Column     Non-Null Count  Dtype  \n",
      "---  ------     --------------  -----  \n",
      " 0   103        1567 non-null   float64\n",
      " 1   510        1567 non-null   float64\n",
      " 2   431        1567 non-null   float64\n",
      " 3   Pass/Fail  1567 non-null   int64  \n",
      "dtypes: float64(3), int64(1)\n",
      "memory usage: 49.1 KB\n"
     ]
    }
   ],
   "source": [
    "df2.info()"
   ]
  },
  {
   "cell_type": "markdown",
   "id": "9ec8c5b4",
   "metadata": {},
   "source": [
    "**Perform a detailed univariate Analysis with appropriate detailed comments after each analysis**"
   ]
  },
  {
   "cell_type": "code",
   "execution_count": 126,
   "id": "13bff6e2",
   "metadata": {},
   "outputs": [
    {
     "data": {
      "text/plain": [
       "103          float64\n",
       "510          float64\n",
       "431          float64\n",
       "Pass/Fail      int64\n",
       "dtype: object"
      ]
     },
     "execution_count": 126,
     "metadata": {},
     "output_type": "execute_result"
    }
   ],
   "source": [
    "df2.dtypes"
   ]
  },
  {
   "cell_type": "markdown",
   "id": "f66e7f18",
   "metadata": {},
   "source": [
    "datatypes of individual variables is float and target variable is interger."
   ]
  },
  {
   "cell_type": "code",
   "execution_count": 127,
   "id": "53179c06",
   "metadata": {},
   "outputs": [
    {
     "data": {
      "text/plain": [
       "<AxesSubplot:xlabel='103', ylabel='Density'>"
      ]
     },
     "execution_count": 127,
     "metadata": {},
     "output_type": "execute_result"
    },
    {
     "data": {
      "image/png": "[encoded data removed]",
      "text/plain": [
       "<Figure size 432x288 with 1 Axes>"
      ]
     },
     "metadata": {
      "needs_background": "light"
     },
     "output_type": "display_data"
    }
   ],
   "source": [
    "sns.kdeplot(df2['103'])"
   ]
  },
  {
   "cell_type": "markdown",
   "id": "b520f136",
   "metadata": {},
   "source": [
    "data is normally distrubuted for this column, there are outliers in column."
   ]
  },
  {
   "cell_type": "code",
   "execution_count": 128,
   "id": "12b7c4d8",
   "metadata": {},
   "outputs": [
    {
     "data": {
      "text/plain": [
       "array([[<AxesSubplot:title={'center':'431'}>]], dtype=object)"
      ]
     },
     "execution_count": 128,
     "metadata": {},
     "output_type": "execute_result"
    },
    {
     "data": {
      "image/png": "[encoded data removed]",
      "text/plain": [
       "<Figure size 432x288 with 1 Axes>"
      ]
     },
     "metadata": {
      "needs_background": "light"
     },
     "output_type": "display_data"
    }
   ],
   "source": [
    "df2.hist(column=\"431\",grid=False, edgecolor='black')"
   ]
  },
  {
   "cell_type": "markdown",
   "id": "6b6e4af6",
   "metadata": {},
   "source": [
    "there are outliers.\n",
    "distrubution of data is right skewed."
   ]
  },
  {
   "cell_type": "code",
   "execution_count": 129,
   "id": "d13f3be1",
   "metadata": {},
   "outputs": [
    {
     "data": {
      "text/plain": [
       "<AxesSubplot:xlabel='510'>"
      ]
     },
     "execution_count": 129,
     "metadata": {},
     "output_type": "execute_result"
    },
    {
     "data": {
      "image/png": "[encoded data removed]",
      "text/plain": [
       "<Figure size 432x288 with 1 Axes>"
      ]
     },
     "metadata": {
      "needs_background": "light"
     },
     "output_type": "display_data"
    }
   ],
   "source": [
    "sns.boxplot(df2['510'])"
   ]
  },
  {
   "cell_type": "markdown",
   "id": "dd3ed025",
   "metadata": {},
   "source": [
    "Data is right skewed.\n",
    "\n",
    "Outliers are present in data."
   ]
  },
  {
   "cell_type": "markdown",
   "id": "2987f5dd",
   "metadata": {},
   "source": [
    "**Perform bivariate and multivariate analysis with appropriate detailed comments after each analysis.**"
   ]
  },
  {
   "cell_type": "markdown",
   "id": "3efd987c",
   "metadata": {},
   "source": [
    "***Bivariate analysis***"
   ]
  },
  {
   "cell_type": "code",
   "execution_count": 130,
   "id": "d332920a",
   "metadata": {},
   "outputs": [
    {
     "data": {
      "text/plain": [
       "<seaborn.axisgrid.JointGrid at 0x1efbb7ebc10>"
      ]
     },
     "execution_count": 130,
     "metadata": {},
     "output_type": "execute_result"
    },
    {
     "data": {
      "image/png": "[encoded data removed]",
      "text/plain": [
       "<Figure size 432x432 with 3 Axes>"
      ]
     },
     "metadata": {
      "needs_background": "light"
     },
     "output_type": "display_data"
    }
   ],
   "source": [
    "sns.jointplot(df2['431'],df2['510'], kind=\"hex\")"
   ]
  },
  {
   "cell_type": "markdown",
   "id": "196b2ead",
   "metadata": {},
   "source": [
    "data is skewed at on side for both coloumns, datapoints are concentrated at one point."
   ]
  },
  {
   "cell_type": "code",
   "execution_count": 131,
   "id": "3e774256",
   "metadata": {},
   "outputs": [
    {
     "data": {
      "image/png": "[encoded data removed]",
      "text/plain": [
       "<Figure size 360x360 with 1 Axes>"
      ]
     },
     "metadata": {
      "needs_background": "light"
     },
     "output_type": "display_data"
    }
   ],
   "source": [
    "sns.lmplot(x='431', y='103', data=df2);"
   ]
  },
  {
   "cell_type": "markdown",
   "id": "82058d4b",
   "metadata": {},
   "source": [
    "column 431 and 103 have positve relationship between them"
   ]
  },
  {
   "cell_type": "markdown",
   "id": "e4658267",
   "metadata": {},
   "source": [
    "***Multiivariate analysis***"
   ]
  },
  {
   "cell_type": "code",
   "execution_count": 132,
   "id": "0204eef7",
   "metadata": {},
   "outputs": [
    {
     "data": {
      "text/plain": [
       "<seaborn.axisgrid.PairGrid at 0x1efbb730f10>"
      ]
     },
     "execution_count": 132,
     "metadata": {},
     "output_type": "execute_result"
    },
    {
     "data": {
      "image/png": "[encoded data removed]",
      "text/plain": [
       "<Figure size 590.25x540 with 12 Axes>"
      ]
     },
     "metadata": {
      "needs_background": "light"
     },
     "output_type": "display_data"
    }
   ],
   "source": [
    "sns.pairplot(df2, hue='Pass/Fail' , diag_kind = 'kde', palette=\"Paired\")"
   ]
  },
  {
   "cell_type": "markdown",
   "id": "ec41ed5a",
   "metadata": {},
   "source": [
    "From the scatter plots it can be understood that there are no postive or negative trends, which means the variables are less dependent on each other.\n",
    "\n",
    "Most of the attributes are either left or right skewed"
   ]
  },
  {
   "cell_type": "markdown",
   "id": "8c8e0425",
   "metadata": {},
   "source": [
    "**Segregate predictors vs target attributes.**"
   ]
  },
  {
   "cell_type": "code",
   "execution_count": 133,
   "id": "28a849e1",
   "metadata": {},
   "outputs": [],
   "source": [
    "X=df2.drop(columns='Pass/Fail')"
   ]
  },
  {
   "cell_type": "code",
   "execution_count": 134,
   "id": "4a6aab48",
   "metadata": {},
   "outputs": [
    {
     "data": {
      "text/html": [
       "<div>\n",
       "<style scoped>\n",
       "    .dataframe tbody tr th:only-of-type {\n",
       "        vertical-align: middle;\n",
       "    }\n",
       "\n",
       "    .dataframe tbody tr th {\n",
       "        vertical-align: top;\n",
       "    }\n",
       "\n",
       "    .dataframe thead th {\n",
       "        text-align: right;\n",
       "    }\n",
       "</style>\n",
       "<table border=\"1\" class=\"dataframe\">\n",
       "  <thead>\n",
       "    <tr style=\"text-align: right;\">\n",
       "      <th></th>\n",
       "      <th>103</th>\n",
       "      <th>510</th>\n",
       "      <th>431</th>\n",
       "    </tr>\n",
       "  </thead>\n",
       "  <tbody>\n",
       "    <tr>\n",
       "      <th>0</th>\n",
       "      <td>-0.0042</td>\n",
       "      <td>64.6707</td>\n",
       "      <td>33.1562</td>\n",
       "    </tr>\n",
       "    <tr>\n",
       "      <th>1</th>\n",
       "      <td>-0.0045</td>\n",
       "      <td>141.4365</td>\n",
       "      <td>2.2655</td>\n",
       "    </tr>\n",
       "    <tr>\n",
       "      <th>2</th>\n",
       "      <td>-0.0026</td>\n",
       "      <td>240.7767</td>\n",
       "      <td>29.1663</td>\n",
       "    </tr>\n",
       "    <tr>\n",
       "      <th>3</th>\n",
       "      <td>-0.0059</td>\n",
       "      <td>113.5593</td>\n",
       "      <td>13.4051</td>\n",
       "    </tr>\n",
       "    <tr>\n",
       "      <th>4</th>\n",
       "      <td>-0.0045</td>\n",
       "      <td>148.0663</td>\n",
       "      <td>10.7390</td>\n",
       "    </tr>\n",
       "  </tbody>\n",
       "</table>\n",
       "</div>"
      ],
      "text/plain": [
       "      103       510      431\n",
       "0 -0.0042   64.6707  33.1562\n",
       "1 -0.0045  141.4365   2.2655\n",
       "2 -0.0026  240.7767  29.1663\n",
       "3 -0.0059  113.5593  13.4051\n",
       "4 -0.0045  148.0663  10.7390"
      ]
     },
     "execution_count": 134,
     "metadata": {},
     "output_type": "execute_result"
    }
   ],
   "source": [
    "X.head()"
   ]
  },
  {
   "cell_type": "code",
   "execution_count": 135,
   "id": "e34ebffc",
   "metadata": {},
   "outputs": [
    {
     "data": {
      "text/plain": [
       "0   -1\n",
       "1   -1\n",
       "2    1\n",
       "3   -1\n",
       "4   -1\n",
       "Name: Pass/Fail, dtype: int64"
      ]
     },
     "execution_count": 135,
     "metadata": {},
     "output_type": "execute_result"
    }
   ],
   "source": [
    "y=df2['Pass/Fail']\n",
    "y.head()"
   ]
  },
  {
   "cell_type": "markdown",
   "id": "3e8edda6",
   "metadata": {},
   "source": [
    "**Check for target balancing and fix it if found imbalanced.**"
   ]
  },
  {
   "cell_type": "code",
   "execution_count": 136,
   "id": "98531857",
   "metadata": {},
   "outputs": [
    {
     "data": {
      "image/png": "[encoded data removed]",
      "text/plain": [
       "<Figure size 432x288 with 1 Axes>"
      ]
     },
     "metadata": {
      "needs_background": "light"
     },
     "output_type": "display_data"
    }
   ],
   "source": [
    "sns.countplot(x ='Pass/Fail', data = df2)\n",
    "plt.show()"
   ]
  },
  {
   "cell_type": "markdown",
   "id": "180e1a7d",
   "metadata": {},
   "source": [
    "There is imbalance in data as there are more -1 datapoint then 1."
   ]
  },
  {
   "cell_type": "code",
   "execution_count": 137,
   "id": "8b1c1cf2",
   "metadata": {},
   "outputs": [],
   "source": [
    "from imblearn.over_sampling import SMOTE\n",
    "from imblearn.over_sampling import SMOTENC"
   ]
  },
  {
   "cell_type": "code",
   "execution_count": 138,
   "id": "3414e3da",
   "metadata": {
    "scrolled": false
   },
   "outputs": [
    {
     "data": {
      "text/html": [
       "<div>\n",
       "<style scoped>\n",
       "    .dataframe tbody tr th:only-of-type {\n",
       "        vertical-align: middle;\n",
       "    }\n",
       "\n",
       "    .dataframe tbody tr th {\n",
       "        vertical-align: top;\n",
       "    }\n",
       "\n",
       "    .dataframe thead th {\n",
       "        text-align: right;\n",
       "    }\n",
       "</style>\n",
       "<table border=\"1\" class=\"dataframe\">\n",
       "  <thead>\n",
       "    <tr style=\"text-align: right;\">\n",
       "      <th></th>\n",
       "      <th>103</th>\n",
       "      <th>510</th>\n",
       "      <th>431</th>\n",
       "    </tr>\n",
       "    <tr>\n",
       "      <th>Pass/Fail</th>\n",
       "      <th></th>\n",
       "      <th></th>\n",
       "      <th></th>\n",
       "    </tr>\n",
       "  </thead>\n",
       "  <tbody>\n",
       "    <tr>\n",
       "      <th>-1</th>\n",
       "      <td>1463</td>\n",
       "      <td>1463</td>\n",
       "      <td>1463</td>\n",
       "    </tr>\n",
       "    <tr>\n",
       "      <th>1</th>\n",
       "      <td>104</td>\n",
       "      <td>104</td>\n",
       "      <td>104</td>\n",
       "    </tr>\n",
       "  </tbody>\n",
       "</table>\n",
       "</div>"
      ],
      "text/plain": [
       "            103   510   431\n",
       "Pass/Fail                  \n",
       "-1         1463  1463  1463\n",
       " 1          104   104   104"
      ]
     },
     "execution_count": 138,
     "metadata": {},
     "output_type": "execute_result"
    }
   ],
   "source": [
    "df2.groupby([\"Pass/Fail\"]).count()"
   ]
  },
  {
   "cell_type": "code",
   "execution_count": 139,
   "id": "479a62c8",
   "metadata": {},
   "outputs": [
    {
     "data": {
      "text/plain": [
       "numpy.ndarray"
      ]
     },
     "execution_count": 139,
     "metadata": {},
     "output_type": "execute_result"
    }
   ],
   "source": [
    "X=X.to_numpy()\n",
    "y=y.to_numpy()\n",
    "\n",
    "\n",
    "type(X)"
   ]
  },
  {
   "cell_type": "code",
   "execution_count": 140,
   "id": "b08d6378",
   "metadata": {},
   "outputs": [
    {
     "name": "stdout",
     "output_type": "stream",
     "text": [
      "Before UpSampling, counts of label '1': 104\n",
      "Before UpSampling, counts of label '-1': 1463 \n",
      "\n",
      "After UpSampling, counts of label '1': 1463\n",
      "After UpSampling, counts of label '-1': 1463 \n",
      "\n",
      "After UpSampling, the shape of X: (2926, 3)\n",
      "After UpSampling, the shape of y: (2926,) \n",
      "\n"
     ]
    }
   ],
   "source": [
    "print(\"Before UpSampling, counts of label '1': {}\".format(sum(y==1)))\n",
    "print(\"Before UpSampling, counts of label '-1': {} \\n\".format(sum(y==-1)))\n",
    "\n",
    "sm = SMOTE(sampling_strategy = 1 ,k_neighbors = 5, random_state=1)   #Synthetic Minority Over Sampling Technique\n",
    "X, y = sm.fit_resample(X, y.ravel())\n",
    "\n",
    "\n",
    "print(\"After UpSampling, counts of label '1': {}\".format(sum(y==1)))\n",
    "print(\"After UpSampling, counts of label '-1': {} \\n\".format(sum(y==-1)))\n",
    "\n",
    "\n",
    "\n",
    "print('After UpSampling, the shape of X: {}'.format(X.shape))\n",
    "print('After UpSampling, the shape of y: {} \\n'.format(y.shape))"
   ]
  },
  {
   "cell_type": "markdown",
   "id": "2f9bf462",
   "metadata": {},
   "source": [
    "After oversampling data we have balanced classes of target variable"
   ]
  },
  {
   "cell_type": "code",
   "execution_count": 141,
   "id": "8451e837",
   "metadata": {},
   "outputs": [],
   "source": [
    "Xdf=pd.DataFrame(X, columns = ['103','510','431'])"
   ]
  },
  {
   "cell_type": "code",
   "execution_count": 142,
   "id": "9e046097",
   "metadata": {},
   "outputs": [
    {
     "data": {
      "text/html": [
       "<div>\n",
       "<style scoped>\n",
       "    .dataframe tbody tr th:only-of-type {\n",
       "        vertical-align: middle;\n",
       "    }\n",
       "\n",
       "    .dataframe tbody tr th {\n",
       "        vertical-align: top;\n",
       "    }\n",
       "\n",
       "    .dataframe thead th {\n",
       "        text-align: right;\n",
       "    }\n",
       "</style>\n",
       "<table border=\"1\" class=\"dataframe\">\n",
       "  <thead>\n",
       "    <tr style=\"text-align: right;\">\n",
       "      <th></th>\n",
       "      <th>103</th>\n",
       "      <th>510</th>\n",
       "      <th>431</th>\n",
       "    </tr>\n",
       "  </thead>\n",
       "  <tbody>\n",
       "    <tr>\n",
       "      <th>0</th>\n",
       "      <td>-0.0042</td>\n",
       "      <td>64.6707</td>\n",
       "      <td>33.1562</td>\n",
       "    </tr>\n",
       "    <tr>\n",
       "      <th>1</th>\n",
       "      <td>-0.0045</td>\n",
       "      <td>141.4365</td>\n",
       "      <td>2.2655</td>\n",
       "    </tr>\n",
       "    <tr>\n",
       "      <th>2</th>\n",
       "      <td>-0.0026</td>\n",
       "      <td>240.7767</td>\n",
       "      <td>29.1663</td>\n",
       "    </tr>\n",
       "    <tr>\n",
       "      <th>3</th>\n",
       "      <td>-0.0059</td>\n",
       "      <td>113.5593</td>\n",
       "      <td>13.4051</td>\n",
       "    </tr>\n",
       "    <tr>\n",
       "      <th>4</th>\n",
       "      <td>-0.0045</td>\n",
       "      <td>148.0663</td>\n",
       "      <td>10.7390</td>\n",
       "    </tr>\n",
       "  </tbody>\n",
       "</table>\n",
       "</div>"
      ],
      "text/plain": [
       "      103       510      431\n",
       "0 -0.0042   64.6707  33.1562\n",
       "1 -0.0045  141.4365   2.2655\n",
       "2 -0.0026  240.7767  29.1663\n",
       "3 -0.0059  113.5593  13.4051\n",
       "4 -0.0045  148.0663  10.7390"
      ]
     },
     "execution_count": 142,
     "metadata": {},
     "output_type": "execute_result"
    }
   ],
   "source": [
    "Xdf.head()"
   ]
  },
  {
   "cell_type": "markdown",
   "id": "bb94dcac",
   "metadata": {},
   "source": [
    "**Perform train-test split and standardise the data or vice versa if required**"
   ]
  },
  {
   "cell_type": "code",
   "execution_count": 143,
   "id": "6f134018",
   "metadata": {},
   "outputs": [],
   "source": [
    "x=Xdf.apply(zscore)"
   ]
  },
  {
   "cell_type": "code",
   "execution_count": 144,
   "id": "c5549e3a",
   "metadata": {},
   "outputs": [],
   "source": [
    "X_train, X_test, y_train, y_test = train_test_split(x, y, test_size=0.30, random_state=5)"
   ]
  },
  {
   "cell_type": "code",
   "execution_count": 145,
   "id": "46a5483b",
   "metadata": {},
   "outputs": [
    {
     "data": {
      "text/html": [
       "<div>\n",
       "<style scoped>\n",
       "    .dataframe tbody tr th:only-of-type {\n",
       "        vertical-align: middle;\n",
       "    }\n",
       "\n",
       "    .dataframe tbody tr th {\n",
       "        vertical-align: top;\n",
       "    }\n",
       "\n",
       "    .dataframe thead th {\n",
       "        text-align: right;\n",
       "    }\n",
       "</style>\n",
       "<table border=\"1\" class=\"dataframe\">\n",
       "  <thead>\n",
       "    <tr style=\"text-align: right;\">\n",
       "      <th></th>\n",
       "      <th>103</th>\n",
       "      <th>510</th>\n",
       "      <th>431</th>\n",
       "    </tr>\n",
       "  </thead>\n",
       "  <tbody>\n",
       "    <tr>\n",
       "      <th>1772</th>\n",
       "      <td>-0.761558</td>\n",
       "      <td>-0.532923</td>\n",
       "      <td>-0.186110</td>\n",
       "    </tr>\n",
       "    <tr>\n",
       "      <th>343</th>\n",
       "      <td>0.720927</td>\n",
       "      <td>0.747279</td>\n",
       "      <td>-0.071879</td>\n",
       "    </tr>\n",
       "    <tr>\n",
       "      <th>7</th>\n",
       "      <td>1.032038</td>\n",
       "      <td>0.342431</td>\n",
       "      <td>-0.288445</td>\n",
       "    </tr>\n",
       "    <tr>\n",
       "      <th>1615</th>\n",
       "      <td>-0.486716</td>\n",
       "      <td>-0.635719</td>\n",
       "      <td>1.854298</td>\n",
       "    </tr>\n",
       "    <tr>\n",
       "      <th>894</th>\n",
       "      <td>-1.425735</td>\n",
       "      <td>-0.746378</td>\n",
       "      <td>-0.146012</td>\n",
       "    </tr>\n",
       "  </tbody>\n",
       "</table>\n",
       "</div>"
      ],
      "text/plain": [
       "           103       510       431\n",
       "1772 -0.761558 -0.532923 -0.186110\n",
       "343   0.720927  0.747279 -0.071879\n",
       "7     1.032038  0.342431 -0.288445\n",
       "1615 -0.486716 -0.635719  1.854298\n",
       "894  -1.425735 -0.746378 -0.146012"
      ]
     },
     "execution_count": 145,
     "metadata": {},
     "output_type": "execute_result"
    }
   ],
   "source": [
    "X_train.head()"
   ]
  },
  {
   "cell_type": "markdown",
   "id": "3032dd5e",
   "metadata": {},
   "source": [
    "**Check if the train and test data have similar statistical characteristics when compared with original data.**"
   ]
  },
  {
   "cell_type": "code",
   "execution_count": 157,
   "id": "e01d3fe5",
   "metadata": {},
   "outputs": [
    {
     "data": {
      "text/plain": [
       "<AxesSubplot:xlabel='103', ylabel='Proportion'>"
      ]
     },
     "execution_count": 157,
     "metadata": {},
     "output_type": "execute_result"
    },
    {
     "data": {
      "image/png": "[encoded data removed]",
      "text/plain": [
       "<Figure size 432x288 with 1 Axes>"
      ]
     },
     "metadata": {
      "needs_background": "light"
     },
     "output_type": "display_data"
    }
   ],
   "source": [
    "feature_name = '103'\n",
    "\n",
    "df = pd.DataFrame({\n",
    "    feature_name:np.concatenate((X_train.loc[:,feature_name],X_test.loc[:,feature_name])),\n",
    "    'set':['training']*X_train.shape[0] + ['test']*X_test.shape[0]\n",
    "    })\n",
    "sns.ecdfplot(data=df,x=feature_name,hue='set')"
   ]
  },
  {
   "cell_type": "code",
   "execution_count": 148,
   "id": "1c26e1e9",
   "metadata": {},
   "outputs": [
    {
     "data": {
      "text/plain": [
       "0.039945632830296125"
      ]
     },
     "execution_count": 148,
     "metadata": {},
     "output_type": "execute_result"
    }
   ],
   "source": [
    "from scipy.stats import ks_2samp\n",
    "ks_2samp(X_train.loc[:,feature_name],X_test.loc[:,feature_name]).statistic"
   ]
  },
  {
   "cell_type": "markdown",
   "id": "b7d22ac0",
   "metadata": {},
   "source": [
    "We can se that there is almost no difference between two graphs that suggests that there is no disturbance between two sets.\n",
    "\n",
    "Distance is also low, this means test and train resambles original data."
   ]
  },
  {
   "cell_type": "markdown",
   "id": "544c87e4",
   "metadata": {},
   "source": [
    "**Use any Supervised Learning technique to train a model**"
   ]
  },
  {
   "cell_type": "code",
   "execution_count": 46,
   "id": "99a20982",
   "metadata": {},
   "outputs": [],
   "source": [
    "KNN = KNeighborsClassifier(n_neighbors= 5 , metric = 'euclidean' ) #Building knn with 5 neighbors"
   ]
  },
  {
   "cell_type": "code",
   "execution_count": 47,
   "id": "51ae74c0",
   "metadata": {},
   "outputs": [],
   "source": [
    "KNN.fit(X_train, y_train)\n",
    "predicted_labels = KNN.predict(X_test)\n",
    "predictedlabels = KNN.predict(X_train)"
   ]
  },
  {
   "cell_type": "code",
   "execution_count": 48,
   "id": "455caea5",
   "metadata": {},
   "outputs": [
    {
     "name": "stdout",
     "output_type": "stream",
     "text": [
      "Accuracy on Test data: 0.7517084282460137\n"
     ]
    }
   ],
   "source": [
    "print('Accuracy on Test data:',KNN.score(X_test, y_test))"
   ]
  },
  {
   "cell_type": "code",
   "execution_count": 49,
   "id": "2933d9f8",
   "metadata": {},
   "outputs": [
    {
     "data": {
      "image/png": "[encoded data removed]",
      "text/plain": [
       "<Figure size 504x360 with 2 Axes>"
      ]
     },
     "metadata": {
      "needs_background": "light"
     },
     "output_type": "display_data"
    }
   ],
   "source": [
    "cm = confusion_matrix(y_test, predicted_labels, labels=[-1, 1])\n",
    "df_cm = pd.DataFrame(cm, index = [i for i in [\"Fail\",\"Pass\"]],\n",
    "                  columns = [i for i in [\"Fail\",\"Pass\"]])\n",
    "plt.figure(figsize = (7,5))\n",
    "sns.heatmap(df_cm, annot=True ,fmt='g')\n",
    "plt.show()"
   ]
  },
  {
   "cell_type": "code",
   "execution_count": 50,
   "id": "d19684af",
   "metadata": {},
   "outputs": [
    {
     "name": "stdout",
     "output_type": "stream",
     "text": [
      "classification  Matrix of test data:\n",
      "               precision    recall  f1-score   support\n",
      "\n",
      "          -1       0.80      0.67      0.73       438\n",
      "           1       0.72      0.83      0.77       440\n",
      "\n",
      "    accuracy                           0.75       878\n",
      "   macro avg       0.76      0.75      0.75       878\n",
      "weighted avg       0.76      0.75      0.75       878\n",
      "\n"
     ]
    }
   ],
   "source": [
    "print(\"classification  Matrix of test data:\\n\",classification_report(y_test,predicted_labels))"
   ]
  },
  {
   "cell_type": "markdown",
   "id": "db643101",
   "metadata": {},
   "source": [
    "**Use cross validation techniques**\n",
    "\n",
    "***Kfold validation***"
   ]
  },
  {
   "cell_type": "code",
   "execution_count": 51,
   "id": "c55ff422",
   "metadata": {},
   "outputs": [],
   "source": [
    "X_traincv, X_testcv, y_traincv, y_testcv = train_test_split(x, y, test_size=0.30, random_state=5)"
   ]
  },
  {
   "cell_type": "code",
   "execution_count": 52,
   "id": "87b85425",
   "metadata": {},
   "outputs": [
    {
     "name": "stdout",
     "output_type": "stream",
     "text": [
      "Cross Validation Scores are [0.75609756 0.70731707 0.78536585 0.73594132 0.74327628]\n",
      "Average Cross Validation score :0.7455996183433717\n"
     ]
    }
   ],
   "source": [
    "from sklearn.model_selection import cross_val_score,KFold\n",
    "\n",
    "kf=KFold(n_splits=5,random_state=7,shuffle=True)\n",
    "score=cross_val_score(KNN,X_traincv,y_traincv,cv=kf)\n",
    "print(\"Cross Validation Scores are {}\".format(score))\n",
    "print(\"Average Cross Validation score :{}\".format(score.mean()))"
   ]
  },
  {
   "cell_type": "markdown",
   "id": "098f58e2",
   "metadata": {},
   "source": [
    "***Stratified K-Fold Cross-Validation***"
   ]
  },
  {
   "cell_type": "code",
   "execution_count": 53,
   "id": "68cca1f0",
   "metadata": {},
   "outputs": [
    {
     "name": "stdout",
     "output_type": "stream",
     "text": [
      "Cross Validation Scores are [0.74634146 0.74878049 0.75121951 0.74572127 0.74572127]\n",
      "Average Cross Validation score :0.747556801240384\n"
     ]
    }
   ],
   "source": [
    "from sklearn.model_selection import cross_val_score,StratifiedKFold\n",
    "\n",
    "stratifiedkf=StratifiedKFold(n_splits=5)\n",
    "score=cross_val_score(KNN,X_traincv,y_traincv,cv=stratifiedkf)\n",
    "print(\"Cross Validation Scores are {}\".format(score))\n",
    "print(\"Average Cross Validation score :{}\".format(score.mean()))"
   ]
  },
  {
   "cell_type": "markdown",
   "id": "ef7b6184",
   "metadata": {},
   "source": [
    "***Leave one Out cross-validation***"
   ]
  },
  {
   "cell_type": "code",
   "execution_count": 54,
   "id": "38f83669",
   "metadata": {},
   "outputs": [
    {
     "name": "stdout",
     "output_type": "stream",
     "text": [
      "Cross Validation Scores are [1. 0. 0. ... 1. 1. 1.]\n",
      "Average Cross Validation score :0.76513671875\n"
     ]
    }
   ],
   "source": [
    "from sklearn.model_selection import LeaveOneOut,cross_val_score\n",
    "\n",
    "loo=LeaveOneOut()\n",
    "score=cross_val_score(KNN,X_traincv,y_traincv,cv=loo)\n",
    "print(\"Cross Validation Scores are {}\".format(score))\n",
    "print(\"Average Cross Validation score :{}\".format(score.mean()))"
   ]
  },
  {
   "cell_type": "markdown",
   "id": "a881aa69",
   "metadata": {},
   "source": [
    "***Shuffle Split***"
   ]
  },
  {
   "cell_type": "code",
   "execution_count": 55,
   "id": "36f63bab",
   "metadata": {},
   "outputs": [
    {
     "name": "stdout",
     "output_type": "stream",
     "text": [
      "Cross Validation Scores are [0.72195122 0.70081301 0.69593496 0.70406504 0.69756098 0.70569106\n",
      " 0.7203252  0.72357724 0.7398374  0.72682927]\n",
      "Average Cross Validation score :0.7136585365853658\n"
     ]
    }
   ],
   "source": [
    "from sklearn.model_selection import ShuffleSplit,cross_val_score\n",
    "\n",
    "shuffle_split=ShuffleSplit(test_size=0.3,train_size=0.5,n_splits=10)\n",
    "score=cross_val_score(KNN,X_traincv,y_traincv,cv=shuffle_split)\n",
    "print(\"Cross Validation Scores are {}\".format(score))\n",
    "print(\"Average Cross Validation score :{}\".format(score.mean()))"
   ]
  },
  {
   "cell_type": "markdown",
   "id": "5346ee58",
   "metadata": {},
   "source": [
    "***Time Series Cross-Validation***"
   ]
  },
  {
   "cell_type": "code",
   "execution_count": 56,
   "id": "96eaffb8",
   "metadata": {},
   "outputs": [
    {
     "name": "stdout",
     "output_type": "stream",
     "text": [
      "Cross Validation Scores are [0.6627566  0.72434018 0.71554252 0.73607038 0.74193548]\n",
      "Average Cross Validation score :0.7161290322580646\n"
     ]
    }
   ],
   "source": [
    "from sklearn.model_selection import TimeSeriesSplit\n",
    "\n",
    "time_series = TimeSeriesSplit()\n",
    "score=cross_val_score(KNN,X_traincv,y_traincv,cv=time_series)\n",
    "print(\"Cross Validation Scores are {}\".format(score))\n",
    "print(\"Average Cross Validation score :{}\".format(score.mean()))"
   ]
  },
  {
   "cell_type": "markdown",
   "id": "27839f6d",
   "metadata": {},
   "source": [
    "**Apply hyper-parameter tuning techniques to get the best accuracy.**"
   ]
  },
  {
   "cell_type": "markdown",
   "id": "3ceed090",
   "metadata": {},
   "source": [
    "***Gridsearchcv***"
   ]
  },
  {
   "cell_type": "code",
   "execution_count": 57,
   "id": "79c2662b",
   "metadata": {},
   "outputs": [],
   "source": [
    "k_range = list(range(2,10))\n",
    "weight_options = [\"uniform\", \"distance\"]\n",
    "met = ['euclidean','manhattan']\n",
    "algo=['auto', 'ball_tree', 'kd_tree' , 'brute']\n",
    "param_grid = dict(n_neighbors = k_range, weights = weight_options,metric= met,algorithm=algo)\n",
    "knn = KNeighborsClassifier()"
   ]
  },
  {
   "cell_type": "code",
   "execution_count": 58,
   "id": "50c53bce",
   "metadata": {},
   "outputs": [
    {
     "data": {
      "text/plain": [
       "GridSearchCV(cv=10, estimator=KNeighborsClassifier(),\n",
       "             param_grid={'algorithm': ['auto', 'ball_tree', 'kd_tree', 'brute'],\n",
       "                         'metric': ['euclidean', 'manhattan'],\n",
       "                         'n_neighbors': [2, 3, 4, 5, 6, 7, 8, 9],\n",
       "                         'weights': ['uniform', 'distance']},\n",
       "             scoring='accuracy')"
      ]
     },
     "execution_count": 58,
     "metadata": {},
     "output_type": "execute_result"
    }
   ],
   "source": [
    "grid = GridSearchCV(knn, param_grid, cv = 10, scoring = 'accuracy')\n",
    "grid.fit(X_train,y_train)"
   ]
  },
  {
   "cell_type": "code",
   "execution_count": 59,
   "id": "25bd2e64",
   "metadata": {},
   "outputs": [
    {
     "name": "stdout",
     "output_type": "stream",
     "text": [
      "0.7978503108560497\n",
      "{'algorithm': 'auto', 'metric': 'manhattan', 'n_neighbors': 3, 'weights': 'distance'}\n",
      "KNeighborsClassifier(metric='manhattan', n_neighbors=3, weights='distance')\n"
     ]
    }
   ],
   "source": [
    "print (grid.best_score_)\n",
    "print (grid.best_params_)\n",
    "print (grid.best_estimator_)"
   ]
  },
  {
   "cell_type": "markdown",
   "id": "7f8f149b",
   "metadata": {},
   "source": [
    "we are geting 89% accuracy after cross validation."
   ]
  },
  {
   "cell_type": "markdown",
   "id": "f2824046",
   "metadata": {},
   "source": [
    "***Randomizedsearch***"
   ]
  },
  {
   "cell_type": "code",
   "execution_count": 60,
   "id": "85ec0a7f",
   "metadata": {},
   "outputs": [],
   "source": [
    "k_range = list(range(2,10))\n",
    "weight_options = [\"uniform\", \"distance\"]\n",
    "met = ['euclidean','manhattan']\n",
    "algo=['auto', 'ball_tree', 'kd_tree' , 'brute']\n",
    "param_grid = dict(n_neighbors = k_range, weights = weight_options,metric= met,algorithm=algo)\n",
    "#print (param_grid)\n",
    "knnr = KNeighborsClassifier()"
   ]
  },
  {
   "cell_type": "code",
   "execution_count": 61,
   "id": "5506f2a2",
   "metadata": {},
   "outputs": [
    {
     "data": {
      "text/plain": [
       "RandomizedSearchCV(cv=10, estimator=KNeighborsClassifier(),\n",
       "                   param_distributions={'algorithm': ['auto', 'ball_tree',\n",
       "                                                      'kd_tree', 'brute'],\n",
       "                                        'metric': ['euclidean', 'manhattan'],\n",
       "                                        'n_neighbors': [2, 3, 4, 5, 6, 7, 8, 9],\n",
       "                                        'weights': ['uniform', 'distance']},\n",
       "                   random_state=5, scoring='accuracy')"
      ]
     },
     "execution_count": 61,
     "metadata": {},
     "output_type": "execute_result"
    }
   ],
   "source": [
    "gridr = RandomizedSearchCV(knnr, param_grid, cv = 10, scoring = 'accuracy',n_iter=10, random_state=5)\n",
    "gridr.fit(X_train,y_train)"
   ]
  },
  {
   "cell_type": "code",
   "execution_count": 62,
   "id": "e9c65457",
   "metadata": {},
   "outputs": [
    {
     "name": "stdout",
     "output_type": "stream",
     "text": [
      "0.7978503108560497\n",
      "{'weights': 'distance', 'n_neighbors': 3, 'metric': 'manhattan', 'algorithm': 'kd_tree'}\n",
      "KNeighborsClassifier(algorithm='kd_tree', metric='manhattan', n_neighbors=3,\n",
      "                     weights='distance')\n"
     ]
    }
   ],
   "source": [
    "print (gridr.best_score_)\n",
    "print (gridr.best_params_)\n",
    "print (gridr.best_estimator_)"
   ]
  },
  {
   "cell_type": "markdown",
   "id": "3e7d7946",
   "metadata": {},
   "source": [
    "computation time is low but accuracy we get is lower then what we got in Gridsearch."
   ]
  },
  {
   "cell_type": "code",
   "execution_count": 63,
   "id": "642d900f",
   "metadata": {},
   "outputs": [
    {
     "name": "stdout",
     "output_type": "stream",
     "text": [
      "Accuracy on Test data: 0.785876993166287\n"
     ]
    }
   ],
   "source": [
    "knn = KNeighborsClassifier(metric='manhattan', n_neighbors=3, weights ='distance', algorithm='auto')\n",
    "knn.fit(X_train,y_train)\n",
    "preds =knn.predict(X_test)\n",
    "print('Accuracy on Test data:',knn.score(X_test, y_test) )"
   ]
  },
  {
   "cell_type": "code",
   "execution_count": 64,
   "id": "decd4d99",
   "metadata": {},
   "outputs": [
    {
     "data": {
      "image/png": "[encoded data removed]",
      "text/plain": [
       "<Figure size 504x360 with 2 Axes>"
      ]
     },
     "metadata": {
      "needs_background": "light"
     },
     "output_type": "display_data"
    }
   ],
   "source": [
    "cm = confusion_matrix(y_test, preds, labels=[-1, 1])\n",
    "df_cm = pd.DataFrame(cm, index = [i for i in [\"Fail\",\"Pass\"]],\n",
    "                  columns = [i for i in [\"Fail\",\"Pass\"]])\n",
    "plt.figure(figsize = (7,5))\n",
    "sns.heatmap(df_cm, annot=True ,fmt='g')\n",
    "plt.show()"
   ]
  },
  {
   "cell_type": "code",
   "execution_count": 65,
   "id": "2b9f7718",
   "metadata": {},
   "outputs": [
    {
     "name": "stdout",
     "output_type": "stream",
     "text": [
      "classification  Matrix of test data:\n",
      "               precision    recall  f1-score   support\n",
      "\n",
      "          -1       0.84      0.70      0.77       438\n",
      "           1       0.75      0.87      0.80       440\n",
      "\n",
      "    accuracy                           0.79       878\n",
      "   macro avg       0.79      0.79      0.78       878\n",
      "weighted avg       0.79      0.79      0.78       878\n",
      "\n"
     ]
    }
   ],
   "source": [
    "print(\"classification  Matrix of test data:\\n\",classification_report(y_test,preds))"
   ]
  },
  {
   "cell_type": "markdown",
   "id": "62ffc766",
   "metadata": {},
   "source": [
    "After hyperparameter tunning with grid search we increase the accuracy of model from 75% to 80%."
   ]
  },
  {
   "cell_type": "markdown",
   "id": "496e9773",
   "metadata": {},
   "source": [
    "**Use any other technique/method which can enhance the model performance**"
   ]
  },
  {
   "cell_type": "markdown",
   "id": "bc8b3b72",
   "metadata": {},
   "source": [
    "Performing Dimensionality reduction using PCA."
   ]
  },
  {
   "cell_type": "code",
   "execution_count": 66,
   "id": "a0b33f83",
   "metadata": {
    "scrolled": true
   },
   "outputs": [
    {
     "data": {
      "text/plain": [
       "Time         0\n",
       "8            0\n",
       "9            0\n",
       "10           0\n",
       "11           0\n",
       "            ..\n",
       "586          0\n",
       "587          0\n",
       "588          0\n",
       "589          0\n",
       "Pass/Fail    0\n",
       "Length: 238, dtype: int64"
      ]
     },
     "execution_count": 66,
     "metadata": {},
     "output_type": "execute_result"
    }
   ],
   "source": [
    "df.isnull().sum()"
   ]
  },
  {
   "cell_type": "markdown",
   "id": "a2ae6ecb",
   "metadata": {},
   "source": [
    "selecting columns who have more than 0.095% corrleation with target variable."
   ]
  },
  {
   "cell_type": "code",
   "execution_count": 67,
   "id": "f2fe1c24",
   "metadata": {},
   "outputs": [],
   "source": [
    "x1=df[['103','510','431','434','430','21','435','28','436','298','163']]\n",
    "y1=df[['Pass/Fail']]"
   ]
  },
  {
   "cell_type": "code",
   "execution_count": 68,
   "id": "a587d1cb",
   "metadata": {},
   "outputs": [],
   "source": [
    "x1=x1.apply(zscore)"
   ]
  },
  {
   "cell_type": "markdown",
   "id": "4b2b6376",
   "metadata": {},
   "source": [
    "standardizing data"
   ]
  },
  {
   "cell_type": "code",
   "execution_count": 69,
   "id": "3c985a92",
   "metadata": {},
   "outputs": [],
   "source": [
    "covMatrix = np.cov(x,rowvar=False)"
   ]
  },
  {
   "cell_type": "code",
   "execution_count": 70,
   "id": "48a548b6",
   "metadata": {},
   "outputs": [
    {
     "data": {
      "text/plain": [
       "PCA(n_components=11)"
      ]
     },
     "execution_count": 70,
     "metadata": {},
     "output_type": "execute_result"
    }
   ],
   "source": [
    "pca = PCA(n_components=11)\n",
    "pca.fit(x1)"
   ]
  },
  {
   "cell_type": "code",
   "execution_count": 71,
   "id": "dc08990f",
   "metadata": {},
   "outputs": [
    {
     "data": {
      "image/png": "[encoded data removed]",
      "text/plain": [
       "<Figure size 432x288 with 1 Axes>"
      ]
     },
     "metadata": {
      "needs_background": "light"
     },
     "output_type": "display_data"
    }
   ],
   "source": [
    "plt.step(list(range(1,12)),np.cumsum(pca.explained_variance_ratio_), where='mid')\n",
    "plt.ylabel('Cum of variation explained')\n",
    "plt.xlabel('eigen Value')\n",
    "plt.show()"
   ]
  },
  {
   "cell_type": "markdown",
   "id": "8226dda1",
   "metadata": {},
   "source": [
    "around 9 componentsmore than 95% of variaiation is explained, so we will take 6 components."
   ]
  },
  {
   "cell_type": "code",
   "execution_count": 72,
   "id": "28aa1d05",
   "metadata": {},
   "outputs": [
    {
     "name": "stdout",
     "output_type": "stream",
     "text": [
      "[[ 0.07576344  0.07003021  0.35529474  0.37148225  0.36239423  0.26622454\n",
      "   0.36926067 -0.08483217  0.3689092   0.35118332  0.34632861]\n",
      " [ 0.64128262  0.61017722 -0.01099053 -0.0395966  -0.03773964 -0.14545385\n",
      "  -0.0411112  -0.43111989 -0.03862304 -0.03591124 -0.04283376]\n",
      " [ 0.21263664  0.42341145 -0.0677926  -0.03650135 -0.00347205  0.27814436\n",
      "  -0.03139163  0.82949635 -0.04391197  0.02381577  0.02566687]\n",
      " [-0.09938372  0.05157297 -0.12550542 -0.13575968  0.00138244  0.89267628\n",
      "  -0.09838589 -0.31754358 -0.10129763 -0.11776039 -0.14753144]\n",
      " [ 0.54660294 -0.4751191   0.16473848  0.09332448  0.15011307  0.08553203\n",
      "   0.15845147  0.13132473  0.16625221 -0.39587822 -0.42787471]\n",
      " [ 0.47840973 -0.46348234 -0.19595173 -0.12939494 -0.18385081  0.11848902\n",
      "  -0.19720232  0.007471   -0.20994803  0.41529205  0.44478884]]\n",
      "[0.6360269  0.15864751 0.07513046 0.04498827 0.03517246 0.03348159]\n"
     ]
    }
   ],
   "source": [
    "pca2 = PCA(n_components=6)\n",
    "pca2.fit(x1)\n",
    "print(pca2.components_)\n",
    "print(pca2.explained_variance_ratio_)\n",
    "xpca = pca2.transform(x1)"
   ]
  },
  {
   "cell_type": "code",
   "execution_count": 73,
   "id": "7576a4b7",
   "metadata": {},
   "outputs": [
    {
     "data": {
      "text/plain": [
       "numpy.ndarray"
      ]
     },
     "execution_count": 73,
     "metadata": {},
     "output_type": "execute_result"
    }
   ],
   "source": [
    "y1=y1.to_numpy()\n",
    "\n",
    "\n",
    "type(xpca)\n"
   ]
  },
  {
   "cell_type": "code",
   "execution_count": 74,
   "id": "277f4c50",
   "metadata": {},
   "outputs": [
    {
     "name": "stdout",
     "output_type": "stream",
     "text": [
      "Before UpSampling, counts of label '1': [104]\n",
      "Before UpSampling, counts of label '-1': [1463] \n",
      "\n",
      "After UpSampling, counts of label '1': [104]\n",
      "After UpSampling, counts of label '-1': [1463] \n",
      "\n",
      "After UpSampling, the shape of train_X: (2926, 6)\n",
      "After UpSampling, the shape of train_y: (2926,) \n",
      "\n"
     ]
    }
   ],
   "source": [
    "print(\"Before UpSampling, counts of label '1': {}\".format(sum(y1==1)))\n",
    "print(\"Before UpSampling, counts of label '-1': {} \\n\".format(sum(y1==-1)))\n",
    "\n",
    "sm = SMOTE(sampling_strategy = 1 ,k_neighbors = 5, random_state=1)   #Synthetic Minority Over Sampling Technique\n",
    "X_train_res, y_train_res = sm.fit_resample(xpca, y1.ravel())\n",
    "\n",
    "\n",
    "print(\"After UpSampling, counts of label '1': {}\".format(sum(y1==1)))\n",
    "print(\"After UpSampling, counts of label '-1': {} \\n\".format(sum(y1==-1)))\n",
    "\n",
    "\n",
    "\n",
    "print('After UpSampling, the shape of train_X: {}'.format(X_train_res.shape))\n",
    "print('After UpSampling, the shape of train_y: {} \\n'.format(y_train_res.shape))"
   ]
  },
  {
   "cell_type": "code",
   "execution_count": 75,
   "id": "3111234e",
   "metadata": {},
   "outputs": [],
   "source": [
    "X_train, X_test, y_train, y_test = train_test_split(X_train_res, y_train_res, test_size=0.30, random_state=5)"
   ]
  },
  {
   "cell_type": "markdown",
   "id": "729a78dd",
   "metadata": {},
   "source": [
    "buliding knn model with pca"
   ]
  },
  {
   "cell_type": "code",
   "execution_count": 76,
   "id": "a4d4a88b",
   "metadata": {},
   "outputs": [],
   "source": [
    "KNN = KNeighborsClassifier(n_neighbors= 5 , metric = 'euclidean' ) #Building knn with 5 neighbors"
   ]
  },
  {
   "cell_type": "code",
   "execution_count": 77,
   "id": "dc056667",
   "metadata": {},
   "outputs": [],
   "source": [
    "KNN.fit(X_train, y_train)\n",
    "predicted_labels = KNN.predict(X_test)\n",
    "predictedlabels = KNN.predict(X_train)"
   ]
  },
  {
   "cell_type": "code",
   "execution_count": 78,
   "id": "a890d4a4",
   "metadata": {},
   "outputs": [
    {
     "name": "stdout",
     "output_type": "stream",
     "text": [
      "Accuracy on Test data: 0.8348519362186788\n"
     ]
    }
   ],
   "source": [
    "print('Accuracy on Test data:',KNN.score(X_test, y_test) )"
   ]
  },
  {
   "cell_type": "markdown",
   "id": "0e5651ab",
   "metadata": {},
   "source": [
    "accuracy is good performing gridsearch for hyperparameter tunning."
   ]
  },
  {
   "cell_type": "code",
   "execution_count": 79,
   "id": "b898aaa5",
   "metadata": {},
   "outputs": [],
   "source": [
    "k_range = list(range(2,10))\n",
    "weight_options = [\"uniform\", \"distance\"]\n",
    "met = ['euclidean','manhattan']\n",
    "algo=['auto', 'ball_tree', 'kd_tree' , 'brute']\n",
    "param_grid = dict(n_neighbors = k_range, weights = weight_options,metric= met,algorithm=algo)\n",
    "knn = KNeighborsClassifier()"
   ]
  },
  {
   "cell_type": "code",
   "execution_count": 80,
   "id": "93179589",
   "metadata": {},
   "outputs": [
    {
     "data": {
      "text/plain": [
       "GridSearchCV(cv=10, estimator=KNeighborsClassifier(),\n",
       "             param_grid={'algorithm': ['auto', 'ball_tree', 'kd_tree', 'brute'],\n",
       "                         'metric': ['euclidean', 'manhattan'],\n",
       "                         'n_neighbors': [2, 3, 4, 5, 6, 7, 8, 9],\n",
       "                         'weights': ['uniform', 'distance']},\n",
       "             scoring='accuracy')"
      ]
     },
     "execution_count": 80,
     "metadata": {},
     "output_type": "execute_result"
    }
   ],
   "source": [
    "grid = GridSearchCV(knn, param_grid, cv = 10, scoring = 'accuracy')\n",
    "grid.fit(X_train,y_train)"
   ]
  },
  {
   "cell_type": "code",
   "execution_count": 81,
   "id": "ff89ac7f",
   "metadata": {},
   "outputs": [
    {
     "name": "stdout",
     "output_type": "stream",
     "text": [
      "0.8891726446676232\n",
      "{'algorithm': 'auto', 'metric': 'euclidean', 'n_neighbors': 2, 'weights': 'uniform'}\n",
      "KNeighborsClassifier(metric='euclidean', n_neighbors=2)\n"
     ]
    }
   ],
   "source": [
    "print (grid.best_score_)\n",
    "print (grid.best_params_)\n",
    "print (grid.best_estimator_)"
   ]
  },
  {
   "cell_type": "code",
   "execution_count": 82,
   "id": "78f79822",
   "metadata": {},
   "outputs": [
    {
     "name": "stdout",
     "output_type": "stream",
     "text": [
      "Accuracy on Test data: 0.8906605922551253\n"
     ]
    }
   ],
   "source": [
    "knn = KNeighborsClassifier(metric='euclidean', n_neighbors=2, weights ='uniform', algorithm='auto')\n",
    "knn.fit(X_train,y_train)\n",
    "preds =knn.predict(X_test)\n",
    "print('Accuracy on Test data:',knn.score(X_test, y_test) )"
   ]
  },
  {
   "cell_type": "markdown",
   "id": "bafc1929",
   "metadata": {},
   "source": [
    "**Display and explain the classification report in detail.**"
   ]
  },
  {
   "cell_type": "code",
   "execution_count": 83,
   "id": "db4d50df",
   "metadata": {},
   "outputs": [
    {
     "data": {
      "image/png": "[encoded data removed]",
      "text/plain": [
       "<Figure size 504x360 with 2 Axes>"
      ]
     },
     "metadata": {
      "needs_background": "light"
     },
     "output_type": "display_data"
    }
   ],
   "source": [
    "cm = confusion_matrix(y_test, preds, labels=[-1, 1])\n",
    "df_cm = pd.DataFrame(cm, index = [i for i in [\"Fail\",\"Pass\"]],\n",
    "                  columns = [i for i in [\"Fail\",\"Pass\"]])\n",
    "plt.figure(figsize = (7,5))\n",
    "sns.heatmap(df_cm, annot=True ,fmt='g')\n",
    "plt.show()"
   ]
  },
  {
   "cell_type": "code",
   "execution_count": 84,
   "id": "a5da3d3a",
   "metadata": {},
   "outputs": [
    {
     "name": "stdout",
     "output_type": "stream",
     "text": [
      "classification  Matrix of test data:\n",
      "               precision    recall  f1-score   support\n",
      "\n",
      "          -1       0.93      0.84      0.88       438\n",
      "           1       0.86      0.94      0.90       440\n",
      "\n",
      "    accuracy                           0.89       878\n",
      "   macro avg       0.89      0.89      0.89       878\n",
      "weighted avg       0.89      0.89      0.89       878\n",
      "\n"
     ]
    }
   ],
   "source": [
    "print(\"classification  Matrix of test data:\\n\",classification_report(y_test,preds))"
   ]
  },
  {
   "cell_type": "markdown",
   "id": "3635e042",
   "metadata": {},
   "source": [
    "After Dimensionality reduction balancing target variable and hyperparameter tunning we increase the accuracy of knn model.\n",
    "\n",
    "recall is incresed for minor class.\n",
    "\n",
    "f1 score is also improved."
   ]
  },
  {
   "cell_type": "markdown",
   "id": "b977c1af",
   "metadata": {},
   "source": [
    "**Apply the above steps for all possible models that you have learnt so far**"
   ]
  },
  {
   "cell_type": "code",
   "execution_count": 85,
   "id": "1eaacc0b",
   "metadata": {},
   "outputs": [
    {
     "name": "stdout",
     "output_type": "stream",
     "text": [
      "tuned hpyerparameters :(best parameters)  {'C': 10.0, 'penalty': 'l2'}\n",
      "accuracy : 0.6562338593974175\n",
      "LogisticRegression(C=10.0)\n"
     ]
    }
   ],
   "source": [
    "grid={\"C\":np.logspace(-3,3,7), \"penalty\":[\"l1\",\"l2\"]}# l1 lasso l2 ridge\n",
    "logreg=LogisticRegression()\n",
    "logreg_cv=GridSearchCV(logreg,grid,cv=10)\n",
    "logreg_cv.fit(X_train,y_train)\n",
    "\n",
    "print(\"tuned hpyerparameters :(best parameters) \",logreg_cv.best_params_)\n",
    "print(\"accuracy :\",logreg_cv.best_score_)\n",
    "print (logreg_cv.best_estimator_)"
   ]
  },
  {
   "cell_type": "code",
   "execution_count": 86,
   "id": "4c86711d",
   "metadata": {},
   "outputs": [
    {
     "name": "stdout",
     "output_type": "stream",
     "text": [
      "Accuracy of logistic regression 67.3120728929385\n"
     ]
    }
   ],
   "source": [
    "LR=LogisticRegression(C= 10, penalty= 'l2')\n",
    "LR.fit(X_train,y_train)\n",
    "pllr = LR.predict(X_test)\n",
    "pllrt=LR.predict(X_train)\n",
    "srlr=LR.score(X_test, y_test)\n",
    "print(\"Accuracy of logistic regression\",srlr*100)"
   ]
  },
  {
   "cell_type": "code",
   "execution_count": 87,
   "id": "8a48b2e2",
   "metadata": {},
   "outputs": [
    {
     "name": "stdout",
     "output_type": "stream",
     "text": [
      "Accuracy of GB 56.03644646924829\n"
     ]
    }
   ],
   "source": [
    "GN=GaussianNB()\n",
    "GN.fit(X_train,y_train)\n",
    "plgn = GN.predict(X_test)\n",
    "plgnt = GN.predict(X_train)\n",
    "srgn=GN.score(X_test, y_test)\n",
    "print(\"Accuracy of GB\",srgn*100)"
   ]
  },
  {
   "cell_type": "code",
   "execution_count": 88,
   "id": "67fada99",
   "metadata": {},
   "outputs": [
    {
     "name": "stdout",
     "output_type": "stream",
     "text": [
      "Fitting 5 folds for each of 25 candidates, totalling 125 fits\n",
      "[CV 1/5] END ........C=0.1, gamma=1, kernel=rbf;, score=0.722 total time=   0.2s\n",
      "[CV 2/5] END ........C=0.1, gamma=1, kernel=rbf;, score=0.734 total time=   0.2s\n",
      "[CV 3/5] END ........C=0.1, gamma=1, kernel=rbf;, score=0.724 total time=   0.2s\n",
      "[CV 4/5] END ........C=0.1, gamma=1, kernel=rbf;, score=0.758 total time=   0.2s\n",
      "[CV 5/5] END ........C=0.1, gamma=1, kernel=rbf;, score=0.729 total time=   0.2s\n",
      "[CV 1/5] END ......C=0.1, gamma=0.1, kernel=rbf;, score=0.671 total time=   0.3s\n",
      "[CV 2/5] END ......C=0.1, gamma=0.1, kernel=rbf;, score=0.680 total time=   0.2s\n",
      "[CV 3/5] END ......C=0.1, gamma=0.1, kernel=rbf;, score=0.649 total time=   0.2s\n",
      "[CV 4/5] END ......C=0.1, gamma=0.1, kernel=rbf;, score=0.680 total time=   0.2s\n",
      "[CV 5/5] END ......C=0.1, gamma=0.1, kernel=rbf;, score=0.650 total time=   0.2s\n",
      "[CV 1/5] END .....C=0.1, gamma=0.01, kernel=rbf;, score=0.656 total time=   0.2s\n",
      "[CV 2/5] END .....C=0.1, gamma=0.01, kernel=rbf;, score=0.649 total time=   0.2s\n",
      "[CV 3/5] END .....C=0.1, gamma=0.01, kernel=rbf;, score=0.629 total time=   0.3s\n",
      "[CV 4/5] END .....C=0.1, gamma=0.01, kernel=rbf;, score=0.672 total time=   0.2s\n",
      "[CV 5/5] END .....C=0.1, gamma=0.01, kernel=rbf;, score=0.631 total time=   0.2s\n",
      "[CV 1/5] END ....C=0.1, gamma=0.001, kernel=rbf;, score=0.524 total time=   0.2s\n",
      "[CV 2/5] END ....C=0.1, gamma=0.001, kernel=rbf;, score=0.524 total time=   0.3s\n",
      "[CV 3/5] END ....C=0.1, gamma=0.001, kernel=rbf;, score=0.520 total time=   0.3s\n",
      "[CV 4/5] END ....C=0.1, gamma=0.001, kernel=rbf;, score=0.533 total time=   0.2s\n",
      "[CV 5/5] END ....C=0.1, gamma=0.001, kernel=rbf;, score=0.521 total time=   0.3s\n",
      "[CV 1/5] END ...C=0.1, gamma=0.0001, kernel=rbf;, score=0.500 total time=   0.2s\n",
      "[CV 2/5] END ...C=0.1, gamma=0.0001, kernel=rbf;, score=0.500 total time=   0.2s\n",
      "[CV 3/5] END ...C=0.1, gamma=0.0001, kernel=rbf;, score=0.500 total time=   0.2s\n",
      "[CV 4/5] END ...C=0.1, gamma=0.0001, kernel=rbf;, score=0.501 total time=   0.3s\n",
      "[CV 5/5] END ...C=0.1, gamma=0.0001, kernel=rbf;, score=0.501 total time=   0.2s\n",
      "[CV 1/5] END ..........C=1, gamma=1, kernel=rbf;, score=0.829 total time=   0.2s\n",
      "[CV 2/5] END ..........C=1, gamma=1, kernel=rbf;, score=0.839 total time=   0.1s\n",
      "[CV 3/5] END ..........C=1, gamma=1, kernel=rbf;, score=0.839 total time=   0.2s\n",
      "[CV 4/5] END ..........C=1, gamma=1, kernel=rbf;, score=0.846 total time=   0.1s\n",
      "[CV 5/5] END ..........C=1, gamma=1, kernel=rbf;, score=0.863 total time=   0.2s\n",
      "[CV 1/5] END ........C=1, gamma=0.1, kernel=rbf;, score=0.693 total time=   0.2s\n",
      "[CV 2/5] END ........C=1, gamma=0.1, kernel=rbf;, score=0.685 total time=   0.1s\n",
      "[CV 3/5] END ........C=1, gamma=0.1, kernel=rbf;, score=0.680 total time=   0.2s\n",
      "[CV 4/5] END ........C=1, gamma=0.1, kernel=rbf;, score=0.707 total time=   0.1s\n",
      "[CV 5/5] END ........C=1, gamma=0.1, kernel=rbf;, score=0.692 total time=   0.2s\n",
      "[CV 1/5] END .......C=1, gamma=0.01, kernel=rbf;, score=0.676 total time=   0.2s\n",
      "[CV 2/5] END .......C=1, gamma=0.01, kernel=rbf;, score=0.671 total time=   0.3s\n",
      "[CV 3/5] END .......C=1, gamma=0.01, kernel=rbf;, score=0.634 total time=   0.2s\n",
      "[CV 4/5] END .......C=1, gamma=0.01, kernel=rbf;, score=0.685 total time=   0.2s\n",
      "[CV 5/5] END .......C=1, gamma=0.01, kernel=rbf;, score=0.658 total time=   0.2s\n",
      "[CV 1/5] END ......C=1, gamma=0.001, kernel=rbf;, score=0.654 total time=   0.2s\n",
      "[CV 2/5] END ......C=1, gamma=0.001, kernel=rbf;, score=0.656 total time=   0.2s\n",
      "[CV 3/5] END ......C=1, gamma=0.001, kernel=rbf;, score=0.629 total time=   0.2s\n",
      "[CV 4/5] END ......C=1, gamma=0.001, kernel=rbf;, score=0.663 total time=   0.2s\n",
      "[CV 5/5] END ......C=1, gamma=0.001, kernel=rbf;, score=0.623 total time=   0.2s\n",
      "[CV 1/5] END .....C=1, gamma=0.0001, kernel=rbf;, score=0.524 total time=   0.2s\n",
      "[CV 2/5] END .....C=1, gamma=0.0001, kernel=rbf;, score=0.524 total time=   0.2s\n",
      "[CV 3/5] END .....C=1, gamma=0.0001, kernel=rbf;, score=0.520 total time=   0.2s\n",
      "[CV 4/5] END .....C=1, gamma=0.0001, kernel=rbf;, score=0.533 total time=   0.2s\n",
      "[CV 5/5] END .....C=1, gamma=0.0001, kernel=rbf;, score=0.518 total time=   0.2s\n",
      "[CV 1/5] END .........C=10, gamma=1, kernel=rbf;, score=0.900 total time=   0.1s\n",
      "[CV 2/5] END .........C=10, gamma=1, kernel=rbf;, score=0.876 total time=   0.1s\n",
      "[CV 3/5] END .........C=10, gamma=1, kernel=rbf;, score=0.898 total time=   0.1s\n",
      "[CV 4/5] END .........C=10, gamma=1, kernel=rbf;, score=0.875 total time=   0.1s\n",
      "[CV 5/5] END .........C=10, gamma=1, kernel=rbf;, score=0.929 total time=   0.1s\n",
      "[CV 1/5] END .......C=10, gamma=0.1, kernel=rbf;, score=0.724 total time=   0.2s\n",
      "[CV 2/5] END .......C=10, gamma=0.1, kernel=rbf;, score=0.720 total time=   0.2s\n",
      "[CV 3/5] END .......C=10, gamma=0.1, kernel=rbf;, score=0.705 total time=   0.2s\n",
      "[CV 4/5] END .......C=10, gamma=0.1, kernel=rbf;, score=0.746 total time=   0.2s\n",
      "[CV 5/5] END .......C=10, gamma=0.1, kernel=rbf;, score=0.733 total time=   0.2s\n",
      "[CV 1/5] END ......C=10, gamma=0.01, kernel=rbf;, score=0.688 total time=   0.2s\n",
      "[CV 2/5] END ......C=10, gamma=0.01, kernel=rbf;, score=0.683 total time=   0.1s\n",
      "[CV 3/5] END ......C=10, gamma=0.01, kernel=rbf;, score=0.661 total time=   0.1s\n",
      "[CV 4/5] END ......C=10, gamma=0.01, kernel=rbf;, score=0.682 total time=   0.2s\n",
      "[CV 5/5] END ......C=10, gamma=0.01, kernel=rbf;, score=0.682 total time=   0.2s\n",
      "[CV 1/5] END .....C=10, gamma=0.001, kernel=rbf;, score=0.666 total time=   0.2s\n",
      "[CV 2/5] END .....C=10, gamma=0.001, kernel=rbf;, score=0.668 total time=   0.2s\n",
      "[CV 3/5] END .....C=10, gamma=0.001, kernel=rbf;, score=0.644 total time=   0.2s\n",
      "[CV 4/5] END .....C=10, gamma=0.001, kernel=rbf;, score=0.672 total time=   0.3s\n",
      "[CV 5/5] END .....C=10, gamma=0.001, kernel=rbf;, score=0.633 total time=   0.3s\n",
      "[CV 1/5] END ....C=10, gamma=0.0001, kernel=rbf;, score=0.649 total time=   0.3s\n",
      "[CV 2/5] END ....C=10, gamma=0.0001, kernel=rbf;, score=0.656 total time=   0.3s\n",
      "[CV 3/5] END ....C=10, gamma=0.0001, kernel=rbf;, score=0.637 total time=   0.2s\n",
      "[CV 4/5] END ....C=10, gamma=0.0001, kernel=rbf;, score=0.660 total time=   0.2s\n",
      "[CV 5/5] END ....C=10, gamma=0.0001, kernel=rbf;, score=0.626 total time=   0.2s\n",
      "[CV 1/5] END ........C=100, gamma=1, kernel=rbf;, score=0.915 total time=   0.1s\n",
      "[CV 2/5] END ........C=100, gamma=1, kernel=rbf;, score=0.895 total time=   0.1s\n",
      "[CV 3/5] END ........C=100, gamma=1, kernel=rbf;, score=0.902 total time=   0.1s\n",
      "[CV 4/5] END ........C=100, gamma=1, kernel=rbf;, score=0.900 total time=   0.1s\n",
      "[CV 5/5] END ........C=100, gamma=1, kernel=rbf;, score=0.917 total time=   0.1s\n",
      "[CV 1/5] END ......C=100, gamma=0.1, kernel=rbf;, score=0.763 total time=   0.2s\n",
      "[CV 2/5] END ......C=100, gamma=0.1, kernel=rbf;, score=0.761 total time=   0.2s\n",
      "[CV 3/5] END ......C=100, gamma=0.1, kernel=rbf;, score=0.739 total time=   0.2s\n",
      "[CV 4/5] END ......C=100, gamma=0.1, kernel=rbf;, score=0.770 total time=   0.2s\n",
      "[CV 5/5] END ......C=100, gamma=0.1, kernel=rbf;, score=0.760 total time=   0.2s\n",
      "[CV 1/5] END .....C=100, gamma=0.01, kernel=rbf;, score=0.705 total time=   0.2s\n",
      "[CV 2/5] END .....C=100, gamma=0.01, kernel=rbf;, score=0.688 total time=   0.2s\n",
      "[CV 3/5] END .....C=100, gamma=0.01, kernel=rbf;, score=0.688 total time=   0.2s\n",
      "[CV 4/5] END .....C=100, gamma=0.01, kernel=rbf;, score=0.699 total time=   0.2s\n",
      "[CV 5/5] END .....C=100, gamma=0.01, kernel=rbf;, score=0.694 total time=   0.2s\n",
      "[CV 1/5] END ....C=100, gamma=0.001, kernel=rbf;, score=0.688 total time=   0.2s\n",
      "[CV 2/5] END ....C=100, gamma=0.001, kernel=rbf;, score=0.659 total time=   0.2s\n",
      "[CV 3/5] END ....C=100, gamma=0.001, kernel=rbf;, score=0.651 total time=   0.2s\n",
      "[CV 4/5] END ....C=100, gamma=0.001, kernel=rbf;, score=0.689 total time=   0.2s\n",
      "[CV 5/5] END ....C=100, gamma=0.001, kernel=rbf;, score=0.658 total time=   0.1s\n",
      "[CV 1/5] END ...C=100, gamma=0.0001, kernel=rbf;, score=0.666 total time=   0.2s\n",
      "[CV 2/5] END ...C=100, gamma=0.0001, kernel=rbf;, score=0.668 total time=   0.2s\n",
      "[CV 3/5] END ...C=100, gamma=0.0001, kernel=rbf;, score=0.646 total time=   0.2s\n",
      "[CV 4/5] END ...C=100, gamma=0.0001, kernel=rbf;, score=0.663 total time=   0.1s\n",
      "[CV 5/5] END ...C=100, gamma=0.0001, kernel=rbf;, score=0.641 total time=   0.2s\n",
      "[CV 1/5] END .......C=1000, gamma=1, kernel=rbf;, score=0.912 total time=   0.2s\n",
      "[CV 2/5] END .......C=1000, gamma=1, kernel=rbf;, score=0.883 total time=   0.1s\n"
     ]
    },
    {
     "name": "stdout",
     "output_type": "stream",
     "text": [
      "[CV 3/5] END .......C=1000, gamma=1, kernel=rbf;, score=0.905 total time=   0.2s\n",
      "[CV 4/5] END .......C=1000, gamma=1, kernel=rbf;, score=0.861 total time=   0.2s\n",
      "[CV 5/5] END .......C=1000, gamma=1, kernel=rbf;, score=0.914 total time=   0.2s\n",
      "[CV 1/5] END .....C=1000, gamma=0.1, kernel=rbf;, score=0.822 total time=   0.9s\n",
      "[CV 2/5] END .....C=1000, gamma=0.1, kernel=rbf;, score=0.822 total time=   0.7s\n",
      "[CV 3/5] END .....C=1000, gamma=0.1, kernel=rbf;, score=0.815 total time=   0.8s\n",
      "[CV 4/5] END .....C=1000, gamma=0.1, kernel=rbf;, score=0.817 total time=   0.6s\n",
      "[CV 5/5] END .....C=1000, gamma=0.1, kernel=rbf;, score=0.834 total time=   1.1s\n",
      "[CV 1/5] END ....C=1000, gamma=0.01, kernel=rbf;, score=0.698 total time=   0.4s\n",
      "[CV 2/5] END ....C=1000, gamma=0.01, kernel=rbf;, score=0.698 total time=   0.5s\n",
      "[CV 3/5] END ....C=1000, gamma=0.01, kernel=rbf;, score=0.676 total time=   0.5s\n",
      "[CV 4/5] END ....C=1000, gamma=0.01, kernel=rbf;, score=0.704 total time=   0.3s\n",
      "[CV 5/5] END ....C=1000, gamma=0.01, kernel=rbf;, score=0.697 total time=   0.4s\n",
      "[CV 1/5] END ...C=1000, gamma=0.001, kernel=rbf;, score=0.688 total time=   0.2s\n",
      "[CV 2/5] END ...C=1000, gamma=0.001, kernel=rbf;, score=0.668 total time=   0.2s\n",
      "[CV 3/5] END ...C=1000, gamma=0.001, kernel=rbf;, score=0.666 total time=   0.2s\n",
      "[CV 4/5] END ...C=1000, gamma=0.001, kernel=rbf;, score=0.675 total time=   0.2s\n",
      "[CV 5/5] END ...C=1000, gamma=0.001, kernel=rbf;, score=0.677 total time=   0.2s\n",
      "[CV 1/5] END ..C=1000, gamma=0.0001, kernel=rbf;, score=0.661 total time=   0.2s\n",
      "[CV 2/5] END ..C=1000, gamma=0.0001, kernel=rbf;, score=0.671 total time=   0.2s\n",
      "[CV 3/5] END ..C=1000, gamma=0.0001, kernel=rbf;, score=0.634 total time=   0.2s\n",
      "[CV 4/5] END ..C=1000, gamma=0.0001, kernel=rbf;, score=0.663 total time=   0.2s\n",
      "[CV 5/5] END ..C=1000, gamma=0.0001, kernel=rbf;, score=0.633 total time=   0.2s\n"
     ]
    },
    {
     "data": {
      "text/plain": [
       "GridSearchCV(estimator=SVC(),\n",
       "             param_grid={'C': [0.1, 1, 10, 100, 1000],\n",
       "                         'gamma': [1, 0.1, 0.01, 0.001, 0.0001],\n",
       "                         'kernel': ['rbf']},\n",
       "             verbose=3)"
      ]
     },
     "execution_count": 88,
     "metadata": {},
     "output_type": "execute_result"
    }
   ],
   "source": [
    "param_grid = {'C': [0.1, 1, 10, 100, 1000],\n",
    "              'gamma': [1, 0.1, 0.01, 0.001, 0.0001],\n",
    "              'kernel': ['rbf']}\n",
    "svm=SVC()\n",
    "svmg = GridSearchCV(svm, param_grid, refit = True, verbose = 3)\n",
    "svmg.fit(X_train, y_train)"
   ]
  },
  {
   "cell_type": "code",
   "execution_count": 89,
   "id": "9bd61001",
   "metadata": {},
   "outputs": [
    {
     "name": "stdout",
     "output_type": "stream",
     "text": [
      "{'C': 100, 'gamma': 1, 'kernel': 'rbf'}\n",
      "SVC(C=100, gamma=1)\n",
      "accuracy : 0.9057642077643271\n"
     ]
    }
   ],
   "source": [
    "print(svmg.best_params_)\n",
    "print(svmg.best_estimator_)\n",
    "print(\"accuracy :\",svmg.best_score_)"
   ]
  },
  {
   "cell_type": "code",
   "execution_count": 90,
   "id": "227c6ab5",
   "metadata": {},
   "outputs": [
    {
     "name": "stdout",
     "output_type": "stream",
     "text": [
      "Accuracy of SVM 90.7744874715262\n"
     ]
    }
   ],
   "source": [
    "SVM = SVC(C=100, gamma=1)\n",
    "SVM.fit(X_train,y_train)\n",
    "plsvm = SVM.predict(X_test)\n",
    "plsvmt = SVM.predict(X_train)\n",
    "srsvm=SVM.score(X_test, y_test)\n",
    "print(\"Accuracy of SVM\",srsvm*100)"
   ]
  },
  {
   "cell_type": "code",
   "execution_count": 91,
   "id": "3f027246",
   "metadata": {},
   "outputs": [
    {
     "name": "stdout",
     "output_type": "stream",
     "text": [
      "0.7773696795791487\n",
      "{'criterion': 'gini', 'max_depth': 9, 'splitter': 'best'}\n",
      "DecisionTreeClassifier(max_depth=9)\n"
     ]
    }
   ],
   "source": [
    "criterion = ['gini', 'entropy']\n",
    "maxd = list(range(2,10))\n",
    "splitter= ['best','random']\n",
    "param_grid = dict(criterion = criterion, max_depth=maxd,splitter=splitter )\n",
    "DT = DecisionTreeClassifier()\n",
    "griddt = GridSearchCV(DT, param_grid, cv = 10, scoring = 'accuracy')\n",
    "griddt.fit(X_train,y_train)\n",
    "print (griddt.best_score_)\n",
    "print (griddt.best_params_)\n",
    "print (griddt.best_estimator_)"
   ]
  },
  {
   "cell_type": "code",
   "execution_count": 92,
   "id": "861709ce",
   "metadata": {},
   "outputs": [
    {
     "name": "stdout",
     "output_type": "stream",
     "text": [
      "Accuracy of DT 75.62642369020502\n"
     ]
    }
   ],
   "source": [
    "DT = DecisionTreeClassifier(criterion ='gini',max_depth=9)\n",
    "DT.fit(X_train, y_train)\n",
    "pldt = DT.predict(X_test)\n",
    "pldtt = DT.predict(X_train)\n",
    "srdt=DT.score(X_test, y_test)\n",
    "print(\"Accuracy of DT\",srdt*100)"
   ]
  },
  {
   "cell_type": "code",
   "execution_count": 93,
   "id": "7f801938",
   "metadata": {},
   "outputs": [
    {
     "name": "stdout",
     "output_type": "stream",
     "text": [
      "0.8428000956480153\n",
      "{'criterion': 'gini', 'max_depth': 9}\n",
      "RandomForestClassifier(max_depth=9)\n"
     ]
    }
   ],
   "source": [
    "criterion = ['gini', 'entropy']\n",
    "maxd = list(range(2,10))\n",
    "param_grid = dict(criterion = criterion, max_depth=maxd)\n",
    "RST = RandomForestClassifier()\n",
    "gridrst = GridSearchCV(RST, param_grid, cv = 10, scoring = 'accuracy')\n",
    "gridrst.fit(X_train,y_train)\n",
    "print (gridrst.best_score_)\n",
    "print (gridrst.best_params_)\n",
    "print (gridrst.best_estimator_)"
   ]
  },
  {
   "cell_type": "code",
   "execution_count": 94,
   "id": "e249dea2",
   "metadata": {},
   "outputs": [
    {
     "name": "stdout",
     "output_type": "stream",
     "text": [
      "Accuracy of RST 83.7129840546697\n"
     ]
    }
   ],
   "source": [
    "RST = RandomForestClassifier(criterion='gini', max_depth=9)\n",
    "RST.fit(X_train, y_train)\n",
    "plrst = RST.predict(X_test)\n",
    "plrstt = RST.predict(X_train)\n",
    "srrst=RST.score(X_test, y_test)\n",
    "print(\"Accuracy of RST\",srrst*100)"
   ]
  },
  {
   "cell_type": "markdown",
   "id": "2303f458",
   "metadata": {},
   "source": [
    "from all models we see that SVM is giving the best accuracy on test data."
   ]
  },
  {
   "cell_type": "markdown",
   "id": "71488a01",
   "metadata": {},
   "source": [
    "**Display and compare all the models designed with their train and test accuracies.**"
   ]
  },
  {
   "cell_type": "code",
   "execution_count": 95,
   "id": "0eb14762",
   "metadata": {},
   "outputs": [
    {
     "data": {
      "text/html": [
       "<div>\n",
       "<style scoped>\n",
       "    .dataframe tbody tr th:only-of-type {\n",
       "        vertical-align: middle;\n",
       "    }\n",
       "\n",
       "    .dataframe tbody tr th {\n",
       "        vertical-align: top;\n",
       "    }\n",
       "\n",
       "    .dataframe thead th {\n",
       "        text-align: right;\n",
       "    }\n",
       "</style>\n",
       "<table border=\"1\" class=\"dataframe\">\n",
       "  <thead>\n",
       "    <tr style=\"text-align: right;\">\n",
       "      <th></th>\n",
       "      <th>model</th>\n",
       "      <th>training acc</th>\n",
       "      <th>testing acc</th>\n",
       "    </tr>\n",
       "  </thead>\n",
       "  <tbody>\n",
       "    <tr>\n",
       "      <th>0</th>\n",
       "      <td>LR</td>\n",
       "      <td>0.657715</td>\n",
       "      <td>0.673121</td>\n",
       "    </tr>\n",
       "    <tr>\n",
       "      <th>1</th>\n",
       "      <td>Gaussian</td>\n",
       "      <td>0.563965</td>\n",
       "      <td>0.560364</td>\n",
       "    </tr>\n",
       "    <tr>\n",
       "      <th>2</th>\n",
       "      <td>KNN</td>\n",
       "      <td>0.984375</td>\n",
       "      <td>0.890661</td>\n",
       "    </tr>\n",
       "    <tr>\n",
       "      <th>3</th>\n",
       "      <td>SVC</td>\n",
       "      <td>0.990234</td>\n",
       "      <td>0.907745</td>\n",
       "    </tr>\n",
       "    <tr>\n",
       "      <th>4</th>\n",
       "      <td>DT</td>\n",
       "      <td>0.856445</td>\n",
       "      <td>0.756264</td>\n",
       "    </tr>\n",
       "    <tr>\n",
       "      <th>5</th>\n",
       "      <td>RST</td>\n",
       "      <td>0.938477</td>\n",
       "      <td>0.837130</td>\n",
       "    </tr>\n",
       "  </tbody>\n",
       "</table>\n",
       "</div>"
      ],
      "text/plain": [
       "      model  training acc  testing acc\n",
       "0        LR      0.657715     0.673121\n",
       "1  Gaussian      0.563965     0.560364\n",
       "2       KNN      0.984375     0.890661\n",
       "3       SVC      0.990234     0.907745\n",
       "4        DT      0.856445     0.756264\n",
       "5       RST      0.938477     0.837130"
      ]
     },
     "execution_count": 95,
     "metadata": {},
     "output_type": "execute_result"
    }
   ],
   "source": [
    "data = {'model': ['LR', 'Gaussian','KNN','SVC', 'DT','RST'],\n",
    "        'training acc': [LR.score(X_train, y_train),GN.score(X_train, y_train),knn.score(X_train, y_train),SVM.score(X_train, y_train),DT.score(X_train, y_train),RST.score(X_train, y_train)],\n",
    "       'testing acc': [LR.score(X_test, y_test),GN.score(X_test, y_test),knn.score(X_test, y_test),SVM.score(X_test, y_test),DT.score(X_test, y_test),RST.score(X_test, y_test)]}\n",
    "com = pd.DataFrame(data)\n",
    "com"
   ]
  },
  {
   "cell_type": "markdown",
   "id": "c974255c",
   "metadata": {},
   "source": [
    "as we can see that SVC has the best accuracy for both training and testing data.\n",
    "\n",
    "KNN has second best accuracy for training and testing data.\n",
    "\n",
    "Gaussian NB is the worst performing model for the data."
   ]
  },
  {
   "cell_type": "markdown",
   "id": "ef0dae03",
   "metadata": {},
   "source": [
    "**Select the final best trained model along with your detailed comments for selecting this model.**"
   ]
  },
  {
   "cell_type": "markdown",
   "id": "971e1aae",
   "metadata": {},
   "source": [
    "selecting SVC as the final model."
   ]
  },
  {
   "cell_type": "code",
   "execution_count": 96,
   "id": "9271cb61",
   "metadata": {},
   "outputs": [
    {
     "name": "stdout",
     "output_type": "stream",
     "text": [
      "Accuracy of SVM 90.7744874715262\n"
     ]
    }
   ],
   "source": [
    "SVM = SVC(C=100, gamma=1)\n",
    "SVM.fit(X_train,y_train)\n",
    "plsvm = SVM.predict(X_test)\n",
    "plsvmt = SVM.predict(X_train)\n",
    "srsvm=SVM.score(X_test, y_test)\n",
    "print(\"Accuracy of SVM\",srsvm*100)"
   ]
  },
  {
   "cell_type": "code",
   "execution_count": 97,
   "id": "7c2dbaea",
   "metadata": {},
   "outputs": [
    {
     "data": {
      "image/png": "[encoded data removed]",
      "text/plain": [
       "<Figure size 504x360 with 2 Axes>"
      ]
     },
     "metadata": {
      "needs_background": "light"
     },
     "output_type": "display_data"
    }
   ],
   "source": [
    "cm = confusion_matrix(y_test, plsvm, labels=[-1, 1])\n",
    "df_cm = pd.DataFrame(cm, index = [i for i in [\"Fail\",\"Pass\"]],\n",
    "                  columns = [i for i in [\"Fail\",\"Pass\"]])\n",
    "plt.figure(figsize = (7,5))\n",
    "sns.heatmap(df_cm, annot=True ,fmt='g')\n",
    "plt.show()"
   ]
  },
  {
   "cell_type": "code",
   "execution_count": 98,
   "id": "5d5c44c9",
   "metadata": {},
   "outputs": [
    {
     "name": "stdout",
     "output_type": "stream",
     "text": [
      "classification  Matrix of test data:\n",
      "               precision    recall  f1-score   support\n",
      "\n",
      "          -1       0.94      0.87      0.90       438\n",
      "           1       0.88      0.95      0.91       440\n",
      "\n",
      "    accuracy                           0.91       878\n",
      "   macro avg       0.91      0.91      0.91       878\n",
      "weighted avg       0.91      0.91      0.91       878\n",
      "\n"
     ]
    }
   ],
   "source": [
    "print(\"classification  Matrix of test data:\\n\",classification_report(y_test,plsvm))"
   ]
  },
  {
   "cell_type": "markdown",
   "id": "90bf3163",
   "metadata": {},
   "source": [
    "Selecting SVC because it has high precision value for both classes.\n",
    "\n",
    "recall value is also great.\n",
    "\n",
    "false postives and negitves are very low with SVC.\n",
    "\n"
   ]
  },
  {
   "cell_type": "markdown",
   "id": "766c24d7",
   "metadata": {},
   "source": [
    "**Pickle the selected model for future use.**"
   ]
  },
  {
   "cell_type": "code",
   "execution_count": 99,
   "id": "1193e49d",
   "metadata": {},
   "outputs": [],
   "source": [
    "import pickle\n",
    "filename = 'model'\n",
    "outfile = open(filename,'wb')# making pickle file for best model\n",
    "pickle.dump(svm,outfile)\n",
    "outfile.close()"
   ]
  },
  {
   "cell_type": "code",
   "execution_count": 100,
   "id": "66de3355",
   "metadata": {},
   "outputs": [
    {
     "name": "stdout",
     "output_type": "stream",
     "text": [
      "loading data from pickle file for best model \n",
      " SVC()\n"
     ]
    }
   ],
   "source": [
    "infile = open(filename,'rb')\n",
    "ndic=pickle.load(infile)\n",
    "print(\"loading data from pickle file for best model \\n\",ndic)"
   ]
  },
  {
   "cell_type": "code",
   "execution_count": 101,
   "id": "c3ae4b78",
   "metadata": {},
   "outputs": [],
   "source": [
    "infile.close()"
   ]
  },
  {
   "cell_type": "markdown",
   "id": "7d958183",
   "metadata": {},
   "source": [
    "**Write your conclusion on the results.**"
   ]
  },
  {
   "cell_type": "markdown",
   "id": "d1d56638",
   "metadata": {},
   "source": [
    "After testing data on all supervised learning model we conclude that for this data SVC is the best model to predict the future data.\n",
    "\n",
    "Best parameters for the model are kernel=rbf,C=100, gamma=1.\n",
    "\n"
   ]
  },
  {
   "cell_type": "code",
   "execution_count": null,
   "id": "d83c7613",
   "metadata": {},
   "outputs": [],
   "source": []
  }
 ],
 "metadata": {
  "kernelspec": {
   "display_name": "Python 3 (ipykernel)",
   "language": "python",
   "name": "python3"
  },
  "language_info": {
   "codemirror_mode": {
    "name": "ipython",
    "version": 3
   },
   "file_extension": ".py",
   "mimetype": "text/x-python",
   "name": "python",
   "nbconvert_exporter": "python",
   "pygments_lexer": "ipython3",
   "version": "3.9.7"
  }
 },
 "nbformat": 4,
 "nbformat_minor": 5
}
