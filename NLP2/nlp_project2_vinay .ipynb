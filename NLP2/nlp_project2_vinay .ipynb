{
 "cells": [
  {
   "cell_type": "markdown",
   "metadata": {
    "id": "p6VKCgIFjs32"
   },
   "source": [
    "\n",
    "# Natural Language Processing Project"
   ]
  },
  {
   "cell_type": "markdown",
   "metadata": {
    "id": "jaXBjjXij5CE"
   },
   "source": [
    "## Part A"
   ]
  },
  {
   "cell_type": "markdown",
   "metadata": {
    "id": "OI_wDj9wkKRi"
   },
   "source": [
    "To Build a sequential NLP classifier which can use input text parameters to determine the\n",
    "customer sentiments.\n"
   ]
  },
  {
   "cell_type": "markdown",
   "metadata": {
    "id": "0nf4utsOlDaJ"
   },
   "source": [
    "**Importing modules for project**"
   ]
  },
  {
   "cell_type": "code",
   "execution_count": 37,
   "metadata": {
    "id": "W11gyz7hlC4T"
   },
   "outputs": [],
   "source": [
    "import numpy as np\n",
    "import pandas as pd\n",
    "import datetime, os\n",
    "from tqdm import tqdm\n",
    "from sklearn import metrics\n",
    "import matplotlib.pyplot as plt\n",
    "import seaborn as sns\n",
    "\n",
    "import tensorflow as tf\n",
    "from tensorflow.keras.datasets import imdb\n",
    "from tensorflow.keras.preprocessing import sequence \n",
    "from tensorflow.keras.models import Sequential, load_model\n",
    "from tensorflow.keras.utils import plot_model\n",
    "from tensorflow.keras.layers import Embedding, Dense, LSTM, SpatialDropout1D"
   ]
  },
  {
   "cell_type": "markdown",
   "metadata": {
    "id": "a8n8PEy4k3OV"
   },
   "source": [
    "**Import and analyse the data set.**"
   ]
  },
  {
   "cell_type": "code",
   "execution_count": 38,
   "metadata": {
    "colab": {
     "base_uri": "https://localhost:8080/"
    },
    "id": "zmfquIoPjab2",
    "outputId": "bc3438e9-940b-4771-82b3-8d6b95007a38"
   },
   "outputs": [
    {
     "name": "stdout",
     "output_type": "stream",
     "text": [
      "Downloading data from https://storage.googleapis.com/tensorflow/tf-keras-datasets/imdb.npz\n",
      "17464789/17464789 [==============================] - 0s 0us/step\n"
     ]
    }
   ],
   "source": [
    "(x_train, y_train), (x_test, y_test) = imdb.load_data(num_words=10000,\n",
    "                                                      oov_char=0)"
   ]
  },
  {
   "cell_type": "code",
   "execution_count": 39,
   "metadata": {
    "colab": {
     "base_uri": "https://localhost:8080/"
    },
    "id": "kjanK88ylRlo",
    "outputId": "805988e1-f9ce-461b-89ff-a9f34c7f1bec"
   },
   "outputs": [
    {
     "data": {
      "text/plain": [
       "((25000,), (25000,))"
      ]
     },
     "execution_count": 39,
     "metadata": {},
     "output_type": "execute_result"
    }
   ],
   "source": [
    "# review dataset\n",
    "x_train.shape,y_train.shape"
   ]
  },
  {
   "cell_type": "markdown",
   "metadata": {
    "id": "o0EQXuvJlb_Z"
   },
   "source": [
    "**Perform relevant sequence adding on the data**"
   ]
  },
  {
   "cell_type": "code",
   "execution_count": 40,
   "metadata": {
    "id": "Dii6RsF1lYVJ"
   },
   "outputs": [],
   "source": [
    "x_train = sequence.pad_sequences(x_train, maxlen=20)\n",
    "x_test = sequence.pad_sequences(x_test, maxlen=20)"
   ]
  },
  {
   "cell_type": "markdown",
   "metadata": {
    "id": "SvBK-vqhlr24"
   },
   "source": [
    "we truncated the review to first 20 characters to speed up training\n",
    "\n",
    "irrespective of review word lengths, all should been truncated to 20 length, and if necessary padded with ZEROs for shorter reviews"
   ]
  },
  {
   "cell_type": "markdown",
   "metadata": {
    "id": "CdFeHzt_mAQg"
   },
   "source": [
    "**Perform following data analysis:**\n",
    "\n",
    "• Print shape of features and labels\n",
    "\n",
    "• Print value of any one feature and it's label"
   ]
  },
  {
   "cell_type": "code",
   "execution_count": 41,
   "metadata": {
    "colab": {
     "base_uri": "https://localhost:8080/"
    },
    "id": "VIYR9NKwlqjP",
    "outputId": "f7b8de25-4251-4c63-db5b-0d87f0764885"
   },
   "outputs": [
    {
     "data": {
      "text/plain": [
       "((25000, 20), (25000,))"
      ]
     },
     "execution_count": 41,
     "metadata": {},
     "output_type": "execute_result"
    }
   ],
   "source": [
    "# review dataset\n",
    "x_train.shape,y_train.shape"
   ]
  },
  {
   "cell_type": "code",
   "execution_count": 42,
   "metadata": {
    "id": "GCUyLMMbmNVB"
   },
   "outputs": [],
   "source": [
    "y_train = y_train.reshape((-1,1))\n",
    "y_test = y_test.reshape((-1,1))"
   ]
  },
  {
   "cell_type": "code",
   "execution_count": 43,
   "metadata": {
    "colab": {
     "base_uri": "https://localhost:8080/"
    },
    "id": "EoLnUx32mRqx",
    "outputId": "d0bcfc63-ddf4-41a3-85ac-ba783e3f02f9"
   },
   "outputs": [
    {
     "data": {
      "text/plain": [
       "((25000, 20), (25000, 1), (25000, 20), (25000, 1))"
      ]
     },
     "execution_count": 43,
     "metadata": {},
     "output_type": "execute_result"
    }
   ],
   "source": [
    "x_train.shape,y_train.shape,x_test.shape,y_test.shape"
   ]
  },
  {
   "cell_type": "code",
   "execution_count": 44,
   "metadata": {
    "colab": {
     "base_uri": "https://localhost:8080/"
    },
    "id": "899h1TG2mVbG",
    "outputId": "72b0ea0d-940c-4fbb-e626-674f786fc934"
   },
   "outputs": [
    {
     "data": {
      "text/plain": [
       "(0, 9999, 0, 9999)"
      ]
     },
     "execution_count": 44,
     "metadata": {},
     "output_type": "execute_result"
    }
   ],
   "source": [
    "# review properties of the dataset\n",
    "np.min(x_train),np.max(x_train),np.min(x_test),np.max(x_test)"
   ]
  },
  {
   "cell_type": "code",
   "execution_count": 45,
   "metadata": {
    "colab": {
     "base_uri": "https://localhost:8080/"
    },
    "id": "DxMmJmiKmYqI",
    "outputId": "b6404f36-6ae2-48af-df48-a13151e2cb8d"
   },
   "outputs": [
    {
     "data": {
      "text/plain": [
       "(array([0, 1]), array([0, 1]))"
      ]
     },
     "execution_count": 45,
     "metadata": {},
     "output_type": "execute_result"
    }
   ],
   "source": [
    "np.unique(y_train),np.unique(y_test)"
   ]
  },
  {
   "cell_type": "code",
   "execution_count": 46,
   "metadata": {
    "colab": {
     "base_uri": "https://localhost:8080/"
    },
    "id": "9aIagfNEmfz2",
    "outputId": "8305a761-b48b-45ad-e5c1-2c0cd07e9dbc"
   },
   "outputs": [
    {
     "name": "stdout",
     "output_type": "stream",
     "text": [
      "\u001b[1mFEATURES:\u001b[0m\n",
      "[1879    0   42  826 4769    0   14    9  142   25  359    8   67   21\n",
      "   45    6 1345   18  259  334]\n",
      "\u001b[1mLABEL\u001b[0m\n",
      "[0]\n"
     ]
    }
   ],
   "source": [
    "index = np.random.randint(0,len(x_train),size=1)[0]\n",
    "print('\\033[1m'+\"FEATURES:\"+'\\033[0m')\n",
    "print(x_train[index])\n",
    "print('\\033[1m'+\"LABEL\"+'\\033[0m')\n",
    "print(y_train[index])"
   ]
  },
  {
   "cell_type": "markdown",
   "metadata": {
    "id": "RJxHL4G9mqCp"
   },
   "source": [
    "**Decode the feature value to get original sentence**"
   ]
  },
  {
   "cell_type": "code",
   "execution_count": 47,
   "metadata": {
    "colab": {
     "base_uri": "https://localhost:8080/"
    },
    "id": "rWnaeYzmmij9",
    "outputId": "be041645-5467-4645-c89b-d8f55533ab37"
   },
   "outputs": [
    {
     "name": "stdout",
     "output_type": "stream",
     "text": [
      "Downloading data from https://storage.googleapis.com/tensorflow/tf-keras-datasets/imdb_word_index.json\n",
      "1641221/1641221 [==============================] - 0s 0us/step\n"
     ]
    }
   ],
   "source": [
    "# lookup dictionaries\n",
    "w2id = imdb.get_word_index()\n",
    "w2id.update({'not_in_here':0})\n",
    "id2w = dict(zip(w2id.values(),w2id.keys()))"
   ]
  },
  {
   "cell_type": "code",
   "execution_count": 48,
   "metadata": {
    "colab": {
     "base_uri": "https://localhost:8080/"
    },
    "id": "rMb2Ld2smyR6",
    "outputId": "2089fe42-bb13-4c9f-98e9-4cf881f7e982"
   },
   "outputs": [
    {
     "name": "stdout",
     "output_type": "stream",
     "text": [
      "\u001b[1mFEATURES:\u001b[0m\n",
      "every hard to here she this of every everyone wwii film corruption br older as it by country known floriane\n",
      "\u001b[1mLABEL\u001b[0m\n",
      "[1]\n",
      "==================================================================================================== \n",
      "\n",
      "\u001b[1mFEATURES:\u001b[0m\n",
      "of not_in_here presents reason that with read superior most more with even break not_in_here br of not_in_here watching out ones\n",
      "\u001b[1mLABEL\u001b[0m\n",
      "[1]\n",
      "==================================================================================================== \n",
      "\n",
      "\u001b[1mFEATURES:\u001b[0m\n",
      "seems has of thought do heights was few deep in thriller korean or an br though daughter this make full\n",
      "\u001b[1mLABEL\u001b[0m\n",
      "[1]\n",
      "==================================================================================================== \n",
      "\n",
      "\u001b[1mFEATURES:\u001b[0m\n",
      "chew closing i i not_in_here there is down br smiling to death before i i as on it is background\n",
      "\u001b[1mLABEL\u001b[0m\n",
      "[0]\n",
      "==================================================================================================== \n",
      "\n",
      "\u001b[1mFEATURES:\u001b[0m\n",
      "student really it away of see die deadly br for making for these laid really it both that's in guevara\n",
      "\u001b[1mLABEL\u001b[0m\n",
      "[1]\n",
      "==================================================================================================== \n",
      "\n"
     ]
    }
   ],
   "source": [
    "index = np.random.randint(0,len(x_train),size=5)\n",
    "for i in index:\n",
    "    sentence = ' '.join([id2w[seq] for seq in x_train[i]])\n",
    "    print('\\033[1m'+\"FEATURES:\"+'\\033[0m')\n",
    "    print(sentence)\n",
    "    print('\\033[1m'+\"LABEL\"+'\\033[0m')\n",
    "    print(y_train[i])\n",
    "    print(\"=\"*100,'\\n')"
   ]
  },
  {
   "cell_type": "markdown",
   "metadata": {
    "id": "l5RIE0Y4nnOi"
   },
   "source": [
    "**Design, train, tune and test a sequential model.**"
   ]
  },
  {
   "cell_type": "code",
   "execution_count": 49,
   "metadata": {
    "id": "akR4gWzAm0uj"
   },
   "outputs": [],
   "source": [
    "nVocab = np.max(x_train)+1 #10000\n",
    "inpSize = x_train.shape [-1]"
   ]
  },
  {
   "cell_type": "code",
   "execution_count": 50,
   "metadata": {
    "id": "9jUUfpsYoNNG"
   },
   "outputs": [],
   "source": [
    "logFile = \"logs/hNet_tuning.har\"\n",
    "logDir = \"logs\""
   ]
  },
  {
   "cell_type": "code",
   "execution_count": 51,
   "metadata": {
    "colab": {
     "base_uri": "https://localhost:8080/"
    },
    "id": "R4dpp77xoQbs",
    "outputId": "150c7d94-d539-410c-da4b-753b8e11ee85"
   },
   "outputs": [
    {
     "data": {
      "text/plain": [
       "(54, 5)"
      ]
     },
     "execution_count": 51,
     "metadata": {},
     "output_type": "execute_result"
    }
   ],
   "source": [
    "grid = dict(embd=[8,16,32],\n",
    "            lstmN=[64,96,128],\n",
    "            dOut=[0.2,0.4],\n",
    "            lRate=[0.1,1e-2,1e-3])\n",
    "\n",
    "pCols = list(grid.keys())\n",
    "\n",
    "pGrid = pd.DataFrame(columns=pCols)\n",
    "for gp in [np.array([e,l,d,lr]) \n",
    "           for e in grid[\"embd\"] \n",
    "           for l in grid[\"lstmN\"] \n",
    "           for d in grid[\"dOut\"] \n",
    "           for lr in grid[\"lRate\"]]:\n",
    "    dtmp = pd.DataFrame(gp.reshape(1,-1),columns=pCols)\n",
    "    pGrid = pd.merge(pGrid,dtmp,how='outer',on=pCols)\n",
    "\n",
    "pGrid[\"epoch\"] = np.nan\n",
    "pGrid.shape"
   ]
  },
  {
   "cell_type": "code",
   "execution_count": 52,
   "metadata": {
    "id": "i65DpZQ_oQye"
   },
   "outputs": [],
   "source": [
    "#let us define a model generating method\n",
    "def senti(gridPoint):\n",
    "    embd = int(gridPoint[\"embd\"])\n",
    "    lstmN = int(gridPoint[\"lstmN\"])\n",
    "    dOut = gridPoint[\"dOut\"]\n",
    "    lr = gridPoint[\"lRate\"]\n",
    "    \n",
    "    global nVocab, inpSize\n",
    "    \n",
    "    # Random consistency seed\n",
    "    np.random.seed(129)\n",
    "    tf.random.set_seed(129)\n",
    "    \n",
    "    # cuDNN requirements for LSTM acceleration\n",
    "    lstmParams = dict(activation = 'tanh',\n",
    "                      recurrent_activation = 'sigmoid',\n",
    "                      recurrent_dropout = 0, \n",
    "                      unroll = False, use_bias = True)\n",
    "    # model building\n",
    "    model = Sequential()\n",
    "    model.add(Embedding(nVocab,embd,\n",
    "                        input_length=inpSize,name='Embedding'))\n",
    "    model.add(SpatialDropout1D(dOut,name=\"DropOut\"))\n",
    "    model.add(LSTM(lstmN,dropout=dOut/2,name=\"LSTM\",**lstmParams))\n",
    "    model.add(Dense(1,activation='sigmoid',name=\"Sentiment\"))\n",
    "    \n",
    "    # compile\n",
    "    optim = tf.keras.optimizers.RMSprop(learning_rate=lr)\n",
    "    model.compile(loss='binary_crossentropy', \n",
    "                  optimizer=optim, metrics=[\"accuracy\"])\n",
    "    \n",
    "    return model"
   ]
  },
  {
   "cell_type": "code",
   "execution_count": 53,
   "metadata": {
    "id": "Bjp08K_voQ1P"
   },
   "outputs": [],
   "source": [
    "# fets define a model implementer\n",
    "def runs(mFunc,mName,gIndex,gridPoint,fParams,warmStart=None):\n",
    "    \n",
    "    # Random consistency seed\n",
    "    np.random.seed(129)\n",
    "    tf.random.set_seed(129)\n",
    "    \n",
    "    # create model\n",
    "    model = mFunc(gridPoint)\n",
    "    \n",
    "    global pGrid\n",
    "    \n",
    "    mname = mName + \"_%03d_\"%(gIndex) + datetime.datetime.now().strftime(\"%d%b_%I%M%P\")\n",
    "    \n",
    "    # create tensorboard logs & callbacks\n",
    "    log_dir = os.path.join(logDir, mname)\n",
    "    tensorboard_cb = tf.keras.callbacks.TensorBoard(log_dir, histogram_freq=1, embeddings_freq=1)\n",
    "    \n",
    "    # update params\n",
    "    fParams.update(dict(callbacks=[tensorboard_cb],verbose=0))\n",
    "    \n",
    "    # refit & continue epochs\n",
    "    if warmStart!=None:\n",
    "        model.load_weights(warmStart)\n",
    "        \n",
    "    # fit the model\n",
    "    with tf.device('/device:GPU:0'):\n",
    "        logger = model.fit(**fParams)\n",
    "        \n",
    "    # record results to pGrid\n",
    "    pGrid.loc[gIndex,'epoch'] = len(logger.history.get('loss'))\n",
    "    for key in logger.history.keys():\n",
    "        pGrid.loc[gIndex,key] = logger.history.get(key)[-1]\n",
    "        \n",
    "    return model"
   ]
  },
  {
   "cell_type": "code",
   "execution_count": 54,
   "metadata": {
    "colab": {
     "base_uri": "https://localhost:8080/"
    },
    "id": "1iqH4Px7oQ4q",
    "outputId": "360ba6d1-ed8c-480e-94ee-e76cc963fb0b"
   },
   "outputs": [
    {
     "data": {
      "text/plain": [
       "{'embd': 8.0, 'lstmN': 64.0, 'dOut': 0.4, 'lRate': 0.1, 'epoch': nan}"
      ]
     },
     "execution_count": 54,
     "metadata": {},
     "output_type": "execute_result"
    }
   ],
   "source": [
    "# lets try a model at grid point 3 (arbitraily chosen)\n",
    "dict(pGrid.iloc[3])"
   ]
  },
  {
   "cell_type": "code",
   "execution_count": 55,
   "metadata": {
    "colab": {
     "base_uri": "https://localhost:8080/",
     "height": 845
    },
    "id": "wiWGfv5ooleP",
    "outputId": "3066c651-e45b-4bc3-b1ea-1153fcfac806"
   },
   "outputs": [
    {
     "name": "stdout",
     "output_type": "stream",
     "text": [
      "Model: \"sequential\"\n",
      "_________________________________________________________________\n",
      " Layer (type)                Output Shape              Param #   \n",
      "=================================================================\n",
      " Embedding (Embedding)       (None, 20, 8)             80000     \n",
      "                                                                 \n",
      " DropOut (SpatialDropout1D)  (None, 20, 8)             0         \n",
      "                                                                 \n",
      " LSTM (LSTM)                 (None, 64)                18688     \n",
      "                                                                 \n",
      " Sentiment (Dense)           (None, 1)                 65        \n",
      "                                                                 \n",
      "=================================================================\n",
      "Total params: 98,753\n",
      "Trainable params: 98,753\n",
      "Non-trainable params: 0\n",
      "_________________________________________________________________\n"
     ]
    },
    {
     "data": {
      "text/plain": [
       "None"
      ]
     },
     "metadata": {},
     "output_type": "display_data"
    },
    {
     "data": {
      "image/png": "[encoded data removed]",
      "text/plain": [
       "<IPython.core.display.Image object>"
      ]
     },
     "execution_count": 55,
     "metadata": {},
     "output_type": "execute_result"
    }
   ],
   "source": [
    "# trial model\n",
    "s1 = senti(dict(pGrid.iloc[3]))\n",
    "display(s1.summary())\n",
    "plot_model(s1,show_shapes=True)"
   ]
  },
  {
   "cell_type": "code",
   "execution_count": 56,
   "metadata": {
    "colab": {
     "base_uri": "https://localhost:8080/"
    },
    "id": "LYc5aS3Uoo4o",
    "outputId": "1d436940-cc60-4dca-8b36-1559e9dcb86b"
   },
   "outputs": [
    {
     "name": "stdout",
     "output_type": "stream",
     "text": [
      "CPU times: user 44.7 s, sys: 4.24 s, total: 49 s\n",
      "Wall time: 47.9 s\n"
     ]
    }
   ],
   "source": [
    "%%time\n",
    "# trial run (base model)\n",
    "fParams = dict(x=x_train,y=y_train,steps_per_epoch=200,\n",
    "                 batch_size=32,epochs=20,validation_steps=100,\n",
    "                 validation_data=(x_test,y_test))\n",
    "s1 = runs(senti,\"base\",3,dict(pGrid.iloc[3]),fParams)"
   ]
  },
  {
   "cell_type": "code",
   "execution_count": 57,
   "metadata": {
    "colab": {
     "base_uri": "https://localhost:8080/"
    },
    "id": "RQsIVfI4owfC",
    "outputId": "a4c15a8e-c0f2-445e-da75-ca9f38a83784"
   },
   "outputs": [
    {
     "name": "stderr",
     "output_type": "stream",
     "text": [
      "hyperTuning: 100%|██████████| 12/12 [07:00<00:00, 35.08s/it]\n"
     ]
    }
   ],
   "source": [
    "# Random consistency seed\n",
    "np.random.seed(129)\n",
    "tf.random.set_seed(129)\n",
    " \n",
    "index = np.random.choice(list(pGrid.loc[pGrid.epoch.isna()].index),12,replace=False)\n",
    "\n",
    "fParams = dict(x=x_train,y=y_train,steps_per_epoch=200,\n",
    "                 batch_size=32,epochs=20,validation_steps=100,\n",
    "                 validation_data=(x_test,y_test))\n",
    "\n",
    "for i in tqdm(index,desc=\"hyperTuning\"):\n",
    "    sClf = runs(senti,\"tune\",i,dict(pGrid.iloc[i]),fParams)"
   ]
  },
  {
   "cell_type": "code",
   "execution_count": 58,
   "metadata": {
    "colab": {
     "base_uri": "https://localhost:8080/",
     "height": 206
    },
    "id": "WmR86o0irGCl",
    "outputId": "d40bf29d-9922-446f-f144-ab094a15706f"
   },
   "outputs": [
    {
     "data": {
      "text/html": [
       "\n",
       "  <div id=\"df-ac93526c-c2ad-4e90-bedc-006a90eb80e3\">\n",
       "    <div class=\"colab-df-container\">\n",
       "      <div>\n",
       "<style scoped>\n",
       "    .dataframe tbody tr th:only-of-type {\n",
       "        vertical-align: middle;\n",
       "    }\n",
       "\n",
       "    .dataframe tbody tr th {\n",
       "        vertical-align: top;\n",
       "    }\n",
       "\n",
       "    .dataframe thead th {\n",
       "        text-align: right;\n",
       "    }\n",
       "</style>\n",
       "<table border=\"1\" class=\"dataframe\">\n",
       "  <thead>\n",
       "    <tr style=\"text-align: right;\">\n",
       "      <th></th>\n",
       "      <th>embd</th>\n",
       "      <th>lstmN</th>\n",
       "      <th>dOut</th>\n",
       "      <th>lRate</th>\n",
       "      <th>epoch</th>\n",
       "      <th>loss</th>\n",
       "      <th>accuracy</th>\n",
       "      <th>val_loss</th>\n",
       "      <th>val_accuracy</th>\n",
       "    </tr>\n",
       "  </thead>\n",
       "  <tbody>\n",
       "    <tr>\n",
       "      <th>31</th>\n",
       "      <td>16.0</td>\n",
       "      <td>128.0</td>\n",
       "      <td>0.2</td>\n",
       "      <td>0.010</td>\n",
       "      <td>20.0</td>\n",
       "      <td>0.362171</td>\n",
       "      <td>0.846299</td>\n",
       "      <td>0.511373</td>\n",
       "      <td>0.770625</td>\n",
       "    </tr>\n",
       "    <tr>\n",
       "      <th>11</th>\n",
       "      <td>8.0</td>\n",
       "      <td>96.0</td>\n",
       "      <td>0.4</td>\n",
       "      <td>0.001</td>\n",
       "      <td>20.0</td>\n",
       "      <td>0.442896</td>\n",
       "      <td>0.797522</td>\n",
       "      <td>0.488761</td>\n",
       "      <td>0.770312</td>\n",
       "    </tr>\n",
       "    <tr>\n",
       "      <th>8</th>\n",
       "      <td>8.0</td>\n",
       "      <td>96.0</td>\n",
       "      <td>0.2</td>\n",
       "      <td>0.001</td>\n",
       "      <td>20.0</td>\n",
       "      <td>0.411427</td>\n",
       "      <td>0.814147</td>\n",
       "      <td>0.493900</td>\n",
       "      <td>0.769687</td>\n",
       "    </tr>\n",
       "    <tr>\n",
       "      <th>50</th>\n",
       "      <td>32.0</td>\n",
       "      <td>128.0</td>\n",
       "      <td>0.2</td>\n",
       "      <td>0.001</td>\n",
       "      <td>20.0</td>\n",
       "      <td>0.385342</td>\n",
       "      <td>0.821205</td>\n",
       "      <td>0.488715</td>\n",
       "      <td>0.769063</td>\n",
       "    </tr>\n",
       "    <tr>\n",
       "      <th>52</th>\n",
       "      <td>32.0</td>\n",
       "      <td>128.0</td>\n",
       "      <td>0.4</td>\n",
       "      <td>0.010</td>\n",
       "      <td>20.0</td>\n",
       "      <td>0.376794</td>\n",
       "      <td>0.829987</td>\n",
       "      <td>0.489164</td>\n",
       "      <td>0.768750</td>\n",
       "    </tr>\n",
       "  </tbody>\n",
       "</table>\n",
       "</div>\n",
       "      <button class=\"colab-df-convert\" onclick=\"convertToInteractive('df-ac93526c-c2ad-4e90-bedc-006a90eb80e3')\"\n",
       "              title=\"Convert this dataframe to an interactive table.\"\n",
       "              style=\"display:none;\">\n",
       "        \n",
       "  <svg xmlns=\"http://www.w3.org/2000/svg\" height=\"24px\"viewBox=\"0 0 24 24\"\n",
       "       width=\"24px\">\n",
       "    <path d=\"M0 0h24v24H0V0z\" fill=\"none\"/>\n",
       "    <path d=\"M18.56 5.44l.94 2.06.94-2.06 2.06-.94-2.06-.94-.94-2.06-.94 2.06-2.06.94zm-11 1L8.5 8.5l.94-2.06 2.06-.94-2.06-.94L8.5 2.5l-.94 2.06-2.06.94zm10 10l.94 2.06.94-2.06 2.06-.94-2.06-.94-.94-2.06-.94 2.06-2.06.94z\"/><path d=\"M17.41 7.96l-1.37-1.37c-.4-.4-.92-.59-1.43-.59-.52 0-1.04.2-1.43.59L10.3 9.45l-7.72 7.72c-.78.78-.78 2.05 0 2.83L4 21.41c.39.39.9.59 1.41.59.51 0 1.02-.2 1.41-.59l7.78-7.78 2.81-2.81c.8-.78.8-2.07 0-2.86zM5.41 20L4 18.59l7.72-7.72 1.47 1.35L5.41 20z\"/>\n",
       "  </svg>\n",
       "      </button>\n",
       "      \n",
       "  <style>\n",
       "    .colab-df-container {\n",
       "      display:flex;\n",
       "      flex-wrap:wrap;\n",
       "      gap: 12px;\n",
       "    }\n",
       "\n",
       "    .colab-df-convert {\n",
       "      background-color: #E8F0FE;\n",
       "      border: none;\n",
       "      border-radius: 50%;\n",
       "      cursor: pointer;\n",
       "      display: none;\n",
       "      fill: #1967D2;\n",
       "      height: 32px;\n",
       "      padding: 0 0 0 0;\n",
       "      width: 32px;\n",
       "    }\n",
       "\n",
       "    .colab-df-convert:hover {\n",
       "      background-color: #E2EBFA;\n",
       "      box-shadow: 0px 1px 2px rgba(60, 64, 67, 0.3), 0px 1px 3px 1px rgba(60, 64, 67, 0.15);\n",
       "      fill: #174EA6;\n",
       "    }\n",
       "\n",
       "    [theme=dark] .colab-df-convert {\n",
       "      background-color: #3B4455;\n",
       "      fill: #D2E3FC;\n",
       "    }\n",
       "\n",
       "    [theme=dark] .colab-df-convert:hover {\n",
       "      background-color: #434B5C;\n",
       "      box-shadow: 0px 1px 3px 1px rgba(0, 0, 0, 0.15);\n",
       "      filter: drop-shadow(0px 1px 2px rgba(0, 0, 0, 0.3));\n",
       "      fill: #FFFFFF;\n",
       "    }\n",
       "  </style>\n",
       "\n",
       "      <script>\n",
       "        const buttonEl =\n",
       "          document.querySelector('#df-ac93526c-c2ad-4e90-bedc-006a90eb80e3 button.colab-df-convert');\n",
       "        buttonEl.style.display =\n",
       "          google.colab.kernel.accessAllowed ? 'block' : 'none';\n",
       "\n",
       "        async function convertToInteractive(key) {\n",
       "          const element = document.querySelector('#df-ac93526c-c2ad-4e90-bedc-006a90eb80e3');\n",
       "          const dataTable =\n",
       "            await google.colab.kernel.invokeFunction('convertToInteractive',\n",
       "                                                     [key], {});\n",
       "          if (!dataTable) return;\n",
       "\n",
       "          const docLinkHtml = 'Like what you see? Visit the ' +\n",
       "            '<a target=\"_blank\" href=https://colab.research.google.com/notebooks/data_table.ipynb>data table notebook</a>'\n",
       "            + ' to learn more about interactive tables.';\n",
       "          element.innerHTML = '';\n",
       "          dataTable['output_type'] = 'display_data';\n",
       "          await google.colab.output.renderOutput(dataTable, element);\n",
       "          const docLink = document.createElement('div');\n",
       "          docLink.innerHTML = docLinkHtml;\n",
       "          element.appendChild(docLink);\n",
       "        }\n",
       "      </script>\n",
       "    </div>\n",
       "  </div>\n",
       "  "
      ],
      "text/plain": [
       "    embd  lstmN  dOut  lRate  epoch      loss  accuracy  val_loss  \\\n",
       "31  16.0  128.0   0.2  0.010   20.0  0.362171  0.846299  0.511373   \n",
       "11   8.0   96.0   0.4  0.001   20.0  0.442896  0.797522  0.488761   \n",
       "8    8.0   96.0   0.2  0.001   20.0  0.411427  0.814147  0.493900   \n",
       "50  32.0  128.0   0.2  0.001   20.0  0.385342  0.821205  0.488715   \n",
       "52  32.0  128.0   0.4  0.010   20.0  0.376794  0.829987  0.489164   \n",
       "\n",
       "    val_accuracy  \n",
       "31      0.770625  \n",
       "11      0.770312  \n",
       "8       0.769687  \n",
       "50      0.769063  \n",
       "52      0.768750  "
      ]
     },
     "execution_count": 58,
     "metadata": {},
     "output_type": "execute_result"
    }
   ],
   "source": [
    "# lets review the results\n",
    "pGrid.loc[pGrid.epoch.isna()!=True].sort_values(by=\"val_accuracy\",ascending=False).head()"
   ]
  },
  {
   "cell_type": "code",
   "execution_count": 59,
   "metadata": {
    "colab": {
     "base_uri": "https://localhost:8080/"
    },
    "id": "k5yRE5EurKgX",
    "outputId": "64ca97c0-b20b-4bfd-e35d-a5d5fa6860cf"
   },
   "outputs": [
    {
     "name": "stdout",
     "output_type": "stream",
     "text": [
      "CPU times: user 2min 29s, sys: 13.9 s, total: 2min 43s\n",
      "Wall time: 2min 23s\n"
     ]
    }
   ],
   "source": [
    "%%time\n",
    "# lets pick the best model and train on complete dataset\n",
    "i = pGrid.loc[pGrid.epoch.isna()!=True].sort_values(by=\"val_accuracy\",ascending=False).index[0]\n",
    "gp = dict(pGrid.iloc[i])\n",
    "fParams = dict(x=x_train,y=y_train,batch_size=32,\n",
    "               epochs=20,validation_data=(x_test,y_test))\n",
    "SentiCLF = runs(senti,\"FINAL\",i,gp,fParams)"
   ]
  },
  {
   "cell_type": "code",
   "execution_count": 60,
   "metadata": {
    "id": "GuY1t70ZrRKi"
   },
   "outputs": [],
   "source": [
    "# parameterize overfitting\n",
    "pGrid[\"overFit\"] = pGrid.apply(lambda row: row[\"val_accuracy\"]-row[\"accuracy\"],axis=1)"
   ]
  },
  {
   "cell_type": "code",
   "execution_count": 61,
   "metadata": {
    "colab": {
     "base_uri": "https://localhost:8080/",
     "height": 206
    },
    "id": "DCQgldlTrWJo",
    "outputId": "f3f45898-e344-4285-8ee8-d5cc62c13d86"
   },
   "outputs": [
    {
     "data": {
      "text/html": [
       "\n",
       "  <div id=\"df-fda03be7-c84e-4986-95a5-d571d6c81a0c\">\n",
       "    <div class=\"colab-df-container\">\n",
       "      <div>\n",
       "<style scoped>\n",
       "    .dataframe tbody tr th:only-of-type {\n",
       "        vertical-align: middle;\n",
       "    }\n",
       "\n",
       "    .dataframe tbody tr th {\n",
       "        vertical-align: top;\n",
       "    }\n",
       "\n",
       "    .dataframe thead th {\n",
       "        text-align: right;\n",
       "    }\n",
       "</style>\n",
       "<table border=\"1\" class=\"dataframe\">\n",
       "  <thead>\n",
       "    <tr style=\"text-align: right;\">\n",
       "      <th></th>\n",
       "      <th>embd</th>\n",
       "      <th>lstmN</th>\n",
       "      <th>dOut</th>\n",
       "      <th>lRate</th>\n",
       "      <th>epoch</th>\n",
       "      <th>loss</th>\n",
       "      <th>accuracy</th>\n",
       "      <th>val_loss</th>\n",
       "      <th>val_accuracy</th>\n",
       "      <th>overFit</th>\n",
       "    </tr>\n",
       "  </thead>\n",
       "  <tbody>\n",
       "    <tr>\n",
       "      <th>42</th>\n",
       "      <td>32.0</td>\n",
       "      <td>96.0</td>\n",
       "      <td>0.2</td>\n",
       "      <td>0.100</td>\n",
       "      <td>20.0</td>\n",
       "      <td>0.795619</td>\n",
       "      <td>0.522428</td>\n",
       "      <td>0.765303</td>\n",
       "      <td>0.524375</td>\n",
       "      <td>0.001947</td>\n",
       "    </tr>\n",
       "    <tr>\n",
       "      <th>12</th>\n",
       "      <td>8.0</td>\n",
       "      <td>128.0</td>\n",
       "      <td>0.2</td>\n",
       "      <td>0.100</td>\n",
       "      <td>20.0</td>\n",
       "      <td>0.846235</td>\n",
       "      <td>0.513488</td>\n",
       "      <td>0.841127</td>\n",
       "      <td>0.498437</td>\n",
       "      <td>-0.015051</td>\n",
       "    </tr>\n",
       "    <tr>\n",
       "      <th>3</th>\n",
       "      <td>8.0</td>\n",
       "      <td>64.0</td>\n",
       "      <td>0.4</td>\n",
       "      <td>0.100</td>\n",
       "      <td>20.0</td>\n",
       "      <td>0.762231</td>\n",
       "      <td>0.515056</td>\n",
       "      <td>0.759748</td>\n",
       "      <td>0.488125</td>\n",
       "      <td>-0.026931</td>\n",
       "    </tr>\n",
       "    <tr>\n",
       "      <th>11</th>\n",
       "      <td>8.0</td>\n",
       "      <td>96.0</td>\n",
       "      <td>0.4</td>\n",
       "      <td>0.001</td>\n",
       "      <td>20.0</td>\n",
       "      <td>0.442896</td>\n",
       "      <td>0.797522</td>\n",
       "      <td>0.488761</td>\n",
       "      <td>0.770312</td>\n",
       "      <td>-0.027209</td>\n",
       "    </tr>\n",
       "    <tr>\n",
       "      <th>5</th>\n",
       "      <td>8.0</td>\n",
       "      <td>64.0</td>\n",
       "      <td>0.4</td>\n",
       "      <td>0.001</td>\n",
       "      <td>20.0</td>\n",
       "      <td>0.440620</td>\n",
       "      <td>0.796895</td>\n",
       "      <td>0.486981</td>\n",
       "      <td>0.767187</td>\n",
       "      <td>-0.029707</td>\n",
       "    </tr>\n",
       "  </tbody>\n",
       "</table>\n",
       "</div>\n",
       "      <button class=\"colab-df-convert\" onclick=\"convertToInteractive('df-fda03be7-c84e-4986-95a5-d571d6c81a0c')\"\n",
       "              title=\"Convert this dataframe to an interactive table.\"\n",
       "              style=\"display:none;\">\n",
       "        \n",
       "  <svg xmlns=\"http://www.w3.org/2000/svg\" height=\"24px\"viewBox=\"0 0 24 24\"\n",
       "       width=\"24px\">\n",
       "    <path d=\"M0 0h24v24H0V0z\" fill=\"none\"/>\n",
       "    <path d=\"M18.56 5.44l.94 2.06.94-2.06 2.06-.94-2.06-.94-.94-2.06-.94 2.06-2.06.94zm-11 1L8.5 8.5l.94-2.06 2.06-.94-2.06-.94L8.5 2.5l-.94 2.06-2.06.94zm10 10l.94 2.06.94-2.06 2.06-.94-2.06-.94-.94-2.06-.94 2.06-2.06.94z\"/><path d=\"M17.41 7.96l-1.37-1.37c-.4-.4-.92-.59-1.43-.59-.52 0-1.04.2-1.43.59L10.3 9.45l-7.72 7.72c-.78.78-.78 2.05 0 2.83L4 21.41c.39.39.9.59 1.41.59.51 0 1.02-.2 1.41-.59l7.78-7.78 2.81-2.81c.8-.78.8-2.07 0-2.86zM5.41 20L4 18.59l7.72-7.72 1.47 1.35L5.41 20z\"/>\n",
       "  </svg>\n",
       "      </button>\n",
       "      \n",
       "  <style>\n",
       "    .colab-df-container {\n",
       "      display:flex;\n",
       "      flex-wrap:wrap;\n",
       "      gap: 12px;\n",
       "    }\n",
       "\n",
       "    .colab-df-convert {\n",
       "      background-color: #E8F0FE;\n",
       "      border: none;\n",
       "      border-radius: 50%;\n",
       "      cursor: pointer;\n",
       "      display: none;\n",
       "      fill: #1967D2;\n",
       "      height: 32px;\n",
       "      padding: 0 0 0 0;\n",
       "      width: 32px;\n",
       "    }\n",
       "\n",
       "    .colab-df-convert:hover {\n",
       "      background-color: #E2EBFA;\n",
       "      box-shadow: 0px 1px 2px rgba(60, 64, 67, 0.3), 0px 1px 3px 1px rgba(60, 64, 67, 0.15);\n",
       "      fill: #174EA6;\n",
       "    }\n",
       "\n",
       "    [theme=dark] .colab-df-convert {\n",
       "      background-color: #3B4455;\n",
       "      fill: #D2E3FC;\n",
       "    }\n",
       "\n",
       "    [theme=dark] .colab-df-convert:hover {\n",
       "      background-color: #434B5C;\n",
       "      box-shadow: 0px 1px 3px 1px rgba(0, 0, 0, 0.15);\n",
       "      filter: drop-shadow(0px 1px 2px rgba(0, 0, 0, 0.3));\n",
       "      fill: #FFFFFF;\n",
       "    }\n",
       "  </style>\n",
       "\n",
       "      <script>\n",
       "        const buttonEl =\n",
       "          document.querySelector('#df-fda03be7-c84e-4986-95a5-d571d6c81a0c button.colab-df-convert');\n",
       "        buttonEl.style.display =\n",
       "          google.colab.kernel.accessAllowed ? 'block' : 'none';\n",
       "\n",
       "        async function convertToInteractive(key) {\n",
       "          const element = document.querySelector('#df-fda03be7-c84e-4986-95a5-d571d6c81a0c');\n",
       "          const dataTable =\n",
       "            await google.colab.kernel.invokeFunction('convertToInteractive',\n",
       "                                                     [key], {});\n",
       "          if (!dataTable) return;\n",
       "\n",
       "          const docLinkHtml = 'Like what you see? Visit the ' +\n",
       "            '<a target=\"_blank\" href=https://colab.research.google.com/notebooks/data_table.ipynb>data table notebook</a>'\n",
       "            + ' to learn more about interactive tables.';\n",
       "          element.innerHTML = '';\n",
       "          dataTable['output_type'] = 'display_data';\n",
       "          await google.colab.output.renderOutput(dataTable, element);\n",
       "          const docLink = document.createElement('div');\n",
       "          docLink.innerHTML = docLinkHtml;\n",
       "          element.appendChild(docLink);\n",
       "        }\n",
       "      </script>\n",
       "    </div>\n",
       "  </div>\n",
       "  "
      ],
      "text/plain": [
       "    embd  lstmN  dOut  lRate  epoch      loss  accuracy  val_loss  \\\n",
       "42  32.0   96.0   0.2  0.100   20.0  0.795619  0.522428  0.765303   \n",
       "12   8.0  128.0   0.2  0.100   20.0  0.846235  0.513488  0.841127   \n",
       "3    8.0   64.0   0.4  0.100   20.0  0.762231  0.515056  0.759748   \n",
       "11   8.0   96.0   0.4  0.001   20.0  0.442896  0.797522  0.488761   \n",
       "5    8.0   64.0   0.4  0.001   20.0  0.440620  0.796895  0.486981   \n",
       "\n",
       "    val_accuracy   overFit  \n",
       "42      0.524375  0.001947  \n",
       "12      0.498437 -0.015051  \n",
       "3       0.488125 -0.026931  \n",
       "11      0.770312 -0.027209  \n",
       "5       0.767187 -0.029707  "
      ]
     },
     "execution_count": 61,
     "metadata": {},
     "output_type": "execute_result"
    }
   ],
   "source": [
    "# review based on overfitting\n",
    "pGrid.loc[pGrid.epoch.isna()!=True].sort_values(by=\"overFit\",ascending=False).head()"
   ]
  },
  {
   "cell_type": "code",
   "execution_count": 62,
   "metadata": {
    "colab": {
     "base_uri": "https://localhost:8080/"
    },
    "id": "J5QnOITzrWUa",
    "outputId": "8d0c5f02-077d-4f45-b634-3b0449d8e6aa"
   },
   "outputs": [
    {
     "name": "stdout",
     "output_type": "stream",
     "text": [
      "CPU times: user 2min 24s, sys: 13.3 s, total: 2min 37s\n",
      "Wall time: 1min 59s\n"
     ]
    }
   ],
   "source": [
    "%%time\n",
    "# lets pick the model with least overfitting & train on full dataset\n",
    "j = pGrid.loc[pGrid.epoch.isna()!=True].sort_values(by=\"overFit\",ascending=False).index[0]\n",
    "gp = dict(pGrid.iloc[j])\n",
    "fParams = dict(x=x_train,y=y_train,batch_size=32,\n",
    "               epochs=20,validation_data=(x_test,y_test))\n",
    "SentiCLF2 = runs(senti,\"FINAL2\",j,gp,fParams)"
   ]
  },
  {
   "cell_type": "code",
   "execution_count": 63,
   "metadata": {
    "colab": {
     "base_uri": "https://localhost:8080/",
     "height": 112
    },
    "id": "JdQ-UGBLrWXd",
    "outputId": "119bac64-dff9-42ba-b7b5-0b7915f3fe78"
   },
   "outputs": [
    {
     "data": {
      "text/html": [
       "\n",
       "  <div id=\"df-87a3616b-9984-4348-9e07-8d9ce045735b\">\n",
       "    <div class=\"colab-df-container\">\n",
       "      <div>\n",
       "<style scoped>\n",
       "    .dataframe tbody tr th:only-of-type {\n",
       "        vertical-align: middle;\n",
       "    }\n",
       "\n",
       "    .dataframe tbody tr th {\n",
       "        vertical-align: top;\n",
       "    }\n",
       "\n",
       "    .dataframe thead th {\n",
       "        text-align: right;\n",
       "    }\n",
       "</style>\n",
       "<table border=\"1\" class=\"dataframe\">\n",
       "  <thead>\n",
       "    <tr style=\"text-align: right;\">\n",
       "      <th></th>\n",
       "      <th>embd</th>\n",
       "      <th>lstmN</th>\n",
       "      <th>dOut</th>\n",
       "      <th>lRate</th>\n",
       "      <th>epoch</th>\n",
       "      <th>loss</th>\n",
       "      <th>accuracy</th>\n",
       "      <th>val_loss</th>\n",
       "      <th>val_accuracy</th>\n",
       "      <th>overFit</th>\n",
       "    </tr>\n",
       "  </thead>\n",
       "  <tbody>\n",
       "    <tr>\n",
       "      <th>31</th>\n",
       "      <td>16.0</td>\n",
       "      <td>128.0</td>\n",
       "      <td>0.2</td>\n",
       "      <td>0.01</td>\n",
       "      <td>20.0</td>\n",
       "      <td>0.286768</td>\n",
       "      <td>0.88440</td>\n",
       "      <td>0.578082</td>\n",
       "      <td>0.75828</td>\n",
       "      <td>-0.12612</td>\n",
       "    </tr>\n",
       "    <tr>\n",
       "      <th>42</th>\n",
       "      <td>32.0</td>\n",
       "      <td>96.0</td>\n",
       "      <td>0.2</td>\n",
       "      <td>0.10</td>\n",
       "      <td>20.0</td>\n",
       "      <td>0.778573</td>\n",
       "      <td>0.53528</td>\n",
       "      <td>0.805238</td>\n",
       "      <td>0.54400</td>\n",
       "      <td>0.00872</td>\n",
       "    </tr>\n",
       "  </tbody>\n",
       "</table>\n",
       "</div>\n",
       "      <button class=\"colab-df-convert\" onclick=\"convertToInteractive('df-87a3616b-9984-4348-9e07-8d9ce045735b')\"\n",
       "              title=\"Convert this dataframe to an interactive table.\"\n",
       "              style=\"display:none;\">\n",
       "        \n",
       "  <svg xmlns=\"http://www.w3.org/2000/svg\" height=\"24px\"viewBox=\"0 0 24 24\"\n",
       "       width=\"24px\">\n",
       "    <path d=\"M0 0h24v24H0V0z\" fill=\"none\"/>\n",
       "    <path d=\"M18.56 5.44l.94 2.06.94-2.06 2.06-.94-2.06-.94-.94-2.06-.94 2.06-2.06.94zm-11 1L8.5 8.5l.94-2.06 2.06-.94-2.06-.94L8.5 2.5l-.94 2.06-2.06.94zm10 10l.94 2.06.94-2.06 2.06-.94-2.06-.94-.94-2.06-.94 2.06-2.06.94z\"/><path d=\"M17.41 7.96l-1.37-1.37c-.4-.4-.92-.59-1.43-.59-.52 0-1.04.2-1.43.59L10.3 9.45l-7.72 7.72c-.78.78-.78 2.05 0 2.83L4 21.41c.39.39.9.59 1.41.59.51 0 1.02-.2 1.41-.59l7.78-7.78 2.81-2.81c.8-.78.8-2.07 0-2.86zM5.41 20L4 18.59l7.72-7.72 1.47 1.35L5.41 20z\"/>\n",
       "  </svg>\n",
       "      </button>\n",
       "      \n",
       "  <style>\n",
       "    .colab-df-container {\n",
       "      display:flex;\n",
       "      flex-wrap:wrap;\n",
       "      gap: 12px;\n",
       "    }\n",
       "\n",
       "    .colab-df-convert {\n",
       "      background-color: #E8F0FE;\n",
       "      border: none;\n",
       "      border-radius: 50%;\n",
       "      cursor: pointer;\n",
       "      display: none;\n",
       "      fill: #1967D2;\n",
       "      height: 32px;\n",
       "      padding: 0 0 0 0;\n",
       "      width: 32px;\n",
       "    }\n",
       "\n",
       "    .colab-df-convert:hover {\n",
       "      background-color: #E2EBFA;\n",
       "      box-shadow: 0px 1px 2px rgba(60, 64, 67, 0.3), 0px 1px 3px 1px rgba(60, 64, 67, 0.15);\n",
       "      fill: #174EA6;\n",
       "    }\n",
       "\n",
       "    [theme=dark] .colab-df-convert {\n",
       "      background-color: #3B4455;\n",
       "      fill: #D2E3FC;\n",
       "    }\n",
       "\n",
       "    [theme=dark] .colab-df-convert:hover {\n",
       "      background-color: #434B5C;\n",
       "      box-shadow: 0px 1px 3px 1px rgba(0, 0, 0, 0.15);\n",
       "      filter: drop-shadow(0px 1px 2px rgba(0, 0, 0, 0.3));\n",
       "      fill: #FFFFFF;\n",
       "    }\n",
       "  </style>\n",
       "\n",
       "      <script>\n",
       "        const buttonEl =\n",
       "          document.querySelector('#df-87a3616b-9984-4348-9e07-8d9ce045735b button.colab-df-convert');\n",
       "        buttonEl.style.display =\n",
       "          google.colab.kernel.accessAllowed ? 'block' : 'none';\n",
       "\n",
       "        async function convertToInteractive(key) {\n",
       "          const element = document.querySelector('#df-87a3616b-9984-4348-9e07-8d9ce045735b');\n",
       "          const dataTable =\n",
       "            await google.colab.kernel.invokeFunction('convertToInteractive',\n",
       "                                                     [key], {});\n",
       "          if (!dataTable) return;\n",
       "\n",
       "          const docLinkHtml = 'Like what you see? Visit the ' +\n",
       "            '<a target=\"_blank\" href=https://colab.research.google.com/notebooks/data_table.ipynb>data table notebook</a>'\n",
       "            + ' to learn more about interactive tables.';\n",
       "          element.innerHTML = '';\n",
       "          dataTable['output_type'] = 'display_data';\n",
       "          await google.colab.output.renderOutput(dataTable, element);\n",
       "          const docLink = document.createElement('div');\n",
       "          docLink.innerHTML = docLinkHtml;\n",
       "          element.appendChild(docLink);\n",
       "        }\n",
       "      </script>\n",
       "    </div>\n",
       "  </div>\n",
       "  "
      ],
      "text/plain": [
       "    embd  lstmN  dOut  lRate  epoch      loss  accuracy  val_loss  \\\n",
       "31  16.0  128.0   0.2   0.01   20.0  0.286768   0.88440  0.578082   \n",
       "42  32.0   96.0   0.2   0.10   20.0  0.778573   0.53528  0.805238   \n",
       "\n",
       "    val_accuracy  overFit  \n",
       "31       0.75828 -0.12612  \n",
       "42       0.54400  0.00872  "
      ]
     },
     "execution_count": 63,
     "metadata": {},
     "output_type": "execute_result"
    }
   ],
   "source": [
    "# update & review results\n",
    "pGrid[\"overFit\"] = pGrid.apply(lambda row: row[\"val_accuracy\"]-row[\"accuracy\"],axis=1)\n",
    "pGrid.iloc[[i,j]]"
   ]
  },
  {
   "cell_type": "code",
   "execution_count": 64,
   "metadata": {
    "id": "CSDNyiAdsWNL"
   },
   "outputs": [],
   "source": [
    "# choose the better one\n",
    "if pGrid.loc[i,[\"val_accuracy\"]].values[0] > pGrid.loc[j,[\"val_accuracy\"]].values[0]:\n",
    "    fModel = SentiCLF\n",
    "else:\n",
    "    fModel = SentiCLF2"
   ]
  },
  {
   "cell_type": "markdown",
   "metadata": {
    "id": "QR0SNvdis4Vi"
   },
   "source": [
    "while only a slight improvement is found in validation accuracy between last 2 full model runs\n",
    "all models fairly perform for the given limitiations of 10000 vocabulary & document cap of 20 lengths\n",
    "lets use the last model to predict sentiment for few documents"
   ]
  },
  {
   "cell_type": "markdown",
   "metadata": {
    "id": "wMmrNw4gs9Jz"
   },
   "source": [
    "**Use the designed model to print the prediction on any one sample**"
   ]
  },
  {
   "cell_type": "code",
   "execution_count": 65,
   "metadata": {
    "colab": {
     "base_uri": "https://localhost:8080/"
    },
    "id": "jXG6SUCrsWQ0",
    "outputId": "5d4a239c-cb77-42d0-a73a-607bcc7794d6"
   },
   "outputs": [
    {
     "name": "stdout",
     "output_type": "stream",
     "text": [
      "1/1 [==============================] - 0s 371ms/step\n",
      "\u001b[1mFEATURES:\u001b[0m\n",
      "i i was painful in can as on cast not how watching part in smoking some to realistic of material\n",
      "\u001b[1mTRUE LABEL\u001b[0m\n",
      "[0]\n",
      "\u001b[1mPREDICTED LABEL\u001b[0m\n",
      "[0]\n",
      "==================================================================================================== \n",
      "\n",
      "\u001b[1mFEATURES:\u001b[0m\n",
      "way film becoming sustain in of difficult boasts better in negative not_in_here even by this could've bollywood bit that still\n",
      "\u001b[1mTRUE LABEL\u001b[0m\n",
      "[0]\n",
      "\u001b[1mPREDICTED LABEL\u001b[0m\n",
      "[0]\n",
      "==================================================================================================== \n",
      "\n",
      "\u001b[1mFEATURES:\u001b[0m\n",
      "it's his as it these is hoping you in change to time done unfortunately make am i'll to italian since\n",
      "\u001b[1mTRUE LABEL\u001b[0m\n",
      "[1]\n",
      "\u001b[1mPREDICTED LABEL\u001b[0m\n",
      "[1]\n",
      "==================================================================================================== \n",
      "\n",
      "\u001b[1mFEATURES:\u001b[0m\n",
      "film room coup boyle not_in_here not_in_here legend to adolescent not_in_here give cinema are in lost not_in_here are of not_in_here nemesis\n",
      "\u001b[1mTRUE LABEL\u001b[0m\n",
      "[1]\n",
      "\u001b[1mPREDICTED LABEL\u001b[0m\n",
      "[1]\n",
      "==================================================================================================== \n",
      "\n",
      "\u001b[1mFEATURES:\u001b[0m\n",
      "just is cena of once prior of fundamental kelly from single we offense movie of father up without wwii '\n",
      "\u001b[1mTRUE LABEL\u001b[0m\n",
      "[0]\n",
      "\u001b[1mPREDICTED LABEL\u001b[0m\n",
      "[0]\n",
      "==================================================================================================== \n",
      "\n"
     ]
    }
   ],
   "source": [
    "index = np.random.randint(0,len(x_test),size=5)\n",
    "pred = (fModel.predict(x_test[index])>0.5)*1\n",
    "for j,i in enumerate(index):\n",
    "    sentence = ' '.join([id2w[seq] for seq in x_test[i]])\n",
    "    print('\\033[1m'+\"FEATURES:\"+'\\033[0m')\n",
    "    print(sentence)\n",
    "    print('\\033[1m'+\"TRUE LABEL\"+'\\033[0m')\n",
    "    print(y_train[i])\n",
    "    print('\\033[1m'+\"PREDICTED LABEL\"+'\\033[0m')\n",
    "    print(pred[j])\n",
    "    print(\"=\"*100,'\\n')"
   ]
  },
  {
   "cell_type": "markdown",
   "metadata": {
    "id": "1MoVFZqinTGl"
   },
   "source": [
    "## Part B"
   ]
  },
  {
   "cell_type": "markdown",
   "metadata": {
    "id": "W7aa9vH1nYyj"
   },
   "source": [
    "Build a sequential NLP classifier which can use input text parameters to determine the\n",
    "customer sentiments."
   ]
  },
  {
   "cell_type": "code",
   "execution_count": 107,
   "metadata": {
    "colab": {
     "base_uri": "https://localhost:8080/"
    },
    "id": "kqpp1ioEsWTt",
    "outputId": "051c176e-0faa-46df-d5a2-f11ca58c9854"
   },
   "outputs": [
    {
     "name": "stdout",
     "output_type": "stream",
     "text": [
      "Drive already mounted at /content/drive; to attempt to forcibly remount, call drive.mount(\"/content/drive\", force_remount=True).\n"
     ]
    }
   ],
   "source": [
    "from google.colab import drive #mounting drive\n",
    "drive.mount('/content/drive')"
   ]
  },
  {
   "cell_type": "code",
   "execution_count": 137,
   "metadata": {
    "id": "UYZRtk_RnwWn"
   },
   "outputs": [],
   "source": [
    "import json\n",
    "from tensorflow.keras.models import Model\n",
    "from tensorflow.keras.layers import LSTM, Embedding, Dense, Input\n",
    "from tensorflow.keras.layers import Dropout, Bidirectional, GRU\n",
    "import os\n",
    "\n",
    "import keras\n",
    "from keras.models import Sequential\n",
    "from keras.layers import Dense, Flatten, Dropout\n",
    "from keras.layers import Embedding\n",
    "from keras.layers import Conv1D, GlobalMaxPooling1D, MaxPooling1D\n",
    "from keras.layers import SpatialDropout1D\n",
    "from keras.callbacks import ModelCheckpoint\n",
    "from tensorflow.keras.callbacks import EarlyStopping\n",
    "\n",
    "import re,nltk, html\n",
    "from string import punctuation\n",
    "from nltk.stem import WordNetLemmatizer\n",
    "from nltk import word_tokenize, pos_tag \n",
    "from string import punctuation\n",
    "from sklearn.model_selection import train_test_split\n",
    "from keras.preprocessing import text, sequence"
   ]
  },
  {
   "cell_type": "markdown",
   "metadata": {
    "id": "XZCAN7fooKO1"
   },
   "source": [
    "**Read and explore the data**"
   ]
  },
  {
   "cell_type": "code",
   "execution_count": 109,
   "metadata": {
    "id": "EEKO2roC8GI7"
   },
   "outputs": [],
   "source": [
    "url = 'https://raw.githubusercontent.com/rishabhmisra/News-Headlines-Dataset-For-Sarcasm-Detection/master/Sarcasm_Headlines_Dataset.json'"
   ]
  },
  {
   "cell_type": "code",
   "execution_count": 110,
   "metadata": {
    "colab": {
     "base_uri": "https://localhost:8080/",
     "height": 206
    },
    "id": "GL0gcgPloJwz",
    "outputId": "fb388b46-7d00-421c-aca8-3c299eb52ca5"
   },
   "outputs": [
    {
     "data": {
      "text/html": [
       "\n",
       "  <div id=\"df-8d3dbbb0-ae58-4253-a127-c9b37f26e428\">\n",
       "    <div class=\"colab-df-container\">\n",
       "      <div>\n",
       "<style scoped>\n",
       "    .dataframe tbody tr th:only-of-type {\n",
       "        vertical-align: middle;\n",
       "    }\n",
       "\n",
       "    .dataframe tbody tr th {\n",
       "        vertical-align: top;\n",
       "    }\n",
       "\n",
       "    .dataframe thead th {\n",
       "        text-align: right;\n",
       "    }\n",
       "</style>\n",
       "<table border=\"1\" class=\"dataframe\">\n",
       "  <thead>\n",
       "    <tr style=\"text-align: right;\">\n",
       "      <th></th>\n",
       "      <th>is_sarcastic</th>\n",
       "      <th>headline</th>\n",
       "      <th>article_link</th>\n",
       "    </tr>\n",
       "  </thead>\n",
       "  <tbody>\n",
       "    <tr>\n",
       "      <th>0</th>\n",
       "      <td>1</td>\n",
       "      <td>thirtysomething scientists unveil doomsday clo...</td>\n",
       "      <td>https://www.theonion.com/thirtysomething-scien...</td>\n",
       "    </tr>\n",
       "    <tr>\n",
       "      <th>1</th>\n",
       "      <td>0</td>\n",
       "      <td>dem rep. totally nails why congress is falling...</td>\n",
       "      <td>https://www.huffingtonpost.com/entry/donna-edw...</td>\n",
       "    </tr>\n",
       "    <tr>\n",
       "      <th>2</th>\n",
       "      <td>0</td>\n",
       "      <td>eat your veggies: 9 deliciously different recipes</td>\n",
       "      <td>https://www.huffingtonpost.com/entry/eat-your-...</td>\n",
       "    </tr>\n",
       "    <tr>\n",
       "      <th>3</th>\n",
       "      <td>1</td>\n",
       "      <td>inclement weather prevents liar from getting t...</td>\n",
       "      <td>https://local.theonion.com/inclement-weather-p...</td>\n",
       "    </tr>\n",
       "    <tr>\n",
       "      <th>4</th>\n",
       "      <td>1</td>\n",
       "      <td>mother comes pretty close to using word 'strea...</td>\n",
       "      <td>https://www.theonion.com/mother-comes-pretty-c...</td>\n",
       "    </tr>\n",
       "  </tbody>\n",
       "</table>\n",
       "</div>\n",
       "      <button class=\"colab-df-convert\" onclick=\"convertToInteractive('df-8d3dbbb0-ae58-4253-a127-c9b37f26e428')\"\n",
       "              title=\"Convert this dataframe to an interactive table.\"\n",
       "              style=\"display:none;\">\n",
       "        \n",
       "  <svg xmlns=\"http://www.w3.org/2000/svg\" height=\"24px\"viewBox=\"0 0 24 24\"\n",
       "       width=\"24px\">\n",
       "    <path d=\"M0 0h24v24H0V0z\" fill=\"none\"/>\n",
       "    <path d=\"M18.56 5.44l.94 2.06.94-2.06 2.06-.94-2.06-.94-.94-2.06-.94 2.06-2.06.94zm-11 1L8.5 8.5l.94-2.06 2.06-.94-2.06-.94L8.5 2.5l-.94 2.06-2.06.94zm10 10l.94 2.06.94-2.06 2.06-.94-2.06-.94-.94-2.06-.94 2.06-2.06.94z\"/><path d=\"M17.41 7.96l-1.37-1.37c-.4-.4-.92-.59-1.43-.59-.52 0-1.04.2-1.43.59L10.3 9.45l-7.72 7.72c-.78.78-.78 2.05 0 2.83L4 21.41c.39.39.9.59 1.41.59.51 0 1.02-.2 1.41-.59l7.78-7.78 2.81-2.81c.8-.78.8-2.07 0-2.86zM5.41 20L4 18.59l7.72-7.72 1.47 1.35L5.41 20z\"/>\n",
       "  </svg>\n",
       "      </button>\n",
       "      \n",
       "  <style>\n",
       "    .colab-df-container {\n",
       "      display:flex;\n",
       "      flex-wrap:wrap;\n",
       "      gap: 12px;\n",
       "    }\n",
       "\n",
       "    .colab-df-convert {\n",
       "      background-color: #E8F0FE;\n",
       "      border: none;\n",
       "      border-radius: 50%;\n",
       "      cursor: pointer;\n",
       "      display: none;\n",
       "      fill: #1967D2;\n",
       "      height: 32px;\n",
       "      padding: 0 0 0 0;\n",
       "      width: 32px;\n",
       "    }\n",
       "\n",
       "    .colab-df-convert:hover {\n",
       "      background-color: #E2EBFA;\n",
       "      box-shadow: 0px 1px 2px rgba(60, 64, 67, 0.3), 0px 1px 3px 1px rgba(60, 64, 67, 0.15);\n",
       "      fill: #174EA6;\n",
       "    }\n",
       "\n",
       "    [theme=dark] .colab-df-convert {\n",
       "      background-color: #3B4455;\n",
       "      fill: #D2E3FC;\n",
       "    }\n",
       "\n",
       "    [theme=dark] .colab-df-convert:hover {\n",
       "      background-color: #434B5C;\n",
       "      box-shadow: 0px 1px 3px 1px rgba(0, 0, 0, 0.15);\n",
       "      filter: drop-shadow(0px 1px 2px rgba(0, 0, 0, 0.3));\n",
       "      fill: #FFFFFF;\n",
       "    }\n",
       "  </style>\n",
       "\n",
       "      <script>\n",
       "        const buttonEl =\n",
       "          document.querySelector('#df-8d3dbbb0-ae58-4253-a127-c9b37f26e428 button.colab-df-convert');\n",
       "        buttonEl.style.display =\n",
       "          google.colab.kernel.accessAllowed ? 'block' : 'none';\n",
       "\n",
       "        async function convertToInteractive(key) {\n",
       "          const element = document.querySelector('#df-8d3dbbb0-ae58-4253-a127-c9b37f26e428');\n",
       "          const dataTable =\n",
       "            await google.colab.kernel.invokeFunction('convertToInteractive',\n",
       "                                                     [key], {});\n",
       "          if (!dataTable) return;\n",
       "\n",
       "          const docLinkHtml = 'Like what you see? Visit the ' +\n",
       "            '<a target=\"_blank\" href=https://colab.research.google.com/notebooks/data_table.ipynb>data table notebook</a>'\n",
       "            + ' to learn more about interactive tables.';\n",
       "          element.innerHTML = '';\n",
       "          dataTable['output_type'] = 'display_data';\n",
       "          await google.colab.output.renderOutput(dataTable, element);\n",
       "          const docLink = document.createElement('div');\n",
       "          docLink.innerHTML = docLinkHtml;\n",
       "          element.appendChild(docLink);\n",
       "        }\n",
       "      </script>\n",
       "    </div>\n",
       "  </div>\n",
       "  "
      ],
      "text/plain": [
       "   is_sarcastic                                           headline  \\\n",
       "0             1  thirtysomething scientists unveil doomsday clo...   \n",
       "1             0  dem rep. totally nails why congress is falling...   \n",
       "2             0  eat your veggies: 9 deliciously different recipes   \n",
       "3             1  inclement weather prevents liar from getting t...   \n",
       "4             1  mother comes pretty close to using word 'strea...   \n",
       "\n",
       "                                        article_link  \n",
       "0  https://www.theonion.com/thirtysomething-scien...  \n",
       "1  https://www.huffingtonpost.com/entry/donna-edw...  \n",
       "2  https://www.huffingtonpost.com/entry/eat-your-...  \n",
       "3  https://local.theonion.com/inclement-weather-p...  \n",
       "4  https://www.theonion.com/mother-comes-pretty-c...  "
      ]
     },
     "execution_count": 110,
     "metadata": {},
     "output_type": "execute_result"
    }
   ],
   "source": [
    "news = pd.read_json(url, lines=True)\n",
    "news.head()"
   ]
  },
  {
   "cell_type": "code",
   "execution_count": 111,
   "metadata": {
    "colab": {
     "base_uri": "https://localhost:8080/"
    },
    "id": "6oGCXNEaodDZ",
    "outputId": "a16fd561-1399-4745-e115-d94706dbadd7"
   },
   "outputs": [
    {
     "data": {
      "text/plain": [
       "(28619, 3)"
      ]
     },
     "execution_count": 111,
     "metadata": {},
     "output_type": "execute_result"
    }
   ],
   "source": [
    "# review the data properties\n",
    "news.shape"
   ]
  },
  {
   "cell_type": "code",
   "execution_count": 112,
   "metadata": {
    "colab": {
     "base_uri": "https://localhost:8080/"
    },
    "id": "XYH9kTQfoihi",
    "outputId": "acedd5cc-6e0f-4d38-b67a-bd67b2a48758"
   },
   "outputs": [
    {
     "name": "stdout",
     "output_type": "stream",
     "text": [
      "<class 'pandas.core.frame.DataFrame'>\n",
      "RangeIndex: 28619 entries, 0 to 28618\n",
      "Data columns (total 3 columns):\n",
      " #   Column        Non-Null Count  Dtype \n",
      "---  ------        --------------  ----- \n",
      " 0   is_sarcastic  28619 non-null  int64 \n",
      " 1   headline      28619 non-null  object\n",
      " 2   article_link  28619 non-null  object\n",
      "dtypes: int64(1), object(2)\n",
      "memory usage: 670.9+ KB\n"
     ]
    }
   ],
   "source": [
    "news.info()"
   ]
  },
  {
   "cell_type": "code",
   "execution_count": 113,
   "metadata": {
    "colab": {
     "base_uri": "https://localhost:8080/"
    },
    "id": "2NTxKjicokEF",
    "outputId": "2556f99d-de3b-486f-b495-f530241ab917"
   },
   "outputs": [
    {
     "data": {
      "text/plain": [
       "is_sarcastic    0\n",
       "headline        0\n",
       "article_link    0\n",
       "dtype: int64"
      ]
     },
     "execution_count": 113,
     "metadata": {},
     "output_type": "execute_result"
    }
   ],
   "source": [
    "# check for null/nan values\n",
    "news.isna().sum()"
   ]
  },
  {
   "cell_type": "code",
   "execution_count": 114,
   "metadata": {
    "colab": {
     "base_uri": "https://localhost:8080/"
    },
    "id": "Q_2iENfkooUr",
    "outputId": "7cdb2cd6-4f83-4f8a-d3c8-245487d706ff"
   },
   "outputs": [
    {
     "data": {
      "text/plain": [
       "0    14985\n",
       "1    13634\n",
       "Name: is_sarcastic, dtype: int64"
      ]
     },
     "execution_count": 114,
     "metadata": {},
     "output_type": "execute_result"
    }
   ],
   "source": [
    "# check for support of sentiment classes\n",
    "news.is_sarcastic.value_counts()"
   ]
  },
  {
   "cell_type": "code",
   "execution_count": 115,
   "metadata": {
    "colab": {
     "base_uri": "https://localhost:8080/",
     "height": 280
    },
    "id": "BcLkE-7dt2yy",
    "outputId": "fa8ab28f-1caa-4bc2-884d-fea7b0a176ea"
   },
   "outputs": [
    {
     "data": {
      "image/png": "[encoded data removed]",
      "text/plain": [
       "<Figure size 432x288 with 1 Axes>"
      ]
     },
     "metadata": {},
     "output_type": "display_data"
    }
   ],
   "source": [
    "sns.set_style('whitegrid')\n",
    "sns.countplot(x='is_sarcastic',data=news, palette='YlGnBu_r');"
   ]
  },
  {
   "cell_type": "markdown",
   "metadata": {
    "id": "vla8VoBeoxWR"
   },
   "source": [
    "**Retain relevant columns**\n",
    "\n"
   ]
  },
  {
   "cell_type": "code",
   "execution_count": 116,
   "metadata": {
    "id": "kd9yrz1QuIkk"
   },
   "outputs": [],
   "source": [
    "df=news.copy(deep= True)"
   ]
  },
  {
   "cell_type": "code",
   "execution_count": 117,
   "metadata": {
    "id": "76cpnVPuoqeT"
   },
   "outputs": [],
   "source": [
    "# drop article link\n",
    "df.drop([\"article_link\"],axis=1,inplace=True)"
   ]
  },
  {
   "cell_type": "markdown",
   "metadata": {
    "id": "sTczMBg6uHBg"
   },
   "source": [
    "**Get length of each sentence**"
   ]
  },
  {
   "cell_type": "code",
   "execution_count": 118,
   "metadata": {
    "colab": {
     "base_uri": "https://localhost:8080/",
     "height": 206
    },
    "id": "aNlx0FlcpLeQ",
    "outputId": "d9ff1640-13bf-457e-a0db-3389bdea083d"
   },
   "outputs": [
    {
     "data": {
      "text/html": [
       "\n",
       "  <div id=\"df-fab32544-1036-4e07-a425-f05bc4e9dd3c\">\n",
       "    <div class=\"colab-df-container\">\n",
       "      <div>\n",
       "<style scoped>\n",
       "    .dataframe tbody tr th:only-of-type {\n",
       "        vertical-align: middle;\n",
       "    }\n",
       "\n",
       "    .dataframe tbody tr th {\n",
       "        vertical-align: top;\n",
       "    }\n",
       "\n",
       "    .dataframe thead th {\n",
       "        text-align: right;\n",
       "    }\n",
       "</style>\n",
       "<table border=\"1\" class=\"dataframe\">\n",
       "  <thead>\n",
       "    <tr style=\"text-align: right;\">\n",
       "      <th></th>\n",
       "      <th>is_sarcastic</th>\n",
       "      <th>headline</th>\n",
       "      <th>length of sentence</th>\n",
       "    </tr>\n",
       "  </thead>\n",
       "  <tbody>\n",
       "    <tr>\n",
       "      <th>0</th>\n",
       "      <td>1</td>\n",
       "      <td>thirtysomething scientists unveil doomsday clo...</td>\n",
       "      <td>8</td>\n",
       "    </tr>\n",
       "    <tr>\n",
       "      <th>1</th>\n",
       "      <td>0</td>\n",
       "      <td>dem rep. totally nails why congress is falling...</td>\n",
       "      <td>13</td>\n",
       "    </tr>\n",
       "    <tr>\n",
       "      <th>2</th>\n",
       "      <td>0</td>\n",
       "      <td>eat your veggies: 9 deliciously different recipes</td>\n",
       "      <td>7</td>\n",
       "    </tr>\n",
       "    <tr>\n",
       "      <th>3</th>\n",
       "      <td>1</td>\n",
       "      <td>inclement weather prevents liar from getting t...</td>\n",
       "      <td>8</td>\n",
       "    </tr>\n",
       "    <tr>\n",
       "      <th>4</th>\n",
       "      <td>1</td>\n",
       "      <td>mother comes pretty close to using word 'strea...</td>\n",
       "      <td>9</td>\n",
       "    </tr>\n",
       "  </tbody>\n",
       "</table>\n",
       "</div>\n",
       "      <button class=\"colab-df-convert\" onclick=\"convertToInteractive('df-fab32544-1036-4e07-a425-f05bc4e9dd3c')\"\n",
       "              title=\"Convert this dataframe to an interactive table.\"\n",
       "              style=\"display:none;\">\n",
       "        \n",
       "  <svg xmlns=\"http://www.w3.org/2000/svg\" height=\"24px\"viewBox=\"0 0 24 24\"\n",
       "       width=\"24px\">\n",
       "    <path d=\"M0 0h24v24H0V0z\" fill=\"none\"/>\n",
       "    <path d=\"M18.56 5.44l.94 2.06.94-2.06 2.06-.94-2.06-.94-.94-2.06-.94 2.06-2.06.94zm-11 1L8.5 8.5l.94-2.06 2.06-.94-2.06-.94L8.5 2.5l-.94 2.06-2.06.94zm10 10l.94 2.06.94-2.06 2.06-.94-2.06-.94-.94-2.06-.94 2.06-2.06.94z\"/><path d=\"M17.41 7.96l-1.37-1.37c-.4-.4-.92-.59-1.43-.59-.52 0-1.04.2-1.43.59L10.3 9.45l-7.72 7.72c-.78.78-.78 2.05 0 2.83L4 21.41c.39.39.9.59 1.41.59.51 0 1.02-.2 1.41-.59l7.78-7.78 2.81-2.81c.8-.78.8-2.07 0-2.86zM5.41 20L4 18.59l7.72-7.72 1.47 1.35L5.41 20z\"/>\n",
       "  </svg>\n",
       "      </button>\n",
       "      \n",
       "  <style>\n",
       "    .colab-df-container {\n",
       "      display:flex;\n",
       "      flex-wrap:wrap;\n",
       "      gap: 12px;\n",
       "    }\n",
       "\n",
       "    .colab-df-convert {\n",
       "      background-color: #E8F0FE;\n",
       "      border: none;\n",
       "      border-radius: 50%;\n",
       "      cursor: pointer;\n",
       "      display: none;\n",
       "      fill: #1967D2;\n",
       "      height: 32px;\n",
       "      padding: 0 0 0 0;\n",
       "      width: 32px;\n",
       "    }\n",
       "\n",
       "    .colab-df-convert:hover {\n",
       "      background-color: #E2EBFA;\n",
       "      box-shadow: 0px 1px 2px rgba(60, 64, 67, 0.3), 0px 1px 3px 1px rgba(60, 64, 67, 0.15);\n",
       "      fill: #174EA6;\n",
       "    }\n",
       "\n",
       "    [theme=dark] .colab-df-convert {\n",
       "      background-color: #3B4455;\n",
       "      fill: #D2E3FC;\n",
       "    }\n",
       "\n",
       "    [theme=dark] .colab-df-convert:hover {\n",
       "      background-color: #434B5C;\n",
       "      box-shadow: 0px 1px 3px 1px rgba(0, 0, 0, 0.15);\n",
       "      filter: drop-shadow(0px 1px 2px rgba(0, 0, 0, 0.3));\n",
       "      fill: #FFFFFF;\n",
       "    }\n",
       "  </style>\n",
       "\n",
       "      <script>\n",
       "        const buttonEl =\n",
       "          document.querySelector('#df-fab32544-1036-4e07-a425-f05bc4e9dd3c button.colab-df-convert');\n",
       "        buttonEl.style.display =\n",
       "          google.colab.kernel.accessAllowed ? 'block' : 'none';\n",
       "\n",
       "        async function convertToInteractive(key) {\n",
       "          const element = document.querySelector('#df-fab32544-1036-4e07-a425-f05bc4e9dd3c');\n",
       "          const dataTable =\n",
       "            await google.colab.kernel.invokeFunction('convertToInteractive',\n",
       "                                                     [key], {});\n",
       "          if (!dataTable) return;\n",
       "\n",
       "          const docLinkHtml = 'Like what you see? Visit the ' +\n",
       "            '<a target=\"_blank\" href=https://colab.research.google.com/notebooks/data_table.ipynb>data table notebook</a>'\n",
       "            + ' to learn more about interactive tables.';\n",
       "          element.innerHTML = '';\n",
       "          dataTable['output_type'] = 'display_data';\n",
       "          await google.colab.output.renderOutput(dataTable, element);\n",
       "          const docLink = document.createElement('div');\n",
       "          docLink.innerHTML = docLinkHtml;\n",
       "          element.appendChild(docLink);\n",
       "        }\n",
       "      </script>\n",
       "    </div>\n",
       "  </div>\n",
       "  "
      ],
      "text/plain": [
       "   is_sarcastic                                           headline  \\\n",
       "0             1  thirtysomething scientists unveil doomsday clo...   \n",
       "1             0  dem rep. totally nails why congress is falling...   \n",
       "2             0  eat your veggies: 9 deliciously different recipes   \n",
       "3             1  inclement weather prevents liar from getting t...   \n",
       "4             1  mother comes pretty close to using word 'strea...   \n",
       "\n",
       "   length of sentence  \n",
       "0                   8  \n",
       "1                  13  \n",
       "2                   7  \n",
       "3                   8  \n",
       "4                   9  "
      ]
     },
     "execution_count": 118,
     "metadata": {},
     "output_type": "execute_result"
    }
   ],
   "source": [
    "df['length of sentence'] = df.headline.apply(lambda x: len(str(x).split(' ')))\n",
    "df.head()"
   ]
  },
  {
   "cell_type": "markdown",
   "metadata": {
    "id": "CCeNNm2tpp6h"
   },
   "source": [
    "upto 99% of the headlines are less than 20 words long"
   ]
  },
  {
   "cell_type": "markdown",
   "metadata": {
    "id": "0JqHuEGEupzu"
   },
   "source": [
    "**Define parameters**\n",
    "\n",
    "**Get indices for words**\n",
    "\n",
    "**Create features and labels**"
   ]
  },
  {
   "cell_type": "markdown",
   "metadata": {
    "id": "dlkATkk0u0A8"
   },
   "source": [
    "preprocessin the data"
   ]
  },
  {
   "cell_type": "code",
   "execution_count": 119,
   "metadata": {
    "id": "c2et7RLzph3i"
   },
   "outputs": [],
   "source": [
    "# remove unwanted characters but keep the alphanum\n",
    "pattern = \"[^\\w ]\"\n",
    "df.headline = df.headline.apply(lambda s : re.sub(pattern,\"\",s))\n",
    "\n"
   ]
  },
  {
   "cell_type": "code",
   "execution_count": 120,
   "metadata": {
    "id": "me8KxaF6vNgj"
   },
   "outputs": [],
   "source": [
    "#covert all texts in text columns into lower case\n",
    "df.headline = df.headline.apply(lambda s: s.lower())"
   ]
  },
  {
   "cell_type": "code",
   "execution_count": 121,
   "metadata": {
    "id": "ywEJS7L9vO-6"
   },
   "outputs": [],
   "source": [
    "#remove unwanted spaces\n",
    "df.headline = df.headline.apply(lambda s: s.strip())"
   ]
  },
  {
   "cell_type": "code",
   "execution_count": 122,
   "metadata": {
    "colab": {
     "base_uri": "https://localhost:8080/"
    },
    "id": "qCFT9em9zVdr",
    "outputId": "96ed8d0c-55e7-4fb2-ef1f-5338400a4340"
   },
   "outputs": [
    {
     "name": "stderr",
     "output_type": "stream",
     "text": [
      "[nltk_data] Downloading package stopwords to /root/nltk_data...\n",
      "[nltk_data]   Package stopwords is already up-to-date!\n"
     ]
    },
    {
     "data": {
      "text/plain": [
       "True"
      ]
     },
     "execution_count": 122,
     "metadata": {},
     "output_type": "execute_result"
    }
   ],
   "source": [
    "from nltk.corpus import stopwords\n",
    "nltk.download('stopwords')"
   ]
  },
  {
   "cell_type": "code",
   "execution_count": 123,
   "metadata": {
    "colab": {
     "base_uri": "https://localhost:8080/",
     "height": 206
    },
    "id": "lDVujX7xvWRm",
    "outputId": "d5978aca-7df5-4816-c083-360161c0ea19"
   },
   "outputs": [
    {
     "data": {
      "text/html": [
       "\n",
       "  <div id=\"df-b05516b9-2c09-4b1d-8b63-0b1827500f31\">\n",
       "    <div class=\"colab-df-container\">\n",
       "      <div>\n",
       "<style scoped>\n",
       "    .dataframe tbody tr th:only-of-type {\n",
       "        vertical-align: middle;\n",
       "    }\n",
       "\n",
       "    .dataframe tbody tr th {\n",
       "        vertical-align: top;\n",
       "    }\n",
       "\n",
       "    .dataframe thead th {\n",
       "        text-align: right;\n",
       "    }\n",
       "</style>\n",
       "<table border=\"1\" class=\"dataframe\">\n",
       "  <thead>\n",
       "    <tr style=\"text-align: right;\">\n",
       "      <th></th>\n",
       "      <th>is_sarcastic</th>\n",
       "      <th>headline</th>\n",
       "      <th>length of sentence</th>\n",
       "    </tr>\n",
       "  </thead>\n",
       "  <tbody>\n",
       "    <tr>\n",
       "      <th>0</th>\n",
       "      <td>1</td>\n",
       "      <td>thirtysomething scientists unveil doomsday clo...</td>\n",
       "      <td>8</td>\n",
       "    </tr>\n",
       "    <tr>\n",
       "      <th>1</th>\n",
       "      <td>0</td>\n",
       "      <td>dem rep totally nails congress falling short g...</td>\n",
       "      <td>13</td>\n",
       "    </tr>\n",
       "    <tr>\n",
       "      <th>2</th>\n",
       "      <td>0</td>\n",
       "      <td>eat veggies 9 deliciously different recipes</td>\n",
       "      <td>7</td>\n",
       "    </tr>\n",
       "    <tr>\n",
       "      <th>3</th>\n",
       "      <td>1</td>\n",
       "      <td>inclement weather prevents liar getting work</td>\n",
       "      <td>8</td>\n",
       "    </tr>\n",
       "    <tr>\n",
       "      <th>4</th>\n",
       "      <td>1</td>\n",
       "      <td>mother comes pretty close using word streaming...</td>\n",
       "      <td>9</td>\n",
       "    </tr>\n",
       "  </tbody>\n",
       "</table>\n",
       "</div>\n",
       "      <button class=\"colab-df-convert\" onclick=\"convertToInteractive('df-b05516b9-2c09-4b1d-8b63-0b1827500f31')\"\n",
       "              title=\"Convert this dataframe to an interactive table.\"\n",
       "              style=\"display:none;\">\n",
       "        \n",
       "  <svg xmlns=\"http://www.w3.org/2000/svg\" height=\"24px\"viewBox=\"0 0 24 24\"\n",
       "       width=\"24px\">\n",
       "    <path d=\"M0 0h24v24H0V0z\" fill=\"none\"/>\n",
       "    <path d=\"M18.56 5.44l.94 2.06.94-2.06 2.06-.94-2.06-.94-.94-2.06-.94 2.06-2.06.94zm-11 1L8.5 8.5l.94-2.06 2.06-.94-2.06-.94L8.5 2.5l-.94 2.06-2.06.94zm10 10l.94 2.06.94-2.06 2.06-.94-2.06-.94-.94-2.06-.94 2.06-2.06.94z\"/><path d=\"M17.41 7.96l-1.37-1.37c-.4-.4-.92-.59-1.43-.59-.52 0-1.04.2-1.43.59L10.3 9.45l-7.72 7.72c-.78.78-.78 2.05 0 2.83L4 21.41c.39.39.9.59 1.41.59.51 0 1.02-.2 1.41-.59l7.78-7.78 2.81-2.81c.8-.78.8-2.07 0-2.86zM5.41 20L4 18.59l7.72-7.72 1.47 1.35L5.41 20z\"/>\n",
       "  </svg>\n",
       "      </button>\n",
       "      \n",
       "  <style>\n",
       "    .colab-df-container {\n",
       "      display:flex;\n",
       "      flex-wrap:wrap;\n",
       "      gap: 12px;\n",
       "    }\n",
       "\n",
       "    .colab-df-convert {\n",
       "      background-color: #E8F0FE;\n",
       "      border: none;\n",
       "      border-radius: 50%;\n",
       "      cursor: pointer;\n",
       "      display: none;\n",
       "      fill: #1967D2;\n",
       "      height: 32px;\n",
       "      padding: 0 0 0 0;\n",
       "      width: 32px;\n",
       "    }\n",
       "\n",
       "    .colab-df-convert:hover {\n",
       "      background-color: #E2EBFA;\n",
       "      box-shadow: 0px 1px 2px rgba(60, 64, 67, 0.3), 0px 1px 3px 1px rgba(60, 64, 67, 0.15);\n",
       "      fill: #174EA6;\n",
       "    }\n",
       "\n",
       "    [theme=dark] .colab-df-convert {\n",
       "      background-color: #3B4455;\n",
       "      fill: #D2E3FC;\n",
       "    }\n",
       "\n",
       "    [theme=dark] .colab-df-convert:hover {\n",
       "      background-color: #434B5C;\n",
       "      box-shadow: 0px 1px 3px 1px rgba(0, 0, 0, 0.15);\n",
       "      filter: drop-shadow(0px 1px 2px rgba(0, 0, 0, 0.3));\n",
       "      fill: #FFFFFF;\n",
       "    }\n",
       "  </style>\n",
       "\n",
       "      <script>\n",
       "        const buttonEl =\n",
       "          document.querySelector('#df-b05516b9-2c09-4b1d-8b63-0b1827500f31 button.colab-df-convert');\n",
       "        buttonEl.style.display =\n",
       "          google.colab.kernel.accessAllowed ? 'block' : 'none';\n",
       "\n",
       "        async function convertToInteractive(key) {\n",
       "          const element = document.querySelector('#df-b05516b9-2c09-4b1d-8b63-0b1827500f31');\n",
       "          const dataTable =\n",
       "            await google.colab.kernel.invokeFunction('convertToInteractive',\n",
       "                                                     [key], {});\n",
       "          if (!dataTable) return;\n",
       "\n",
       "          const docLinkHtml = 'Like what you see? Visit the ' +\n",
       "            '<a target=\"_blank\" href=https://colab.research.google.com/notebooks/data_table.ipynb>data table notebook</a>'\n",
       "            + ' to learn more about interactive tables.';\n",
       "          element.innerHTML = '';\n",
       "          dataTable['output_type'] = 'display_data';\n",
       "          await google.colab.output.renderOutput(dataTable, element);\n",
       "          const docLink = document.createElement('div');\n",
       "          docLink.innerHTML = docLinkHtml;\n",
       "          element.appendChild(docLink);\n",
       "        }\n",
       "      </script>\n",
       "    </div>\n",
       "  </div>\n",
       "  "
      ],
      "text/plain": [
       "   is_sarcastic                                           headline  \\\n",
       "0             1  thirtysomething scientists unveil doomsday clo...   \n",
       "1             0  dem rep totally nails congress falling short g...   \n",
       "2             0        eat veggies 9 deliciously different recipes   \n",
       "3             1       inclement weather prevents liar getting work   \n",
       "4             1  mother comes pretty close using word streaming...   \n",
       "\n",
       "   length of sentence  \n",
       "0                   8  \n",
       "1                  13  \n",
       "2                   7  \n",
       "3                   8  \n",
       "4                   9  "
      ]
     },
     "execution_count": 123,
     "metadata": {},
     "output_type": "execute_result"
    }
   ],
   "source": [
    "stopwords = set(stopwords.words('english'))\n",
    "df.headline = df.headline.apply(lambda x: ' '.join([word for word in x.split() if word not in stopwords]))\n",
    "#recheck data\n",
    "df.head()"
   ]
  },
  {
   "cell_type": "code",
   "execution_count": 124,
   "metadata": {
    "id": "U-2buMjhz2Ty"
   },
   "outputs": [],
   "source": [
    "#creatin feature labels\n",
    "\n",
    "X=df['headline'].values\n",
    "y=df['is_sarcastic'].values\n",
    "X_train, X_test, y_train, y_test = train_test_split(X, y, test_size=0.30, random_state=42)"
   ]
  },
  {
   "cell_type": "code",
   "execution_count": 125,
   "metadata": {
    "id": "8pC2Euam0JAL"
   },
   "outputs": [],
   "source": [
    "#Define parameters, Tokenize and get indices for words\n",
    "vocab_size=10000\n",
    "embedding_dim=100\n",
    "max_length=32\n",
    "trunc_type='post'\n",
    "padding_type='post'\n",
    "oov_tok=''\n",
    "from tensorflow.keras.preprocessing.text import Tokenizer\n",
    "from tensorflow.keras.preprocessing.sequence import pad_sequences\n",
    "tokenizer= Tokenizer(num_words=vocab_size, oov_token=oov_tok)\n",
    "tokenizer.fit_on_texts(X_train)\n",
    "word_index=tokenizer.word_index\n",
    "training_sequences=tokenizer.texts_to_sequences(X_train)\n",
    "training_padded=pad_sequences(training_sequences, maxlen=max_length, padding=padding_type, truncating=trunc_type)\n",
    "testing_sequences=tokenizer.texts_to_sequences(X_test)\n",
    "testing_padded=pad_sequences(testing_sequences, maxlen=max_length, padding=padding_type, truncating=trunc_type)"
   ]
  },
  {
   "cell_type": "code",
   "execution_count": 126,
   "metadata": {
    "colab": {
     "base_uri": "https://localhost:8080/"
    },
    "id": "yAm5MdEz0JqP",
    "outputId": "8ff83402-d2e6-4b49-97a6-ab0cfb66cf26"
   },
   "outputs": [
    {
     "name": "stdout",
     "output_type": "stream",
     "text": [
      "Model: \"sequential_18\"\n",
      "_________________________________________________________________\n",
      " Layer (type)                Output Shape              Param #   \n",
      "=================================================================\n",
      " embedding_2 (Embedding)     (None, 32, 100)           1000000   \n",
      "                                                                 \n",
      " flatten_2 (Flatten)         (None, 3200)              0         \n",
      "                                                                 \n",
      " dense_6 (Dense)             (None, 32)                102432    \n",
      "                                                                 \n",
      " dropout_4 (Dropout)         (None, 32)                0         \n",
      "                                                                 \n",
      " dense_7 (Dense)             (None, 10)                330       \n",
      "                                                                 \n",
      " dropout_5 (Dropout)         (None, 10)                0         \n",
      "                                                                 \n",
      " dense_8 (Dense)             (None, 1)                 11        \n",
      "                                                                 \n",
      "=================================================================\n",
      "Total params: 1,102,773\n",
      "Trainable params: 1,102,773\n",
      "Non-trainable params: 0\n",
      "_________________________________________________________________\n"
     ]
    }
   ],
   "source": [
    "#Building a dense network first\n",
    "model = Sequential()\n",
    "model.add(Embedding(vocab_size, embedding_dim, input_length=max_length))\n",
    "model.add(Flatten())\n",
    "model.add(Dense(units=32,activation='relu'))\n",
    "model.add(Dropout(0.5))\n",
    "model.add(Dense(units=10,activation='relu'))\n",
    "model.add(Dropout(0.5))\n",
    "model.add(Dense(units=1,activation='sigmoid'))\n",
    "opt = keras.optimizers.Adam(learning_rate=0.0001)\n",
    "model.compile(loss='binary_crossentropy', optimizer=opt, metrics=['accuracy'])\n",
    "model.summary()"
   ]
  },
  {
   "cell_type": "markdown",
   "metadata": {
    "id": "hUmMeqVu4bHu"
   },
   "source": [
    "**Get vocabulary size**\n",
    "\n",
    "**Create a weight matrix using GloVe embeddings**"
   ]
  },
  {
   "cell_type": "code",
   "execution_count": 127,
   "metadata": {
    "colab": {
     "base_uri": "https://localhost:8080/"
    },
    "id": "KJrw0b9x0JuA",
    "outputId": "cd2ba41d-80ae-466c-b198-a22638ad0c1d"
   },
   "outputs": [
    {
     "name": "stderr",
     "output_type": "stream",
     "text": [
      "wordCount: 100%|██████████| 28619/28619 [00:00<00:00, 334301.92it/s]\n"
     ]
    }
   ],
   "source": [
    "vocab = set()\n",
    "wordCount = 0\n",
    "def wCount(doc):\n",
    "    global wordCount,vocab\n",
    "    doc = doc.split()\n",
    "    vocab.update(doc)\n",
    "    wordCount+=len(doc)\n",
    "\n",
    "tqdm.pandas(desc=\"wordCount\")\n",
    "news.headline.progress_apply(lambda x: wCount(x));"
   ]
  },
  {
   "cell_type": "code",
   "execution_count": 128,
   "metadata": {
    "colab": {
     "base_uri": "https://localhost:8080/"
    },
    "id": "-DROlwD04xg6",
    "outputId": "9665ec5f-665b-4d99-b756-21da0e60d8fa"
   },
   "outputs": [
    {
     "data": {
      "text/plain": [
       "(38234, 287620)"
      ]
     },
     "execution_count": 128,
     "metadata": {},
     "output_type": "execute_result"
    }
   ],
   "source": [
    "# counts\n",
    "len(vocab),wordCount"
   ]
  },
  {
   "cell_type": "code",
   "execution_count": 129,
   "metadata": {
    "id": "crpWjDsW41Pz"
   },
   "outputs": [],
   "source": [
    "!mkdir -p dense_model_output"
   ]
  },
  {
   "cell_type": "code",
   "execution_count": 131,
   "metadata": {
    "id": "EaTPAojL45dF"
   },
   "outputs": [],
   "source": [
    "os.chdir('/content/drive/My Drive/pgpaiml/project/nlp2 project/')"
   ]
  },
  {
   "cell_type": "code",
   "execution_count": 154,
   "metadata": {
    "colab": {
     "base_uri": "https://localhost:8080/"
    },
    "id": "VTsfYfoL5Bsa",
    "outputId": "9fd31df7-885d-46b1-95d9-37b39abbb674"
   },
   "outputs": [
    {
     "name": "stdout",
     "output_type": "stream",
     "text": [
      "/content/drive/MyDrive/pgpaiml/project/nlp2 project\n",
      " dense_model_output\t       'NLP FAQ - 2.pdf'\n",
      " glove.6B.zip\t\t        nlp_project2_vinay.ipynb\n",
      "'NLP-2_Problem Statement.pdf'   Sarcasm_Headlines_Dataset.json\n"
     ]
    }
   ],
   "source": [
    "!pwd\n",
    "!ls"
   ]
  },
  {
   "cell_type": "code",
   "execution_count": 155,
   "metadata": {
    "colab": {
     "base_uri": "https://localhost:8080/"
    },
    "id": "4LPsgk3i5Dns",
    "outputId": "ba7def15-ce0b-4df3-8932-80120a776687"
   },
   "outputs": [
    {
     "name": "stdout",
     "output_type": "stream",
     "text": [
      "Archive:  glove.6B.zip\n",
      "  inflating: glove.6B.50d.txt        \n",
      "  inflating: glove.6B.100d.txt       \n",
      "  inflating: glove.6B.200d.txt       \n",
      "  inflating: glove.6B.300d.txt       \n"
     ]
    }
   ],
   "source": [
    "!unzip 'glove.6B.zip'"
   ]
  },
  {
   "cell_type": "code",
   "execution_count": 133,
   "metadata": {
    "colab": {
     "base_uri": "https://localhost:8080/"
    },
    "id": "lzBxXuXK619_",
    "outputId": "932fe172-0601-4020-8dd6-bbc8edad4210"
   },
   "outputs": [
    {
     "name": "stdout",
     "output_type": "stream",
     "text": [
      "Found 400000 word vectors.\n"
     ]
    }
   ],
   "source": [
    "glove_dir = '/content/drive/My Drive/pgpaiml/project/nlp2 project/'\n",
    "embeddings_index = {}\n",
    "f = open(os.path.join(glove_dir, 'glove.6B.100d.txt'))\n",
    "for line in f:\n",
    "    values = line.split()\n",
    "    word = values[0]\n",
    "    coefs = np.asarray(values[1:], dtype='float32')\n",
    "    embeddings_index[word] = coefs\n",
    "f.close()\n",
    "\n",
    "print('Found %s word vectors.' % len(embeddings_index))"
   ]
  },
  {
   "cell_type": "code",
   "execution_count": 134,
   "metadata": {
    "id": "ynUEnJpo7PUP"
   },
   "outputs": [],
   "source": [
    "embedding_dim = 100\n",
    "embedding_matrix = np.zeros((vocab_size, embedding_dim))\n",
    "for word, i in word_index.items():\n",
    "  if i<vocab_size:\n",
    "    embedding_vector = embeddings_index.get(word)\n",
    "    if embedding_vector is not None:\n",
    "      embedding_matrix[i] = embedding_vector"
   ]
  },
  {
   "cell_type": "code",
   "execution_count": 135,
   "metadata": {
    "id": "0V5Xyx_m83B4"
   },
   "outputs": [],
   "source": [
    "#Adding the weights from the glove embedding\n",
    "model.layers[0].set_weights([embedding_matrix])\n",
    "model.layers[0].trainable = False"
   ]
  },
  {
   "cell_type": "code",
   "execution_count": 138,
   "metadata": {
    "colab": {
     "base_uri": "https://localhost:8080/"
    },
    "id": "EzTP9te688dl",
    "outputId": "ed6d9f49-a6e0-4de0-d989-2e2e8f1fc9e3"
   },
   "outputs": [
    {
     "name": "stdout",
     "output_type": "stream",
     "text": [
      "Epoch 1/100\n",
      "79/79 [==============================] - 1s 8ms/step - loss: 0.7060 - accuracy: 0.5165 - val_loss: 0.6813 - val_accuracy: 0.5877\n",
      "Epoch 2/100\n",
      "79/79 [==============================] - 0s 6ms/step - loss: 0.6880 - accuracy: 0.5418 - val_loss: 0.6737 - val_accuracy: 0.6165\n",
      "Epoch 3/100\n",
      "79/79 [==============================] - 0s 5ms/step - loss: 0.6769 - accuracy: 0.5617 - val_loss: 0.6630 - val_accuracy: 0.6400\n",
      "Epoch 4/100\n",
      "79/79 [==============================] - 0s 5ms/step - loss: 0.6663 - accuracy: 0.5878 - val_loss: 0.6496 - val_accuracy: 0.6543\n",
      "Epoch 5/100\n",
      "79/79 [==============================] - 0s 6ms/step - loss: 0.6531 - accuracy: 0.6098 - val_loss: 0.6337 - val_accuracy: 0.6776\n",
      "Epoch 6/100\n",
      "79/79 [==============================] - 0s 6ms/step - loss: 0.6401 - accuracy: 0.6285 - val_loss: 0.6191 - val_accuracy: 0.6943\n",
      "Epoch 7/100\n",
      "79/79 [==============================] - 0s 5ms/step - loss: 0.6318 - accuracy: 0.6386 - val_loss: 0.6080 - val_accuracy: 0.7078\n",
      "Epoch 8/100\n",
      "79/79 [==============================] - 0s 6ms/step - loss: 0.6191 - accuracy: 0.6517 - val_loss: 0.5950 - val_accuracy: 0.7149\n",
      "Epoch 9/100\n",
      "79/79 [==============================] - 1s 7ms/step - loss: 0.6057 - accuracy: 0.6668 - val_loss: 0.5819 - val_accuracy: 0.7247\n",
      "Epoch 10/100\n",
      "79/79 [==============================] - 0s 5ms/step - loss: 0.5968 - accuracy: 0.6733 - val_loss: 0.5722 - val_accuracy: 0.7283\n",
      "Epoch 11/100\n",
      "79/79 [==============================] - 1s 6ms/step - loss: 0.5874 - accuracy: 0.6864 - val_loss: 0.5610 - val_accuracy: 0.7352\n",
      "Epoch 12/100\n",
      "79/79 [==============================] - 0s 5ms/step - loss: 0.5780 - accuracy: 0.6972 - val_loss: 0.5515 - val_accuracy: 0.7434\n",
      "Epoch 13/100\n",
      "79/79 [==============================] - 0s 6ms/step - loss: 0.5623 - accuracy: 0.7109 - val_loss: 0.5409 - val_accuracy: 0.7475\n",
      "Epoch 14/100\n",
      "79/79 [==============================] - 0s 5ms/step - loss: 0.5542 - accuracy: 0.7200 - val_loss: 0.5310 - val_accuracy: 0.7516\n",
      "Epoch 15/100\n",
      "79/79 [==============================] - 0s 5ms/step - loss: 0.5458 - accuracy: 0.7259 - val_loss: 0.5225 - val_accuracy: 0.7547\n",
      "Epoch 16/100\n",
      "79/79 [==============================] - 0s 5ms/step - loss: 0.5327 - accuracy: 0.7388 - val_loss: 0.5133 - val_accuracy: 0.7602\n",
      "Epoch 17/100\n",
      "79/79 [==============================] - 0s 5ms/step - loss: 0.5246 - accuracy: 0.7450 - val_loss: 0.5072 - val_accuracy: 0.7609\n",
      "Epoch 18/100\n",
      "79/79 [==============================] - 1s 6ms/step - loss: 0.5137 - accuracy: 0.7506 - val_loss: 0.5007 - val_accuracy: 0.7636\n",
      "Epoch 19/100\n",
      "79/79 [==============================] - 0s 5ms/step - loss: 0.5048 - accuracy: 0.7607 - val_loss: 0.4923 - val_accuracy: 0.7671\n",
      "Epoch 20/100\n",
      "79/79 [==============================] - 1s 6ms/step - loss: 0.4945 - accuracy: 0.7666 - val_loss: 0.4851 - val_accuracy: 0.7690\n",
      "Epoch 21/100\n",
      "79/79 [==============================] - 0s 6ms/step - loss: 0.4865 - accuracy: 0.7716 - val_loss: 0.4801 - val_accuracy: 0.7731\n",
      "Epoch 22/100\n",
      "79/79 [==============================] - 1s 6ms/step - loss: 0.4721 - accuracy: 0.7795 - val_loss: 0.4743 - val_accuracy: 0.7754\n",
      "Epoch 23/100\n",
      "79/79 [==============================] - 0s 5ms/step - loss: 0.4680 - accuracy: 0.7859 - val_loss: 0.4689 - val_accuracy: 0.7771\n",
      "Epoch 24/100\n",
      "79/79 [==============================] - 0s 5ms/step - loss: 0.4609 - accuracy: 0.7898 - val_loss: 0.4664 - val_accuracy: 0.7796\n",
      "Epoch 25/100\n",
      "79/79 [==============================] - 0s 5ms/step - loss: 0.4503 - accuracy: 0.8004 - val_loss: 0.4608 - val_accuracy: 0.7810\n",
      "Epoch 26/100\n",
      "79/79 [==============================] - 0s 6ms/step - loss: 0.4415 - accuracy: 0.8042 - val_loss: 0.4568 - val_accuracy: 0.7810\n",
      "Epoch 27/100\n",
      "79/79 [==============================] - 0s 5ms/step - loss: 0.4289 - accuracy: 0.8072 - val_loss: 0.4530 - val_accuracy: 0.7833\n",
      "Epoch 28/100\n",
      "79/79 [==============================] - 1s 6ms/step - loss: 0.4204 - accuracy: 0.8150 - val_loss: 0.4498 - val_accuracy: 0.7844\n",
      "Epoch 29/100\n",
      "79/79 [==============================] - 0s 5ms/step - loss: 0.4174 - accuracy: 0.8196 - val_loss: 0.4471 - val_accuracy: 0.7883\n",
      "Epoch 30/100\n",
      "79/79 [==============================] - 0s 5ms/step - loss: 0.4098 - accuracy: 0.8246 - val_loss: 0.4443 - val_accuracy: 0.7878\n",
      "Epoch 31/100\n",
      "79/79 [==============================] - 0s 5ms/step - loss: 0.3967 - accuracy: 0.8289 - val_loss: 0.4422 - val_accuracy: 0.7884\n",
      "Epoch 32/100\n",
      "79/79 [==============================] - 0s 5ms/step - loss: 0.3899 - accuracy: 0.8325 - val_loss: 0.4410 - val_accuracy: 0.7906\n",
      "Epoch 33/100\n",
      "79/79 [==============================] - 0s 6ms/step - loss: 0.3791 - accuracy: 0.8425 - val_loss: 0.4400 - val_accuracy: 0.7930\n",
      "Epoch 34/100\n",
      "79/79 [==============================] - 0s 5ms/step - loss: 0.3732 - accuracy: 0.8442 - val_loss: 0.4376 - val_accuracy: 0.7940\n",
      "Epoch 35/100\n",
      "79/79 [==============================] - 0s 5ms/step - loss: 0.3669 - accuracy: 0.8482 - val_loss: 0.4362 - val_accuracy: 0.7961\n",
      "Epoch 36/100\n",
      "79/79 [==============================] - 0s 5ms/step - loss: 0.3629 - accuracy: 0.8482 - val_loss: 0.4360 - val_accuracy: 0.7961\n",
      "Epoch 37/100\n",
      "79/79 [==============================] - 0s 5ms/step - loss: 0.3576 - accuracy: 0.8574 - val_loss: 0.4345 - val_accuracy: 0.7986\n",
      "Epoch 38/100\n",
      "79/79 [==============================] - 0s 6ms/step - loss: 0.3440 - accuracy: 0.8615 - val_loss: 0.4344 - val_accuracy: 0.8005\n",
      "Epoch 39/100\n",
      "79/79 [==============================] - 1s 6ms/step - loss: 0.3360 - accuracy: 0.8653 - val_loss: 0.4363 - val_accuracy: 0.8004\n",
      "Epoch 40/100\n",
      "79/79 [==============================] - 0s 6ms/step - loss: 0.3316 - accuracy: 0.8698 - val_loss: 0.4346 - val_accuracy: 0.8018\n",
      "Epoch 41/100\n",
      "79/79 [==============================] - 0s 5ms/step - loss: 0.3212 - accuracy: 0.8709 - val_loss: 0.4369 - val_accuracy: 0.8032\n",
      "Epoch 42/100\n",
      "79/79 [==============================] - 0s 6ms/step - loss: 0.3144 - accuracy: 0.8749 - val_loss: 0.4389 - val_accuracy: 0.8017\n",
      "Epoch 43/100\n",
      "79/79 [==============================] - 1s 7ms/step - loss: 0.3086 - accuracy: 0.8791 - val_loss: 0.4391 - val_accuracy: 0.8031\n",
      "Epoch 43: early stopping\n"
     ]
    },
    {
     "data": {
      "text/plain": [
       "<keras.callbacks.History at 0x7feedcc90890>"
      ]
     },
     "execution_count": 138,
     "metadata": {},
     "output_type": "execute_result"
    }
   ],
   "source": [
    "early_stop = EarlyStopping(monitor='val_loss', mode='min', verbose=1, patience=5)\n",
    "model.fit(x=training_padded, y=y_train, batch_size=256, epochs=100, validation_data=(testing_padded, y_test), verbose=1, callbacks=[early_stop])"
   ]
  },
  {
   "cell_type": "code",
   "execution_count": 140,
   "metadata": {
    "colab": {
     "base_uri": "https://localhost:8080/",
     "height": 1000
    },
    "id": "g0lsrO4t8_Hs",
    "outputId": "26a3c878-887e-4d72-d905-eda24914dc6f"
   },
   "outputs": [
    {
     "data": {
      "text/html": [
       "\n",
       "  <div id=\"df-9c6545ac-ce18-4ae3-850c-80b8b603106e\">\n",
       "    <div class=\"colab-df-container\">\n",
       "      <div>\n",
       "<style scoped>\n",
       "    .dataframe tbody tr th:only-of-type {\n",
       "        vertical-align: middle;\n",
       "    }\n",
       "\n",
       "    .dataframe tbody tr th {\n",
       "        vertical-align: top;\n",
       "    }\n",
       "\n",
       "    .dataframe thead th {\n",
       "        text-align: right;\n",
       "    }\n",
       "</style>\n",
       "<table border=\"1\" class=\"dataframe\">\n",
       "  <thead>\n",
       "    <tr style=\"text-align: right;\">\n",
       "      <th></th>\n",
       "      <th>loss</th>\n",
       "      <th>accuracy</th>\n",
       "      <th>val_loss</th>\n",
       "      <th>val_accuracy</th>\n",
       "      <th>Epoch</th>\n",
       "    </tr>\n",
       "    <tr>\n",
       "      <th>Epoch</th>\n",
       "      <th></th>\n",
       "      <th></th>\n",
       "      <th></th>\n",
       "      <th></th>\n",
       "      <th></th>\n",
       "    </tr>\n",
       "  </thead>\n",
       "  <tbody>\n",
       "    <tr>\n",
       "      <th>1</th>\n",
       "      <td>0.705996</td>\n",
       "      <td>0.516548</td>\n",
       "      <td>0.681309</td>\n",
       "      <td>0.587701</td>\n",
       "      <td>1</td>\n",
       "    </tr>\n",
       "    <tr>\n",
       "      <th>2</th>\n",
       "      <td>0.687982</td>\n",
       "      <td>0.541806</td>\n",
       "      <td>0.673732</td>\n",
       "      <td>0.616469</td>\n",
       "      <td>2</td>\n",
       "    </tr>\n",
       "    <tr>\n",
       "      <th>3</th>\n",
       "      <td>0.676928</td>\n",
       "      <td>0.561673</td>\n",
       "      <td>0.663003</td>\n",
       "      <td>0.639995</td>\n",
       "      <td>3</td>\n",
       "    </tr>\n",
       "    <tr>\n",
       "      <th>4</th>\n",
       "      <td>0.666344</td>\n",
       "      <td>0.587830</td>\n",
       "      <td>0.649621</td>\n",
       "      <td>0.654321</td>\n",
       "      <td>4</td>\n",
       "    </tr>\n",
       "    <tr>\n",
       "      <th>5</th>\n",
       "      <td>0.653110</td>\n",
       "      <td>0.609794</td>\n",
       "      <td>0.633679</td>\n",
       "      <td>0.677615</td>\n",
       "      <td>5</td>\n",
       "    </tr>\n",
       "    <tr>\n",
       "      <th>6</th>\n",
       "      <td>0.640084</td>\n",
       "      <td>0.628463</td>\n",
       "      <td>0.619117</td>\n",
       "      <td>0.694270</td>\n",
       "      <td>6</td>\n",
       "    </tr>\n",
       "    <tr>\n",
       "      <th>7</th>\n",
       "      <td>0.631778</td>\n",
       "      <td>0.638646</td>\n",
       "      <td>0.607991</td>\n",
       "      <td>0.707780</td>\n",
       "      <td>7</td>\n",
       "    </tr>\n",
       "    <tr>\n",
       "      <th>8</th>\n",
       "      <td>0.619122</td>\n",
       "      <td>0.651675</td>\n",
       "      <td>0.594963</td>\n",
       "      <td>0.714885</td>\n",
       "      <td>8</td>\n",
       "    </tr>\n",
       "    <tr>\n",
       "      <th>9</th>\n",
       "      <td>0.605687</td>\n",
       "      <td>0.666800</td>\n",
       "      <td>0.581873</td>\n",
       "      <td>0.724668</td>\n",
       "      <td>9</td>\n",
       "    </tr>\n",
       "    <tr>\n",
       "      <th>10</th>\n",
       "      <td>0.596837</td>\n",
       "      <td>0.673289</td>\n",
       "      <td>0.572229</td>\n",
       "      <td>0.728279</td>\n",
       "      <td>10</td>\n",
       "    </tr>\n",
       "    <tr>\n",
       "      <th>11</th>\n",
       "      <td>0.587366</td>\n",
       "      <td>0.686417</td>\n",
       "      <td>0.561007</td>\n",
       "      <td>0.735150</td>\n",
       "      <td>11</td>\n",
       "    </tr>\n",
       "    <tr>\n",
       "      <th>12</th>\n",
       "      <td>0.577958</td>\n",
       "      <td>0.697200</td>\n",
       "      <td>0.551525</td>\n",
       "      <td>0.743420</td>\n",
       "      <td>12</td>\n",
       "    </tr>\n",
       "    <tr>\n",
       "      <th>13</th>\n",
       "      <td>0.562260</td>\n",
       "      <td>0.710877</td>\n",
       "      <td>0.540907</td>\n",
       "      <td>0.747496</td>\n",
       "      <td>13</td>\n",
       "    </tr>\n",
       "    <tr>\n",
       "      <th>14</th>\n",
       "      <td>0.554228</td>\n",
       "      <td>0.719962</td>\n",
       "      <td>0.531022</td>\n",
       "      <td>0.751572</td>\n",
       "      <td>14</td>\n",
       "    </tr>\n",
       "    <tr>\n",
       "      <th>15</th>\n",
       "      <td>0.545774</td>\n",
       "      <td>0.725902</td>\n",
       "      <td>0.522518</td>\n",
       "      <td>0.754717</td>\n",
       "      <td>15</td>\n",
       "    </tr>\n",
       "    <tr>\n",
       "      <th>16</th>\n",
       "      <td>0.532655</td>\n",
       "      <td>0.738831</td>\n",
       "      <td>0.513344</td>\n",
       "      <td>0.760191</td>\n",
       "      <td>16</td>\n",
       "    </tr>\n",
       "    <tr>\n",
       "      <th>17</th>\n",
       "      <td>0.524598</td>\n",
       "      <td>0.745021</td>\n",
       "      <td>0.507156</td>\n",
       "      <td>0.760890</td>\n",
       "      <td>17</td>\n",
       "    </tr>\n",
       "    <tr>\n",
       "      <th>18</th>\n",
       "      <td>0.513664</td>\n",
       "      <td>0.750562</td>\n",
       "      <td>0.500656</td>\n",
       "      <td>0.763569</td>\n",
       "      <td>18</td>\n",
       "    </tr>\n",
       "    <tr>\n",
       "      <th>19</th>\n",
       "      <td>0.504778</td>\n",
       "      <td>0.760745</td>\n",
       "      <td>0.492261</td>\n",
       "      <td>0.767063</td>\n",
       "      <td>19</td>\n",
       "    </tr>\n",
       "    <tr>\n",
       "      <th>20</th>\n",
       "      <td>0.494547</td>\n",
       "      <td>0.766585</td>\n",
       "      <td>0.485138</td>\n",
       "      <td>0.769043</td>\n",
       "      <td>20</td>\n",
       "    </tr>\n",
       "    <tr>\n",
       "      <th>21</th>\n",
       "      <td>0.486498</td>\n",
       "      <td>0.771577</td>\n",
       "      <td>0.480071</td>\n",
       "      <td>0.773119</td>\n",
       "      <td>21</td>\n",
       "    </tr>\n",
       "    <tr>\n",
       "      <th>22</th>\n",
       "      <td>0.472091</td>\n",
       "      <td>0.779514</td>\n",
       "      <td>0.474347</td>\n",
       "      <td>0.775448</td>\n",
       "      <td>22</td>\n",
       "    </tr>\n",
       "    <tr>\n",
       "      <th>23</th>\n",
       "      <td>0.467960</td>\n",
       "      <td>0.785903</td>\n",
       "      <td>0.468857</td>\n",
       "      <td>0.777079</td>\n",
       "      <td>23</td>\n",
       "    </tr>\n",
       "    <tr>\n",
       "      <th>24</th>\n",
       "      <td>0.460923</td>\n",
       "      <td>0.789847</td>\n",
       "      <td>0.466374</td>\n",
       "      <td>0.779641</td>\n",
       "      <td>24</td>\n",
       "    </tr>\n",
       "    <tr>\n",
       "      <th>25</th>\n",
       "      <td>0.450350</td>\n",
       "      <td>0.800379</td>\n",
       "      <td>0.460790</td>\n",
       "      <td>0.781039</td>\n",
       "      <td>25</td>\n",
       "    </tr>\n",
       "    <tr>\n",
       "      <th>26</th>\n",
       "      <td>0.441541</td>\n",
       "      <td>0.804223</td>\n",
       "      <td>0.456842</td>\n",
       "      <td>0.781039</td>\n",
       "      <td>26</td>\n",
       "    </tr>\n",
       "    <tr>\n",
       "      <th>27</th>\n",
       "      <td>0.428924</td>\n",
       "      <td>0.807218</td>\n",
       "      <td>0.452976</td>\n",
       "      <td>0.783252</td>\n",
       "      <td>27</td>\n",
       "    </tr>\n",
       "    <tr>\n",
       "      <th>28</th>\n",
       "      <td>0.420361</td>\n",
       "      <td>0.814955</td>\n",
       "      <td>0.449778</td>\n",
       "      <td>0.784416</td>\n",
       "      <td>28</td>\n",
       "    </tr>\n",
       "    <tr>\n",
       "      <th>29</th>\n",
       "      <td>0.417363</td>\n",
       "      <td>0.819648</td>\n",
       "      <td>0.447057</td>\n",
       "      <td>0.788260</td>\n",
       "      <td>29</td>\n",
       "    </tr>\n",
       "    <tr>\n",
       "      <th>30</th>\n",
       "      <td>0.409796</td>\n",
       "      <td>0.824589</td>\n",
       "      <td>0.444289</td>\n",
       "      <td>0.787794</td>\n",
       "      <td>30</td>\n",
       "    </tr>\n",
       "    <tr>\n",
       "      <th>31</th>\n",
       "      <td>0.396684</td>\n",
       "      <td>0.828932</td>\n",
       "      <td>0.442156</td>\n",
       "      <td>0.788376</td>\n",
       "      <td>31</td>\n",
       "    </tr>\n",
       "    <tr>\n",
       "      <th>32</th>\n",
       "      <td>0.389938</td>\n",
       "      <td>0.832476</td>\n",
       "      <td>0.441000</td>\n",
       "      <td>0.790589</td>\n",
       "      <td>32</td>\n",
       "    </tr>\n",
       "    <tr>\n",
       "      <th>33</th>\n",
       "      <td>0.379135</td>\n",
       "      <td>0.842510</td>\n",
       "      <td>0.439950</td>\n",
       "      <td>0.793035</td>\n",
       "      <td>33</td>\n",
       "    </tr>\n",
       "    <tr>\n",
       "      <th>34</th>\n",
       "      <td>0.373153</td>\n",
       "      <td>0.844157</td>\n",
       "      <td>0.437616</td>\n",
       "      <td>0.793967</td>\n",
       "      <td>34</td>\n",
       "    </tr>\n",
       "    <tr>\n",
       "      <th>35</th>\n",
       "      <td>0.366922</td>\n",
       "      <td>0.848200</td>\n",
       "      <td>0.436151</td>\n",
       "      <td>0.796063</td>\n",
       "      <td>35</td>\n",
       "    </tr>\n",
       "    <tr>\n",
       "      <th>36</th>\n",
       "      <td>0.362942</td>\n",
       "      <td>0.848151</td>\n",
       "      <td>0.436023</td>\n",
       "      <td>0.796063</td>\n",
       "      <td>36</td>\n",
       "    </tr>\n",
       "    <tr>\n",
       "      <th>37</th>\n",
       "      <td>0.357624</td>\n",
       "      <td>0.857385</td>\n",
       "      <td>0.434540</td>\n",
       "      <td>0.798626</td>\n",
       "      <td>37</td>\n",
       "    </tr>\n",
       "    <tr>\n",
       "      <th>38</th>\n",
       "      <td>0.343955</td>\n",
       "      <td>0.861528</td>\n",
       "      <td>0.434402</td>\n",
       "      <td>0.800489</td>\n",
       "      <td>38</td>\n",
       "    </tr>\n",
       "    <tr>\n",
       "      <th>39</th>\n",
       "      <td>0.335970</td>\n",
       "      <td>0.865272</td>\n",
       "      <td>0.436291</td>\n",
       "      <td>0.800373</td>\n",
       "      <td>39</td>\n",
       "    </tr>\n",
       "    <tr>\n",
       "      <th>40</th>\n",
       "      <td>0.331610</td>\n",
       "      <td>0.869815</td>\n",
       "      <td>0.434641</td>\n",
       "      <td>0.801770</td>\n",
       "      <td>40</td>\n",
       "    </tr>\n",
       "    <tr>\n",
       "      <th>41</th>\n",
       "      <td>0.321243</td>\n",
       "      <td>0.870913</td>\n",
       "      <td>0.436938</td>\n",
       "      <td>0.803168</td>\n",
       "      <td>41</td>\n",
       "    </tr>\n",
       "    <tr>\n",
       "      <th>42</th>\n",
       "      <td>0.314355</td>\n",
       "      <td>0.874906</td>\n",
       "      <td>0.438867</td>\n",
       "      <td>0.801654</td>\n",
       "      <td>42</td>\n",
       "    </tr>\n",
       "    <tr>\n",
       "      <th>43</th>\n",
       "      <td>0.308634</td>\n",
       "      <td>0.879149</td>\n",
       "      <td>0.439073</td>\n",
       "      <td>0.803051</td>\n",
       "      <td>43</td>\n",
       "    </tr>\n",
       "  </tbody>\n",
       "</table>\n",
       "</div>\n",
       "      <button class=\"colab-df-convert\" onclick=\"convertToInteractive('df-9c6545ac-ce18-4ae3-850c-80b8b603106e')\"\n",
       "              title=\"Convert this dataframe to an interactive table.\"\n",
       "              style=\"display:none;\">\n",
       "        \n",
       "  <svg xmlns=\"http://www.w3.org/2000/svg\" height=\"24px\"viewBox=\"0 0 24 24\"\n",
       "       width=\"24px\">\n",
       "    <path d=\"M0 0h24v24H0V0z\" fill=\"none\"/>\n",
       "    <path d=\"M18.56 5.44l.94 2.06.94-2.06 2.06-.94-2.06-.94-.94-2.06-.94 2.06-2.06.94zm-11 1L8.5 8.5l.94-2.06 2.06-.94-2.06-.94L8.5 2.5l-.94 2.06-2.06.94zm10 10l.94 2.06.94-2.06 2.06-.94-2.06-.94-.94-2.06-.94 2.06-2.06.94z\"/><path d=\"M17.41 7.96l-1.37-1.37c-.4-.4-.92-.59-1.43-.59-.52 0-1.04.2-1.43.59L10.3 9.45l-7.72 7.72c-.78.78-.78 2.05 0 2.83L4 21.41c.39.39.9.59 1.41.59.51 0 1.02-.2 1.41-.59l7.78-7.78 2.81-2.81c.8-.78.8-2.07 0-2.86zM5.41 20L4 18.59l7.72-7.72 1.47 1.35L5.41 20z\"/>\n",
       "  </svg>\n",
       "      </button>\n",
       "      \n",
       "  <style>\n",
       "    .colab-df-container {\n",
       "      display:flex;\n",
       "      flex-wrap:wrap;\n",
       "      gap: 12px;\n",
       "    }\n",
       "\n",
       "    .colab-df-convert {\n",
       "      background-color: #E8F0FE;\n",
       "      border: none;\n",
       "      border-radius: 50%;\n",
       "      cursor: pointer;\n",
       "      display: none;\n",
       "      fill: #1967D2;\n",
       "      height: 32px;\n",
       "      padding: 0 0 0 0;\n",
       "      width: 32px;\n",
       "    }\n",
       "\n",
       "    .colab-df-convert:hover {\n",
       "      background-color: #E2EBFA;\n",
       "      box-shadow: 0px 1px 2px rgba(60, 64, 67, 0.3), 0px 1px 3px 1px rgba(60, 64, 67, 0.15);\n",
       "      fill: #174EA6;\n",
       "    }\n",
       "\n",
       "    [theme=dark] .colab-df-convert {\n",
       "      background-color: #3B4455;\n",
       "      fill: #D2E3FC;\n",
       "    }\n",
       "\n",
       "    [theme=dark] .colab-df-convert:hover {\n",
       "      background-color: #434B5C;\n",
       "      box-shadow: 0px 1px 3px 1px rgba(0, 0, 0, 0.15);\n",
       "      filter: drop-shadow(0px 1px 2px rgba(0, 0, 0, 0.3));\n",
       "      fill: #FFFFFF;\n",
       "    }\n",
       "  </style>\n",
       "\n",
       "      <script>\n",
       "        const buttonEl =\n",
       "          document.querySelector('#df-9c6545ac-ce18-4ae3-850c-80b8b603106e button.colab-df-convert');\n",
       "        buttonEl.style.display =\n",
       "          google.colab.kernel.accessAllowed ? 'block' : 'none';\n",
       "\n",
       "        async function convertToInteractive(key) {\n",
       "          const element = document.querySelector('#df-9c6545ac-ce18-4ae3-850c-80b8b603106e');\n",
       "          const dataTable =\n",
       "            await google.colab.kernel.invokeFunction('convertToInteractive',\n",
       "                                                     [key], {});\n",
       "          if (!dataTable) return;\n",
       "\n",
       "          const docLinkHtml = 'Like what you see? Visit the ' +\n",
       "            '<a target=\"_blank\" href=https://colab.research.google.com/notebooks/data_table.ipynb>data table notebook</a>'\n",
       "            + ' to learn more about interactive tables.';\n",
       "          element.innerHTML = '';\n",
       "          dataTable['output_type'] = 'display_data';\n",
       "          await google.colab.output.renderOutput(dataTable, element);\n",
       "          const docLink = document.createElement('div');\n",
       "          docLink.innerHTML = docLinkHtml;\n",
       "          element.appendChild(docLink);\n",
       "        }\n",
       "      </script>\n",
       "    </div>\n",
       "  </div>\n",
       "  "
      ],
      "text/plain": [
       "           loss  accuracy  val_loss  val_accuracy  Epoch\n",
       "Epoch                                                   \n",
       "1      0.705996  0.516548  0.681309      0.587701      1\n",
       "2      0.687982  0.541806  0.673732      0.616469      2\n",
       "3      0.676928  0.561673  0.663003      0.639995      3\n",
       "4      0.666344  0.587830  0.649621      0.654321      4\n",
       "5      0.653110  0.609794  0.633679      0.677615      5\n",
       "6      0.640084  0.628463  0.619117      0.694270      6\n",
       "7      0.631778  0.638646  0.607991      0.707780      7\n",
       "8      0.619122  0.651675  0.594963      0.714885      8\n",
       "9      0.605687  0.666800  0.581873      0.724668      9\n",
       "10     0.596837  0.673289  0.572229      0.728279     10\n",
       "11     0.587366  0.686417  0.561007      0.735150     11\n",
       "12     0.577958  0.697200  0.551525      0.743420     12\n",
       "13     0.562260  0.710877  0.540907      0.747496     13\n",
       "14     0.554228  0.719962  0.531022      0.751572     14\n",
       "15     0.545774  0.725902  0.522518      0.754717     15\n",
       "16     0.532655  0.738831  0.513344      0.760191     16\n",
       "17     0.524598  0.745021  0.507156      0.760890     17\n",
       "18     0.513664  0.750562  0.500656      0.763569     18\n",
       "19     0.504778  0.760745  0.492261      0.767063     19\n",
       "20     0.494547  0.766585  0.485138      0.769043     20\n",
       "21     0.486498  0.771577  0.480071      0.773119     21\n",
       "22     0.472091  0.779514  0.474347      0.775448     22\n",
       "23     0.467960  0.785903  0.468857      0.777079     23\n",
       "24     0.460923  0.789847  0.466374      0.779641     24\n",
       "25     0.450350  0.800379  0.460790      0.781039     25\n",
       "26     0.441541  0.804223  0.456842      0.781039     26\n",
       "27     0.428924  0.807218  0.452976      0.783252     27\n",
       "28     0.420361  0.814955  0.449778      0.784416     28\n",
       "29     0.417363  0.819648  0.447057      0.788260     29\n",
       "30     0.409796  0.824589  0.444289      0.787794     30\n",
       "31     0.396684  0.828932  0.442156      0.788376     31\n",
       "32     0.389938  0.832476  0.441000      0.790589     32\n",
       "33     0.379135  0.842510  0.439950      0.793035     33\n",
       "34     0.373153  0.844157  0.437616      0.793967     34\n",
       "35     0.366922  0.848200  0.436151      0.796063     35\n",
       "36     0.362942  0.848151  0.436023      0.796063     36\n",
       "37     0.357624  0.857385  0.434540      0.798626     37\n",
       "38     0.343955  0.861528  0.434402      0.800489     38\n",
       "39     0.335970  0.865272  0.436291      0.800373     39\n",
       "40     0.331610  0.869815  0.434641      0.801770     40\n",
       "41     0.321243  0.870913  0.436938      0.803168     41\n",
       "42     0.314355  0.874906  0.438867      0.801654     42\n",
       "43     0.308634  0.879149  0.439073      0.803051     43"
      ]
     },
     "execution_count": 140,
     "metadata": {},
     "output_type": "execute_result"
    }
   ],
   "source": [
    "df_m=pd.DataFrame(model.history.history)\n",
    "df_m['Epoch']=range(1,44)\n",
    "df_m.index=df_m['Epoch']\n",
    "df_m"
   ]
  },
  {
   "cell_type": "code",
   "execution_count": 141,
   "metadata": {
    "colab": {
     "base_uri": "https://localhost:8080/"
    },
    "id": "mu6NexMj9jnO",
    "outputId": "86c42610-ca63-46de-c612-26a02ec1ed2b"
   },
   "outputs": [
    {
     "name": "stdout",
     "output_type": "stream",
     "text": [
      "135/135 [==============================] - 1s 5ms/step - loss: 0.4391 - accuracy: 0.8031\n",
      "Test accuracy: 0.8030514717102051\n"
     ]
    }
   ],
   "source": [
    "score = model.evaluate(testing_padded, y_test, batch_size=64, verbose=1)\n",
    "print('Test accuracy:', score[1])"
   ]
  },
  {
   "cell_type": "code",
   "execution_count": 142,
   "metadata": {
    "colab": {
     "base_uri": "https://localhost:8080/",
     "height": 295
    },
    "id": "SAcZHyXw9yUE",
    "outputId": "576a46a0-80fa-451a-aee2-7fba93fdc800"
   },
   "outputs": [
    {
     "data": {
      "image/png": "[encoded data removed]",
      "text/plain": [
       "<Figure size 432x288 with 1 Axes>"
      ]
     },
     "metadata": {},
     "output_type": "display_data"
    }
   ],
   "source": [
    "#Loss Graph(Training and Validation)\n",
    "plt.plot(df_m['loss'])\n",
    "plt.plot(df_m['val_loss'])\n",
    "plt.title('model loss')\n",
    "plt.ylabel('loss')\n",
    "plt.xlabel('epoch')\n",
    "plt.legend(['train_loss', 'val_loss'])\n",
    "plt.show()"
   ]
  },
  {
   "cell_type": "code",
   "execution_count": 143,
   "metadata": {
    "id": "93BIdrVL98mf"
   },
   "outputs": [],
   "source": [
    "#building CNN model\n",
    "model_conv = Sequential([\n",
    "    Embedding(vocab_size, embedding_dim, input_length=max_length),\n",
    "    Conv1D(16,3,activation='relu'),\n",
    "    MaxPooling1D(2),\n",
    "    Dropout(0.2),\n",
    "    Flatten(),\n",
    "    Dense(6, activation='relu'),\n",
    "    Dense(1, activation='sigmoid')\n",
    "])"
   ]
  },
  {
   "cell_type": "code",
   "execution_count": 144,
   "metadata": {
    "colab": {
     "base_uri": "https://localhost:8080/"
    },
    "id": "avwqaLOz-JdX",
    "outputId": "ad7fd15b-2c00-4075-cd51-c0c86b1b4a6c"
   },
   "outputs": [
    {
     "name": "stdout",
     "output_type": "stream",
     "text": [
      "Model: \"sequential_19\"\n",
      "_________________________________________________________________\n",
      " Layer (type)                Output Shape              Param #   \n",
      "=================================================================\n",
      " embedding_3 (Embedding)     (None, 32, 100)           1000000   \n",
      "                                                                 \n",
      " conv1d (Conv1D)             (None, 30, 16)            4816      \n",
      "                                                                 \n",
      " max_pooling1d (MaxPooling1D  (None, 15, 16)           0         \n",
      " )                                                               \n",
      "                                                                 \n",
      " dropout_6 (Dropout)         (None, 15, 16)            0         \n",
      "                                                                 \n",
      " flatten_3 (Flatten)         (None, 240)               0         \n",
      "                                                                 \n",
      " dense_9 (Dense)             (None, 6)                 1446      \n",
      "                                                                 \n",
      " dense_10 (Dense)            (None, 1)                 7         \n",
      "                                                                 \n",
      "=================================================================\n",
      "Total params: 1,006,269\n",
      "Trainable params: 1,006,269\n",
      "Non-trainable params: 0\n",
      "_________________________________________________________________\n"
     ]
    }
   ],
   "source": [
    "model_conv.summary()"
   ]
  },
  {
   "cell_type": "code",
   "execution_count": 145,
   "metadata": {
    "colab": {
     "base_uri": "https://localhost:8080/"
    },
    "id": "1HS_Zzfh-TZb",
    "outputId": "f69cb496-da9c-4b51-99cc-4109caeffcef"
   },
   "outputs": [
    {
     "name": "stdout",
     "output_type": "stream",
     "text": [
      "Epoch 1/20\n",
      "79/79 [==============================] - 6s 8ms/step - loss: 0.6773 - accuracy: 0.5670 - val_loss: 0.6357 - val_accuracy: 0.6514\n",
      "Epoch 2/20\n",
      "79/79 [==============================] - 0s 5ms/step - loss: 0.6003 - accuracy: 0.6788 - val_loss: 0.5628 - val_accuracy: 0.7170\n",
      "Epoch 3/20\n",
      "79/79 [==============================] - 0s 5ms/step - loss: 0.5517 - accuracy: 0.7214 - val_loss: 0.5333 - val_accuracy: 0.7363\n",
      "Epoch 4/20\n",
      "79/79 [==============================] - 0s 5ms/step - loss: 0.5226 - accuracy: 0.7423 - val_loss: 0.5175 - val_accuracy: 0.7496\n",
      "Epoch 5/20\n",
      "79/79 [==============================] - 0s 5ms/step - loss: 0.5086 - accuracy: 0.7522 - val_loss: 0.5073 - val_accuracy: 0.7545\n",
      "Epoch 6/20\n",
      "79/79 [==============================] - 0s 5ms/step - loss: 0.4955 - accuracy: 0.7595 - val_loss: 0.5002 - val_accuracy: 0.7596\n",
      "Epoch 7/20\n",
      "79/79 [==============================] - 0s 5ms/step - loss: 0.4840 - accuracy: 0.7631 - val_loss: 0.4961 - val_accuracy: 0.7615\n",
      "Epoch 8/20\n",
      "79/79 [==============================] - 0s 6ms/step - loss: 0.4761 - accuracy: 0.7711 - val_loss: 0.4941 - val_accuracy: 0.7626\n",
      "Epoch 9/20\n",
      "79/79 [==============================] - 0s 5ms/step - loss: 0.4651 - accuracy: 0.7770 - val_loss: 0.4928 - val_accuracy: 0.7633\n",
      "Epoch 10/20\n",
      "79/79 [==============================] - 0s 5ms/step - loss: 0.4577 - accuracy: 0.7851 - val_loss: 0.4855 - val_accuracy: 0.7665\n",
      "Epoch 11/20\n",
      "79/79 [==============================] - 0s 5ms/step - loss: 0.4523 - accuracy: 0.7860 - val_loss: 0.4863 - val_accuracy: 0.7635\n",
      "Epoch 12/20\n",
      "79/79 [==============================] - 0s 5ms/step - loss: 0.4475 - accuracy: 0.7881 - val_loss: 0.4818 - val_accuracy: 0.7688\n",
      "Epoch 13/20\n",
      "79/79 [==============================] - 0s 5ms/step - loss: 0.4415 - accuracy: 0.7944 - val_loss: 0.4814 - val_accuracy: 0.7664\n",
      "Epoch 14/20\n",
      "79/79 [==============================] - 0s 5ms/step - loss: 0.4377 - accuracy: 0.7943 - val_loss: 0.4809 - val_accuracy: 0.7674\n",
      "Epoch 15/20\n",
      "79/79 [==============================] - 0s 6ms/step - loss: 0.4342 - accuracy: 0.7959 - val_loss: 0.4801 - val_accuracy: 0.7674\n",
      "Epoch 16/20\n",
      "79/79 [==============================] - 0s 5ms/step - loss: 0.4290 - accuracy: 0.8004 - val_loss: 0.4785 - val_accuracy: 0.7671\n",
      "Epoch 17/20\n",
      "79/79 [==============================] - 0s 5ms/step - loss: 0.4271 - accuracy: 0.8004 - val_loss: 0.4783 - val_accuracy: 0.7683\n",
      "Epoch 18/20\n",
      "79/79 [==============================] - 0s 5ms/step - loss: 0.4170 - accuracy: 0.8101 - val_loss: 0.4817 - val_accuracy: 0.7669\n",
      "Epoch 19/20\n",
      "79/79 [==============================] - 0s 5ms/step - loss: 0.4145 - accuracy: 0.8107 - val_loss: 0.4796 - val_accuracy: 0.7690\n",
      "Epoch 20/20\n",
      "79/79 [==============================] - 0s 6ms/step - loss: 0.4122 - accuracy: 0.8099 - val_loss: 0.4792 - val_accuracy: 0.7673\n"
     ]
    }
   ],
   "source": [
    "model_conv.layers[0].set_weights([embedding_matrix])\n",
    "model_conv.layers[0].trainable = False\n",
    "model_conv.compile(loss='binary_crossentropy',optimizer='adam',metrics=['accuracy'])\n",
    "history=model_conv.fit(training_padded, y_train, batch_size=256, epochs=20, validation_data=(testing_padded, y_test), callbacks=[early_stop])"
   ]
  },
  {
   "cell_type": "markdown",
   "metadata": {
    "id": "vqX3Usou-e0m"
   },
   "source": [
    "**Define and compile a Bidirectional LSTM model.**"
   ]
  },
  {
   "cell_type": "code",
   "execution_count": 146,
   "metadata": {
    "id": "GfZ3E2mn-d-b"
   },
   "outputs": [],
   "source": [
    "model_lstm = Sequential([\n",
    "    Embedding(vocab_size, embedding_dim, input_length=max_length),\n",
    "    keras.layers.Bidirectional(keras.layers.LSTM(32)),\n",
    "    Dense(6, activation='relu'),\n",
    "    Dense(1, activation='sigmoid')\n",
    "])"
   ]
  },
  {
   "cell_type": "code",
   "execution_count": 147,
   "metadata": {
    "colab": {
     "base_uri": "https://localhost:8080/"
    },
    "id": "keWb1pDG-Xgw",
    "outputId": "13ee4e6e-3cf3-44bf-888c-20672f1d2591"
   },
   "outputs": [
    {
     "name": "stdout",
     "output_type": "stream",
     "text": [
      "Model: \"sequential_20\"\n",
      "_________________________________________________________________\n",
      " Layer (type)                Output Shape              Param #   \n",
      "=================================================================\n",
      " embedding_4 (Embedding)     (None, 32, 100)           1000000   \n",
      "                                                                 \n",
      " bidirectional (Bidirectiona  (None, 64)               34048     \n",
      " l)                                                              \n",
      "                                                                 \n",
      " dense_11 (Dense)            (None, 6)                 390       \n",
      "                                                                 \n",
      " dense_12 (Dense)            (None, 1)                 7         \n",
      "                                                                 \n",
      "=================================================================\n",
      "Total params: 1,034,445\n",
      "Trainable params: 1,034,445\n",
      "Non-trainable params: 0\n",
      "_________________________________________________________________\n"
     ]
    }
   ],
   "source": [
    "model_lstm.summary()"
   ]
  },
  {
   "cell_type": "code",
   "execution_count": 148,
   "metadata": {
    "id": "QiJNhGKq-ob9"
   },
   "outputs": [],
   "source": [
    "model_lstm.layers[0].set_weights([embedding_matrix])\n",
    "model_lstm.layers[0].trainable = False"
   ]
  },
  {
   "cell_type": "code",
   "execution_count": 150,
   "metadata": {
    "id": "3DXBIrw2-sRI"
   },
   "outputs": [],
   "source": [
    "model_lstm.compile(loss='binary_crossentropy',optimizer='adam',metrics=['accuracy'])\n",
    "early_stop = EarlyStopping(monitor='val_loss', mode='min', verbose=1, patience=5)\n"
   ]
  },
  {
   "cell_type": "markdown",
   "metadata": {
    "id": "cAXs1idJ_Cr6"
   },
   "source": [
    "**Fit the model and check the validation accuracy**"
   ]
  },
  {
   "cell_type": "code",
   "execution_count": 151,
   "metadata": {
    "colab": {
     "base_uri": "https://localhost:8080/"
    },
    "id": "cFm8rIqA-2-G",
    "outputId": "5a0d4b3f-e4b3-43b0-ce3d-f41a54a4033b"
   },
   "outputs": [
    {
     "name": "stdout",
     "output_type": "stream",
     "text": [
      "Epoch 1/100\n",
      "314/314 [==============================] - 7s 12ms/step - loss: 0.2667 - accuracy: 0.8877 - val_loss: 0.4527 - val_accuracy: 0.8036\n",
      "Epoch 2/100\n",
      "314/314 [==============================] - 3s 9ms/step - loss: 0.2417 - accuracy: 0.8991 - val_loss: 0.4977 - val_accuracy: 0.7957\n",
      "Epoch 3/100\n",
      "314/314 [==============================] - 3s 9ms/step - loss: 0.2242 - accuracy: 0.9086 - val_loss: 0.4635 - val_accuracy: 0.8008\n",
      "Epoch 4/100\n",
      "314/314 [==============================] - 3s 11ms/step - loss: 0.2042 - accuracy: 0.9182 - val_loss: 0.5040 - val_accuracy: 0.7984\n",
      "Epoch 5/100\n",
      "314/314 [==============================] - 4s 11ms/step - loss: 0.1842 - accuracy: 0.9280 - val_loss: 0.5399 - val_accuracy: 0.7992\n",
      "Epoch 6/100\n",
      "314/314 [==============================] - 3s 9ms/step - loss: 0.1663 - accuracy: 0.9328 - val_loss: 0.5516 - val_accuracy: 0.7955\n",
      "Epoch 6: early stopping\n"
     ]
    }
   ],
   "source": [
    "history_lstm = model_lstm.fit(x=training_padded, y=y_train, batch_size=64, epochs=100, validation_data=(testing_padded, y_test), verbose=1, callbacks=[early_stop])"
   ]
  },
  {
   "cell_type": "code",
   "execution_count": 152,
   "metadata": {
    "colab": {
     "base_uri": "https://localhost:8080/"
    },
    "id": "jv8wPtzk_MOZ",
    "outputId": "2d43e12a-2ded-47d2-f0d3-781b265ef36f"
   },
   "outputs": [
    {
     "name": "stdout",
     "output_type": "stream",
     "text": [
      "135/135 [==============================] - 1s 4ms/step - loss: 0.5516 - accuracy: 0.7955\n",
      "Test accuracy: 0.7954810261726379\n"
     ]
    }
   ],
   "source": [
    "score = model_lstm.evaluate(testing_padded, y_test, batch_size=64, verbose=1)\n",
    "print('Test accuracy:', score[1])"
   ]
  },
  {
   "cell_type": "code",
   "execution_count": 153,
   "metadata": {
    "colab": {
     "base_uri": "https://localhost:8080/",
     "height": 545
    },
    "id": "sbqrKm-w_M9T",
    "outputId": "2ce3713e-7bab-49d2-d61d-e7626d01a826"
   },
   "outputs": [
    {
     "data": {
      "image/png": "[encoded data removed]",
      "text/plain": [
       "<Figure size 432x288 with 1 Axes>"
      ]
     },
     "metadata": {},
     "output_type": "display_data"
    },
    {
     "data": {
      "image/png": "[encoded data removed]",
      "text/plain": [
       "<Figure size 432x288 with 1 Axes>"
      ]
     },
     "metadata": {},
     "output_type": "display_data"
    }
   ],
   "source": [
    "acc = history_lstm.history['accuracy']\n",
    "val_acc = history_lstm.history['val_accuracy']\n",
    "loss = history_lstm.history['loss']\n",
    "val_loss = history_lstm.history['val_loss']\n",
    "epochs = range(1, len(acc) + 1)\n",
    "plt.plot(epochs, acc, 'bo', label = 'Training acc')\n",
    "plt.plot(epochs, val_acc, 'b', label = 'Validation acc')\n",
    "plt.title('Training and Validation Accuracy')\n",
    "plt.legend()\n",
    "plt.figure()\n",
    "plt.plot(epochs, loss, 'bo', label = 'Training loss')\n",
    "plt.plot(epochs, val_loss, 'b', label = 'Validation loss')\n",
    "plt.title('Training and Validation Loss')\n",
    "plt.legend()\n",
    "plt.show()"
   ]
  },
  {
   "cell_type": "markdown",
   "metadata": {
    "id": "Yeea8D4A_WVY"
   },
   "source": [
    "This model did not perform very well compared to the other base models. One particular reason is that my inputs only consider first 32 words, rather than full sequences. Another reason may be not experimenting much with the embedding dimensionality or the LSTM output. Another reason can be the lesser try with regularization. However, the primary reason here is that analyzing the global long term structure of the reviews isn't helpful in solving the problem."
   ]
  }
 ],
 "metadata": {
  "accelerator": "GPU",
  "colab": {
   "provenance": []
  },
  "gpuClass": "standard",
  "kernelspec": {
   "display_name": "Python 3 (ipykernel)",
   "language": "python",
   "name": "python3"
  },
  "language_info": {
   "codemirror_mode": {
    "name": "ipython",
    "version": 3
   },
   "file_extension": ".py",
   "mimetype": "text/x-python",
   "name": "python",
   "nbconvert_exporter": "python",
   "pygments_lexer": "ipython3",
   "version": "3.9.13"
  }
 },
 "nbformat": 4,
 "nbformat_minor": 1
}
